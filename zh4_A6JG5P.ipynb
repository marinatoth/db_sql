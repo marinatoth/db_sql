{
    "metadata": {
        "kernelspec": {
            "name": "SQL",
            "display_name": "SQL",
            "language": "sql"
        },
        "language_info": {
            "name": "sql",
            "version": ""
        }
    },
    "nbformat_minor": 2,
    "nbformat": 4,
    "cells": [
        {
            "cell_type": "markdown",
            "source": [
                "Listázzuk azon vendégek nevét, email-címét és felhasználói nevét, akik egynél többször foglaltak!\n",
                "\n",
                "- Hagyjuk ki azokat a vendégeket, akik május hónapban születtek!"
            ],
            "metadata": {
                "azdata_cell_guid": "4a937a56-deb5-4025-8b7f-82cc30f92a4c"
            },
            "attachments": {}
        },
        {
            "cell_type": "code",
            "source": [
                "SELECT v.NEV as \"Név\",\r\n",
                "        v.EMAIL as \"Email cím\",\r\n",
                "        v.USERNEV as \"Felhasználó név\"\r\n",
                "        --,COUNT(f.UGYFEL_FK)\r\n",
                "FROM Vendeg v JOIN Foglalas f ON v.USERNEV = f.UGYFEL_FK\r\n",
                "WHERE MONTH(v.SZUL_DAT) != 5\r\n",
                "GROUP BY v.NEV,v.EMAIL,v.USERNEV\r\n",
                "HAVING COUNT(f.UGYFEL_FK) > 1"
            ],
            "metadata": {
                "azdata_cell_guid": "22f276d4-ec4a-4f54-a02f-4affaec5e456",
                "language": "sql"
            },
            "outputs": [
                {
                    "output_type": "display_data",
                    "data": {
                        "text/html": "(169 rows affected)"
                    },
                    "metadata": {}
                },
                {
                    "output_type": "display_data",
                    "data": {
                        "text/html": "Total execution time: 00:00:00.042"
                    },
                    "metadata": {}
                },
                {
                    "output_type": "execute_result",
                    "execution_count": 7,
                    "data": {
                        "application/vnd.dataresource+json": {
                            "schema": {
                                "fields": [
                                    {
                                        "name": "Név"
                                    },
                                    {
                                        "name": "Email cím"
                                    },
                                    {
                                        "name": "Felhasználó név"
                                    }
                                ]
                            },
                            "data": [
                                {
                                    "Név": "Kiss Ádám",
                                    "Email cím": "ádám.kiss@mail.hu",
                                    "Felhasználó név": "adam1"
                                },
                                {
                                    "Név": "Barkóci Ádám",
                                    "Email cím": "adam3@gmail.com",
                                    "Felhasználó név": "adam3"
                                },
                                {
                                    "Név": "Bieniek Ádám",
                                    "Email cím": "ádám.bieniek@mail.hu",
                                    "Felhasználó név": "adam4"
                                },
                                {
                                    "Név": "Lengyel Ágnes",
                                    "Email cím": "agnes@gmail.com",
                                    "Felhasználó név": "agnes"
                                },
                                {
                                    "Név": "Hartyánszky Ágnes",
                                    "Email cím": "agnes3@gmail.com",
                                    "Felhasználó név": "agnes3"
                                },
                                {
                                    "Név": "Horváth Ágnes",
                                    "Email cím": "AGNESH@gmail.com",
                                    "Felhasználó név": "AGNESH"
                                },
                                {
                                    "Név": "Kovács Ágnes",
                                    "Email cím": "AGNESK@gmail.com",
                                    "Felhasználó név": "AGNESK"
                                },
                                {
                                    "Név": "Bíró Ákos",
                                    "Email cím": "ákos.bíró@mail.hu",
                                    "Felhasználó név": "akos"
                                },
                                {
                                    "Név": "Dunai Aladár",
                                    "Email cím": "aladár.dunai@mail.hu",
                                    "Felhasználó név": "aladar"
                                },
                                {
                                    "Név": "Bagóczki Alexandra",
                                    "Email cím": "alexandra.bagóczki@mail.hu",
                                    "Felhasználó név": "alexandra"
                                },
                                {
                                    "Név": "Tóth András",
                                    "Email cím": "andrás.tóth@mail.hu",
                                    "Felhasználó név": "andras2"
                                },
                                {
                                    "Név": "Molnár András",
                                    "Email cím": "andrás.molnár@mail.hu",
                                    "Felhasználó név": "andras21"
                                },
                                {
                                    "Név": "Vígh András",
                                    "Email cím": "andrás.vígh@mail.hu",
                                    "Felhasználó név": "andras3"
                                },
                                {
                                    "Név": "Back András",
                                    "Email cím": "andras4@gmail.com",
                                    "Felhasználó név": "andras4"
                                },
                                {
                                    "Név": "Komjáti András",
                                    "Email cím": "andras41@gmail.com",
                                    "Felhasználó név": "andras41"
                                },
                                {
                                    "Név": "Kiss Andrea",
                                    "Email cím": "andrea.kiss@mail.hu",
                                    "Felhasználó név": "andrea"
                                },
                                {
                                    "Név": "Tornyos Andrea",
                                    "Email cím": "ANDREAT@gmail.com",
                                    "Felhasználó név": "ANDREAT"
                                },
                                {
                                    "Név": "Pivarcsi Anett",
                                    "Email cím": "anett.pivarcsi@mail.hu",
                                    "Felhasználó név": "anett3"
                                },
                                {
                                    "Név": "Tóth Anikó",
                                    "Email cím": "aniko@gmail.com",
                                    "Felhasználó név": "aniko"
                                },
                                {
                                    "Név": "Böröcz Anikó",
                                    "Email cím": "aniko4@gmail.com",
                                    "Felhasználó név": "aniko4"
                                },
                                {
                                    "Név": "Simon Anikó",
                                    "Email cím": "ANIKOS@gmail.com",
                                    "Felhasználó név": "ANIKOS"
                                },
                                {
                                    "Név": "Hamvay-Kovács Anita",
                                    "Email cím": "anita.hamvay-kovács@mail.hu",
                                    "Felhasználó név": "anita"
                                },
                                {
                                    "Név": "Szűcs Annamária",
                                    "Email cím": "annamária.szűcs@mail.hu",
                                    "Felhasználó név": "annamaria1"
                                },
                                {
                                    "Név": "Regős Annamária",
                                    "Email cím": "ANNAMARIAR@gmail.com",
                                    "Felhasználó név": "ANNAMARIAR"
                                },
                                {
                                    "Név": "Jakab Áron",
                                    "Email cím": "aron2@gmail.com",
                                    "Felhasználó név": "aron2"
                                },
                                {
                                    "Név": "Kelemen Áron",
                                    "Email cím": "áron.kelemen@mail.hu",
                                    "Felhasználó név": "ARONK"
                                },
                                {
                                    "Név": "Ötvös Árpád",
                                    "Email cím": "árpád.ötvös@mail.hu",
                                    "Felhasználó név": "arpad2"
                                },
                                {
                                    "Név": "Móricz Árpád",
                                    "Email cím": "árpád.móricz@mail.hu",
                                    "Felhasználó név": "ARPADM"
                                },
                                {
                                    "Név": "Csóti Attila",
                                    "Email cím": "attila@gmail.com",
                                    "Felhasználó név": "attila"
                                },
                                {
                                    "Név": "Gulyás Attila",
                                    "Email cím": "attila.gulyás@mail.hu",
                                    "Felhasználó név": "attila1"
                                },
                                {
                                    "Név": "Baróti Attila",
                                    "Email cím": "attila.baróti@mail.hu",
                                    "Felhasználó név": "attila4"
                                },
                                {
                                    "Név": "Bozsik Balázs",
                                    "Email cím": "balázs.bozsik@mail.hu",
                                    "Felhasználó név": "balazs1"
                                },
                                {
                                    "Név": "Szűcs Balázs",
                                    "Email cím": "balázs.szűcs@mail.hu",
                                    "Felhasználó név": "balazs2"
                                },
                                {
                                    "Név": "Bakódy Balázs",
                                    "Email cím": "balazs3@gmail.com",
                                    "Felhasználó név": "balazs3"
                                },
                                {
                                    "Név": "Horváth Bálint",
                                    "Email cím": "balint@gmail.com",
                                    "Felhasználó név": "balint"
                                },
                                {
                                    "Név": "Molnár Bálint",
                                    "Email cím": "balint1@gmail.com",
                                    "Felhasználó név": "balint1"
                                },
                                {
                                    "Név": "Vukasinovity Bálint",
                                    "Email cím": "balint2@gmail.com",
                                    "Felhasználó név": "balint2"
                                },
                                {
                                    "Név": "Endresz Bálint",
                                    "Email cím": "bálint.endresz@mail.hu",
                                    "Felhasználó név": "balu"
                                },
                                {
                                    "Név": "Bagi Beáta",
                                    "Email cím": "beáta.bagi@mail.hu",
                                    "Felhasználó név": "beata4"
                                },
                                {
                                    "Név": "Kerényi Beatrix",
                                    "Email cím": "beatrix.kerényi@mail.hu",
                                    "Felhasználó név": "BEATRIXK"
                                },
                                {
                                    "Név": "Szekendi Beatrix",
                                    "Email cím": "beatrix.szekendi@mail.hu",
                                    "Felhasználó név": "BEATRIXS"
                                },
                                {
                                    "Név": "Farkas Béla",
                                    "Email cím": "BELAF@gmail.com",
                                    "Felhasználó név": "BELAF"
                                },
                                {
                                    "Név": "Győrffy Bence",
                                    "Email cím": "bence@gmail.com",
                                    "Felhasználó név": "bence"
                                },
                                {
                                    "Név": "Bajusz Bence",
                                    "Email cím": "bence.bajusz@mail.hu",
                                    "Felhasználó név": "BENCEB"
                                },
                                {
                                    "Név": "Simon Bernadett",
                                    "Email cím": "bernadett1@gmail.com",
                                    "Felhasználó név": "bernadett1"
                                },
                                {
                                    "Név": "Kovács Bernadett",
                                    "Email cím": "bernadett.kovács@mail.hu",
                                    "Felhasználó név": "bernadett2"
                                },
                                {
                                    "Név": "Orbán Bernadett",
                                    "Email cím": "bernadett.orbán@mail.hu",
                                    "Felhasználó név": "BERNADETTO"
                                },
                                {
                                    "Név": "Csiger Bertalan",
                                    "Email cím": "bertalan@gmail.com",
                                    "Felhasználó név": "bertalan"
                                },
                                {
                                    "Név": "Székely Brigitta",
                                    "Email cím": "brigitta.székely@mail.hu",
                                    "Felhasználó név": "brigitta"
                                },
                                {
                                    "Név": "Nagymihály Csongor",
                                    "Email cím": "csongor.nagymihály@mail.hu",
                                    "Felhasználó név": "csongor3"
                                },
                                {
                                    "Név": "Vörös Dániel",
                                    "Email cím": "daniel@gmail.com",
                                    "Felhasználó név": "dani"
                                },
                                {
                                    "Név": "Rácz Dániel",
                                    "Email cím": "dániel.rácz@mail.hu",
                                    "Felhasználó név": "daniel"
                                },
                                {
                                    "Név": "Keszler Dániel",
                                    "Email cím": "dániel.keszler@mail.hu",
                                    "Felhasználó név": "daniel1"
                                },
                                {
                                    "Név": "Ambrus Dávid",
                                    "Email cím": "david@gmail.com",
                                    "Felhasználó név": "david"
                                },
                                {
                                    "Név": "Sobják Dávid",
                                    "Email cím": "david1@gmail.com",
                                    "Felhasználó név": "david1"
                                },
                                {
                                    "Név": "Barna Debóra",
                                    "Email cím": "debóra.barna@mail.hu",
                                    "Felhasználó név": "debora"
                                },
                                {
                                    "Név": "Tömböly Dénes",
                                    "Email cím": "denes@gmail.com",
                                    "Felhasználó név": "denes"
                                },
                                {
                                    "Név": "Bittmann Edit",
                                    "Email cím": "edit.bittmann@mail.hu",
                                    "Felhasználó név": "edit"
                                },
                                {
                                    "Név": "Kuruc Emese",
                                    "Email cím": "emese.kuruc@mail.hu",
                                    "Felhasználó név": "emese"
                                },
                                {
                                    "Név": "Balogh Eszter",
                                    "Email cím": "eszter.balogh@mail.hu",
                                    "Felhasználó név": "eszter2"
                                },
                                {
                                    "Név": "Fülöp Eszter",
                                    "Email cím": "eszter.fülöp@mail.hu",
                                    "Felhasználó név": "eszter4"
                                },
                                {
                                    "Név": "Érsek Eszter",
                                    "Email cím": "eszter.érsek@mail.hu",
                                    "Felhasználó név": "ESZTERE"
                                },
                                {
                                    "Név": "Enyedi Éva",
                                    "Email cím": "eva@gmail.com",
                                    "Felhasználó név": "eva"
                                },
                                {
                                    "Név": "Perlinger Éva",
                                    "Email cím": "eva2@gmail.com",
                                    "Felhasználó név": "eva2"
                                },
                                {
                                    "Név": "Viktor Éva",
                                    "Email cím": "EVAV@gmail.com",
                                    "Felhasználó név": "EVAV"
                                },
                                {
                                    "Név": "Orosz Ferenc",
                                    "Email cím": "ferenc.orosz@mail.hu",
                                    "Felhasználó név": "ferenc1"
                                },
                                {
                                    "Név": "Frank Fruzsina",
                                    "Email cím": "fruzsina4@gmail.com",
                                    "Felhasználó név": "fruzsina4"
                                },
                                {
                                    "Név": "Köves Gábor",
                                    "Email cím": "gabor1@gmail.com",
                                    "Felhasználó név": "gabor1"
                                },
                                {
                                    "Név": "Telek Gábor",
                                    "Email cím": "gábor.telek@mail.hu",
                                    "Felhasználó név": "gabor4"
                                },
                                {
                                    "Név": "Nagy Gabriella",
                                    "Email cím": "gabriella1@gmail.com",
                                    "Felhasználó név": "gabriella1"
                                },
                                {
                                    "Név": "Nyíri Georgij",
                                    "Email cím": "georgij.nyíri@mail.hu",
                                    "Felhasználó név": "georgij"
                                },
                                {
                                    "Név": "Bárci Gusztáv",
                                    "Email cím": "gusztav@gmail.com",
                                    "Felhasználó név": "gusztav"
                                },
                                {
                                    "Név": "Kornseé Gyöngyi",
                                    "Email cím": "gyöngyi.kornseé@mail.hu",
                                    "Felhasználó név": "GYONGYIK"
                                },
                                {
                                    "Név": "Oroszi György",
                                    "Email cím": "GYORGYO@gmail.com",
                                    "Felhasználó név": "GYORGYO"
                                },
                                {
                                    "Név": "Nádudvari Henrik",
                                    "Email cím": "henrik.nádudvari@mail.hu",
                                    "Felhasználó név": "henrik3"
                                },
                                {
                                    "Név": "Andor Ibolya",
                                    "Email cím": "ibolya.andor@mail.hu",
                                    "Felhasználó név": "IBOLYAA"
                                },
                                {
                                    "Név": "Bosnyák Ilona",
                                    "Email cím": "ilona3@gmail.com",
                                    "Felhasználó név": "ilona3"
                                },
                                {
                                    "Név": "Búza Imre",
                                    "Email cím": "imre.búza@mail.hu",
                                    "Felhasználó név": "imre"
                                },
                                {
                                    "Név": "Papp Imre",
                                    "Email cím": "imre.papp@mail.hu",
                                    "Felhasználó név": "imre1"
                                },
                                {
                                    "Név": "Soós István",
                                    "Email cím": "istvan@gmail.com",
                                    "Felhasználó név": "istvan"
                                },
                                {
                                    "Név": "Vizi István",
                                    "Email cím": "istván.vizi@mail.hu",
                                    "Felhasználó név": "istvan1"
                                },
                                {
                                    "Név": "Varga István",
                                    "Email cím": "ISTVANV@gmail.com",
                                    "Felhasználó név": "ISTVANV"
                                },
                                {
                                    "Név": "Harangozó János",
                                    "Email cím": "janos3@gmail.com",
                                    "Felhasználó név": "janos3"
                                },
                                {
                                    "Név": "Giliga János",
                                    "Email cím": "JANOSG@gmail.com",
                                    "Felhasználó név": "JANOSG"
                                },
                                {
                                    "Név": "Pálinkás János",
                                    "Email cím": "JANOSP@gmail.com",
                                    "Felhasználó név": "JANOSP"
                                },
                                {
                                    "Név": "Gergely József",
                                    "Email cím": "jozsef@gmail.com",
                                    "Felhasználó név": "jozsef"
                                },
                                {
                                    "Név": "Vajda József",
                                    "Email cím": "józsef.vajda@mail.hu",
                                    "Felhasználó név": "jozsef2"
                                },
                                {
                                    "Név": "Hídasi Judit",
                                    "Email cím": "JUDITH@gmail.com",
                                    "Felhasználó név": "JUDITH"
                                },
                                {
                                    "Név": "Tóth Júlia",
                                    "Email cím": "julia@gmail.com",
                                    "Felhasználó név": "julia"
                                },
                                {
                                    "Név": "Nagy Júlia",
                                    "Email cím": "julia4@gmail.com",
                                    "Felhasználó név": "julia4"
                                },
                                {
                                    "Név": "Szabó Julianna",
                                    "Email cím": "julianna4@gmail.com",
                                    "Felhasználó név": "julianna4"
                                },
                                {
                                    "Név": "Gondos Katalin",
                                    "Email cím": "katalin.gondos@mail.hu",
                                    "Felhasználó név": "kata"
                                },
                                {
                                    "Név": "Horváth Katalin",
                                    "Email cím": "katalin.horváth@mail.hu",
                                    "Felhasználó név": "katalin"
                                },
                                {
                                    "Név": "Kertész Katalin",
                                    "Email cím": "katalin4@gmail.com",
                                    "Felhasználó név": "katalin4"
                                },
                                {
                                    "Név": "Kovács Katalin",
                                    "Email cím": "katalin.kovács@mail.hu",
                                    "Felhasználó név": "katka"
                                },
                                {
                                    "Név": "Bakó Klaudia",
                                    "Email cím": "klaudia.bakó@mail.hu",
                                    "Felhasználó név": "klaudia2"
                                },
                                {
                                    "Név": "Lukács Kornél",
                                    "Email cím": "kornél.lukács@mail.hu",
                                    "Felhasználó név": "kornel4"
                                },
                                {
                                    "Név": "Poprádi Kristóf",
                                    "Email cím": "kristof4@gmail.com",
                                    "Felhasználó név": "kristof4"
                                },
                                {
                                    "Név": "Horváth Krisztina",
                                    "Email cím": "kriszti@gmail.com",
                                    "Felhasználó név": "kriszti"
                                },
                                {
                                    "Név": "Czérna Krisztián",
                                    "Email cím": "krisztián.czérna@mail.hu",
                                    "Felhasználó név": "krisztian4"
                                },
                                {
                                    "Név": "Bori Krisztina",
                                    "Email cím": "krisztina.bori@mail.hu",
                                    "Felhasználó név": "krisztina1"
                                },
                                {
                                    "Név": "Gyárfás Krisztina",
                                    "Email cím": "KRISZTINAG@gmail.com",
                                    "Felhasználó név": "KRISZTINAG"
                                },
                                {
                                    "Név": "Kiss Lajos",
                                    "Email cím": "lajos.kiss@mail.hu",
                                    "Felhasználó név": "lajos"
                                },
                                {
                                    "Név": "Nagymihály Lajos",
                                    "Email cím": "lajos.nagymihály@mail.hu",
                                    "Felhasználó név": "lala"
                                },
                                {
                                    "Név": "Móra László",
                                    "Email cím": "lászló.móra@mail.hu",
                                    "Felhasználó név": "laszlo2"
                                },
                                {
                                    "Név": "Antal László",
                                    "Email cím": "lászló.antal@mail.hu",
                                    "Felhasználó név": "LASZLOA"
                                },
                                {
                                    "Név": "Nagy László",
                                    "Email cím": "lászló.nagy@mail.hu",
                                    "Felhasználó név": "LASZLON"
                                },
                                {
                                    "Név": "Baráth Mária",
                                    "Email cím": "mária.baráth@mail.hu",
                                    "Felhasználó név": "maria1"
                                },
                                {
                                    "Név": "Kispál Márk",
                                    "Email cím": "márk.kispál@mail.hu",
                                    "Felhasználó név": "mark"
                                },
                                {
                                    "Név": "Horváth Márk",
                                    "Email cím": "márk.horváth@mail.hu",
                                    "Felhasználó név": "MARKH"
                                },
                                {
                                    "Név": "Kalacsi Márton",
                                    "Email cím": "marton@gmail.com",
                                    "Felhasználó név": "marton"
                                },
                                {
                                    "Név": "Koza Máté",
                                    "Email cím": "máté.koza@mail.hu",
                                    "Felhasználó név": "MATEK"
                                },
                                {
                                    "Név": "Botka Mátyás",
                                    "Email cím": "matyas2@gmail.com",
                                    "Felhasználó név": "matyas2"
                                },
                                {
                                    "Név": "Szilágyi Mátyás",
                                    "Email cím": "mátyás.szilágyi@mail.hu",
                                    "Felhasználó név": "MATYASS"
                                },
                                {
                                    "Név": "Juhász Mihály",
                                    "Email cím": "mihály.juhász@mail.hu",
                                    "Felhasználó név": "MIHALYJ"
                                },
                                {
                                    "Név": "Gondos Miklós",
                                    "Email cím": "miklos2@gmail.com",
                                    "Felhasználó név": "miklos2"
                                },
                                {
                                    "Név": "Balla Miklós",
                                    "Email cím": "miklós.balla@mail.hu",
                                    "Felhasználó név": "MIKLOSB"
                                },
                                {
                                    "Név": "Mohos Mónika",
                                    "Email cím": "mónika.mohos@mail.hu",
                                    "Felhasználó név": "MONIKAM"
                                },
                                {
                                    "Név": "Fő Nándor",
                                    "Email cím": "nándor.fő@mail.hu",
                                    "Felhasználó név": "NANDORF"
                                },
                                {
                                    "Név": "Horváth Nikolett",
                                    "Email cím": "nikolett3@gmail.com",
                                    "Felhasználó név": "nikolett3"
                                },
                                {
                                    "Név": "Kő Nikoletta",
                                    "Email cím": "nikoletta4@gmail.com",
                                    "Felhasználó név": "nikoletta4"
                                },
                                {
                                    "Név": "Tatár Nikoletta",
                                    "Email cím": "nikoletta.tatár@mail.hu",
                                    "Felhasználó név": "NIKOLETTAT"
                                },
                                {
                                    "Név": "Szűcs Norbert",
                                    "Email cím": "norbert@gmail.com",
                                    "Felhasználó név": "norbert"
                                },
                                {
                                    "Név": "Hegedűs Norbert",
                                    "Email cím": "norbert.hegedűs@mail.hu",
                                    "Felhasználó név": "norbert2"
                                },
                                {
                                    "Név": "Mile Norbert",
                                    "Email cím": "norbert4@gmail.com",
                                    "Felhasználó név": "norbert4"
                                },
                                {
                                    "Név": "Béres Norbert",
                                    "Email cím": "norbert5@gmail.com",
                                    "Felhasználó név": "norbert5"
                                },
                                {
                                    "Név": "Barabás Pál",
                                    "Email cím": "pál.barabás@mail.hu",
                                    "Felhasználó név": "pal"
                                },
                                {
                                    "Név": "Kozma Péter",
                                    "Email cím": "peter1@gmail.com",
                                    "Felhasználó név": "peter1"
                                },
                                {
                                    "Név": "Bozsó Péter",
                                    "Email cím": "peter2@gmail.com",
                                    "Felhasználó név": "peter2"
                                },
                                {
                                    "Név": "Szalai Péter",
                                    "Email cím": "peter3@gmail.com",
                                    "Felhasználó név": "peter3"
                                },
                                {
                                    "Név": "Bíró Péter",
                                    "Email cím": "péter.bíró@mail.hu",
                                    "Felhasználó név": "peter4"
                                },
                                {
                                    "Név": "Berendi Péter",
                                    "Email cím": "péter.berendi@mail.hu",
                                    "Felhasználó név": "PETERB"
                                },
                                {
                                    "Név": "Palágyi Polla",
                                    "Email cím": "polla@gmail.com",
                                    "Felhasználó név": "polla"
                                },
                                {
                                    "Név": "Rácz Rajmond",
                                    "Email cím": "rajmond.rácz@mail.hu",
                                    "Felhasználó név": "rajmond4"
                                },
                                {
                                    "Név": "Szikszai Réka",
                                    "Email cím": "réka.szikszai@mail.hu",
                                    "Felhasználó név": "reka4"
                                },
                                {
                                    "Név": "Szirmai Renáta",
                                    "Email cím": "RENATAS@gmail.com",
                                    "Felhasználó név": "RENATAS"
                                },
                                {
                                    "Név": "Patay Róbert",
                                    "Email cím": "robert2@gmail.com",
                                    "Felhasználó név": "robert2"
                                },
                                {
                                    "Név": "Iván Róbert",
                                    "Email cím": "róbert.iván@mail.hu",
                                    "Felhasználó név": "ROBERTI"
                                },
                                {
                                    "Név": "Tóth Roland",
                                    "Email cím": "roland@gmail.com",
                                    "Felhasználó név": "roland"
                                },
                                {
                                    "Név": "Ferencz Roland",
                                    "Email cím": "roland.ferencz@mail.hu",
                                    "Felhasználó név": "roland1"
                                },
                                {
                                    "Név": "Bucskó Róza",
                                    "Email cím": "roza2@gmail.com",
                                    "Felhasználó név": "roza2"
                                },
                                {
                                    "Név": "Karasz Sándor",
                                    "Email cím": "sandor@gmail.com",
                                    "Felhasználó név": "sandor"
                                },
                                {
                                    "Név": "Farkas Sándor",
                                    "Email cím": "sándor.farkas@mail.hu",
                                    "Felhasználó név": "sandor3"
                                },
                                {
                                    "Név": "Nagy Sándor",
                                    "Email cím": "sandor4@gmail.com",
                                    "Felhasználó név": "sandor4"
                                },
                                {
                                    "Név": "Farkas Sára",
                                    "Email cím": "sára.farkas@mail.hu",
                                    "Felhasználó név": "sara"
                                },
                                {
                                    "Név": "Foltényi Sebastián",
                                    "Email cím": "SEBASTIANF@gmail.com",
                                    "Felhasználó név": "SEBASTIANF"
                                },
                                {
                                    "Név": "Rab Sebestyén",
                                    "Email cím": "sebestyen@gmail.com",
                                    "Felhasználó név": "sebestyen"
                                },
                                {
                                    "Név": "Miklós Szabolcs",
                                    "Email cím": "szabolcs.miklós@mail.hu",
                                    "Felhasználó név": "SZABOLCSM"
                                },
                                {
                                    "Név": "Szalai Szilárd",
                                    "Email cím": "szilárd.szalai@mail.hu",
                                    "Felhasználó név": "SZILARDS"
                                },
                                {
                                    "Név": "Tari Szilvia",
                                    "Email cím": "szilvia.tari@mail.hu",
                                    "Felhasználó név": "szilvia1"
                                },
                                {
                                    "Név": "Miklós Tamara",
                                    "Email cím": "tamara.miklós@mail.hu",
                                    "Felhasználó név": "tamara2"
                                },
                                {
                                    "Név": "Antal Tamás",
                                    "Email cím": "tamás.antal@mail.hu",
                                    "Felhasználó név": "tamas"
                                },
                                {
                                    "Név": "Fényes Tamás",
                                    "Email cím": "TAMASF@gmail.com",
                                    "Felhasználó név": "TAMASF"
                                },
                                {
                                    "Név": "Gombos Tibor",
                                    "Email cím": "tibor.gombos@mail.hu",
                                    "Felhasználó név": "tibor"
                                },
                                {
                                    "Név": "Kazy Tihamér",
                                    "Email cím": "tihamér.kazy@mail.hu",
                                    "Felhasználó név": "tihamer"
                                },
                                {
                                    "Név": "Dusha Tímea",
                                    "Email cím": "tímea.dusha@mail.hu",
                                    "Felhasználó név": "timea2"
                                },
                                {
                                    "Név": "Turcsik Tünde",
                                    "Email cím": "tunde@gmail.com",
                                    "Felhasználó név": "tunde"
                                },
                                {
                                    "Név": "Feró Valentin",
                                    "Email cím": "valentin.feró@mail.hu",
                                    "Felhasználó név": "valentin"
                                },
                                {
                                    "Név": "Tankó Veronika",
                                    "Email cím": "veronika4@gmail.com",
                                    "Felhasználó név": "veronika4"
                                },
                                {
                                    "Név": "Boros Vivien",
                                    "Email cím": "vivien3@gmail.com",
                                    "Felhasználó név": "vivien3"
                                },
                                {
                                    "Név": "Fodor Zoltán",
                                    "Email cím": "zoltán.fodor@mail.hu",
                                    "Felhasználó név": "zoltan"
                                },
                                {
                                    "Név": "Pintér Zoltán",
                                    "Email cím": "zoltán.pintér@mail.hu",
                                    "Felhasználó név": "ZOLTANP"
                                },
                                {
                                    "Név": "Tóth Zoltán",
                                    "Email cím": "zoltán.tóth@mail.hu",
                                    "Felhasználó név": "ZOLTANT"
                                },
                                {
                                    "Név": "Molnár Zsófi",
                                    "Email cím": "zsofi1@gmail.com",
                                    "Felhasználó név": "zsofi1"
                                },
                                {
                                    "Név": "Józsa Zsolt",
                                    "Email cím": "ZSOLTJ@gmail.com",
                                    "Felhasználó név": "ZSOLTJ"
                                },
                                {
                                    "Név": "Pusztai Zsuzsanna",
                                    "Email cím": "zsuzsanna@gmail.com",
                                    "Felhasználó név": "zsuzsa"
                                },
                                {
                                    "Név": "Varsányi Zsuzsa",
                                    "Email cím": "zsuzsa.varsányi@mail.hu",
                                    "Felhasználó név": "zsuzsa3"
                                },
                                {
                                    "Név": "Barta Zsuzsanna",
                                    "Email cím": "zsuzsanna.barta@mail.hu",
                                    "Felhasználó név": "zsuzsanna"
                                },
                                {
                                    "Név": "Vajda Zsuzsa",
                                    "Email cím": "zsuzsa.vajda@mail.hu",
                                    "Felhasználó név": "ZSUZSAV"
                                }
                            ]
                        },
                        "text/html": "<table><tr><th>Név</th><th>Email cím</th><th>Felhasználó név</th></tr><tr><td>Kiss Ádám</td><td>ádám.kiss@mail.hu</td><td>adam1</td></tr><tr><td>Barkóci Ádám</td><td>adam3@gmail.com</td><td>adam3</td></tr><tr><td>Bieniek Ádám</td><td>ádám.bieniek@mail.hu</td><td>adam4</td></tr><tr><td>Lengyel Ágnes</td><td>agnes@gmail.com</td><td>agnes</td></tr><tr><td>Hartyánszky Ágnes</td><td>agnes3@gmail.com</td><td>agnes3</td></tr><tr><td>Horváth Ágnes</td><td>AGNESH@gmail.com</td><td>AGNESH</td></tr><tr><td>Kovács Ágnes</td><td>AGNESK@gmail.com</td><td>AGNESK</td></tr><tr><td>Bíró Ákos</td><td>ákos.bíró@mail.hu</td><td>akos</td></tr><tr><td>Dunai Aladár</td><td>aladár.dunai@mail.hu</td><td>aladar</td></tr><tr><td>Bagóczki Alexandra</td><td>alexandra.bagóczki@mail.hu</td><td>alexandra</td></tr><tr><td>Tóth András</td><td>andrás.tóth@mail.hu</td><td>andras2</td></tr><tr><td>Molnár András</td><td>andrás.molnár@mail.hu</td><td>andras21</td></tr><tr><td>Vígh András</td><td>andrás.vígh@mail.hu</td><td>andras3</td></tr><tr><td>Back András</td><td>andras4@gmail.com</td><td>andras4</td></tr><tr><td>Komjáti András</td><td>andras41@gmail.com</td><td>andras41</td></tr><tr><td>Kiss Andrea</td><td>andrea.kiss@mail.hu</td><td>andrea</td></tr><tr><td>Tornyos Andrea</td><td>ANDREAT@gmail.com</td><td>ANDREAT</td></tr><tr><td>Pivarcsi Anett</td><td>anett.pivarcsi@mail.hu</td><td>anett3</td></tr><tr><td>Tóth Anikó</td><td>aniko@gmail.com</td><td>aniko</td></tr><tr><td>Böröcz Anikó</td><td>aniko4@gmail.com</td><td>aniko4</td></tr><tr><td>Simon Anikó</td><td>ANIKOS@gmail.com</td><td>ANIKOS</td></tr><tr><td>Hamvay-Kovács Anita</td><td>anita.hamvay-kovács@mail.hu</td><td>anita</td></tr><tr><td>Szűcs Annamária</td><td>annamária.szűcs@mail.hu</td><td>annamaria1</td></tr><tr><td>Regős Annamária</td><td>ANNAMARIAR@gmail.com</td><td>ANNAMARIAR</td></tr><tr><td>Jakab Áron</td><td>aron2@gmail.com</td><td>aron2</td></tr><tr><td>Kelemen Áron</td><td>áron.kelemen@mail.hu</td><td>ARONK</td></tr><tr><td>Ötvös Árpád</td><td>árpád.ötvös@mail.hu</td><td>arpad2</td></tr><tr><td>Móricz Árpád</td><td>árpád.móricz@mail.hu</td><td>ARPADM</td></tr><tr><td>Csóti Attila</td><td>attila@gmail.com</td><td>attila</td></tr><tr><td>Gulyás Attila</td><td>attila.gulyás@mail.hu</td><td>attila1</td></tr><tr><td>Baróti Attila</td><td>attila.baróti@mail.hu</td><td>attila4</td></tr><tr><td>Bozsik Balázs</td><td>balázs.bozsik@mail.hu</td><td>balazs1</td></tr><tr><td>Szűcs Balázs</td><td>balázs.szűcs@mail.hu</td><td>balazs2</td></tr><tr><td>Bakódy Balázs</td><td>balazs3@gmail.com</td><td>balazs3</td></tr><tr><td>Horváth Bálint</td><td>balint@gmail.com</td><td>balint</td></tr><tr><td>Molnár Bálint</td><td>balint1@gmail.com</td><td>balint1</td></tr><tr><td>Vukasinovity Bálint</td><td>balint2@gmail.com</td><td>balint2</td></tr><tr><td>Endresz Bálint</td><td>bálint.endresz@mail.hu</td><td>balu</td></tr><tr><td>Bagi Beáta</td><td>beáta.bagi@mail.hu</td><td>beata4</td></tr><tr><td>Kerényi Beatrix</td><td>beatrix.kerényi@mail.hu</td><td>BEATRIXK</td></tr><tr><td>Szekendi Beatrix</td><td>beatrix.szekendi@mail.hu</td><td>BEATRIXS</td></tr><tr><td>Farkas Béla</td><td>BELAF@gmail.com</td><td>BELAF</td></tr><tr><td>Győrffy Bence</td><td>bence@gmail.com</td><td>bence</td></tr><tr><td>Bajusz Bence</td><td>bence.bajusz@mail.hu</td><td>BENCEB</td></tr><tr><td>Simon Bernadett</td><td>bernadett1@gmail.com</td><td>bernadett1</td></tr><tr><td>Kovács Bernadett</td><td>bernadett.kovács@mail.hu</td><td>bernadett2</td></tr><tr><td>Orbán Bernadett</td><td>bernadett.orbán@mail.hu</td><td>BERNADETTO</td></tr><tr><td>Csiger Bertalan</td><td>bertalan@gmail.com</td><td>bertalan</td></tr><tr><td>Székely Brigitta</td><td>brigitta.székely@mail.hu</td><td>brigitta</td></tr><tr><td>Nagymihály Csongor</td><td>csongor.nagymihály@mail.hu</td><td>csongor3</td></tr><tr><td>Vörös Dániel</td><td>daniel@gmail.com</td><td>dani</td></tr><tr><td>Rácz Dániel</td><td>dániel.rácz@mail.hu</td><td>daniel</td></tr><tr><td>Keszler Dániel</td><td>dániel.keszler@mail.hu</td><td>daniel1</td></tr><tr><td>Ambrus Dávid</td><td>david@gmail.com</td><td>david</td></tr><tr><td>Sobják Dávid</td><td>david1@gmail.com</td><td>david1</td></tr><tr><td>Barna Debóra</td><td>debóra.barna@mail.hu</td><td>debora</td></tr><tr><td>Tömböly Dénes</td><td>denes@gmail.com</td><td>denes</td></tr><tr><td>Bittmann Edit</td><td>edit.bittmann@mail.hu</td><td>edit</td></tr><tr><td>Kuruc Emese</td><td>emese.kuruc@mail.hu</td><td>emese</td></tr><tr><td>Balogh Eszter</td><td>eszter.balogh@mail.hu</td><td>eszter2</td></tr><tr><td>Fülöp Eszter</td><td>eszter.fülöp@mail.hu</td><td>eszter4</td></tr><tr><td>Érsek Eszter</td><td>eszter.érsek@mail.hu</td><td>ESZTERE</td></tr><tr><td>Enyedi Éva</td><td>eva@gmail.com</td><td>eva</td></tr><tr><td>Perlinger Éva</td><td>eva2@gmail.com</td><td>eva2</td></tr><tr><td>Viktor Éva</td><td>EVAV@gmail.com</td><td>EVAV</td></tr><tr><td>Orosz Ferenc</td><td>ferenc.orosz@mail.hu</td><td>ferenc1</td></tr><tr><td>Frank Fruzsina</td><td>fruzsina4@gmail.com</td><td>fruzsina4</td></tr><tr><td>Köves Gábor</td><td>gabor1@gmail.com</td><td>gabor1</td></tr><tr><td>Telek Gábor</td><td>gábor.telek@mail.hu</td><td>gabor4</td></tr><tr><td>Nagy Gabriella</td><td>gabriella1@gmail.com</td><td>gabriella1</td></tr><tr><td>Nyíri Georgij</td><td>georgij.nyíri@mail.hu</td><td>georgij</td></tr><tr><td>Bárci Gusztáv</td><td>gusztav@gmail.com</td><td>gusztav</td></tr><tr><td>Kornseé Gyöngyi</td><td>gyöngyi.kornseé@mail.hu</td><td>GYONGYIK</td></tr><tr><td>Oroszi György</td><td>GYORGYO@gmail.com</td><td>GYORGYO</td></tr><tr><td>Nádudvari Henrik</td><td>henrik.nádudvari@mail.hu</td><td>henrik3</td></tr><tr><td>Andor Ibolya</td><td>ibolya.andor@mail.hu</td><td>IBOLYAA</td></tr><tr><td>Bosnyák Ilona</td><td>ilona3@gmail.com</td><td>ilona3</td></tr><tr><td>Búza Imre</td><td>imre.búza@mail.hu</td><td>imre</td></tr><tr><td>Papp Imre</td><td>imre.papp@mail.hu</td><td>imre1</td></tr><tr><td>Soós István</td><td>istvan@gmail.com</td><td>istvan</td></tr><tr><td>Vizi István</td><td>istván.vizi@mail.hu</td><td>istvan1</td></tr><tr><td>Varga István</td><td>ISTVANV@gmail.com</td><td>ISTVANV</td></tr><tr><td>Harangozó János</td><td>janos3@gmail.com</td><td>janos3</td></tr><tr><td>Giliga János</td><td>JANOSG@gmail.com</td><td>JANOSG</td></tr><tr><td>Pálinkás János</td><td>JANOSP@gmail.com</td><td>JANOSP</td></tr><tr><td>Gergely József</td><td>jozsef@gmail.com</td><td>jozsef</td></tr><tr><td>Vajda József</td><td>józsef.vajda@mail.hu</td><td>jozsef2</td></tr><tr><td>Hídasi Judit</td><td>JUDITH@gmail.com</td><td>JUDITH</td></tr><tr><td>Tóth Júlia</td><td>julia@gmail.com</td><td>julia</td></tr><tr><td>Nagy Júlia</td><td>julia4@gmail.com</td><td>julia4</td></tr><tr><td>Szabó Julianna</td><td>julianna4@gmail.com</td><td>julianna4</td></tr><tr><td>Gondos Katalin</td><td>katalin.gondos@mail.hu</td><td>kata</td></tr><tr><td>Horváth Katalin</td><td>katalin.horváth@mail.hu</td><td>katalin</td></tr><tr><td>Kertész Katalin</td><td>katalin4@gmail.com</td><td>katalin4</td></tr><tr><td>Kovács Katalin</td><td>katalin.kovács@mail.hu</td><td>katka</td></tr><tr><td>Bakó Klaudia</td><td>klaudia.bakó@mail.hu</td><td>klaudia2</td></tr><tr><td>Lukács Kornél</td><td>kornél.lukács@mail.hu</td><td>kornel4</td></tr><tr><td>Poprádi Kristóf</td><td>kristof4@gmail.com</td><td>kristof4</td></tr><tr><td>Horváth Krisztina</td><td>kriszti@gmail.com</td><td>kriszti</td></tr><tr><td>Czérna Krisztián</td><td>krisztián.czérna@mail.hu</td><td>krisztian4</td></tr><tr><td>Bori Krisztina</td><td>krisztina.bori@mail.hu</td><td>krisztina1</td></tr><tr><td>Gyárfás Krisztina</td><td>KRISZTINAG@gmail.com</td><td>KRISZTINAG</td></tr><tr><td>Kiss Lajos</td><td>lajos.kiss@mail.hu</td><td>lajos</td></tr><tr><td>Nagymihály Lajos</td><td>lajos.nagymihály@mail.hu</td><td>lala</td></tr><tr><td>Móra László</td><td>lászló.móra@mail.hu</td><td>laszlo2</td></tr><tr><td>Antal László</td><td>lászló.antal@mail.hu</td><td>LASZLOA</td></tr><tr><td>Nagy László</td><td>lászló.nagy@mail.hu</td><td>LASZLON</td></tr><tr><td>Baráth Mária</td><td>mária.baráth@mail.hu</td><td>maria1</td></tr><tr><td>Kispál Márk</td><td>márk.kispál@mail.hu</td><td>mark</td></tr><tr><td>Horváth Márk</td><td>márk.horváth@mail.hu</td><td>MARKH</td></tr><tr><td>Kalacsi Márton</td><td>marton@gmail.com</td><td>marton</td></tr><tr><td>Koza Máté</td><td>máté.koza@mail.hu</td><td>MATEK</td></tr><tr><td>Botka Mátyás</td><td>matyas2@gmail.com</td><td>matyas2</td></tr><tr><td>Szilágyi Mátyás</td><td>mátyás.szilágyi@mail.hu</td><td>MATYASS</td></tr><tr><td>Juhász Mihály</td><td>mihály.juhász@mail.hu</td><td>MIHALYJ</td></tr><tr><td>Gondos Miklós</td><td>miklos2@gmail.com</td><td>miklos2</td></tr><tr><td>Balla Miklós</td><td>miklós.balla@mail.hu</td><td>MIKLOSB</td></tr><tr><td>Mohos Mónika</td><td>mónika.mohos@mail.hu</td><td>MONIKAM</td></tr><tr><td>Fő Nándor</td><td>nándor.fő@mail.hu</td><td>NANDORF</td></tr><tr><td>Horváth Nikolett</td><td>nikolett3@gmail.com</td><td>nikolett3</td></tr><tr><td>Kő Nikoletta</td><td>nikoletta4@gmail.com</td><td>nikoletta4</td></tr><tr><td>Tatár Nikoletta</td><td>nikoletta.tatár@mail.hu</td><td>NIKOLETTAT</td></tr><tr><td>Szűcs Norbert</td><td>norbert@gmail.com</td><td>norbert</td></tr><tr><td>Hegedűs Norbert</td><td>norbert.hegedűs@mail.hu</td><td>norbert2</td></tr><tr><td>Mile Norbert</td><td>norbert4@gmail.com</td><td>norbert4</td></tr><tr><td>Béres Norbert</td><td>norbert5@gmail.com</td><td>norbert5</td></tr><tr><td>Barabás Pál</td><td>pál.barabás@mail.hu</td><td>pal</td></tr><tr><td>Kozma Péter</td><td>peter1@gmail.com</td><td>peter1</td></tr><tr><td>Bozsó Péter</td><td>peter2@gmail.com</td><td>peter2</td></tr><tr><td>Szalai Péter</td><td>peter3@gmail.com</td><td>peter3</td></tr><tr><td>Bíró Péter</td><td>péter.bíró@mail.hu</td><td>peter4</td></tr><tr><td>Berendi Péter</td><td>péter.berendi@mail.hu</td><td>PETERB</td></tr><tr><td>Palágyi Polla</td><td>polla@gmail.com</td><td>polla</td></tr><tr><td>Rácz Rajmond</td><td>rajmond.rácz@mail.hu</td><td>rajmond4</td></tr><tr><td>Szikszai Réka</td><td>réka.szikszai@mail.hu</td><td>reka4</td></tr><tr><td>Szirmai Renáta</td><td>RENATAS@gmail.com</td><td>RENATAS</td></tr><tr><td>Patay Róbert</td><td>robert2@gmail.com</td><td>robert2</td></tr><tr><td>Iván Róbert</td><td>róbert.iván@mail.hu</td><td>ROBERTI</td></tr><tr><td>Tóth Roland</td><td>roland@gmail.com</td><td>roland</td></tr><tr><td>Ferencz Roland</td><td>roland.ferencz@mail.hu</td><td>roland1</td></tr><tr><td>Bucskó Róza</td><td>roza2@gmail.com</td><td>roza2</td></tr><tr><td>Karasz Sándor</td><td>sandor@gmail.com</td><td>sandor</td></tr><tr><td>Farkas Sándor</td><td>sándor.farkas@mail.hu</td><td>sandor3</td></tr><tr><td>Nagy Sándor</td><td>sandor4@gmail.com</td><td>sandor4</td></tr><tr><td>Farkas Sára</td><td>sára.farkas@mail.hu</td><td>sara</td></tr><tr><td>Foltényi Sebastián</td><td>SEBASTIANF@gmail.com</td><td>SEBASTIANF</td></tr><tr><td>Rab Sebestyén</td><td>sebestyen@gmail.com</td><td>sebestyen</td></tr><tr><td>Miklós Szabolcs</td><td>szabolcs.miklós@mail.hu</td><td>SZABOLCSM</td></tr><tr><td>Szalai Szilárd</td><td>szilárd.szalai@mail.hu</td><td>SZILARDS</td></tr><tr><td>Tari Szilvia</td><td>szilvia.tari@mail.hu</td><td>szilvia1</td></tr><tr><td>Miklós Tamara</td><td>tamara.miklós@mail.hu</td><td>tamara2</td></tr><tr><td>Antal Tamás</td><td>tamás.antal@mail.hu</td><td>tamas</td></tr><tr><td>Fényes Tamás</td><td>TAMASF@gmail.com</td><td>TAMASF</td></tr><tr><td>Gombos Tibor</td><td>tibor.gombos@mail.hu</td><td>tibor</td></tr><tr><td>Kazy Tihamér</td><td>tihamér.kazy@mail.hu</td><td>tihamer</td></tr><tr><td>Dusha Tímea</td><td>tímea.dusha@mail.hu</td><td>timea2</td></tr><tr><td>Turcsik Tünde</td><td>tunde@gmail.com</td><td>tunde</td></tr><tr><td>Feró Valentin</td><td>valentin.feró@mail.hu</td><td>valentin</td></tr><tr><td>Tankó Veronika</td><td>veronika4@gmail.com</td><td>veronika4</td></tr><tr><td>Boros Vivien</td><td>vivien3@gmail.com</td><td>vivien3</td></tr><tr><td>Fodor Zoltán</td><td>zoltán.fodor@mail.hu</td><td>zoltan</td></tr><tr><td>Pintér Zoltán</td><td>zoltán.pintér@mail.hu</td><td>ZOLTANP</td></tr><tr><td>Tóth Zoltán</td><td>zoltán.tóth@mail.hu</td><td>ZOLTANT</td></tr><tr><td>Molnár Zsófi</td><td>zsofi1@gmail.com</td><td>zsofi1</td></tr><tr><td>Józsa Zsolt</td><td>ZSOLTJ@gmail.com</td><td>ZSOLTJ</td></tr><tr><td>Pusztai Zsuzsanna</td><td>zsuzsanna@gmail.com</td><td>zsuzsa</td></tr><tr><td>Varsányi Zsuzsa</td><td>zsuzsa.varsányi@mail.hu</td><td>zsuzsa3</td></tr><tr><td>Barta Zsuzsanna</td><td>zsuzsanna.barta@mail.hu</td><td>zsuzsanna</td></tr><tr><td>Vajda Zsuzsa</td><td>zsuzsa.vajda@mail.hu</td><td>ZSUZSAV</td></tr></table>"
                    },
                    "metadata": {}
                }
            ],
            "execution_count": 7
        },
        {
            "cell_type": "markdown",
            "source": [
                "Listázzuk azon vendégek adatait, akik a legtöbb férőhelyes szobát (vagy szobákat) már lefoglalták!  \n",
                "\n",
                "- Csak klímás szoba jöhet számításba"
            ],
            "metadata": {
                "azdata_cell_guid": "5dcea13c-4572-4ec6-816b-5cd61e880b91"
            },
            "attachments": {}
        },
        {
            "cell_type": "code",
            "source": [
                "SELECT v.USERNEV, \r\n",
                "        v.NEV,\r\n",
                "        v.EMAIL,\r\n",
                "        v.SZAML_CIM,\r\n",
                "        v.SZUL_DAT\r\n",
                "FROM Vendeg v JOIN Foglalas f ON v.USERNEV = f.UGYFEL_FK \r\n",
                "                JOIN Szoba sz ON sz.SZOBA_ID = f.SZOBA_FK\r\n",
                "WHERE sz.FEROHELY in \r\n",
                "(\r\n",
                "    SELECT MAX(sz.FEROHELY)\r\n",
                "    FROM Szoba sz\r\n",
                "    WHERE sz.KLIMAS = 'i'\r\n",
                "\r\n",
                ")"
            ],
            "metadata": {
                "azdata_cell_guid": "27fbd74c-6b18-47c7-aaea-bfc199ecdc4c",
                "language": "sql"
            },
            "outputs": [
                {
                    "output_type": "display_data",
                    "data": {
                        "text/html": "(3 rows affected)"
                    },
                    "metadata": {}
                },
                {
                    "output_type": "display_data",
                    "data": {
                        "text/html": "Total execution time: 00:00:00.018"
                    },
                    "metadata": {}
                },
                {
                    "output_type": "execute_result",
                    "metadata": {},
                    "execution_count": 7,
                    "data": {
                        "application/vnd.dataresource+json": {
                            "schema": {
                                "fields": [
                                    {
                                        "name": "USERNEV"
                                    },
                                    {
                                        "name": "NEV"
                                    },
                                    {
                                        "name": "EMAIL"
                                    },
                                    {
                                        "name": "SZAML_CIM"
                                    },
                                    {
                                        "name": "SZUL_DAT"
                                    }
                                ]
                            },
                            "data": [
                                {
                                    "USERNEV": "JOZSEFG",
                                    "NEV": "Gyuris József",
                                    "EMAIL": "józsef.gyuris@mail.hu",
                                    "SZAML_CIM": "2660 Balassagyarmat Petőfi utca 1/2.",
                                    "SZUL_DAT": "1975-05-26"
                                },
                                {
                                    "USERNEV": "PETERB",
                                    "NEV": "Berendi Péter",
                                    "EMAIL": "péter.berendi@mail.hu",
                                    "SZAML_CIM": "3980 Sátoraljaújhely Vasút utca 4/10.",
                                    "SZUL_DAT": "1969-01-01"
                                },
                                {
                                    "USERNEV": "tunde",
                                    "NEV": "Turcsik Tünde",
                                    "EMAIL": "tunde@gmail.com",
                                    "SZAML_CIM": "7130 Tolna Fő út 122.",
                                    "SZUL_DAT": "1974-02-12"
                                }
                            ]
                        },
                        "text/html": [
                            "<table>",
                            "<tr><th>USERNEV</th><th>NEV</th><th>EMAIL</th><th>SZAML_CIM</th><th>SZUL_DAT</th></tr>",
                            "<tr><td>JOZSEFG</td><td>Gyuris József</td><td>józsef.gyuris@mail.hu</td><td>2660 Balassagyarmat Petőfi utca 1/2.</td><td>1975-05-26</td></tr>",
                            "<tr><td>PETERB</td><td>Berendi Péter</td><td>péter.berendi@mail.hu</td><td>3980 Sátoraljaújhely Vasút utca 4/10.</td><td>1969-01-01</td></tr>",
                            "<tr><td>tunde</td><td>Turcsik Tünde</td><td>tunde@gmail.com</td><td>7130 Tolna Fő út 122.</td><td>1974-02-12</td></tr>",
                            "</table>"
                        ]
                    }
                }
            ],
            "execution_count": 7
        },
        {
            "cell_type": "markdown",
            "source": [
                "Listázzuk a vendégek azonosítóját, nevét és születési dátumát!\n",
                "\n",
                "- Vegyünk fel két új oszlopot, amelyben a vendég legelső, illetve legutolsó foglalásának dátuma szerepel\n",
                "- A foglalás dátumánál a METTOL oszlopot használjuk"
            ],
            "metadata": {
                "language": "sql",
                "azdata_cell_guid": "2827ef76-b5fe-441c-ac00-5699f078c351"
            },
            "attachments": {}
        },
        {
            "cell_type": "code",
            "source": [
                "SELECT v.USERNEV as \"Felhasználó név\",\r\n",
                "        v.NEV as \"Név\",\r\n",
                "        v.SZUL_DAT as \"Szül. Dátum\",\r\n",
                "        MIN(f.METTOL) as \"Legelső foglalás\",\r\n",
                "        MAX(f.METTOL) as \"Legutolsó foglalás\"\r\n",
                "FROM Vendeg v JOIN Foglalas f ON v.USERNEV = f.UGYFEL_FK\r\n",
                "GROUP BY v.USERNEV, v.NEV, v.SZUL_DAT"
            ],
            "metadata": {
                "language": "sql",
                "azdata_cell_guid": "94404b02-bd99-4654-be1c-59342b7d3875"
            },
            "outputs": [
                {
                    "output_type": "display_data",
                    "data": {
                        "text/html": "(195 rows affected)"
                    },
                    "metadata": {}
                },
                {
                    "output_type": "display_data",
                    "data": {
                        "text/html": "Total execution time: 00:00:00.031"
                    },
                    "metadata": {}
                },
                {
                    "output_type": "execute_result",
                    "metadata": {},
                    "execution_count": 9,
                    "data": {
                        "application/vnd.dataresource+json": {
                            "schema": {
                                "fields": [
                                    {
                                        "name": "Felhasználó név"
                                    },
                                    {
                                        "name": "Név"
                                    },
                                    {
                                        "name": "Szül. Dátum"
                                    },
                                    {
                                        "name": "Legelső foglalás"
                                    },
                                    {
                                        "name": "Legutolsó foglalás"
                                    }
                                ]
                            },
                            "data": [
                                {
                                    "Felhasználó név": "adam1",
                                    "Név": "Kiss Ádám",
                                    "Szül. Dátum": "1991-12-28",
                                    "Legelső foglalás": "2016-05-28",
                                    "Legutolsó foglalás": "2016-10-19"
                                },
                                {
                                    "Felhasználó név": "adam3",
                                    "Név": "Barkóci Ádám",
                                    "Szül. Dátum": "1970-06-07",
                                    "Legelső foglalás": "2016-09-12",
                                    "Legutolsó foglalás": "2017-02-06"
                                },
                                {
                                    "Felhasználó név": "adam4",
                                    "Név": "Bieniek Ádám",
                                    "Szül. Dátum": "1976-08-01",
                                    "Legelső foglalás": "2016-08-28",
                                    "Legutolsó foglalás": "2017-02-23"
                                },
                                {
                                    "Felhasználó név": "agnes",
                                    "Név": "Lengyel Ágnes",
                                    "Szül. Dátum": "1979-12-10",
                                    "Legelső foglalás": "2016-05-09",
                                    "Legutolsó foglalás": "2016-11-07"
                                },
                                {
                                    "Felhasználó név": "agnes3",
                                    "Név": "Hartyánszky Ágnes",
                                    "Szül. Dátum": "1967-04-11",
                                    "Legelső foglalás": "2016-08-04",
                                    "Legutolsó foglalás": "2017-02-16"
                                },
                                {
                                    "Felhasználó név": "AGNESH",
                                    "Név": "Horváth Ágnes",
                                    "Szül. Dátum": "1981-12-24",
                                    "Legelső foglalás": "2016-04-10",
                                    "Legutolsó foglalás": "2017-01-16"
                                },
                                {
                                    "Felhasználó név": "AGNESK",
                                    "Név": "Kovács Ágnes",
                                    "Szül. Dátum": "1988-10-02",
                                    "Legelső foglalás": "2016-07-29",
                                    "Legutolsó foglalás": "2016-12-17"
                                },
                                {
                                    "Felhasználó név": "akos",
                                    "Név": "Bíró Ákos",
                                    "Szül. Dátum": "1982-04-24",
                                    "Legelső foglalás": "2016-05-18",
                                    "Legutolsó foglalás": "2016-12-29"
                                },
                                {
                                    "Felhasználó név": "aladar",
                                    "Név": "Dunai Aladár",
                                    "Szül. Dátum": "1980-11-01",
                                    "Legelső foglalás": "2016-05-17",
                                    "Legutolsó foglalás": "2016-11-22"
                                },
                                {
                                    "Felhasználó név": "alexandra",
                                    "Név": "Bagóczki Alexandra",
                                    "Szül. Dátum": "1992-03-25",
                                    "Legelső foglalás": "2016-05-21",
                                    "Legutolsó foglalás": "2017-01-19"
                                },
                                {
                                    "Felhasználó név": "andi",
                                    "Név": "Maródi Andrea",
                                    "Szül. Dátum": "1968-05-07",
                                    "Legelső foglalás": "2016-05-08",
                                    "Legutolsó foglalás": "2017-01-13"
                                },
                                {
                                    "Felhasználó név": "andras2",
                                    "Név": "Tóth András",
                                    "Szül. Dátum": "1997-10-31",
                                    "Legelső foglalás": "2016-05-30",
                                    "Legutolsó foglalás": "2017-02-08"
                                },
                                {
                                    "Felhasználó név": "andras21",
                                    "Név": "Molnár András",
                                    "Szül. Dátum": "1977-11-16",
                                    "Legelső foglalás": "2016-06-21",
                                    "Legutolsó foglalás": "2017-01-28"
                                },
                                {
                                    "Felhasználó név": "andras3",
                                    "Név": "Vígh András",
                                    "Szül. Dátum": "1971-04-02",
                                    "Legelső foglalás": "2016-05-01",
                                    "Legutolsó foglalás": "2017-02-02"
                                },
                                {
                                    "Felhasználó név": "andras4",
                                    "Név": "Back András",
                                    "Szül. Dátum": "1984-04-07",
                                    "Legelső foglalás": "2016-09-17",
                                    "Legutolsó foglalás": "2017-01-09"
                                },
                                {
                                    "Felhasználó név": "andras41",
                                    "Név": "Komjáti András",
                                    "Szül. Dátum": "1997-10-25",
                                    "Legelső foglalás": "2016-05-14",
                                    "Legutolsó foglalás": "2016-11-23"
                                },
                                {
                                    "Felhasználó név": "ANDRASE",
                                    "Név": "Erdei András",
                                    "Szül. Dátum": "1997-05-29",
                                    "Legelső foglalás": "2016-04-24",
                                    "Legutolsó foglalás": "2016-11-29"
                                },
                                {
                                    "Felhasználó név": "ANDRASN",
                                    "Név": "Nagy András",
                                    "Szül. Dátum": "1980-09-05",
                                    "Legelső foglalás": "2016-11-25",
                                    "Legutolsó foglalás": "2016-11-25"
                                },
                                {
                                    "Felhasználó név": "andrea",
                                    "Név": "Kiss Andrea",
                                    "Szül. Dátum": "1993-03-25",
                                    "Legelső foglalás": "2016-07-27",
                                    "Legutolsó foglalás": "2017-02-09"
                                },
                                {
                                    "Felhasználó név": "andrea3",
                                    "Név": "Szomor Andrea",
                                    "Szül. Dátum": "1996-05-10",
                                    "Legelső foglalás": "2016-11-19",
                                    "Legutolsó foglalás": "2016-11-19"
                                },
                                {
                                    "Felhasználó név": "andrea4",
                                    "Név": "Neizer Andrea",
                                    "Szül. Dátum": "1981-05-17",
                                    "Legelső foglalás": "2016-05-27",
                                    "Legutolsó foglalás": "2017-01-22"
                                },
                                {
                                    "Felhasználó név": "ANDREAT",
                                    "Név": "Tornyos Andrea",
                                    "Szül. Dátum": "1986-11-14",
                                    "Legelső foglalás": "2016-07-27",
                                    "Legutolsó foglalás": "2016-10-08"
                                },
                                {
                                    "Felhasználó név": "anett3",
                                    "Név": "Pivarcsi Anett",
                                    "Szül. Dátum": "1967-01-03",
                                    "Legelső foglalás": "2016-04-10",
                                    "Legutolsó foglalás": "2016-10-16"
                                },
                                {
                                    "Felhasználó név": "aniko",
                                    "Név": "Tóth Anikó",
                                    "Szül. Dátum": "1973-06-03",
                                    "Legelső foglalás": "2016-06-25",
                                    "Legutolsó foglalás": "2017-02-23"
                                },
                                {
                                    "Felhasználó név": "aniko4",
                                    "Név": "Böröcz Anikó",
                                    "Szül. Dátum": "1978-03-26",
                                    "Legelső foglalás": "2016-07-02",
                                    "Legutolsó foglalás": "2016-10-16"
                                },
                                {
                                    "Felhasználó név": "ANIKOS",
                                    "Név": "Simon Anikó",
                                    "Szül. Dátum": "1988-12-14",
                                    "Legelső foglalás": "2016-04-19",
                                    "Legutolsó foglalás": "2016-11-10"
                                },
                                {
                                    "Felhasználó név": "anita",
                                    "Név": "Hamvay-Kovács Anita",
                                    "Szül. Dátum": "1971-03-20",
                                    "Legelső foglalás": "2016-09-28",
                                    "Legutolsó foglalás": "2017-02-20"
                                },
                                {
                                    "Felhasználó név": "annamaria1",
                                    "Név": "Szűcs Annamária",
                                    "Szül. Dátum": "1990-04-27",
                                    "Legelső foglalás": "2016-06-06",
                                    "Legutolsó foglalás": "2017-01-30"
                                },
                                {
                                    "Felhasználó név": "ANNAMARIAR",
                                    "Név": "Regős Annamária",
                                    "Szül. Dátum": "1977-09-26",
                                    "Legelső foglalás": "2016-06-08",
                                    "Legutolsó foglalás": "2017-02-16"
                                },
                                {
                                    "Felhasználó név": "aron2",
                                    "Név": "Jakab Áron",
                                    "Szül. Dátum": "1971-04-26",
                                    "Legelső foglalás": "2016-04-11",
                                    "Legutolsó foglalás": "2017-02-26"
                                },
                                {
                                    "Felhasználó név": "ARONK",
                                    "Név": "Kelemen Áron",
                                    "Szül. Dátum": "1989-08-10",
                                    "Legelső foglalás": "2016-04-06",
                                    "Legutolsó foglalás": "2017-02-21"
                                },
                                {
                                    "Felhasználó név": "arpad2",
                                    "Név": "Ötvös Árpád",
                                    "Szül. Dátum": "1990-06-08",
                                    "Legelső foglalás": "2016-06-05",
                                    "Legutolsó foglalás": "2017-02-18"
                                },
                                {
                                    "Felhasználó név": "ARPADH",
                                    "Név": "Horváth Árpád",
                                    "Szül. Dátum": "1990-05-18",
                                    "Legelső foglalás": "2016-06-06",
                                    "Legutolsó foglalás": "2017-02-16"
                                },
                                {
                                    "Felhasználó név": "ARPADM",
                                    "Név": "Móricz Árpád",
                                    "Szül. Dátum": "1986-04-20",
                                    "Legelső foglalás": "2016-05-29",
                                    "Legutolsó foglalás": "2017-02-12"
                                },
                                {
                                    "Felhasználó név": "attila",
                                    "Név": "Csóti Attila",
                                    "Szül. Dátum": "1979-12-25",
                                    "Legelső foglalás": "2016-09-30",
                                    "Legutolsó foglalás": "2016-12-22"
                                },
                                {
                                    "Felhasználó név": "attila1",
                                    "Név": "Gulyás Attila",
                                    "Szül. Dátum": "1982-08-16",
                                    "Legelső foglalás": "2016-05-20",
                                    "Legutolsó foglalás": "2017-01-23"
                                },
                                {
                                    "Felhasználó név": "attila4",
                                    "Név": "Baróti Attila",
                                    "Szül. Dátum": "1975-11-06",
                                    "Legelső foglalás": "2016-08-18",
                                    "Legutolsó foglalás": "2017-02-15"
                                },
                                {
                                    "Felhasználó név": "ATTILAO",
                                    "Név": "Opra Attila",
                                    "Szül. Dátum": "1995-05-08",
                                    "Legelső foglalás": "2016-05-21",
                                    "Legutolsó foglalás": "2017-02-22"
                                },
                                {
                                    "Felhasználó név": "balazs1",
                                    "Név": "Bozsik Balázs",
                                    "Szül. Dátum": "1992-11-03",
                                    "Legelső foglalás": "2016-05-07",
                                    "Legutolsó foglalás": "2017-02-12"
                                },
                                {
                                    "Felhasználó név": "balazs2",
                                    "Név": "Szűcs Balázs",
                                    "Szül. Dátum": "1984-10-31",
                                    "Legelső foglalás": "2016-04-16",
                                    "Legutolsó foglalás": "2017-02-27"
                                },
                                {
                                    "Felhasználó név": "balazs3",
                                    "Név": "Bakódy Balázs",
                                    "Szül. Dátum": "1986-09-09",
                                    "Legelső foglalás": "2016-07-17",
                                    "Legutolsó foglalás": "2017-01-20"
                                },
                                {
                                    "Felhasználó név": "balint",
                                    "Név": "Horváth Bálint",
                                    "Szül. Dátum": "1996-03-17",
                                    "Legelső foglalás": "2016-04-22",
                                    "Legutolsó foglalás": "2016-11-24"
                                },
                                {
                                    "Felhasználó név": "balint1",
                                    "Név": "Molnár Bálint",
                                    "Szül. Dátum": "1989-08-24",
                                    "Legelső foglalás": "2016-06-07",
                                    "Legutolsó foglalás": "2017-01-03"
                                },
                                {
                                    "Felhasználó név": "balint2",
                                    "Név": "Vukasinovity Bálint",
                                    "Szül. Dátum": "1997-09-03",
                                    "Legelső foglalás": "2016-07-21",
                                    "Legutolsó foglalás": "2016-12-04"
                                },
                                {
                                    "Felhasználó név": "balu",
                                    "Név": "Endresz Bálint",
                                    "Szül. Dátum": "1976-08-01",
                                    "Legelső foglalás": "2016-08-06",
                                    "Legutolsó foglalás": "2016-12-22"
                                },
                                {
                                    "Felhasználó név": "beata4",
                                    "Név": "Bagi Beáta",
                                    "Szül. Dátum": "1994-03-19",
                                    "Legelső foglalás": "2016-04-20",
                                    "Legutolsó foglalás": "2016-10-03"
                                },
                                {
                                    "Felhasználó név": "BEATRIXK",
                                    "Név": "Kerényi Beatrix",
                                    "Szül. Dátum": "1972-04-06",
                                    "Legelső foglalás": "2016-06-10",
                                    "Legutolsó foglalás": "2017-02-08"
                                },
                                {
                                    "Felhasználó név": "BEATRIXS",
                                    "Név": "Szekendi Beatrix",
                                    "Szül. Dátum": "1981-04-06",
                                    "Legelső foglalás": "2016-04-18",
                                    "Legutolsó foglalás": "2017-02-03"
                                },
                                {
                                    "Felhasználó név": "BELAF",
                                    "Név": "Farkas Béla",
                                    "Szül. Dátum": "1995-02-24",
                                    "Legelső foglalás": "2016-07-27",
                                    "Legutolsó foglalás": "2016-12-06"
                                },
                                {
                                    "Felhasználó név": "bence",
                                    "Név": "Győrffy Bence",
                                    "Szül. Dátum": "1987-07-09",
                                    "Legelső foglalás": "2016-05-08",
                                    "Legutolsó foglalás": "2017-02-05"
                                },
                                {
                                    "Felhasználó név": "BENCEB",
                                    "Név": "Bajusz Bence",
                                    "Szül. Dátum": "1973-06-21",
                                    "Legelső foglalás": "2016-05-14",
                                    "Legutolsó foglalás": "2017-02-12"
                                },
                                {
                                    "Felhasználó név": "bernadett1",
                                    "Név": "Simon Bernadett",
                                    "Szül. Dátum": "1984-10-13",
                                    "Legelső foglalás": "2016-06-12",
                                    "Legutolsó foglalás": "2017-02-24"
                                },
                                {
                                    "Felhasználó név": "bernadett2",
                                    "Név": "Kovács Bernadett",
                                    "Szül. Dátum": "1996-08-20",
                                    "Legelső foglalás": "2016-05-01",
                                    "Legutolsó foglalás": "2017-01-24"
                                },
                                {
                                    "Felhasználó név": "BERNADETTO",
                                    "Név": "Orbán Bernadett",
                                    "Szül. Dátum": "1987-12-07",
                                    "Legelső foglalás": "2016-04-10",
                                    "Legutolsó foglalás": "2017-01-28"
                                },
                                {
                                    "Felhasználó név": "bertalan",
                                    "Név": "Csiger Bertalan",
                                    "Szül. Dátum": "1977-10-15",
                                    "Legelső foglalás": "2016-05-18",
                                    "Legutolsó foglalás": "2017-02-20"
                                },
                                {
                                    "Felhasználó név": "brigitta",
                                    "Név": "Székely Brigitta",
                                    "Szül. Dátum": "1978-09-13",
                                    "Legelső foglalás": "2016-05-30",
                                    "Legutolsó foglalás": "2017-01-23"
                                },
                                {
                                    "Felhasználó név": "brigitta3",
                                    "Név": "Pataki Brigitta",
                                    "Szül. Dátum": "1991-05-23",
                                    "Legelső foglalás": "2016-06-01",
                                    "Legutolsó foglalás": "2017-02-09"
                                },
                                {
                                    "Felhasználó név": "csongor3",
                                    "Név": "Nagymihály Csongor",
                                    "Szül. Dátum": "1984-03-05",
                                    "Legelső foglalás": "2016-05-01",
                                    "Legutolsó foglalás": "2017-02-13"
                                },
                                {
                                    "Felhasználó név": "dani",
                                    "Név": "Vörös Dániel",
                                    "Szül. Dátum": "1986-10-14",
                                    "Legelső foglalás": "2016-06-06",
                                    "Legutolsó foglalás": "2017-02-25"
                                },
                                {
                                    "Felhasználó név": "daniel",
                                    "Név": "Rácz Dániel",
                                    "Szül. Dátum": "1978-11-28",
                                    "Legelső foglalás": "2016-04-10",
                                    "Legutolsó foglalás": "2017-02-20"
                                },
                                {
                                    "Felhasználó név": "daniel1",
                                    "Név": "Keszler Dániel",
                                    "Szül. Dátum": "1969-07-16",
                                    "Legelső foglalás": "2016-04-10",
                                    "Legutolsó foglalás": "2017-03-01"
                                },
                                {
                                    "Felhasználó név": "david",
                                    "Név": "Ambrus Dávid",
                                    "Szül. Dátum": "1974-02-11",
                                    "Legelső foglalás": "2016-05-18",
                                    "Legutolsó foglalás": "2017-01-18"
                                },
                                {
                                    "Felhasználó név": "david1",
                                    "Név": "Sobják Dávid",
                                    "Szül. Dátum": "1970-08-16",
                                    "Legelső foglalás": "2016-09-20",
                                    "Legutolsó foglalás": "2017-02-25"
                                },
                                {
                                    "Felhasználó név": "david4",
                                    "Név": "Berta Dávid",
                                    "Szül. Dátum": "1990-10-08",
                                    "Legelső foglalás": "2017-02-16",
                                    "Legutolsó foglalás": "2017-02-16"
                                },
                                {
                                    "Felhasználó név": "debora",
                                    "Név": "Barna Debóra",
                                    "Szül. Dátum": "1976-10-14",
                                    "Legelső foglalás": "2016-06-22",
                                    "Legutolsó foglalás": "2017-02-04"
                                },
                                {
                                    "Felhasználó név": "denes",
                                    "Név": "Tömböly Dénes",
                                    "Szül. Dátum": "1975-03-14",
                                    "Legelső foglalás": "2016-05-27",
                                    "Legutolsó foglalás": "2016-11-06"
                                },
                                {
                                    "Felhasználó név": "dora3",
                                    "Név": "Sarodi Dóra",
                                    "Szül. Dátum": "1995-05-18",
                                    "Legelső foglalás": "2016-08-16",
                                    "Legutolsó foglalás": "2016-11-22"
                                },
                                {
                                    "Felhasználó név": "edit",
                                    "Név": "Bittmann Edit",
                                    "Szül. Dátum": "1984-04-20",
                                    "Legelső foglalás": "2016-07-14",
                                    "Legutolsó foglalás": "2017-02-08"
                                },
                                {
                                    "Felhasználó név": "emese",
                                    "Név": "Kuruc Emese",
                                    "Szül. Dátum": "1989-08-10",
                                    "Legelső foglalás": "2016-07-22",
                                    "Legutolsó foglalás": "2017-01-30"
                                },
                                {
                                    "Felhasználó név": "eszter",
                                    "Név": "Molnár Eszter",
                                    "Szül. Dátum": "1987-05-10",
                                    "Legelső foglalás": "2016-08-12",
                                    "Legutolsó foglalás": "2016-12-23"
                                },
                                {
                                    "Felhasználó név": "eszter2",
                                    "Név": "Balogh Eszter",
                                    "Szül. Dátum": "1998-01-31",
                                    "Legelső foglalás": "2016-06-30",
                                    "Legutolsó foglalás": "2016-12-29"
                                },
                                {
                                    "Felhasználó név": "eszter4",
                                    "Név": "Fülöp Eszter",
                                    "Szül. Dátum": "1993-06-28",
                                    "Legelső foglalás": "2017-01-05",
                                    "Legutolsó foglalás": "2017-02-26"
                                },
                                {
                                    "Felhasználó név": "ESZTERE",
                                    "Név": "Érsek Eszter",
                                    "Szül. Dátum": "1978-08-28",
                                    "Legelső foglalás": "2016-05-30",
                                    "Legutolsó foglalás": "2017-02-10"
                                },
                                {
                                    "Felhasználó név": "eva",
                                    "Név": "Enyedi Éva",
                                    "Szül. Dátum": "1967-06-30",
                                    "Legelső foglalás": "2016-10-06",
                                    "Legutolsó foglalás": "2017-01-14"
                                },
                                {
                                    "Felhasználó név": "eva2",
                                    "Név": "Perlinger Éva",
                                    "Szül. Dátum": "1971-08-19",
                                    "Legelső foglalás": "2016-09-02",
                                    "Legutolsó foglalás": "2017-01-06"
                                },
                                {
                                    "Felhasználó név": "EVAV",
                                    "Név": "Viktor Éva",
                                    "Szül. Dátum": "1980-12-26",
                                    "Legelső foglalás": "2016-05-01",
                                    "Legutolsó foglalás": "2017-02-04"
                                },
                                {
                                    "Felhasználó név": "ferenc1",
                                    "Név": "Orosz Ferenc",
                                    "Szül. Dátum": "1983-10-08",
                                    "Legelső foglalás": "2016-05-08",
                                    "Legutolsó foglalás": "2016-11-07"
                                },
                                {
                                    "Felhasználó név": "fruzsina4",
                                    "Név": "Frank Fruzsina",
                                    "Szül. Dátum": "1996-08-16",
                                    "Legelső foglalás": "2016-06-02",
                                    "Legutolsó foglalás": "2017-01-22"
                                },
                                {
                                    "Felhasználó név": "gabor1",
                                    "Név": "Köves Gábor",
                                    "Szül. Dátum": "1973-07-15",
                                    "Legelső foglalás": "2016-06-20",
                                    "Legutolsó foglalás": "2016-11-19"
                                },
                                {
                                    "Felhasználó név": "gabor4",
                                    "Név": "Telek Gábor",
                                    "Szül. Dátum": "1987-03-15",
                                    "Legelső foglalás": "2016-04-26",
                                    "Legutolsó foglalás": "2016-11-07"
                                },
                                {
                                    "Felhasználó név": "gabriella1",
                                    "Név": "Nagy Gabriella",
                                    "Szül. Dátum": "1982-11-01",
                                    "Legelső foglalás": "2016-04-21",
                                    "Legutolsó foglalás": "2017-02-21"
                                },
                                {
                                    "Felhasználó név": "gabriella10",
                                    "Név": "Vida Gabriella",
                                    "Szül. Dátum": "1969-06-18",
                                    "Legelső foglalás": "2016-10-01",
                                    "Legutolsó foglalás": "2016-10-01"
                                },
                                {
                                    "Felhasználó név": "georgij",
                                    "Név": "Nyíri Georgij",
                                    "Szül. Dátum": "1983-02-23",
                                    "Legelső foglalás": "2016-06-16",
                                    "Legutolsó foglalás": "2016-09-18"
                                },
                                {
                                    "Felhasználó név": "gusztav",
                                    "Név": "Bárci Gusztáv",
                                    "Szül. Dátum": "1967-02-25",
                                    "Legelső foglalás": "2016-05-06",
                                    "Legutolsó foglalás": "2017-02-23"
                                },
                                {
                                    "Felhasználó név": "GYONGYIK",
                                    "Név": "Kornseé Gyöngyi",
                                    "Szül. Dátum": "1974-06-07",
                                    "Legelső foglalás": "2016-06-02",
                                    "Legutolsó foglalás": "2017-01-22"
                                },
                                {
                                    "Felhasználó név": "GYORGYO",
                                    "Név": "Oroszi György",
                                    "Szül. Dátum": "1980-03-23",
                                    "Legelső foglalás": "2016-05-27",
                                    "Legutolsó foglalás": "2017-02-24"
                                },
                                {
                                    "Felhasználó név": "henrik3",
                                    "Név": "Nádudvari Henrik",
                                    "Szül. Dátum": "1986-12-05",
                                    "Legelső foglalás": "2016-08-24",
                                    "Legutolsó foglalás": "2017-01-27"
                                },
                                {
                                    "Felhasználó név": "IBOLYAA",
                                    "Név": "Andor Ibolya",
                                    "Szül. Dátum": "1983-11-27",
                                    "Legelső foglalás": "2016-08-29",
                                    "Legutolsó foglalás": "2017-01-17"
                                },
                                {
                                    "Felhasználó név": "ilona3",
                                    "Név": "Bosnyák Ilona",
                                    "Szül. Dátum": "1990-08-06",
                                    "Legelső foglalás": "2016-07-31",
                                    "Legutolsó foglalás": "2016-12-25"
                                },
                                {
                                    "Felhasználó név": "imre",
                                    "Név": "Búza Imre",
                                    "Szül. Dátum": "1988-09-30",
                                    "Legelső foglalás": "2016-09-17",
                                    "Legutolsó foglalás": "2016-10-28"
                                },
                                {
                                    "Felhasználó név": "imre1",
                                    "Név": "Papp Imre",
                                    "Szül. Dátum": "1976-06-25",
                                    "Legelső foglalás": "2016-06-23",
                                    "Legutolsó foglalás": "2017-02-05"
                                },
                                {
                                    "Felhasználó név": "istvan",
                                    "Név": "Soós István",
                                    "Szül. Dátum": "1986-06-28",
                                    "Legelső foglalás": "2016-10-07",
                                    "Legutolsó foglalás": "2017-01-02"
                                },
                                {
                                    "Felhasználó név": "istvan1",
                                    "Név": "Vizi István",
                                    "Szül. Dátum": "1997-12-01",
                                    "Legelső foglalás": "2016-04-16",
                                    "Legutolsó foglalás": "2017-02-07"
                                },
                                {
                                    "Felhasználó név": "ISTVANV",
                                    "Név": "Varga István",
                                    "Szül. Dátum": "1989-04-09",
                                    "Legelső foglalás": "2016-07-01",
                                    "Legutolsó foglalás": "2016-09-29"
                                },
                                {
                                    "Felhasználó név": "janos3",
                                    "Név": "Harangozó János",
                                    "Szül. Dátum": "1967-11-02",
                                    "Legelső foglalás": "2016-06-04",
                                    "Legutolsó foglalás": "2017-02-12"
                                },
                                {
                                    "Felhasználó név": "JANOSG",
                                    "Név": "Giliga János",
                                    "Szül. Dátum": "1975-01-03",
                                    "Legelső foglalás": "2016-05-09",
                                    "Legutolsó foglalás": "2017-01-31"
                                },
                                {
                                    "Felhasználó név": "JANOSP",
                                    "Név": "Pálinkás János",
                                    "Szül. Dátum": "1984-10-12",
                                    "Legelső foglalás": "2016-07-04",
                                    "Legutolsó foglalás": "2016-12-18"
                                },
                                {
                                    "Felhasználó név": "jozsef",
                                    "Név": "Gergely József",
                                    "Szül. Dátum": "1985-11-01",
                                    "Legelső foglalás": "2016-09-13",
                                    "Legutolsó foglalás": "2016-12-06"
                                },
                                {
                                    "Felhasználó név": "jozsef2",
                                    "Név": "Vajda József",
                                    "Szül. Dátum": "1978-09-04",
                                    "Legelső foglalás": "2016-07-06",
                                    "Legutolsó foglalás": "2016-11-25"
                                },
                                {
                                    "Felhasználó név": "JOZSEFG",
                                    "Név": "Gyuris József",
                                    "Szül. Dátum": "1975-05-26",
                                    "Legelső foglalás": "2016-05-02",
                                    "Legutolsó foglalás": "2017-02-24"
                                },
                                {
                                    "Felhasználó név": "JUDITH",
                                    "Név": "Hídasi Judit",
                                    "Szül. Dátum": "1997-07-12",
                                    "Legelső foglalás": "2016-06-06",
                                    "Legutolsó foglalás": "2016-12-19"
                                },
                                {
                                    "Felhasználó név": "julia",
                                    "Név": "Tóth Júlia",
                                    "Szül. Dátum": "1993-03-02",
                                    "Legelső foglalás": "2016-04-21",
                                    "Legutolsó foglalás": "2017-02-27"
                                },
                                {
                                    "Felhasználó név": "julia4",
                                    "Név": "Nagy Júlia",
                                    "Szül. Dátum": "1985-08-11",
                                    "Legelső foglalás": "2016-11-07",
                                    "Legutolsó foglalás": "2017-02-04"
                                },
                                {
                                    "Felhasználó név": "julianna4",
                                    "Név": "Szabó Julianna",
                                    "Szül. Dátum": "1990-09-29",
                                    "Legelső foglalás": "2016-07-20",
                                    "Legutolsó foglalás": "2016-11-27"
                                },
                                {
                                    "Felhasználó név": "kata",
                                    "Név": "Gondos Katalin",
                                    "Szül. Dátum": "1968-06-22",
                                    "Legelső foglalás": "2016-04-10",
                                    "Legutolsó foglalás": "2017-01-15"
                                },
                                {
                                    "Felhasználó név": "katalin",
                                    "Név": "Horváth Katalin",
                                    "Szül. Dátum": "1968-01-01",
                                    "Legelső foglalás": "2016-04-10",
                                    "Legutolsó foglalás": "2017-02-24"
                                },
                                {
                                    "Felhasználó név": "katalin4",
                                    "Név": "Kertész Katalin",
                                    "Szül. Dátum": "1986-04-13",
                                    "Legelső foglalás": "2016-07-01",
                                    "Legutolsó foglalás": "2017-01-24"
                                },
                                {
                                    "Felhasználó név": "kati",
                                    "Név": "Zatykó Katalin",
                                    "Szül. Dátum": "1995-05-01",
                                    "Legelső foglalás": "2016-06-06",
                                    "Legutolsó foglalás": "2016-10-30"
                                },
                                {
                                    "Felhasználó név": "katka",
                                    "Név": "Kovács Katalin",
                                    "Szül. Dátum": "1975-03-31",
                                    "Legelső foglalás": "2016-04-10",
                                    "Legutolsó foglalás": "2017-01-19"
                                },
                                {
                                    "Felhasználó név": "klaudia2",
                                    "Név": "Bakó Klaudia",
                                    "Szül. Dátum": "1982-04-16",
                                    "Legelső foglalás": "2016-06-06",
                                    "Legutolsó foglalás": "2016-10-02"
                                },
                                {
                                    "Felhasználó név": "kornel4",
                                    "Név": "Lukács Kornél",
                                    "Szül. Dátum": "1975-09-30",
                                    "Legelső foglalás": "2016-05-08",
                                    "Legutolsó foglalás": "2016-09-23"
                                },
                                {
                                    "Felhasználó név": "kristof4",
                                    "Név": "Poprádi Kristóf",
                                    "Szül. Dátum": "1984-01-15",
                                    "Legelső foglalás": "2016-04-08",
                                    "Legutolsó foglalás": "2016-09-30"
                                },
                                {
                                    "Felhasználó név": "kriszti",
                                    "Név": "Horváth Krisztina",
                                    "Szül. Dátum": "1978-06-12",
                                    "Legelső foglalás": "2016-05-19",
                                    "Legutolsó foglalás": "2017-03-03"
                                },
                                {
                                    "Felhasználó név": "krisztian4",
                                    "Név": "Czérna Krisztián",
                                    "Szül. Dátum": "1970-08-01",
                                    "Legelső foglalás": "2016-06-03",
                                    "Legutolsó foglalás": "2017-02-23"
                                },
                                {
                                    "Felhasználó név": "KRISZTIANM",
                                    "Név": "Mogyródi Krisztián",
                                    "Szül. Dátum": "1968-05-27",
                                    "Legelső foglalás": "2016-04-09",
                                    "Legutolsó foglalás": "2017-01-16"
                                },
                                {
                                    "Felhasználó név": "krisztina",
                                    "Név": "Szedlár Krisztina",
                                    "Szül. Dátum": "1979-05-10",
                                    "Legelső foglalás": "2016-05-21",
                                    "Legutolsó foglalás": "2017-02-16"
                                },
                                {
                                    "Felhasználó név": "krisztina1",
                                    "Név": "Bori Krisztina",
                                    "Szül. Dátum": "1969-10-13",
                                    "Legelső foglalás": "2016-04-28",
                                    "Legutolsó foglalás": "2017-01-21"
                                },
                                {
                                    "Felhasználó név": "KRISZTINAG",
                                    "Név": "Gyárfás Krisztina",
                                    "Szül. Dátum": "1987-09-19",
                                    "Legelső foglalás": "2016-04-23",
                                    "Legutolsó foglalás": "2017-01-25"
                                },
                                {
                                    "Felhasználó név": "lajos",
                                    "Név": "Kiss Lajos",
                                    "Szül. Dátum": "1978-10-31",
                                    "Legelső foglalás": "2016-07-18",
                                    "Legutolsó foglalás": "2017-02-12"
                                },
                                {
                                    "Felhasználó név": "lala",
                                    "Név": "Nagymihály Lajos",
                                    "Szül. Dátum": "1997-02-24",
                                    "Legelső foglalás": "2016-06-16",
                                    "Legutolsó foglalás": "2017-01-17"
                                },
                                {
                                    "Felhasználó név": "laszlo1",
                                    "Név": "Farkas László",
                                    "Szül. Dátum": "1967-10-30",
                                    "Legelső foglalás": "2016-09-23",
                                    "Legutolsó foglalás": "2016-09-23"
                                },
                                {
                                    "Felhasználó név": "laszlo2",
                                    "Név": "Móra László",
                                    "Szül. Dátum": "1975-02-19",
                                    "Legelső foglalás": "2016-04-06",
                                    "Legutolsó foglalás": "2016-11-25"
                                },
                                {
                                    "Felhasználó név": "LASZLOA",
                                    "Név": "Antal László",
                                    "Szül. Dátum": "1969-06-29",
                                    "Legelső foglalás": "2016-06-03",
                                    "Legutolsó foglalás": "2017-02-08"
                                },
                                {
                                    "Felhasználó név": "LASZLON",
                                    "Név": "Nagy László",
                                    "Szül. Dátum": "1969-04-12",
                                    "Legelső foglalás": "2016-06-03",
                                    "Legutolsó foglalás": "2017-02-18"
                                },
                                {
                                    "Felhasználó név": "maria1",
                                    "Név": "Baráth Mária",
                                    "Szül. Dátum": "1995-11-19",
                                    "Legelső foglalás": "2016-05-13",
                                    "Legutolsó foglalás": "2017-02-24"
                                },
                                {
                                    "Felhasználó név": "mark",
                                    "Név": "Kispál Márk",
                                    "Szül. Dátum": "1996-01-23",
                                    "Legelső foglalás": "2016-04-19",
                                    "Legutolsó foglalás": "2016-11-19"
                                },
                                {
                                    "Felhasználó név": "MARKH",
                                    "Név": "Horváth Márk",
                                    "Szül. Dátum": "1997-09-23",
                                    "Legelső foglalás": "2016-09-14",
                                    "Legutolsó foglalás": "2017-01-22"
                                },
                                {
                                    "Felhasználó név": "marton",
                                    "Név": "Kalacsi Márton",
                                    "Szül. Dátum": "1989-06-24",
                                    "Legelső foglalás": "2016-04-27",
                                    "Legutolsó foglalás": "2017-03-02"
                                },
                                {
                                    "Felhasználó név": "MATEK",
                                    "Név": "Koza Máté",
                                    "Szül. Dátum": "1997-02-28",
                                    "Legelső foglalás": "2016-08-17",
                                    "Legutolsó foglalás": "2017-01-16"
                                },
                                {
                                    "Felhasználó név": "matyas2",
                                    "Név": "Botka Mátyás",
                                    "Szül. Dátum": "1972-07-07",
                                    "Legelső foglalás": "2016-07-13",
                                    "Legutolsó foglalás": "2016-12-09"
                                },
                                {
                                    "Felhasználó név": "MATYASS",
                                    "Név": "Szilágyi Mátyás",
                                    "Szül. Dátum": "1975-03-22",
                                    "Legelső foglalás": "2016-05-10",
                                    "Legutolsó foglalás": "2017-01-09"
                                },
                                {
                                    "Felhasználó név": "MIHALYJ",
                                    "Név": "Juhász Mihály",
                                    "Szül. Dátum": "1979-10-12",
                                    "Legelső foglalás": "2016-05-30",
                                    "Legutolsó foglalás": "2017-02-06"
                                },
                                {
                                    "Felhasználó név": "miklos2",
                                    "Név": "Gondos Miklós",
                                    "Szül. Dátum": "1995-10-07",
                                    "Legelső foglalás": "2016-04-19",
                                    "Legutolsó foglalás": "2016-11-16"
                                },
                                {
                                    "Felhasználó név": "MIKLOSB",
                                    "Név": "Balla Miklós",
                                    "Szül. Dátum": "1979-02-16",
                                    "Legelső foglalás": "2016-06-26",
                                    "Legutolsó foglalás": "2016-12-05"
                                },
                                {
                                    "Felhasználó név": "MONIKAM",
                                    "Név": "Mohos Mónika",
                                    "Szül. Dátum": "1974-10-01",
                                    "Legelső foglalás": "2016-04-29",
                                    "Legutolsó foglalás": "2017-02-23"
                                },
                                {
                                    "Felhasználó név": "NANDORF",
                                    "Név": "Fő Nándor",
                                    "Szül. Dátum": "1968-11-12",
                                    "Legelső foglalás": "2016-04-06",
                                    "Legutolsó foglalás": "2017-02-05"
                                },
                                {
                                    "Felhasználó név": "nikolett3",
                                    "Név": "Horváth Nikolett",
                                    "Szül. Dátum": "1981-09-29",
                                    "Legelső foglalás": "2016-05-24",
                                    "Legutolsó foglalás": "2016-10-22"
                                },
                                {
                                    "Felhasználó név": "nikoletta4",
                                    "Név": "Kő Nikoletta",
                                    "Szül. Dátum": "1972-01-10",
                                    "Legelső foglalás": "2016-04-08",
                                    "Legutolsó foglalás": "2017-02-01"
                                },
                                {
                                    "Felhasználó név": "NIKOLETTAT",
                                    "Név": "Tatár Nikoletta",
                                    "Szül. Dátum": "1997-10-19",
                                    "Legelső foglalás": "2016-05-22",
                                    "Legutolsó foglalás": "2016-09-21"
                                },
                                {
                                    "Felhasználó név": "norbert",
                                    "Név": "Szűcs Norbert",
                                    "Szül. Dátum": "1969-07-17",
                                    "Legelső foglalás": "2016-07-08",
                                    "Legutolsó foglalás": "2017-02-26"
                                },
                                {
                                    "Felhasználó név": "norbert2",
                                    "Név": "Hegedűs Norbert",
                                    "Szül. Dátum": "1991-07-17",
                                    "Legelső foglalás": "2016-04-19",
                                    "Legutolsó foglalás": "2017-01-29"
                                },
                                {
                                    "Felhasználó név": "norbert4",
                                    "Név": "Mile Norbert",
                                    "Szül. Dátum": "1983-06-15",
                                    "Legelső foglalás": "2016-04-10",
                                    "Legutolsó foglalás": "2017-03-03"
                                },
                                {
                                    "Felhasználó név": "norbert5",
                                    "Név": "Béres Norbert",
                                    "Szül. Dátum": "1975-07-27",
                                    "Legelső foglalás": "2016-06-24",
                                    "Legutolsó foglalás": "2016-11-05"
                                },
                                {
                                    "Felhasználó név": "pal",
                                    "Név": "Barabás Pál",
                                    "Szül. Dátum": "1968-02-06",
                                    "Legelső foglalás": "2016-08-14",
                                    "Legutolsó foglalás": "2017-02-20"
                                },
                                {
                                    "Felhasználó név": "peter1",
                                    "Név": "Kozma Péter",
                                    "Szül. Dátum": "1976-03-18",
                                    "Legelső foglalás": "2016-07-14",
                                    "Legutolsó foglalás": "2017-02-28"
                                },
                                {
                                    "Felhasználó név": "peter2",
                                    "Név": "Bozsó Péter",
                                    "Szül. Dátum": "1976-01-26",
                                    "Legelső foglalás": "2016-07-03",
                                    "Legutolsó foglalás": "2016-11-15"
                                },
                                {
                                    "Felhasználó név": "peter3",
                                    "Név": "Szalai Péter",
                                    "Szül. Dátum": "1983-07-18",
                                    "Legelső foglalás": "2016-06-30",
                                    "Legutolsó foglalás": "2017-02-21"
                                },
                                {
                                    "Felhasználó név": "peter4",
                                    "Név": "Bíró Péter",
                                    "Szül. Dátum": "1985-09-01",
                                    "Legelső foglalás": "2016-04-12",
                                    "Legutolsó foglalás": "2017-02-05"
                                },
                                {
                                    "Felhasználó név": "PETERB",
                                    "Név": "Berendi Péter",
                                    "Szül. Dátum": "1969-01-01",
                                    "Legelső foglalás": "2016-04-06",
                                    "Legutolsó foglalás": "2016-11-17"
                                },
                                {
                                    "Felhasználó név": "polla",
                                    "Név": "Palágyi Polla",
                                    "Szül. Dátum": "1994-02-04",
                                    "Legelső foglalás": "2016-04-17",
                                    "Legutolsó foglalás": "2017-02-11"
                                },
                                {
                                    "Felhasználó név": "rajmond4",
                                    "Név": "Rácz Rajmond",
                                    "Szül. Dátum": "1993-09-25",
                                    "Legelső foglalás": "2016-09-05",
                                    "Legutolsó foglalás": "2016-11-16"
                                },
                                {
                                    "Felhasználó név": "reka4",
                                    "Név": "Szikszai Réka",
                                    "Szül. Dátum": "1969-11-27",
                                    "Legelső foglalás": "2016-07-27",
                                    "Legutolsó foglalás": "2017-02-26"
                                },
                                {
                                    "Felhasználó név": "RENATAK",
                                    "Név": "Kardos Renáta",
                                    "Szül. Dátum": "1988-05-17",
                                    "Legelső foglalás": "2016-10-27",
                                    "Legutolsó foglalás": "2017-03-01"
                                },
                                {
                                    "Felhasználó név": "RENATAS",
                                    "Név": "Szirmai Renáta",
                                    "Szül. Dátum": "1991-03-26",
                                    "Legelső foglalás": "2016-05-04",
                                    "Legutolsó foglalás": "2017-02-14"
                                },
                                {
                                    "Felhasználó név": "robert2",
                                    "Név": "Patay Róbert",
                                    "Szül. Dátum": "1977-01-08",
                                    "Legelső foglalás": "2016-05-15",
                                    "Legutolsó foglalás": "2016-12-17"
                                },
                                {
                                    "Felhasználó név": "ROBERTI",
                                    "Név": "Iván Róbert",
                                    "Szül. Dátum": "1967-07-02",
                                    "Legelső foglalás": "2016-07-12",
                                    "Legutolsó foglalás": "2017-02-17"
                                },
                                {
                                    "Felhasználó név": "ROBERTP",
                                    "Név": "Pásztor Róbert",
                                    "Szül. Dátum": "1972-05-16",
                                    "Legelső foglalás": "2016-07-30",
                                    "Legutolsó foglalás": "2016-09-08"
                                },
                                {
                                    "Felhasználó név": "roland",
                                    "Név": "Tóth Roland",
                                    "Szül. Dátum": "1968-03-21",
                                    "Legelső foglalás": "2016-06-09",
                                    "Legutolsó foglalás": "2016-11-19"
                                },
                                {
                                    "Felhasználó név": "roland1",
                                    "Név": "Ferencz Roland",
                                    "Szül. Dátum": "1985-12-31",
                                    "Legelső foglalás": "2016-11-05",
                                    "Legutolsó foglalás": "2017-01-16"
                                },
                                {
                                    "Felhasználó név": "roza2",
                                    "Név": "Bucskó Róza",
                                    "Szül. Dátum": "1988-12-26",
                                    "Legelső foglalás": "2016-09-10",
                                    "Legutolsó foglalás": "2017-02-18"
                                },
                                {
                                    "Felhasználó név": "sandor",
                                    "Név": "Karasz Sándor",
                                    "Szül. Dátum": "1970-01-27",
                                    "Legelső foglalás": "2016-07-04",
                                    "Legutolsó foglalás": "2016-09-19"
                                },
                                {
                                    "Felhasználó név": "sandor3",
                                    "Név": "Farkas Sándor",
                                    "Szül. Dátum": "1989-01-27",
                                    "Legelső foglalás": "2016-05-12",
                                    "Legutolsó foglalás": "2016-11-10"
                                },
                                {
                                    "Felhasználó név": "sandor4",
                                    "Név": "Nagy Sándor",
                                    "Szül. Dátum": "1997-06-11",
                                    "Legelső foglalás": "2016-10-15",
                                    "Legutolsó foglalás": "2017-01-22"
                                },
                                {
                                    "Felhasználó név": "sara",
                                    "Név": "Farkas Sára",
                                    "Szül. Dátum": "1973-04-05",
                                    "Legelső foglalás": "2016-05-28",
                                    "Legutolsó foglalás": "2016-12-25"
                                },
                                {
                                    "Felhasználó név": "SEBASTIANF",
                                    "Név": "Foltényi Sebastián",
                                    "Szül. Dátum": "1992-09-09",
                                    "Legelső foglalás": "2016-04-06",
                                    "Legutolsó foglalás": "2016-09-17"
                                },
                                {
                                    "Felhasználó név": "sebestyen",
                                    "Név": "Rab Sebestyén",
                                    "Szül. Dátum": "1992-03-03",
                                    "Legelső foglalás": "2016-04-07",
                                    "Legutolsó foglalás": "2016-10-26"
                                },
                                {
                                    "Felhasználó név": "szabolcs",
                                    "Név": "Bodor Szabolcs",
                                    "Szül. Dátum": "1990-07-16",
                                    "Legelső foglalás": "2016-12-05",
                                    "Legutolsó foglalás": "2016-12-05"
                                },
                                {
                                    "Felhasználó név": "SZABOLCSM",
                                    "Név": "Miklós Szabolcs",
                                    "Szül. Dátum": "1980-08-11",
                                    "Legelső foglalás": "2016-06-18",
                                    "Legutolsó foglalás": "2017-02-04"
                                },
                                {
                                    "Felhasználó név": "SZILARDS",
                                    "Név": "Szalai Szilárd",
                                    "Szül. Dátum": "1967-09-28",
                                    "Legelső foglalás": "2016-04-23",
                                    "Legutolsó foglalás": "2017-02-08"
                                },
                                {
                                    "Felhasználó név": "szilvia1",
                                    "Név": "Tari Szilvia",
                                    "Szül. Dátum": "1971-03-09",
                                    "Legelső foglalás": "2016-05-14",
                                    "Legutolsó foglalás": "2017-01-28"
                                },
                                {
                                    "Felhasználó név": "tamara2",
                                    "Név": "Miklós Tamara",
                                    "Szül. Dátum": "1980-08-11",
                                    "Legelső foglalás": "2016-08-12",
                                    "Legutolsó foglalás": "2016-11-15"
                                },
                                {
                                    "Felhasználó név": "tamas",
                                    "Név": "Antal Tamás",
                                    "Szül. Dátum": "1984-09-05",
                                    "Legelső foglalás": "2016-05-17",
                                    "Legutolsó foglalás": "2017-02-14"
                                },
                                {
                                    "Felhasználó név": "TAMASF",
                                    "Név": "Fényes Tamás",
                                    "Szül. Dátum": "1997-11-06",
                                    "Legelső foglalás": "2016-05-03",
                                    "Legutolsó foglalás": "2017-02-16"
                                },
                                {
                                    "Felhasználó név": "tibor",
                                    "Név": "Gombos Tibor",
                                    "Szül. Dátum": "1993-11-28",
                                    "Legelső foglalás": "2016-10-09",
                                    "Legutolsó foglalás": "2016-11-05"
                                },
                                {
                                    "Felhasználó név": "tibor2",
                                    "Név": "Dániel Tibor",
                                    "Szül. Dátum": "1985-02-02",
                                    "Legelső foglalás": "2016-10-20",
                                    "Legutolsó foglalás": "2016-10-20"
                                },
                                {
                                    "Felhasználó név": "tihamer",
                                    "Név": "Kazy Tihamér",
                                    "Szül. Dátum": "1991-07-05",
                                    "Legelső foglalás": "2016-05-30",
                                    "Legutolsó foglalás": "2016-12-25"
                                },
                                {
                                    "Felhasználó név": "timea",
                                    "Név": "Papós Tímea",
                                    "Szül. Dátum": "1996-01-08",
                                    "Legelső foglalás": "2016-12-26",
                                    "Legutolsó foglalás": "2016-12-26"
                                },
                                {
                                    "Felhasználó név": "timea2",
                                    "Név": "Dusha Tímea",
                                    "Szül. Dátum": "1975-08-22",
                                    "Legelső foglalás": "2016-06-06",
                                    "Legutolsó foglalás": "2016-12-14"
                                },
                                {
                                    "Felhasználó név": "tunde",
                                    "Név": "Turcsik Tünde",
                                    "Szül. Dátum": "1974-02-12",
                                    "Legelső foglalás": "2016-06-03",
                                    "Legutolsó foglalás": "2017-01-03"
                                },
                                {
                                    "Felhasználó név": "valentin",
                                    "Név": "Feró Valentin",
                                    "Szül. Dátum": "1986-01-09",
                                    "Legelső foglalás": "2016-05-24",
                                    "Legutolsó foglalás": "2016-12-01"
                                },
                                {
                                    "Felhasználó név": "veronika4",
                                    "Név": "Tankó Veronika",
                                    "Szül. Dátum": "1983-08-28",
                                    "Legelső foglalás": "2016-05-30",
                                    "Legutolsó foglalás": "2017-02-03"
                                },
                                {
                                    "Felhasználó név": "VIKTORIAU",
                                    "Név": "Urbán Viktoria",
                                    "Szül. Dátum": "1996-05-03",
                                    "Legelső foglalás": "2016-04-30",
                                    "Legutolsó foglalás": "2016-10-26"
                                },
                                {
                                    "Felhasználó név": "VIKTORK",
                                    "Név": "Keresztúri Viktor",
                                    "Szül. Dátum": "1989-05-05",
                                    "Legelső foglalás": "2016-05-30",
                                    "Legutolsó foglalás": "2016-06-06"
                                },
                                {
                                    "Felhasználó név": "vivien3",
                                    "Név": "Boros Vivien",
                                    "Szül. Dátum": "1991-07-01",
                                    "Legelső foglalás": "2016-05-02",
                                    "Legutolsó foglalás": "2016-12-24"
                                },
                                {
                                    "Felhasználó név": "zoltan",
                                    "Név": "Fodor Zoltán",
                                    "Szül. Dátum": "1979-11-25",
                                    "Legelső foglalás": "2016-08-24",
                                    "Legutolsó foglalás": "2016-09-05"
                                },
                                {
                                    "Felhasználó név": "zoltan4",
                                    "Név": "Barna Zoltán",
                                    "Szül. Dátum": "1986-05-20",
                                    "Legelső foglalás": "2016-05-12",
                                    "Legutolsó foglalás": "2017-01-01"
                                },
                                {
                                    "Felhasználó név": "ZOLTANP",
                                    "Név": "Pintér Zoltán",
                                    "Szül. Dátum": "1977-06-07",
                                    "Legelső foglalás": "2016-06-05",
                                    "Legutolsó foglalás": "2016-12-25"
                                },
                                {
                                    "Felhasználó név": "ZOLTANT",
                                    "Név": "Tóth Zoltán",
                                    "Szül. Dátum": "1985-12-14",
                                    "Legelső foglalás": "2016-05-01",
                                    "Legutolsó foglalás": "2017-01-16"
                                },
                                {
                                    "Felhasználó név": "zsofi1",
                                    "Név": "Molnár Zsófi",
                                    "Szül. Dátum": "1983-11-17",
                                    "Legelső foglalás": "2016-06-16",
                                    "Legutolsó foglalás": "2017-02-18"
                                },
                                {
                                    "Felhasználó név": "zsolt1",
                                    "Név": "Pulai Zsolt",
                                    "Szül. Dátum": "1988-05-27",
                                    "Legelső foglalás": "2016-04-14",
                                    "Legutolsó foglalás": "2016-07-31"
                                },
                                {
                                    "Felhasználó név": "ZSOLTJ",
                                    "Név": "Józsa Zsolt",
                                    "Szül. Dátum": "1983-09-29",
                                    "Legelső foglalás": "2016-04-24",
                                    "Legutolsó foglalás": "2016-10-01"
                                },
                                {
                                    "Felhasználó név": "zsuzsa",
                                    "Név": "Pusztai Zsuzsanna",
                                    "Szül. Dátum": "1980-09-17",
                                    "Legelső foglalás": "2016-07-24",
                                    "Legutolsó foglalás": "2016-11-28"
                                },
                                {
                                    "Felhasználó név": "zsuzsa3",
                                    "Név": "Varsányi Zsuzsa",
                                    "Szül. Dátum": "1979-03-06",
                                    "Legelső foglalás": "2016-07-30",
                                    "Legutolsó foglalás": "2016-10-27"
                                },
                                {
                                    "Felhasználó név": "zsuzsanna",
                                    "Név": "Barta Zsuzsanna",
                                    "Szül. Dátum": "1994-10-07",
                                    "Legelső foglalás": "2016-05-17",
                                    "Legutolsó foglalás": "2017-01-16"
                                },
                                {
                                    "Felhasználó név": "ZSUZSAV",
                                    "Név": "Vajda Zsuzsa",
                                    "Szül. Dátum": "1976-12-11",
                                    "Legelső foglalás": "2016-04-14",
                                    "Legutolsó foglalás": "2016-11-21"
                                }
                            ]
                        },
                        "text/html": [
                            "<table>",
                            "<tr><th>Felhasználó név</th><th>Név</th><th>Szül. Dátum</th><th>Legelső foglalás</th><th>Legutolsó foglalás</th></tr>",
                            "<tr><td>adam1</td><td>Kiss Ádám</td><td>1991-12-28</td><td>2016-05-28</td><td>2016-10-19</td></tr>",
                            "<tr><td>adam3</td><td>Barkóci Ádám</td><td>1970-06-07</td><td>2016-09-12</td><td>2017-02-06</td></tr>",
                            "<tr><td>adam4</td><td>Bieniek Ádám</td><td>1976-08-01</td><td>2016-08-28</td><td>2017-02-23</td></tr>",
                            "<tr><td>agnes</td><td>Lengyel Ágnes</td><td>1979-12-10</td><td>2016-05-09</td><td>2016-11-07</td></tr>",
                            "<tr><td>agnes3</td><td>Hartyánszky Ágnes</td><td>1967-04-11</td><td>2016-08-04</td><td>2017-02-16</td></tr>",
                            "<tr><td>AGNESH</td><td>Horváth Ágnes</td><td>1981-12-24</td><td>2016-04-10</td><td>2017-01-16</td></tr>",
                            "<tr><td>AGNESK</td><td>Kovács Ágnes</td><td>1988-10-02</td><td>2016-07-29</td><td>2016-12-17</td></tr>",
                            "<tr><td>akos</td><td>Bíró Ákos</td><td>1982-04-24</td><td>2016-05-18</td><td>2016-12-29</td></tr>",
                            "<tr><td>aladar</td><td>Dunai Aladár</td><td>1980-11-01</td><td>2016-05-17</td><td>2016-11-22</td></tr>",
                            "<tr><td>alexandra</td><td>Bagóczki Alexandra</td><td>1992-03-25</td><td>2016-05-21</td><td>2017-01-19</td></tr>",
                            "<tr><td>andi</td><td>Maródi Andrea</td><td>1968-05-07</td><td>2016-05-08</td><td>2017-01-13</td></tr>",
                            "<tr><td>andras2</td><td>Tóth András</td><td>1997-10-31</td><td>2016-05-30</td><td>2017-02-08</td></tr>",
                            "<tr><td>andras21</td><td>Molnár András</td><td>1977-11-16</td><td>2016-06-21</td><td>2017-01-28</td></tr>",
                            "<tr><td>andras3</td><td>Vígh András</td><td>1971-04-02</td><td>2016-05-01</td><td>2017-02-02</td></tr>",
                            "<tr><td>andras4</td><td>Back András</td><td>1984-04-07</td><td>2016-09-17</td><td>2017-01-09</td></tr>",
                            "<tr><td>andras41</td><td>Komjáti András</td><td>1997-10-25</td><td>2016-05-14</td><td>2016-11-23</td></tr>",
                            "<tr><td>ANDRASE</td><td>Erdei András</td><td>1997-05-29</td><td>2016-04-24</td><td>2016-11-29</td></tr>",
                            "<tr><td>ANDRASN</td><td>Nagy András</td><td>1980-09-05</td><td>2016-11-25</td><td>2016-11-25</td></tr>",
                            "<tr><td>andrea</td><td>Kiss Andrea</td><td>1993-03-25</td><td>2016-07-27</td><td>2017-02-09</td></tr>",
                            "<tr><td>andrea3</td><td>Szomor Andrea</td><td>1996-05-10</td><td>2016-11-19</td><td>2016-11-19</td></tr>",
                            "<tr><td>andrea4</td><td>Neizer Andrea</td><td>1981-05-17</td><td>2016-05-27</td><td>2017-01-22</td></tr>",
                            "<tr><td>ANDREAT</td><td>Tornyos Andrea</td><td>1986-11-14</td><td>2016-07-27</td><td>2016-10-08</td></tr>",
                            "<tr><td>anett3</td><td>Pivarcsi Anett</td><td>1967-01-03</td><td>2016-04-10</td><td>2016-10-16</td></tr>",
                            "<tr><td>aniko</td><td>Tóth Anikó</td><td>1973-06-03</td><td>2016-06-25</td><td>2017-02-23</td></tr>",
                            "<tr><td>aniko4</td><td>Böröcz Anikó</td><td>1978-03-26</td><td>2016-07-02</td><td>2016-10-16</td></tr>",
                            "<tr><td>ANIKOS</td><td>Simon Anikó</td><td>1988-12-14</td><td>2016-04-19</td><td>2016-11-10</td></tr>",
                            "<tr><td>anita</td><td>Hamvay-Kovács Anita</td><td>1971-03-20</td><td>2016-09-28</td><td>2017-02-20</td></tr>",
                            "<tr><td>annamaria1</td><td>Szűcs Annamária</td><td>1990-04-27</td><td>2016-06-06</td><td>2017-01-30</td></tr>",
                            "<tr><td>ANNAMARIAR</td><td>Regős Annamária</td><td>1977-09-26</td><td>2016-06-08</td><td>2017-02-16</td></tr>",
                            "<tr><td>aron2</td><td>Jakab Áron</td><td>1971-04-26</td><td>2016-04-11</td><td>2017-02-26</td></tr>",
                            "<tr><td>ARONK</td><td>Kelemen Áron</td><td>1989-08-10</td><td>2016-04-06</td><td>2017-02-21</td></tr>",
                            "<tr><td>arpad2</td><td>Ötvös Árpád</td><td>1990-06-08</td><td>2016-06-05</td><td>2017-02-18</td></tr>",
                            "<tr><td>ARPADH</td><td>Horváth Árpád</td><td>1990-05-18</td><td>2016-06-06</td><td>2017-02-16</td></tr>",
                            "<tr><td>ARPADM</td><td>Móricz Árpád</td><td>1986-04-20</td><td>2016-05-29</td><td>2017-02-12</td></tr>",
                            "<tr><td>attila</td><td>Csóti Attila</td><td>1979-12-25</td><td>2016-09-30</td><td>2016-12-22</td></tr>",
                            "<tr><td>attila1</td><td>Gulyás Attila</td><td>1982-08-16</td><td>2016-05-20</td><td>2017-01-23</td></tr>",
                            "<tr><td>attila4</td><td>Baróti Attila</td><td>1975-11-06</td><td>2016-08-18</td><td>2017-02-15</td></tr>",
                            "<tr><td>ATTILAO</td><td>Opra Attila</td><td>1995-05-08</td><td>2016-05-21</td><td>2017-02-22</td></tr>",
                            "<tr><td>balazs1</td><td>Bozsik Balázs</td><td>1992-11-03</td><td>2016-05-07</td><td>2017-02-12</td></tr>",
                            "<tr><td>balazs2</td><td>Szűcs Balázs</td><td>1984-10-31</td><td>2016-04-16</td><td>2017-02-27</td></tr>",
                            "<tr><td>balazs3</td><td>Bakódy Balázs</td><td>1986-09-09</td><td>2016-07-17</td><td>2017-01-20</td></tr>",
                            "<tr><td>balint</td><td>Horváth Bálint</td><td>1996-03-17</td><td>2016-04-22</td><td>2016-11-24</td></tr>",
                            "<tr><td>balint1</td><td>Molnár Bálint</td><td>1989-08-24</td><td>2016-06-07</td><td>2017-01-03</td></tr>",
                            "<tr><td>balint2</td><td>Vukasinovity Bálint</td><td>1997-09-03</td><td>2016-07-21</td><td>2016-12-04</td></tr>",
                            "<tr><td>balu</td><td>Endresz Bálint</td><td>1976-08-01</td><td>2016-08-06</td><td>2016-12-22</td></tr>",
                            "<tr><td>beata4</td><td>Bagi Beáta</td><td>1994-03-19</td><td>2016-04-20</td><td>2016-10-03</td></tr>",
                            "<tr><td>BEATRIXK</td><td>Kerényi Beatrix</td><td>1972-04-06</td><td>2016-06-10</td><td>2017-02-08</td></tr>",
                            "<tr><td>BEATRIXS</td><td>Szekendi Beatrix</td><td>1981-04-06</td><td>2016-04-18</td><td>2017-02-03</td></tr>",
                            "<tr><td>BELAF</td><td>Farkas Béla</td><td>1995-02-24</td><td>2016-07-27</td><td>2016-12-06</td></tr>",
                            "<tr><td>bence</td><td>Győrffy Bence</td><td>1987-07-09</td><td>2016-05-08</td><td>2017-02-05</td></tr>",
                            "<tr><td>BENCEB</td><td>Bajusz Bence</td><td>1973-06-21</td><td>2016-05-14</td><td>2017-02-12</td></tr>",
                            "<tr><td>bernadett1</td><td>Simon Bernadett</td><td>1984-10-13</td><td>2016-06-12</td><td>2017-02-24</td></tr>",
                            "<tr><td>bernadett2</td><td>Kovács Bernadett</td><td>1996-08-20</td><td>2016-05-01</td><td>2017-01-24</td></tr>",
                            "<tr><td>BERNADETTO</td><td>Orbán Bernadett</td><td>1987-12-07</td><td>2016-04-10</td><td>2017-01-28</td></tr>",
                            "<tr><td>bertalan</td><td>Csiger Bertalan</td><td>1977-10-15</td><td>2016-05-18</td><td>2017-02-20</td></tr>",
                            "<tr><td>brigitta</td><td>Székely Brigitta</td><td>1978-09-13</td><td>2016-05-30</td><td>2017-01-23</td></tr>",
                            "<tr><td>brigitta3</td><td>Pataki Brigitta</td><td>1991-05-23</td><td>2016-06-01</td><td>2017-02-09</td></tr>",
                            "<tr><td>csongor3</td><td>Nagymihály Csongor</td><td>1984-03-05</td><td>2016-05-01</td><td>2017-02-13</td></tr>",
                            "<tr><td>dani</td><td>Vörös Dániel</td><td>1986-10-14</td><td>2016-06-06</td><td>2017-02-25</td></tr>",
                            "<tr><td>daniel</td><td>Rácz Dániel</td><td>1978-11-28</td><td>2016-04-10</td><td>2017-02-20</td></tr>",
                            "<tr><td>daniel1</td><td>Keszler Dániel</td><td>1969-07-16</td><td>2016-04-10</td><td>2017-03-01</td></tr>",
                            "<tr><td>david</td><td>Ambrus Dávid</td><td>1974-02-11</td><td>2016-05-18</td><td>2017-01-18</td></tr>",
                            "<tr><td>david1</td><td>Sobják Dávid</td><td>1970-08-16</td><td>2016-09-20</td><td>2017-02-25</td></tr>",
                            "<tr><td>david4</td><td>Berta Dávid</td><td>1990-10-08</td><td>2017-02-16</td><td>2017-02-16</td></tr>",
                            "<tr><td>debora</td><td>Barna Debóra</td><td>1976-10-14</td><td>2016-06-22</td><td>2017-02-04</td></tr>",
                            "<tr><td>denes</td><td>Tömböly Dénes</td><td>1975-03-14</td><td>2016-05-27</td><td>2016-11-06</td></tr>",
                            "<tr><td>dora3</td><td>Sarodi Dóra</td><td>1995-05-18</td><td>2016-08-16</td><td>2016-11-22</td></tr>",
                            "<tr><td>edit</td><td>Bittmann Edit</td><td>1984-04-20</td><td>2016-07-14</td><td>2017-02-08</td></tr>",
                            "<tr><td>emese</td><td>Kuruc Emese</td><td>1989-08-10</td><td>2016-07-22</td><td>2017-01-30</td></tr>",
                            "<tr><td>eszter</td><td>Molnár Eszter</td><td>1987-05-10</td><td>2016-08-12</td><td>2016-12-23</td></tr>",
                            "<tr><td>eszter2</td><td>Balogh Eszter</td><td>1998-01-31</td><td>2016-06-30</td><td>2016-12-29</td></tr>",
                            "<tr><td>eszter4</td><td>Fülöp Eszter</td><td>1993-06-28</td><td>2017-01-05</td><td>2017-02-26</td></tr>",
                            "<tr><td>ESZTERE</td><td>Érsek Eszter</td><td>1978-08-28</td><td>2016-05-30</td><td>2017-02-10</td></tr>",
                            "<tr><td>eva</td><td>Enyedi Éva</td><td>1967-06-30</td><td>2016-10-06</td><td>2017-01-14</td></tr>",
                            "<tr><td>eva2</td><td>Perlinger Éva</td><td>1971-08-19</td><td>2016-09-02</td><td>2017-01-06</td></tr>",
                            "<tr><td>EVAV</td><td>Viktor Éva</td><td>1980-12-26</td><td>2016-05-01</td><td>2017-02-04</td></tr>",
                            "<tr><td>ferenc1</td><td>Orosz Ferenc</td><td>1983-10-08</td><td>2016-05-08</td><td>2016-11-07</td></tr>",
                            "<tr><td>fruzsina4</td><td>Frank Fruzsina</td><td>1996-08-16</td><td>2016-06-02</td><td>2017-01-22</td></tr>",
                            "<tr><td>gabor1</td><td>Köves Gábor</td><td>1973-07-15</td><td>2016-06-20</td><td>2016-11-19</td></tr>",
                            "<tr><td>gabor4</td><td>Telek Gábor</td><td>1987-03-15</td><td>2016-04-26</td><td>2016-11-07</td></tr>",
                            "<tr><td>gabriella1</td><td>Nagy Gabriella</td><td>1982-11-01</td><td>2016-04-21</td><td>2017-02-21</td></tr>",
                            "<tr><td>gabriella10</td><td>Vida Gabriella</td><td>1969-06-18</td><td>2016-10-01</td><td>2016-10-01</td></tr>",
                            "<tr><td>georgij</td><td>Nyíri Georgij</td><td>1983-02-23</td><td>2016-06-16</td><td>2016-09-18</td></tr>",
                            "<tr><td>gusztav</td><td>Bárci Gusztáv</td><td>1967-02-25</td><td>2016-05-06</td><td>2017-02-23</td></tr>",
                            "<tr><td>GYONGYIK</td><td>Kornseé Gyöngyi</td><td>1974-06-07</td><td>2016-06-02</td><td>2017-01-22</td></tr>",
                            "<tr><td>GYORGYO</td><td>Oroszi György</td><td>1980-03-23</td><td>2016-05-27</td><td>2017-02-24</td></tr>",
                            "<tr><td>henrik3</td><td>Nádudvari Henrik</td><td>1986-12-05</td><td>2016-08-24</td><td>2017-01-27</td></tr>",
                            "<tr><td>IBOLYAA</td><td>Andor Ibolya</td><td>1983-11-27</td><td>2016-08-29</td><td>2017-01-17</td></tr>",
                            "<tr><td>ilona3</td><td>Bosnyák Ilona</td><td>1990-08-06</td><td>2016-07-31</td><td>2016-12-25</td></tr>",
                            "<tr><td>imre</td><td>Búza Imre</td><td>1988-09-30</td><td>2016-09-17</td><td>2016-10-28</td></tr>",
                            "<tr><td>imre1</td><td>Papp Imre</td><td>1976-06-25</td><td>2016-06-23</td><td>2017-02-05</td></tr>",
                            "<tr><td>istvan</td><td>Soós István</td><td>1986-06-28</td><td>2016-10-07</td><td>2017-01-02</td></tr>",
                            "<tr><td>istvan1</td><td>Vizi István</td><td>1997-12-01</td><td>2016-04-16</td><td>2017-02-07</td></tr>",
                            "<tr><td>ISTVANV</td><td>Varga István</td><td>1989-04-09</td><td>2016-07-01</td><td>2016-09-29</td></tr>",
                            "<tr><td>janos3</td><td>Harangozó János</td><td>1967-11-02</td><td>2016-06-04</td><td>2017-02-12</td></tr>",
                            "<tr><td>JANOSG</td><td>Giliga János</td><td>1975-01-03</td><td>2016-05-09</td><td>2017-01-31</td></tr>",
                            "<tr><td>JANOSP</td><td>Pálinkás János</td><td>1984-10-12</td><td>2016-07-04</td><td>2016-12-18</td></tr>",
                            "<tr><td>jozsef</td><td>Gergely József</td><td>1985-11-01</td><td>2016-09-13</td><td>2016-12-06</td></tr>",
                            "<tr><td>jozsef2</td><td>Vajda József</td><td>1978-09-04</td><td>2016-07-06</td><td>2016-11-25</td></tr>",
                            "<tr><td>JOZSEFG</td><td>Gyuris József</td><td>1975-05-26</td><td>2016-05-02</td><td>2017-02-24</td></tr>",
                            "<tr><td>JUDITH</td><td>Hídasi Judit</td><td>1997-07-12</td><td>2016-06-06</td><td>2016-12-19</td></tr>",
                            "<tr><td>julia</td><td>Tóth Júlia</td><td>1993-03-02</td><td>2016-04-21</td><td>2017-02-27</td></tr>",
                            "<tr><td>julia4</td><td>Nagy Júlia</td><td>1985-08-11</td><td>2016-11-07</td><td>2017-02-04</td></tr>",
                            "<tr><td>julianna4</td><td>Szabó Julianna</td><td>1990-09-29</td><td>2016-07-20</td><td>2016-11-27</td></tr>",
                            "<tr><td>kata</td><td>Gondos Katalin</td><td>1968-06-22</td><td>2016-04-10</td><td>2017-01-15</td></tr>",
                            "<tr><td>katalin</td><td>Horváth Katalin</td><td>1968-01-01</td><td>2016-04-10</td><td>2017-02-24</td></tr>",
                            "<tr><td>katalin4</td><td>Kertész Katalin</td><td>1986-04-13</td><td>2016-07-01</td><td>2017-01-24</td></tr>",
                            "<tr><td>kati</td><td>Zatykó Katalin</td><td>1995-05-01</td><td>2016-06-06</td><td>2016-10-30</td></tr>",
                            "<tr><td>katka</td><td>Kovács Katalin</td><td>1975-03-31</td><td>2016-04-10</td><td>2017-01-19</td></tr>",
                            "<tr><td>klaudia2</td><td>Bakó Klaudia</td><td>1982-04-16</td><td>2016-06-06</td><td>2016-10-02</td></tr>",
                            "<tr><td>kornel4</td><td>Lukács Kornél</td><td>1975-09-30</td><td>2016-05-08</td><td>2016-09-23</td></tr>",
                            "<tr><td>kristof4</td><td>Poprádi Kristóf</td><td>1984-01-15</td><td>2016-04-08</td><td>2016-09-30</td></tr>",
                            "<tr><td>kriszti</td><td>Horváth Krisztina</td><td>1978-06-12</td><td>2016-05-19</td><td>2017-03-03</td></tr>",
                            "<tr><td>krisztian4</td><td>Czérna Krisztián</td><td>1970-08-01</td><td>2016-06-03</td><td>2017-02-23</td></tr>",
                            "<tr><td>KRISZTIANM</td><td>Mogyródi Krisztián</td><td>1968-05-27</td><td>2016-04-09</td><td>2017-01-16</td></tr>",
                            "<tr><td>krisztina</td><td>Szedlár Krisztina</td><td>1979-05-10</td><td>2016-05-21</td><td>2017-02-16</td></tr>",
                            "<tr><td>krisztina1</td><td>Bori Krisztina</td><td>1969-10-13</td><td>2016-04-28</td><td>2017-01-21</td></tr>",
                            "<tr><td>KRISZTINAG</td><td>Gyárfás Krisztina</td><td>1987-09-19</td><td>2016-04-23</td><td>2017-01-25</td></tr>",
                            "<tr><td>lajos</td><td>Kiss Lajos</td><td>1978-10-31</td><td>2016-07-18</td><td>2017-02-12</td></tr>",
                            "<tr><td>lala</td><td>Nagymihály Lajos</td><td>1997-02-24</td><td>2016-06-16</td><td>2017-01-17</td></tr>",
                            "<tr><td>laszlo1</td><td>Farkas László</td><td>1967-10-30</td><td>2016-09-23</td><td>2016-09-23</td></tr>",
                            "<tr><td>laszlo2</td><td>Móra László</td><td>1975-02-19</td><td>2016-04-06</td><td>2016-11-25</td></tr>",
                            "<tr><td>LASZLOA</td><td>Antal László</td><td>1969-06-29</td><td>2016-06-03</td><td>2017-02-08</td></tr>",
                            "<tr><td>LASZLON</td><td>Nagy László</td><td>1969-04-12</td><td>2016-06-03</td><td>2017-02-18</td></tr>",
                            "<tr><td>maria1</td><td>Baráth Mária</td><td>1995-11-19</td><td>2016-05-13</td><td>2017-02-24</td></tr>",
                            "<tr><td>mark</td><td>Kispál Márk</td><td>1996-01-23</td><td>2016-04-19</td><td>2016-11-19</td></tr>",
                            "<tr><td>MARKH</td><td>Horváth Márk</td><td>1997-09-23</td><td>2016-09-14</td><td>2017-01-22</td></tr>",
                            "<tr><td>marton</td><td>Kalacsi Márton</td><td>1989-06-24</td><td>2016-04-27</td><td>2017-03-02</td></tr>",
                            "<tr><td>MATEK</td><td>Koza Máté</td><td>1997-02-28</td><td>2016-08-17</td><td>2017-01-16</td></tr>",
                            "<tr><td>matyas2</td><td>Botka Mátyás</td><td>1972-07-07</td><td>2016-07-13</td><td>2016-12-09</td></tr>",
                            "<tr><td>MATYASS</td><td>Szilágyi Mátyás</td><td>1975-03-22</td><td>2016-05-10</td><td>2017-01-09</td></tr>",
                            "<tr><td>MIHALYJ</td><td>Juhász Mihály</td><td>1979-10-12</td><td>2016-05-30</td><td>2017-02-06</td></tr>",
                            "<tr><td>miklos2</td><td>Gondos Miklós</td><td>1995-10-07</td><td>2016-04-19</td><td>2016-11-16</td></tr>",
                            "<tr><td>MIKLOSB</td><td>Balla Miklós</td><td>1979-02-16</td><td>2016-06-26</td><td>2016-12-05</td></tr>",
                            "<tr><td>MONIKAM</td><td>Mohos Mónika</td><td>1974-10-01</td><td>2016-04-29</td><td>2017-02-23</td></tr>",
                            "<tr><td>NANDORF</td><td>Fő Nándor</td><td>1968-11-12</td><td>2016-04-06</td><td>2017-02-05</td></tr>",
                            "<tr><td>nikolett3</td><td>Horváth Nikolett</td><td>1981-09-29</td><td>2016-05-24</td><td>2016-10-22</td></tr>",
                            "<tr><td>nikoletta4</td><td>Kő Nikoletta</td><td>1972-01-10</td><td>2016-04-08</td><td>2017-02-01</td></tr>",
                            "<tr><td>NIKOLETTAT</td><td>Tatár Nikoletta</td><td>1997-10-19</td><td>2016-05-22</td><td>2016-09-21</td></tr>",
                            "<tr><td>norbert</td><td>Szűcs Norbert</td><td>1969-07-17</td><td>2016-07-08</td><td>2017-02-26</td></tr>",
                            "<tr><td>norbert2</td><td>Hegedűs Norbert</td><td>1991-07-17</td><td>2016-04-19</td><td>2017-01-29</td></tr>",
                            "<tr><td>norbert4</td><td>Mile Norbert</td><td>1983-06-15</td><td>2016-04-10</td><td>2017-03-03</td></tr>",
                            "<tr><td>norbert5</td><td>Béres Norbert</td><td>1975-07-27</td><td>2016-06-24</td><td>2016-11-05</td></tr>",
                            "<tr><td>pal</td><td>Barabás Pál</td><td>1968-02-06</td><td>2016-08-14</td><td>2017-02-20</td></tr>",
                            "<tr><td>peter1</td><td>Kozma Péter</td><td>1976-03-18</td><td>2016-07-14</td><td>2017-02-28</td></tr>",
                            "<tr><td>peter2</td><td>Bozsó Péter</td><td>1976-01-26</td><td>2016-07-03</td><td>2016-11-15</td></tr>",
                            "<tr><td>peter3</td><td>Szalai Péter</td><td>1983-07-18</td><td>2016-06-30</td><td>2017-02-21</td></tr>",
                            "<tr><td>peter4</td><td>Bíró Péter</td><td>1985-09-01</td><td>2016-04-12</td><td>2017-02-05</td></tr>",
                            "<tr><td>PETERB</td><td>Berendi Péter</td><td>1969-01-01</td><td>2016-04-06</td><td>2016-11-17</td></tr>",
                            "<tr><td>polla</td><td>Palágyi Polla</td><td>1994-02-04</td><td>2016-04-17</td><td>2017-02-11</td></tr>",
                            "<tr><td>rajmond4</td><td>Rácz Rajmond</td><td>1993-09-25</td><td>2016-09-05</td><td>2016-11-16</td></tr>",
                            "<tr><td>reka4</td><td>Szikszai Réka</td><td>1969-11-27</td><td>2016-07-27</td><td>2017-02-26</td></tr>",
                            "<tr><td>RENATAK</td><td>Kardos Renáta</td><td>1988-05-17</td><td>2016-10-27</td><td>2017-03-01</td></tr>",
                            "<tr><td>RENATAS</td><td>Szirmai Renáta</td><td>1991-03-26</td><td>2016-05-04</td><td>2017-02-14</td></tr>",
                            "<tr><td>robert2</td><td>Patay Róbert</td><td>1977-01-08</td><td>2016-05-15</td><td>2016-12-17</td></tr>",
                            "<tr><td>ROBERTI</td><td>Iván Róbert</td><td>1967-07-02</td><td>2016-07-12</td><td>2017-02-17</td></tr>",
                            "<tr><td>ROBERTP</td><td>Pásztor Róbert</td><td>1972-05-16</td><td>2016-07-30</td><td>2016-09-08</td></tr>",
                            "<tr><td>roland</td><td>Tóth Roland</td><td>1968-03-21</td><td>2016-06-09</td><td>2016-11-19</td></tr>",
                            "<tr><td>roland1</td><td>Ferencz Roland</td><td>1985-12-31</td><td>2016-11-05</td><td>2017-01-16</td></tr>",
                            "<tr><td>roza2</td><td>Bucskó Róza</td><td>1988-12-26</td><td>2016-09-10</td><td>2017-02-18</td></tr>",
                            "<tr><td>sandor</td><td>Karasz Sándor</td><td>1970-01-27</td><td>2016-07-04</td><td>2016-09-19</td></tr>",
                            "<tr><td>sandor3</td><td>Farkas Sándor</td><td>1989-01-27</td><td>2016-05-12</td><td>2016-11-10</td></tr>",
                            "<tr><td>sandor4</td><td>Nagy Sándor</td><td>1997-06-11</td><td>2016-10-15</td><td>2017-01-22</td></tr>",
                            "<tr><td>sara</td><td>Farkas Sára</td><td>1973-04-05</td><td>2016-05-28</td><td>2016-12-25</td></tr>",
                            "<tr><td>SEBASTIANF</td><td>Foltényi Sebastián</td><td>1992-09-09</td><td>2016-04-06</td><td>2016-09-17</td></tr>",
                            "<tr><td>sebestyen</td><td>Rab Sebestyén</td><td>1992-03-03</td><td>2016-04-07</td><td>2016-10-26</td></tr>",
                            "<tr><td>szabolcs</td><td>Bodor Szabolcs</td><td>1990-07-16</td><td>2016-12-05</td><td>2016-12-05</td></tr>",
                            "<tr><td>SZABOLCSM</td><td>Miklós Szabolcs</td><td>1980-08-11</td><td>2016-06-18</td><td>2017-02-04</td></tr>",
                            "<tr><td>SZILARDS</td><td>Szalai Szilárd</td><td>1967-09-28</td><td>2016-04-23</td><td>2017-02-08</td></tr>",
                            "<tr><td>szilvia1</td><td>Tari Szilvia</td><td>1971-03-09</td><td>2016-05-14</td><td>2017-01-28</td></tr>",
                            "<tr><td>tamara2</td><td>Miklós Tamara</td><td>1980-08-11</td><td>2016-08-12</td><td>2016-11-15</td></tr>",
                            "<tr><td>tamas</td><td>Antal Tamás</td><td>1984-09-05</td><td>2016-05-17</td><td>2017-02-14</td></tr>",
                            "<tr><td>TAMASF</td><td>Fényes Tamás</td><td>1997-11-06</td><td>2016-05-03</td><td>2017-02-16</td></tr>",
                            "<tr><td>tibor</td><td>Gombos Tibor</td><td>1993-11-28</td><td>2016-10-09</td><td>2016-11-05</td></tr>",
                            "<tr><td>tibor2</td><td>Dániel Tibor</td><td>1985-02-02</td><td>2016-10-20</td><td>2016-10-20</td></tr>",
                            "<tr><td>tihamer</td><td>Kazy Tihamér</td><td>1991-07-05</td><td>2016-05-30</td><td>2016-12-25</td></tr>",
                            "<tr><td>timea</td><td>Papós Tímea</td><td>1996-01-08</td><td>2016-12-26</td><td>2016-12-26</td></tr>",
                            "<tr><td>timea2</td><td>Dusha Tímea</td><td>1975-08-22</td><td>2016-06-06</td><td>2016-12-14</td></tr>",
                            "<tr><td>tunde</td><td>Turcsik Tünde</td><td>1974-02-12</td><td>2016-06-03</td><td>2017-01-03</td></tr>",
                            "<tr><td>valentin</td><td>Feró Valentin</td><td>1986-01-09</td><td>2016-05-24</td><td>2016-12-01</td></tr>",
                            "<tr><td>veronika4</td><td>Tankó Veronika</td><td>1983-08-28</td><td>2016-05-30</td><td>2017-02-03</td></tr>",
                            "<tr><td>VIKTORIAU</td><td>Urbán Viktoria</td><td>1996-05-03</td><td>2016-04-30</td><td>2016-10-26</td></tr>",
                            "<tr><td>VIKTORK</td><td>Keresztúri Viktor</td><td>1989-05-05</td><td>2016-05-30</td><td>2016-06-06</td></tr>",
                            "<tr><td>vivien3</td><td>Boros Vivien</td><td>1991-07-01</td><td>2016-05-02</td><td>2016-12-24</td></tr>",
                            "<tr><td>zoltan</td><td>Fodor Zoltán</td><td>1979-11-25</td><td>2016-08-24</td><td>2016-09-05</td></tr>",
                            "<tr><td>zoltan4</td><td>Barna Zoltán</td><td>1986-05-20</td><td>2016-05-12</td><td>2017-01-01</td></tr>",
                            "<tr><td>ZOLTANP</td><td>Pintér Zoltán</td><td>1977-06-07</td><td>2016-06-05</td><td>2016-12-25</td></tr>",
                            "<tr><td>ZOLTANT</td><td>Tóth Zoltán</td><td>1985-12-14</td><td>2016-05-01</td><td>2017-01-16</td></tr>",
                            "<tr><td>zsofi1</td><td>Molnár Zsófi</td><td>1983-11-17</td><td>2016-06-16</td><td>2017-02-18</td></tr>",
                            "<tr><td>zsolt1</td><td>Pulai Zsolt</td><td>1988-05-27</td><td>2016-04-14</td><td>2016-07-31</td></tr>",
                            "<tr><td>ZSOLTJ</td><td>Józsa Zsolt</td><td>1983-09-29</td><td>2016-04-24</td><td>2016-10-01</td></tr>",
                            "<tr><td>zsuzsa</td><td>Pusztai Zsuzsanna</td><td>1980-09-17</td><td>2016-07-24</td><td>2016-11-28</td></tr>",
                            "<tr><td>zsuzsa3</td><td>Varsányi Zsuzsa</td><td>1979-03-06</td><td>2016-07-30</td><td>2016-10-27</td></tr>",
                            "<tr><td>zsuzsanna</td><td>Barta Zsuzsanna</td><td>1994-10-07</td><td>2016-05-17</td><td>2017-01-16</td></tr>",
                            "<tr><td>ZSUZSAV</td><td>Vajda Zsuzsa</td><td>1976-12-11</td><td>2016-04-14</td><td>2016-11-21</td></tr>",
                            "</table>"
                        ]
                    }
                }
            ],
            "execution_count": 9
        },
        {
            "cell_type": "markdown",
            "source": [
                "Készítsen lekérdezést, amely megjeleníti, hogy szálláshelyenként, azon belül a pótágyak száma szerint hány főre foglaltak összesen (felnőtt <span style=\"color: #000000;\">+</span> gyermek)!\n",
                "\n",
                "  \n",
                "\n",
                "Jelenjenek meg a részösszegek és a végösszeg <span style=\"color: #0000ff;\">is</span>!"
            ],
            "metadata": {
                "azdata_cell_guid": "6805a346-be9d-464d-857c-34013cb2cdeb"
            },
            "attachments": {}
        },
        {
            "cell_type": "markdown",
            "source": [
                ""
            ],
            "metadata": {
                "language": "sql",
                "azdata_cell_guid": "695f866a-1a3c-4177-ab50-132102a693de"
            }
        },
        {
            "cell_type": "code",
            "source": [
                "SELECT iif(szh.SZALLAS_NEV is NULL,'Végösszeg', szh.SZALLAS_NEV) as \"Szállásnév\",\r\n",
                "        iif(sz.POTAGY is NULL, 'Összesen', cast(sz.POTAGY as NVARCHAR(10))) as \"Pótágy\",\r\n",
                "        SUM(f.FELNOTT_SZAM + f.GYERMEK_SZAM) as \"Fő\"\r\n",
                "FROM Szallashely szh JOIN Szoba sz ON sz.SZALLAS_FK = szh.SZALLAS_ID\r\n",
                "                    JOIN Foglalas f ON f.SZOBA_FK = sz.SZOBA_ID\r\n",
                "GROUP BY rollup (szh.SZALLAS_NEV, sz.POTAGY)"
            ],
            "metadata": {
                "azdata_cell_guid": "aff498e4-a302-4a62-bf9a-ff67cae65bae",
                "language": "sql"
            },
            "outputs": [
                {
                    "output_type": "display_data",
                    "data": {
                        "text/html": "(41 rows affected)"
                    },
                    "metadata": {}
                },
                {
                    "output_type": "display_data",
                    "data": {
                        "text/html": "Total execution time: 00:00:00.043"
                    },
                    "metadata": {}
                },
                {
                    "output_type": "execute_result",
                    "metadata": {},
                    "execution_count": 18,
                    "data": {
                        "application/vnd.dataresource+json": {
                            "schema": {
                                "fields": [
                                    {
                                        "name": "Szállásnév"
                                    },
                                    {
                                        "name": "Pótágy"
                                    },
                                    {
                                        "name": "Fő"
                                    }
                                ]
                            },
                            "data": [
                                {
                                    "Szállásnév": "Családi Ház",
                                    "Pótágy": "0",
                                    "Fő": "10"
                                },
                                {
                                    "Szállásnév": "Családi Ház",
                                    "Pótágy": "1",
                                    "Fő": "31"
                                },
                                {
                                    "Szállásnév": "Családi Ház",
                                    "Pótágy": "2",
                                    "Fő": "11"
                                },
                                {
                                    "Szállásnév": "Családi Ház",
                                    "Pótágy": "Összesen",
                                    "Fő": "52"
                                },
                                {
                                    "Szállásnév": "Fortuna Apartman",
                                    "Pótágy": "0",
                                    "Fő": "18"
                                },
                                {
                                    "Szállásnév": "Fortuna Apartman",
                                    "Pótágy": "1",
                                    "Fő": "52"
                                },
                                {
                                    "Szállásnév": "Fortuna Apartman",
                                    "Pótágy": "2",
                                    "Fő": "36"
                                },
                                {
                                    "Szállásnév": "Fortuna Apartman",
                                    "Pótágy": "Összesen",
                                    "Fő": "106"
                                },
                                {
                                    "Szállásnév": "Fortuna Panzió",
                                    "Pótágy": "0",
                                    "Fő": "158"
                                },
                                {
                                    "Szállásnév": "Fortuna panzió",
                                    "Pótágy": "1",
                                    "Fő": "113"
                                },
                                {
                                    "Szállásnév": "Fortuna panzió",
                                    "Pótágy": "2",
                                    "Fő": "40"
                                },
                                {
                                    "Szállásnév": "Fortuna Panzió",
                                    "Pótágy": "Összesen",
                                    "Fő": "311"
                                },
                                {
                                    "Szállásnév": "Gold Hotel",
                                    "Pótágy": "0",
                                    "Fő": "216"
                                },
                                {
                                    "Szállásnév": "Gold Hotel",
                                    "Pótágy": "1",
                                    "Fő": "93"
                                },
                                {
                                    "Szállásnév": "Gold Hotel",
                                    "Pótágy": "2",
                                    "Fő": "119"
                                },
                                {
                                    "Szállásnév": "Gold Hotel",
                                    "Pótágy": "Összesen",
                                    "Fő": "428"
                                },
                                {
                                    "Szállásnév": "Hotel Három Hattyú",
                                    "Pótágy": "0",
                                    "Fő": "183"
                                },
                                {
                                    "Szállásnév": "Hotel Három Hattyú",
                                    "Pótágy": "1",
                                    "Fő": "258"
                                },
                                {
                                    "Szállásnév": "Hotel Három Hattyú",
                                    "Pótágy": "2",
                                    "Fő": "63"
                                },
                                {
                                    "Szállásnév": "Hotel Három Hattyú",
                                    "Pótágy": "Összesen",
                                    "Fő": "504"
                                },
                                {
                                    "Szállásnév": "Jáde panzió",
                                    "Pótágy": "0",
                                    "Fő": "66"
                                },
                                {
                                    "Szállásnév": "Jáde panzió",
                                    "Pótágy": "Összesen",
                                    "Fő": "66"
                                },
                                {
                                    "Szállásnév": "Kentaur Hotel",
                                    "Pótágy": "0",
                                    "Fő": "168"
                                },
                                {
                                    "Szállásnév": "Kentaur Hotel",
                                    "Pótágy": "1",
                                    "Fő": "224"
                                },
                                {
                                    "Szállásnév": "Kentaur Hotel",
                                    "Pótágy": "2",
                                    "Fő": "28"
                                },
                                {
                                    "Szállásnév": "Kentaur Hotel",
                                    "Pótágy": "Összesen",
                                    "Fő": "420"
                                },
                                {
                                    "Szállásnév": "Lagúna Hotel",
                                    "Pótágy": "0",
                                    "Fő": "105"
                                },
                                {
                                    "Szállásnév": "Lagúna Hotel",
                                    "Pótágy": "1",
                                    "Fő": "150"
                                },
                                {
                                    "Szállásnév": "Lagúna Hotel",
                                    "Pótágy": "2",
                                    "Fő": "36"
                                },
                                {
                                    "Szállásnév": "Lagúna Hotel",
                                    "Pótágy": "Összesen",
                                    "Fő": "291"
                                },
                                {
                                    "Szállásnév": "Partiszél Vendégház",
                                    "Pótágy": "0",
                                    "Fő": "31"
                                },
                                {
                                    "Szállásnév": "Partiszél Vendégház",
                                    "Pótágy": "1",
                                    "Fő": "17"
                                },
                                {
                                    "Szállásnév": "Partiszél Vendégház",
                                    "Pótágy": "2",
                                    "Fő": "15"
                                },
                                {
                                    "Szállásnév": "Partiszél Vendégház",
                                    "Pótágy": "Összesen",
                                    "Fő": "63"
                                },
                                {
                                    "Szállásnév": "Sába-Ház",
                                    "Pótágy": "0",
                                    "Fő": "67"
                                },
                                {
                                    "Szállásnév": "Sába-Ház",
                                    "Pótágy": "1",
                                    "Fő": "99"
                                },
                                {
                                    "Szállásnév": "Sába-Ház",
                                    "Pótágy": "Összesen",
                                    "Fő": "166"
                                },
                                {
                                    "Szállásnév": "Szieszta Apartmanház",
                                    "Pótágy": "0",
                                    "Fő": "64"
                                },
                                {
                                    "Szállásnév": "Szieszta Apartmanház",
                                    "Pótágy": "1",
                                    "Fő": "19"
                                },
                                {
                                    "Szállásnév": "Szieszta Apartmanház",
                                    "Pótágy": "Összesen",
                                    "Fő": "83"
                                },
                                {
                                    "Szállásnév": "Végösszeg",
                                    "Pótágy": "Összesen",
                                    "Fő": "2490"
                                }
                            ]
                        },
                        "text/html": [
                            "<table>",
                            "<tr><th>Szállásnév</th><th>Pótágy</th><th>Fő</th></tr>",
                            "<tr><td>Családi Ház</td><td>0</td><td>10</td></tr>",
                            "<tr><td>Családi Ház</td><td>1</td><td>31</td></tr>",
                            "<tr><td>Családi Ház</td><td>2</td><td>11</td></tr>",
                            "<tr><td>Családi Ház</td><td>Összesen</td><td>52</td></tr>",
                            "<tr><td>Fortuna Apartman</td><td>0</td><td>18</td></tr>",
                            "<tr><td>Fortuna Apartman</td><td>1</td><td>52</td></tr>",
                            "<tr><td>Fortuna Apartman</td><td>2</td><td>36</td></tr>",
                            "<tr><td>Fortuna Apartman</td><td>Összesen</td><td>106</td></tr>",
                            "<tr><td>Fortuna Panzió</td><td>0</td><td>158</td></tr>",
                            "<tr><td>Fortuna panzió</td><td>1</td><td>113</td></tr>",
                            "<tr><td>Fortuna panzió</td><td>2</td><td>40</td></tr>",
                            "<tr><td>Fortuna Panzió</td><td>Összesen</td><td>311</td></tr>",
                            "<tr><td>Gold Hotel</td><td>0</td><td>216</td></tr>",
                            "<tr><td>Gold Hotel</td><td>1</td><td>93</td></tr>",
                            "<tr><td>Gold Hotel</td><td>2</td><td>119</td></tr>",
                            "<tr><td>Gold Hotel</td><td>Összesen</td><td>428</td></tr>",
                            "<tr><td>Hotel Három Hattyú</td><td>0</td><td>183</td></tr>",
                            "<tr><td>Hotel Három Hattyú</td><td>1</td><td>258</td></tr>",
                            "<tr><td>Hotel Három Hattyú</td><td>2</td><td>63</td></tr>",
                            "<tr><td>Hotel Három Hattyú</td><td>Összesen</td><td>504</td></tr>",
                            "<tr><td>Jáde panzió</td><td>0</td><td>66</td></tr>",
                            "<tr><td>Jáde panzió</td><td>Összesen</td><td>66</td></tr>",
                            "<tr><td>Kentaur Hotel</td><td>0</td><td>168</td></tr>",
                            "<tr><td>Kentaur Hotel</td><td>1</td><td>224</td></tr>",
                            "<tr><td>Kentaur Hotel</td><td>2</td><td>28</td></tr>",
                            "<tr><td>Kentaur Hotel</td><td>Összesen</td><td>420</td></tr>",
                            "<tr><td>Lagúna Hotel</td><td>0</td><td>105</td></tr>",
                            "<tr><td>Lagúna Hotel</td><td>1</td><td>150</td></tr>",
                            "<tr><td>Lagúna Hotel</td><td>2</td><td>36</td></tr>",
                            "<tr><td>Lagúna Hotel</td><td>Összesen</td><td>291</td></tr>",
                            "<tr><td>Partiszél Vendégház</td><td>0</td><td>31</td></tr>",
                            "<tr><td>Partiszél Vendégház</td><td>1</td><td>17</td></tr>",
                            "<tr><td>Partiszél Vendégház</td><td>2</td><td>15</td></tr>",
                            "<tr><td>Partiszél Vendégház</td><td>Összesen</td><td>63</td></tr>",
                            "<tr><td>Sába-Ház</td><td>0</td><td>67</td></tr>",
                            "<tr><td>Sába-Ház</td><td>1</td><td>99</td></tr>",
                            "<tr><td>Sába-Ház</td><td>Összesen</td><td>166</td></tr>",
                            "<tr><td>Szieszta Apartmanház</td><td>0</td><td>64</td></tr>",
                            "<tr><td>Szieszta Apartmanház</td><td>1</td><td>19</td></tr>",
                            "<tr><td>Szieszta Apartmanház</td><td>Összesen</td><td>83</td></tr>",
                            "<tr><td>Végösszeg</td><td>Összesen</td><td>2490</td></tr>",
                            "</table>"
                        ]
                    }
                }
            ],
            "execution_count": 18
        },
        {
            "cell_type": "markdown",
            "source": [
                "A Szoba tábla Ferohely oszlopára végezzük el a következő számításokat:\n",
                "\n",
                "- Különböző értékek száma\n",
                "- Minimum, maximum, átlag\n",
                "- Null és Not null értékek százalékos aránya"
            ],
            "metadata": {
                "language": "sql",
                "azdata_cell_guid": "0ea4bda0-7c8d-4e1e-b311-9179399c4d8d"
            },
            "attachments": {}
        },
        {
            "cell_type": "code",
            "source": [
                "SELECT FEROHELY,\r\n",
                "    count(*) as \"db\",\r\n",
                "    min(FEROHELY) as \"min\",\r\n",
                "    max(FEROHELY) as \"max\",\r\n",
                "    avg(FEROHELY) as \"átlag\"\r\n",
                "    --,iif(FEROHELY is null, count(FEROHELY),0)\r\n",
                "FROM Szoba\r\n",
                "GROUP by FEROHELY"
            ],
            "metadata": {
                "language": "sql",
                "azdata_cell_guid": "e69ed835-5e29-40b3-9383-677617d4354d"
            },
            "outputs": [
                {
                    "output_type": "display_data",
                    "data": {
                        "text/html": "(4 rows affected)"
                    },
                    "metadata": {}
                },
                {
                    "output_type": "display_data",
                    "data": {
                        "text/html": "Total execution time: 00:00:00.006"
                    },
                    "metadata": {}
                },
                {
                    "output_type": "execute_result",
                    "metadata": {},
                    "execution_count": 21,
                    "data": {
                        "application/vnd.dataresource+json": {
                            "schema": {
                                "fields": [
                                    {
                                        "name": "FEROHELY"
                                    },
                                    {
                                        "name": "db"
                                    },
                                    {
                                        "name": "min"
                                    },
                                    {
                                        "name": "max"
                                    },
                                    {
                                        "name": "átlag"
                                    }
                                ]
                            },
                            "data": [
                                {
                                    "FEROHELY": "1",
                                    "db": "2",
                                    "min": "1",
                                    "max": "1",
                                    "átlag": "1"
                                },
                                {
                                    "FEROHELY": "2",
                                    "db": "164",
                                    "min": "2",
                                    "max": "2",
                                    "átlag": "2"
                                },
                                {
                                    "FEROHELY": "3",
                                    "db": "127",
                                    "min": "3",
                                    "max": "3",
                                    "átlag": "3"
                                },
                                {
                                    "FEROHELY": "4",
                                    "db": "1",
                                    "min": "4",
                                    "max": "4",
                                    "átlag": "4"
                                }
                            ]
                        },
                        "text/html": [
                            "<table>",
                            "<tr><th>FEROHELY</th><th>db</th><th>min</th><th>max</th><th>átlag</th></tr>",
                            "<tr><td>1</td><td>2</td><td>1</td><td>1</td><td>1</td></tr>",
                            "<tr><td>2</td><td>164</td><td>2</td><td>2</td><td>2</td></tr>",
                            "<tr><td>3</td><td>127</td><td>3</td><td>3</td><td>3</td></tr>",
                            "<tr><td>4</td><td>1</td><td>4</td><td>4</td><td>4</td></tr>",
                            "</table>"
                        ]
                    }
                }
            ],
            "execution_count": 21
        }
    ]
}