{
    "metadata": {
        "kernelspec": {
            "name": "SQL",
            "display_name": "SQL",
            "language": "sql"
        },
        "language_info": {
            "name": "sql",
            "version": ""
        }
    },
    "nbformat_minor": 2,
    "nbformat": 4,
    "cells": [
        {
            "cell_type": "markdown",
            "source": [
                "Listázzuk \"laszlo2\" vendég gyermek nélküli foglalásainak adatait!\n",
                "\n",
                "a. Egy új oszlopban jelenítsük meg, hogy a foglalás a nyári szezonban (június, július, augusztus) történt-e (Igen/Nem). \n",
                "\n",
                "b. A foglalás dátumánál a METTOL oszlopot vegyük figyelembe"
            ],
            "metadata": {
                "azdata_cell_guid": "0feb467d-24dc-4265-a356-b21f2009078b"
            },
            "attachments": {}
        },
        {
            "cell_type": "code",
            "source": [
                "SELECT *,\r\n",
                "    iif (MONTH(Mettol) in (6,7,8),'Igen','Nem') as 'Nyári_e'\r\n",
                "From Foglalas\r\n",
                "WHERE UGYFEL_FK = 'laszlo2' and GYERMEK_SZAM = 0"
            ],
            "metadata": {
                "azdata_cell_guid": "a31650a7-0bc6-459e-811b-812e77262769",
                "language": "sql"
            },
            "outputs": [
                {
                    "output_type": "display_data",
                    "data": {
                        "text/html": "(1 row affected)"
                    },
                    "metadata": {}
                },
                {
                    "output_type": "display_data",
                    "data": {
                        "text/html": "Total execution time: 00:00:00.005"
                    },
                    "metadata": {}
                },
                {
                    "output_type": "execute_result",
                    "execution_count": 1,
                    "data": {
                        "application/vnd.dataresource+json": {
                            "schema": {
                                "fields": [
                                    {
                                        "name": "FOGLALAS_PK"
                                    },
                                    {
                                        "name": "UGYFEL_FK"
                                    },
                                    {
                                        "name": "SZOBA_FK"
                                    },
                                    {
                                        "name": "METTOL"
                                    },
                                    {
                                        "name": "MEDDIG"
                                    },
                                    {
                                        "name": "FELNOTT_SZAM"
                                    },
                                    {
                                        "name": "GYERMEK_SZAM"
                                    },
                                    {
                                        "name": "Nyári_e"
                                    }
                                ]
                            },
                            "data": [
                                {
                                    "FOGLALAS_PK": "561",
                                    "UGYFEL_FK": "laszlo2",
                                    "SZOBA_FK": "42",
                                    "METTOL": "2016-04-06",
                                    "MEDDIG": "2016-04-10",
                                    "FELNOTT_SZAM": "2",
                                    "GYERMEK_SZAM": "0",
                                    "Nyári_e": "Nem"
                                }
                            ]
                        },
                        "text/html": "<table><tr><th>FOGLALAS_PK</th><th>UGYFEL_FK</th><th>SZOBA_FK</th><th>METTOL</th><th>MEDDIG</th><th>FELNOTT_SZAM</th><th>GYERMEK_SZAM</th><th>Nyári_e</th></tr><tr><td>561</td><td>laszlo2</td><td>42</td><td>2016-04-06</td><td>2016-04-10</td><td>2</td><td>0</td><td>Nem</td></tr></table>"
                    },
                    "metadata": {}
                }
            ],
            "execution_count": 1
        },
        {
            "cell_type": "markdown",
            "source": [
                "Egészítsük ki a megkezdett lekérdezést, amely listázza, hogy szálláshely típusonként, azon belül éves és havi bontában hány foglalás történt! \n",
                "\n",
                " a. Az év és hónap megjelenítésénél a foglalás tábla METTOL oszlopát használjuk! \n",
                "\n",
                " b. A számolásnál csak a legalább 5 napos foglalásokat vegyük figyelembe!"
            ],
            "metadata": {
                "azdata_cell_guid": "a2868e26-420c-44e9-9556-ef70419ea546"
            },
            "attachments": {}
        },
        {
            "cell_type": "code",
            "source": [
                "SELECT szh.TIPUS, \r\n",
                "        YEAR(f.METTOL) AS 'Év', \r\n",
                "        MONTH(f.METTOL) AS 'Hónap', \r\n",
                "        Count(*) as 'Foglalások száma'\r\n",
                " \r\n",
                "\r\n",
                " FROM Foglalas f JOIN Szoba sz ON f.SZOBA_FK = sz.SZOBA_ID \r\n",
                "\r\n",
                "                              JOIN Szallashely szh ON szh.SZALLAS_ID = sz.SZALLAS_FK\r\n",
                " \r\n",
                "\r\n",
                "WHERE DATEDIFF(day, f.METTOL, f.MEDDIG) >=5 \r\n",
                "\r\n",
                " GROUP BY szh.TIPUS, YEAR(f.METTOL),MONTH(f.METTOL)\r\n",
                ""
            ],
            "metadata": {
                "azdata_cell_guid": "e535c808-c055-4c26-a66e-07f8011c0bbb",
                "language": "sql"
            },
            "outputs": [
                {
                    "output_type": "display_data",
                    "data": {
                        "text/html": "(45 rows affected)"
                    },
                    "metadata": {}
                },
                {
                    "output_type": "display_data",
                    "data": {
                        "text/html": "Total execution time: 00:00:00.015"
                    },
                    "metadata": {}
                },
                {
                    "output_type": "execute_result",
                    "execution_count": 6,
                    "data": {
                        "application/vnd.dataresource+json": {
                            "schema": {
                                "fields": [
                                    {
                                        "name": "TIPUS"
                                    },
                                    {
                                        "name": "Év"
                                    },
                                    {
                                        "name": "Hónap"
                                    },
                                    {
                                        "name": "(No column name)"
                                    }
                                ]
                            },
                            "data": [
                                {
                                    "TIPUS": "Apartman",
                                    "Év": "2016",
                                    "Hónap": "4",
                                    "(No column name)": "2"
                                },
                                {
                                    "TIPUS": "Apartman",
                                    "Év": "2016",
                                    "Hónap": "5",
                                    "(No column name)": "1"
                                },
                                {
                                    "TIPUS": "Apartman",
                                    "Év": "2016",
                                    "Hónap": "6",
                                    "(No column name)": "1"
                                },
                                {
                                    "TIPUS": "Apartman",
                                    "Év": "2016",
                                    "Hónap": "7",
                                    "(No column name)": "1"
                                },
                                {
                                    "TIPUS": "Apartman",
                                    "Év": "2016",
                                    "Hónap": "8",
                                    "(No column name)": "2"
                                },
                                {
                                    "TIPUS": "Apartman",
                                    "Év": "2016",
                                    "Hónap": "9",
                                    "(No column name)": "3"
                                },
                                {
                                    "TIPUS": "Apartman",
                                    "Év": "2016",
                                    "Hónap": "10",
                                    "(No column name)": "9"
                                },
                                {
                                    "TIPUS": "Apartman",
                                    "Év": "2016",
                                    "Hónap": "11",
                                    "(No column name)": "3"
                                },
                                {
                                    "TIPUS": "Apartman",
                                    "Év": "2016",
                                    "Hónap": "12",
                                    "(No column name)": "2"
                                },
                                {
                                    "TIPUS": "Apartman",
                                    "Év": "2017",
                                    "Hónap": "1",
                                    "(No column name)": "1"
                                },
                                {
                                    "TIPUS": "Apartman",
                                    "Év": "2017",
                                    "Hónap": "2",
                                    "(No column name)": "5"
                                },
                                {
                                    "TIPUS": "Hotel",
                                    "Év": "2016",
                                    "Hónap": "4",
                                    "(No column name)": "16"
                                },
                                {
                                    "TIPUS": "Hotel",
                                    "Év": "2016",
                                    "Hónap": "5",
                                    "(No column name)": "32"
                                },
                                {
                                    "TIPUS": "Hotel",
                                    "Év": "2016",
                                    "Hónap": "6",
                                    "(No column name)": "29"
                                },
                                {
                                    "TIPUS": "Hotel",
                                    "Év": "2016",
                                    "Hónap": "7",
                                    "(No column name)": "30"
                                },
                                {
                                    "TIPUS": "Hotel",
                                    "Év": "2016",
                                    "Hónap": "8",
                                    "(No column name)": "22"
                                },
                                {
                                    "TIPUS": "Hotel",
                                    "Év": "2016",
                                    "Hónap": "9",
                                    "(No column name)": "19"
                                },
                                {
                                    "TIPUS": "Hotel",
                                    "Év": "2016",
                                    "Hónap": "10",
                                    "(No column name)": "36"
                                },
                                {
                                    "TIPUS": "Hotel",
                                    "Év": "2016",
                                    "Hónap": "11",
                                    "(No column name)": "27"
                                },
                                {
                                    "TIPUS": "Hotel",
                                    "Év": "2016",
                                    "Hónap": "12",
                                    "(No column name)": "25"
                                },
                                {
                                    "TIPUS": "Hotel",
                                    "Év": "2017",
                                    "Hónap": "1",
                                    "(No column name)": "28"
                                },
                                {
                                    "TIPUS": "Hotel",
                                    "Év": "2017",
                                    "Hónap": "2",
                                    "(No column name)": "21"
                                },
                                {
                                    "TIPUS": "Hotel",
                                    "Év": "2017",
                                    "Hónap": "3",
                                    "(No column name)": "1"
                                },
                                {
                                    "TIPUS": "panzió",
                                    "Év": "2016",
                                    "Hónap": "4",
                                    "(No column name)": "2"
                                },
                                {
                                    "TIPUS": "panzió",
                                    "Év": "2016",
                                    "Hónap": "5",
                                    "(No column name)": "9"
                                },
                                {
                                    "TIPUS": "panzió",
                                    "Év": "2016",
                                    "Hónap": "6",
                                    "(No column name)": "10"
                                },
                                {
                                    "TIPUS": "panzió",
                                    "Év": "2016",
                                    "Hónap": "7",
                                    "(No column name)": "7"
                                },
                                {
                                    "TIPUS": "panzió",
                                    "Év": "2016",
                                    "Hónap": "8",
                                    "(No column name)": "6"
                                },
                                {
                                    "TIPUS": "panzió",
                                    "Év": "2016",
                                    "Hónap": "9",
                                    "(No column name)": "6"
                                },
                                {
                                    "TIPUS": "panzió",
                                    "Év": "2016",
                                    "Hónap": "10",
                                    "(No column name)": "11"
                                },
                                {
                                    "TIPUS": "panzió",
                                    "Év": "2016",
                                    "Hónap": "11",
                                    "(No column name)": "3"
                                },
                                {
                                    "TIPUS": "panzió",
                                    "Év": "2016",
                                    "Hónap": "12",
                                    "(No column name)": "6"
                                },
                                {
                                    "TIPUS": "panzió",
                                    "Év": "2017",
                                    "Hónap": "1",
                                    "(No column name)": "5"
                                },
                                {
                                    "TIPUS": "panzió",
                                    "Év": "2017",
                                    "Hónap": "2",
                                    "(No column name)": "5"
                                },
                                {
                                    "TIPUS": "panzió",
                                    "Év": "2017",
                                    "Hónap": "3",
                                    "(No column name)": "1"
                                },
                                {
                                    "TIPUS": "vendégház",
                                    "Év": "2016",
                                    "Hónap": "4",
                                    "(No column name)": "2"
                                },
                                {
                                    "TIPUS": "vendégház",
                                    "Év": "2016",
                                    "Hónap": "5",
                                    "(No column name)": "5"
                                },
                                {
                                    "TIPUS": "vendégház",
                                    "Év": "2016",
                                    "Hónap": "6",
                                    "(No column name)": "3"
                                },
                                {
                                    "TIPUS": "vendégház",
                                    "Év": "2016",
                                    "Hónap": "7",
                                    "(No column name)": "5"
                                },
                                {
                                    "TIPUS": "vendégház",
                                    "Év": "2016",
                                    "Hónap": "8",
                                    "(No column name)": "5"
                                },
                                {
                                    "TIPUS": "vendégház",
                                    "Év": "2016",
                                    "Hónap": "9",
                                    "(No column name)": "4"
                                },
                                {
                                    "TIPUS": "vendégház",
                                    "Év": "2016",
                                    "Hónap": "10",
                                    "(No column name)": "7"
                                },
                                {
                                    "TIPUS": "vendégház",
                                    "Év": "2016",
                                    "Hónap": "11",
                                    "(No column name)": "4"
                                },
                                {
                                    "TIPUS": "vendégház",
                                    "Év": "2017",
                                    "Hónap": "1",
                                    "(No column name)": "1"
                                },
                                {
                                    "TIPUS": "vendégház",
                                    "Év": "2017",
                                    "Hónap": "2",
                                    "(No column name)": "3"
                                }
                            ]
                        },
                        "text/html": "<table><tr><th>TIPUS</th><th>Év</th><th>Hónap</th><th>(No column name)</th></tr><tr><td>Apartman</td><td>2016</td><td>4</td><td>2</td></tr><tr><td>Apartman</td><td>2016</td><td>5</td><td>1</td></tr><tr><td>Apartman</td><td>2016</td><td>6</td><td>1</td></tr><tr><td>Apartman</td><td>2016</td><td>7</td><td>1</td></tr><tr><td>Apartman</td><td>2016</td><td>8</td><td>2</td></tr><tr><td>Apartman</td><td>2016</td><td>9</td><td>3</td></tr><tr><td>Apartman</td><td>2016</td><td>10</td><td>9</td></tr><tr><td>Apartman</td><td>2016</td><td>11</td><td>3</td></tr><tr><td>Apartman</td><td>2016</td><td>12</td><td>2</td></tr><tr><td>Apartman</td><td>2017</td><td>1</td><td>1</td></tr><tr><td>Apartman</td><td>2017</td><td>2</td><td>5</td></tr><tr><td>Hotel</td><td>2016</td><td>4</td><td>16</td></tr><tr><td>Hotel</td><td>2016</td><td>5</td><td>32</td></tr><tr><td>Hotel</td><td>2016</td><td>6</td><td>29</td></tr><tr><td>Hotel</td><td>2016</td><td>7</td><td>30</td></tr><tr><td>Hotel</td><td>2016</td><td>8</td><td>22</td></tr><tr><td>Hotel</td><td>2016</td><td>9</td><td>19</td></tr><tr><td>Hotel</td><td>2016</td><td>10</td><td>36</td></tr><tr><td>Hotel</td><td>2016</td><td>11</td><td>27</td></tr><tr><td>Hotel</td><td>2016</td><td>12</td><td>25</td></tr><tr><td>Hotel</td><td>2017</td><td>1</td><td>28</td></tr><tr><td>Hotel</td><td>2017</td><td>2</td><td>21</td></tr><tr><td>Hotel</td><td>2017</td><td>3</td><td>1</td></tr><tr><td>panzió</td><td>2016</td><td>4</td><td>2</td></tr><tr><td>panzió</td><td>2016</td><td>5</td><td>9</td></tr><tr><td>panzió</td><td>2016</td><td>6</td><td>10</td></tr><tr><td>panzió</td><td>2016</td><td>7</td><td>7</td></tr><tr><td>panzió</td><td>2016</td><td>8</td><td>6</td></tr><tr><td>panzió</td><td>2016</td><td>9</td><td>6</td></tr><tr><td>panzió</td><td>2016</td><td>10</td><td>11</td></tr><tr><td>panzió</td><td>2016</td><td>11</td><td>3</td></tr><tr><td>panzió</td><td>2016</td><td>12</td><td>6</td></tr><tr><td>panzió</td><td>2017</td><td>1</td><td>5</td></tr><tr><td>panzió</td><td>2017</td><td>2</td><td>5</td></tr><tr><td>panzió</td><td>2017</td><td>3</td><td>1</td></tr><tr><td>vendégház</td><td>2016</td><td>4</td><td>2</td></tr><tr><td>vendégház</td><td>2016</td><td>5</td><td>5</td></tr><tr><td>vendégház</td><td>2016</td><td>6</td><td>3</td></tr><tr><td>vendégház</td><td>2016</td><td>7</td><td>5</td></tr><tr><td>vendégház</td><td>2016</td><td>8</td><td>5</td></tr><tr><td>vendégház</td><td>2016</td><td>9</td><td>4</td></tr><tr><td>vendégház</td><td>2016</td><td>10</td><td>7</td></tr><tr><td>vendégház</td><td>2016</td><td>11</td><td>4</td></tr><tr><td>vendégház</td><td>2017</td><td>1</td><td>1</td></tr><tr><td>vendégház</td><td>2017</td><td>2</td><td>3</td></tr></table>"
                    },
                    "metadata": {}
                }
            ],
            "execution_count": 6
        }
    ]
}