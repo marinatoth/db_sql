{
    "metadata": {
        "kernelspec": {
            "name": "SQL",
            "display_name": "SQL",
            "language": "sql"
        },
        "language_info": {
            "name": "sql",
            "version": ""
        }
    },
    "nbformat_minor": 2,
    "nbformat": 4,
    "cells": [
        {
            "cell_type": "markdown",
            "source": [
                "Listázzuk az \"emese\" azonosítójú ügyfél foglalásainak azonosítóit és a foglalás kezdetének dátumát!\n",
                "\n",
                "a. Egy új oszlopban jelenítsük meg, hogy mi lenne a foglalás kezdődátuma, ha azt 1 hónappal későbbre tolnánk!\n",
                "\n",
                "b. Az új oszlop neve legyen 'Módosított kezdődátum'"
            ],
            "metadata": {
                "azdata_cell_guid": "088a3395-fbde-4d3c-8800-f18d40010233"
            },
            "attachments": {}
        },
        {
            "cell_type": "code",
            "source": [
                "SELECT FOGLALAS_PK as 'Foglalás azonosító',\r\n",
                "    METTOL as 'Kezdő dátum',\r\n",
                "    DATEADD(month,1,METTOL) as 'Módosított kezdődátum'\r\n",
                "from Foglalas\r\n",
                "where UGYFEL_FK = 'emese'\r\n",
                ""
            ],
            "metadata": {
                "azdata_cell_guid": "2322c843-906f-4adb-9017-01f18d32c4f1",
                "language": "sql"
            },
            "outputs": [
{
    "output_type": "display_data",
    "data": {
        "text/html": "(7 rows affected)"
    },
    "metadata": {}
}, {
    "output_type": "display_data",
    "data": {
        "text/html": "Total execution time: 00:00:00.008"
    },
    "metadata": {}
}, {
    "output_type": "execute_result",
    "metadata": {},
    "execution_count": 21,
    "data": {
        "application/vnd.dataresource+json": {
            "schema": {
                "fields": [
                    {
                        "name": "Foglalás azonosító"
                    },
                    {
                        "name": "Kezdő dátum"
                    },
                    {
                        "name": "Módosított kezdődátum"
                    }
                ]
            },
            "data": [
                {
                    "Foglalás azonosító": "706",
                    "Kezdő dátum": "2016-07-22",
                    "Módosított kezdődátum": "2016-08-22"
                },
                {
                    "Foglalás azonosító": "765",
                    "Kezdő dátum": "2016-08-09",
                    "Módosított kezdődátum": "2016-09-09"
                },
                {
                    "Foglalás azonosító": "1083",
                    "Kezdő dátum": "2016-09-27",
                    "Módosított kezdődátum": "2016-10-27"
                },
                {
                    "Foglalás azonosító": "1250",
                    "Kezdő dátum": "2016-11-05",
                    "Módosított kezdődátum": "2016-12-05"
                },
                {
                    "Foglalás azonosító": "1313",
                    "Kezdő dátum": "2016-11-23",
                    "Módosított kezdődátum": "2016-12-23"
                },
                {
                    "Foglalás azonosító": "1354",
                    "Kezdő dátum": "2016-12-07",
                    "Módosított kezdődátum": "2017-01-07"
                },
                {
                    "Foglalás azonosító": "1484",
                    "Kezdő dátum": "2017-01-30",
                    "Módosított kezdődátum": "2017-02-28"
                }
            ]
        },
        "text/html": [
            "<table>",
            "<tr><th>Foglalás azonosító</th><th>Kezdő dátum</th><th>Módosított kezdődátum</th></tr>",
            "<tr><td>706</td><td>2016-07-22</td><td>2016-08-22</td></tr>",
            "<tr><td>765</td><td>2016-08-09</td><td>2016-09-09</td></tr>",
            "<tr><td>1083</td><td>2016-09-27</td><td>2016-10-27</td></tr>",
            "<tr><td>1250</td><td>2016-11-05</td><td>2016-12-05</td></tr>",
            "<tr><td>1313</td><td>2016-11-23</td><td>2016-12-23</td></tr>",
            "<tr><td>1354</td><td>2016-12-07</td><td>2017-01-07</td></tr>",
            "<tr><td>1484</td><td>2017-01-30</td><td>2017-02-28</td></tr>",
            "</table>"
        ]
    }
}
],
            "execution_count": 21
        },
        {
            "cell_type": "markdown",
            "source": [
                "Egészítse ki a megkezdett lekérdezést, amely megjeleníti, hogy hány klímás szobája van az egyes szálláshelyeknek! \n",
                "\n",
                "a. A listában a szálláshely azonosítója mellett jelenjen meg a szálláshely neve és a klímás szobák száma!\n",
                "\n",
                "SELECT szh.SZALLAS\\_ID, szh.SZALLAS\\_NEV, \n",
                "\n",
                "              <span class=\"subquestion form-inline d-inline\" style=\"box-sizing: border-box; display: inline !important; flex-flow: wrap; align-items: center; margin: 5px 0px;\"><label class=\"subq accesshide\" for=\"q3541283:2_sub1_answer\" style=\"box-sizing: border-box; display: inline; margin: -1px -1px 0px; position: absolute; width: 1px; height: 1px; padding: 0px; overflow: hidden; clip: rect(0px, 0px, 0px, 0px); white-space: nowrap; border: 0px; align-items: center; justify-content: center;\">Válasz 1 2 kérdés</label><input type=\"text\" name=\"q3541283:2_sub1_answer\" id=\"q3541283:2_sub1_answer\" size=\"8\" class=\"form-control mb-1\" style=\"box-sizing: border-box; margin-top: 0px; margin-right: 0px; margin-left: 0px; font-family: &quot;Open Sans&quot;, sans-serif; font-size: calc(0.90375rem + 0.045vw); line-height: 1.5; overflow: visible; color: rgb(73, 80, 87); font-weight: 400; width: auto; height: 32px; padding: 0.375rem 0.75rem; background-color: rgb(255, 255, 255); background-clip: padding-box; border-width: 1px; border-style: solid; border-color: rgb(143, 149, 158); border-radius: 2px; transition: border-color 0.15s ease-in-out 0s, box-shadow 0.15s ease-in-out 0s; vertical-align: baseline; max-width: 100%; min-width: 0px; margin-bottom: 0.25rem !important;\"></span> \n",
                "\n",
                "FROM Szallashely szh JOIN Szoba sz ON <span class=\"subquestion form-inline d-inline\" style=\"box-sizing: border-box; display: inline !important; flex-flow: wrap; align-items: center; margin: 5px 0px;\"><label class=\"subq accesshide\" for=\"q3541283:2_sub2_answer\" style=\"box-sizing: border-box; display: inline; margin: -1px -1px 0px; position: absolute; width: 1px; height: 1px; padding: 0px; overflow: hidden; clip: rect(0px, 0px, 0px, 0px); white-space: nowrap; border: 0px; align-items: center; justify-content: center;\">Válasz 2 2 kérdés</label><input type=\"text\" name=\"q3541283:2_sub2_answer\" id=\"q3541283:2_sub2_answer\" size=\"28\" class=\"form-control mb-1\" style=\"box-sizing: border-box; margin-top: 0px; margin-right: 0px; margin-left: 0px; font-family: &quot;Open Sans&quot;, sans-serif; font-size: calc(0.90375rem + 0.045vw); line-height: 1.5; overflow: visible; color: rgb(73, 80, 87); font-weight: 400; width: auto; height: 32px; padding: 0.375rem 0.75rem; background-color: rgb(255, 255, 255); background-clip: padding-box; border-width: 1px; border-style: solid; border-color: rgb(143, 149, 158); border-radius: 2px; transition: border-color 0.15s ease-in-out 0s, box-shadow 0.15s ease-in-out 0s; vertical-align: baseline; max-width: 100%; min-width: 0px; margin-bottom: 0.25rem !important;\"></span>\n",
                "\n",
                "WHERE <span class=\"subquestion form-inline d-inline\" style=\"box-sizing: border-box; display: inline !important; flex-flow: wrap; align-items: center; margin: 5px 0px;\"><label class=\"subq accesshide\" for=\"q3541283:2_sub3_answer\" style=\"box-sizing: border-box; display: inline; margin: -1px -1px 0px; position: absolute; width: 1px; height: 1px; padding: 0px; overflow: hidden; clip: rect(0px, 0px, 0px, 0px); white-space: nowrap; border: 0px; align-items: center; justify-content: center;\">Válasz 3 2 kérdés</label><input type=\"text\" name=\"q3541283:2_sub3_answer\" id=\"q3541283:2_sub3_answer\" size=\"13\" class=\"form-control mb-1\" style=\"box-sizing: border-box; margin-top: 0px; margin-right: 0px; margin-left: 0px; font-family: &quot;Open Sans&quot;, sans-serif; font-size: calc(0.90375rem + 0.045vw); line-height: 1.5; overflow: visible; color: rgb(73, 80, 87); font-weight: 400; width: auto; height: 32px; padding: 0.375rem 0.75rem; background-color: rgb(255, 255, 255); background-clip: padding-box; border-width: 1px; border-style: solid; border-color: rgb(143, 149, 158); border-radius: 2px; transition: border-color 0.15s ease-in-out 0s, box-shadow 0.15s ease-in-out 0s; vertical-align: baseline; max-width: 100%; min-width: 0px; margin-bottom: 0.25rem !important;\"></span>\n",
                "\n",
                "GROUP BY <span class=\"subquestion form-inline d-inline\" style=\"box-sizing: border-box; display: inline !important; flex-flow: wrap; align-items: center; margin: 5px 0px;\"><label class=\"subq accesshide\" for=\"q3541283:2_sub4_answer\" style=\"box-sizing: border-box; display: inline; margin: -1px -1px 0px; position: absolute; width: 1px; height: 1px; padding: 0px; overflow: hidden; clip: rect(0px, 0px, 0px, 0px); white-space: nowrap; border: 0px; align-items: center; justify-content: center;\">Válasz 4 2 kérdés</label></span>"
            ],
            "metadata": {
                "azdata_cell_guid": "72475cef-ee4f-4168-8f43-688784215f81"
            },
            "attachments": {}
        },
        {
            "cell_type": "code",
            "source": [
                "SELECT szh.SZALLAS_ID, szh.SZALLAS_NEV, \r\n",
                "    Count(*) as 'Klímás szobák száma'\r\n",
                "From Szallashely szh JOIN Szoba sz ON szh.SZALLAS_ID = sz.SZALLAS_FK\r\n",
                "WHERE sz.KLIMAS = 'i'\r\n",
                "GROUP BY szh.SZALLAS_ID, szh.SZALLAS_NEV"
            ],
            "metadata": {
                "azdata_cell_guid": "39b67407-8722-4758-8ddd-5f029201b2e8",
                "language": "sql",
                "tags": []
            },
            "outputs": [
                {
                    "output_type": "display_data",
                    "data": {
                        "text/html": "(20 rows affected)"
                    },
                    "metadata": {}
                },
                {
                    "output_type": "display_data",
                    "data": {
                        "text/html": "Total execution time: 00:00:00.004"
                    },
                    "metadata": {}
                },
                {
                    "output_type": "execute_result",
                    "metadata": {},
                    "execution_count": 20,
                    "data": {
                        "application/vnd.dataresource+json": {
                            "schema": {
                                "fields": [
                                    {
                                        "name": "SZALLAS_ID"
                                    },
                                    {
                                        "name": "SZALLAS_NEV"
                                    },
                                    {
                                        "name": "Klímás szobák száma"
                                    }
                                ]
                            },
                            "data": [
                                {
                                    "SZALLAS_ID": "1",
                                    "SZALLAS_NEV": "Sába-Ház",
                                    "Klímás szobák száma": "10"
                                },
                                {
                                    "SZALLAS_ID": "2",
                                    "SZALLAS_NEV": "Családi Ház",
                                    "Klímás szobák száma": "4"
                                },
                                {
                                    "SZALLAS_ID": "3",
                                    "SZALLAS_NEV": "Fortuna Apartman",
                                    "Klímás szobák száma": "5"
                                },
                                {
                                    "SZALLAS_ID": "4",
                                    "SZALLAS_NEV": "Fortuna panzió",
                                    "Klímás szobák száma": "12"
                                },
                                {
                                    "SZALLAS_ID": "5",
                                    "SZALLAS_NEV": "Fortuna Panzió",
                                    "Klímás szobák száma": "8"
                                },
                                {
                                    "SZALLAS_ID": "6",
                                    "SZALLAS_NEV": "Kentaur Hotel",
                                    "Klímás szobák száma": "22"
                                },
                                {
                                    "SZALLAS_ID": "7",
                                    "SZALLAS_NEV": "Szieszta Apartmanház",
                                    "Klímás szobák száma": "4"
                                },
                                {
                                    "SZALLAS_ID": "8",
                                    "SZALLAS_NEV": "Hotel Három Hattyú",
                                    "Klímás szobák száma": "28"
                                },
                                {
                                    "SZALLAS_ID": "9",
                                    "SZALLAS_NEV": "Jáde panzió",
                                    "Klímás szobák száma": "2"
                                },
                                {
                                    "SZALLAS_ID": "10",
                                    "SZALLAS_NEV": "Lagúna Hotel",
                                    "Klímás szobák száma": "15"
                                },
                                {
                                    "SZALLAS_ID": "11",
                                    "SZALLAS_NEV": "Partiszél Vendégház",
                                    "Klímás szobák száma": "4"
                                },
                                {
                                    "SZALLAS_ID": "12",
                                    "SZALLAS_NEV": "Gold Hotel",
                                    "Klímás szobák száma": "42"
                                },
                                {
                                    "SZALLAS_ID": "13",
                                    "SZALLAS_NEV": "Riviéra Panzió",
                                    "Klímás szobák száma": "8"
                                },
                                {
                                    "SZALLAS_ID": "14",
                                    "SZALLAS_NEV": "Nyárfás Vendégház",
                                    "Klímás szobák száma": "4"
                                },
                                {
                                    "SZALLAS_ID": "15",
                                    "SZALLAS_NEV": "Tímárház Panzió",
                                    "Klímás szobák száma": "9"
                                },
                                {
                                    "SZALLAS_ID": "16",
                                    "SZALLAS_NEV": "Bagoly Hotel",
                                    "Klímás szobák száma": "14"
                                },
                                {
                                    "SZALLAS_ID": "17",
                                    "SZALLAS_NEV": "Szarvas Hotel",
                                    "Klímás szobák száma": "11"
                                },
                                {
                                    "SZALLAS_ID": "18",
                                    "SZALLAS_NEV": "Fortuna Apartman",
                                    "Klímás szobák száma": "2"
                                },
                                {
                                    "SZALLAS_ID": "19",
                                    "SZALLAS_NEV": "Nyárfás Vendégház",
                                    "Klímás szobák száma": "2"
                                },
                                {
                                    "SZALLAS_ID": "20",
                                    "SZALLAS_NEV": "Kollégium",
                                    "Klímás szobák száma": "9"
                                }
                            ]
                        },
                        "text/html": [
                            "<table>",
                            "<tr><th>SZALLAS_ID</th><th>SZALLAS_NEV</th><th>Klímás szobák száma</th></tr>",
                            "<tr><td>1</td><td>Sába-Ház</td><td>10</td></tr>",
                            "<tr><td>2</td><td>Családi Ház</td><td>4</td></tr>",
                            "<tr><td>3</td><td>Fortuna Apartman</td><td>5</td></tr>",
                            "<tr><td>4</td><td>Fortuna panzió</td><td>12</td></tr>",
                            "<tr><td>5</td><td>Fortuna Panzió</td><td>8</td></tr>",
                            "<tr><td>6</td><td>Kentaur Hotel</td><td>22</td></tr>",
                            "<tr><td>7</td><td>Szieszta Apartmanház</td><td>4</td></tr>",
                            "<tr><td>8</td><td>Hotel Három Hattyú</td><td>28</td></tr>",
                            "<tr><td>9</td><td>Jáde panzió</td><td>2</td></tr>",
                            "<tr><td>10</td><td>Lagúna Hotel</td><td>15</td></tr>",
                            "<tr><td>11</td><td>Partiszél Vendégház</td><td>4</td></tr>",
                            "<tr><td>12</td><td>Gold Hotel</td><td>42</td></tr>",
                            "<tr><td>13</td><td>Riviéra Panzió</td><td>8</td></tr>",
                            "<tr><td>14</td><td>Nyárfás Vendégház</td><td>4</td></tr>",
                            "<tr><td>15</td><td>Tímárház Panzió</td><td>9</td></tr>",
                            "<tr><td>16</td><td>Bagoly Hotel</td><td>14</td></tr>",
                            "<tr><td>17</td><td>Szarvas Hotel</td><td>11</td></tr>",
                            "<tr><td>18</td><td>Fortuna Apartman</td><td>2</td></tr>",
                            "<tr><td>19</td><td>Nyárfás Vendégház</td><td>2</td></tr>",
                            "<tr><td>20</td><td>Kollégium</td><td>9</td></tr>",
                            "</table>"
                        ]
                    }
                }
            ],
            "execution_count": 20
        },
        {
            "cell_type": "markdown",
            "source": [
                "Készítsen lekérdezést, amely az ügyfeleket születési idejük alapján kategóriákba sorolja (1985-ben vagy utána születettek: fiatal, 1970 előtt születettek: idős, a többiek: középkorú), majd megjeleníti, hogy melyik kategóriában hány foglalás történt!\n",
                "\n",
                "a. Csak a kategória neve és a foglalásszám jelenjen meg\n",
                "\n",
                "b. A számolás során csak azokat a foglalásokat vegyük figyelembe, amelyek legalább 2 főre történtek!"
            ],
            "metadata": {
                "azdata_cell_guid": "172f945d-fa7e-46bf-8626-7e97b81c7ac6"
            },
            "attachments": {}
        },
        {
            "cell_type": "code",
            "source": [
                "select IIF(year(v.SZUL_DAT)>=1985,'fiatal',IIF(YEAR(v.SZUL_DAT)<1970,'idős','középkorú')) as 'Kategória',\r\n",
                "    Count(f.FOGLALAS_PK) as 'Foglalás száma'\r\n",
                "from Vendeg v JOIN Foglalas f ON v.USERNEV = f.UGYFEL_FK\r\n",
                "WHERE f.FELNOTT_SZAM + f.GYERMEK_SZAM >1\r\n",
                "GROUP BY IIF(year(v.SZUL_DAT)>=1985,'fiatal',IIF(YEAR(v.SZUL_DAT)<1970,'idős','középkorú'))\r\n",
                ""
            ],
            "metadata": {
                "azdata_cell_guid": "d0826ccd-2d27-403b-b9b7-7dfea52d8c83",
                "language": "sql",
                "tags": []
            },
            "outputs": [
                {
                    "output_type": "display_data",
                    "data": {
                        "text/html": "(3 rows affected)"
                    },
                    "metadata": {}
                },
                {
                    "output_type": "display_data",
                    "data": {
                        "text/html": "Total execution time: 00:00:00.016"
                    },
                    "metadata": {}
                },
                {
                    "output_type": "execute_result",
                    "metadata": {},
                    "execution_count": 13,
                    "data": {
                        "application/vnd.dataresource+json": {
                            "schema": {
                                "fields": [
                                    {
                                        "name": "Kategória"
                                    },
                                    {
                                        "name": "Foglalás száma"
                                    }
                                ]
                            },
                            "data": [
                                {
                                    "Kategória": "fiatal",
                                    "Foglalás száma": "365"
                                },
                                {
                                    "Kategória": "idős",
                                    "Foglalás száma": "96"
                                },
                                {
                                    "Kategória": "középkorú",
                                    "Foglalás száma": "419"
                                }
                            ]
                        },
                        "text/html": [
                            "<table>",
                            "<tr><th>Kategória</th><th>Foglalás száma</th></tr>",
                            "<tr><td>fiatal</td><td>365</td></tr>",
                            "<tr><td>idős</td><td>96</td></tr>",
                            "<tr><td>középkorú</td><td>419</td></tr>",
                            "</table>"
                        ]
                    }
                }
            ],
            "execution_count": 13
        }
    ]
}