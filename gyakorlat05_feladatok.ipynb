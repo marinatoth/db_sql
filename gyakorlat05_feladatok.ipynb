{
    "metadata": {
        "kernelspec": {
            "name": "SQL",
            "display_name": "SQL",
            "language": "sql"
        },
        "language_info": {
            "name": "sql",
            "version": ""
        }
    },
    "nbformat_minor": 2,
    "nbformat": 4,
    "cells": [
        {
            "cell_type": "markdown",
            "source": [
                "1. <span style=\"color: rgb(36, 41, 47); font-family: -apple-system, BlinkMacSystemFont, &quot;Segoe UI&quot;, Helvetica, Arial, sans-serif, &quot;Apple Color Emoji&quot;, &quot;Segoe UI Emoji&quot;; font-size: 16px;\">Készítsünk listát éves bontásban norbert2 azonosítójú ügyfél rendeléseinek értékéről!</span>\n",
                "\n",
                "1. A lista megfelelően jelölve tartalmazza a végösszeget is!"
            ],
            "metadata": {
                "azdata_cell_guid": "363cd270-6577-449b-9c89-d4b7c7972d52"
            },
            "attachments": {}
        },
        {
            "cell_type": "code",
            "source": [
                "SELECT iif(YEAR(r.REND_DATUM) is null,'Végöszeg',cast(YEAR(r.REND_DATUM) as nvarchar(4))) as 'Év',\r\n",
                "sum(rt.MENNYISEG * rt.EGYSEGAR) as 'Érték'\r\n",
                "FROM Rendeles r JOIN Rendeles_tetel rt ON r.SORSZAM = rt.SORSZAM\r\n",
                "WHERE [LOGIN]='norbert2'\r\n",
                "GROUP BY rollup (YEAR(r.REND_DATUM))"
            ],
            "metadata": {
                "azdata_cell_guid": "6ab9f633-a3b5-48c9-a1dc-4fb8235ae85b",
                "language": "sql"
            },
            "outputs": [
                {
                    "output_type": "display_data",
                    "data": {
                        "text/html": "(3 rows affected)"
                    },
                    "metadata": {}
                },
                {
                    "output_type": "display_data",
                    "data": {
                        "text/html": "Total execution time: 00:00:00.018"
                    },
                    "metadata": {}
                },
                {
                    "output_type": "execute_result",
                    "metadata": {},
                    "execution_count": 24,
                    "data": {
                        "application/vnd.dataresource+json": {
                            "schema": {
                                "fields": [
                                    {
                                        "name": "Év"
                                    },
                                    {
                                        "name": "Érték"
                                    }
                                ]
                            },
                            "data": [
                                {
                                    "Év": "2015",
                                    "Érték": "483473"
                                },
                                {
                                    "Év": "2017",
                                    "Érték": "614340"
                                },
                                {
                                    "Év": "Végöszeg",
                                    "Érték": "1097813"
                                }
                            ]
                        },
                        "text/html": [
                            "<table>",
                            "<tr><th>Év</th><th>Érték</th></tr>",
                            "<tr><td>2015</td><td>483473</td></tr>",
                            "<tr><td>2017</td><td>614340</td></tr>",
                            "<tr><td>Végöszeg</td><td>1097813</td></tr>",
                            "</table>"
                        ]
                    }
                }
            ],
            "execution_count": 24
        },
        {
            "cell_type": "markdown",
            "source": [
                "2. <span style=\"color: rgb(36, 41, 47); font-family: -apple-system, BlinkMacSystemFont, &quot;Segoe UI&quot;, Helvetica, Arial, sans-serif, &quot;Apple Color Emoji&quot;, &quot;Segoe UI Emoji&quot;; font-size: 16px;\">Készítsünk listát szállítási dátumonként, azon belül szállítási módonként az egyes rendelések összmennyiségéről!</span>\n",
                "\n",
                "1. Csak azokat a termékeket vegyük figyelembe, amelyek mennyiségi egysége db!\n",
                "2. A listát szűrjük úgy, hogy az csak a részösszeg sorokat és a végösszeget tartalmazza!"
            ],
            "metadata": {
                "azdata_cell_guid": "ea75c103-911f-41a3-a32c-3d40fb3e4e4a"
            },
            "attachments": {}
        },
        {
            "cell_type": "code",
            "source": [
                "SELECT r.SZALL_DATUM as 'Év',\r\n",
                "r.SZALL_MOD as 'Szállítási mód',\r\n",
                "sum(rt.MENNYISEG) as 'Érték'\r\n",
                "FROM Rendeles r JOIN Rendeles_tetel rt ON r.SORSZAM = rt.SORSZAM JOIN Termek t ON t.TERMEKKOD = rt.TERMEKKOD\r\n",
                "WHERE t.MEGYS='db'\r\n",
                "GROUP BY rollup (r.SZALL_DATUM, r.SZALL_MOD)\r\n",
                "HAVING r.SZALL_MOD is NULL or r.SZALL_DATUM is NULL\r\n",
                "--having grouping_id(r.szall_mod, r.szall_datum) > 0"
            ],
            "metadata": {
                "azdata_cell_guid": "222b9618-a8e8-42b4-a8e8-d002257122b7",
                "language": "sql"
            },
            "outputs": [
                {
                    "output_type": "display_data",
                    "data": {
                        "text/html": "(711 rows affected)"
                    },
                    "metadata": {}
                },
                {
                    "output_type": "display_data",
                    "data": {
                        "text/html": "Total execution time: 00:00:00.225"
                    },
                    "metadata": {}
                },
                {
                    "output_type": "execute_result",
                    "metadata": {},
                    "execution_count": 32,
                    "data": {
                        "application/vnd.dataresource+json": {
                            "schema": {
                                "fields": [
                                    {
                                        "name": "Év"
                                    },
                                    {
                                        "name": "Szállítási mód"
                                    },
                                    {
                                        "name": "Érték"
                                    }
                                ]
                            },
                            "data": [
                                {
                                    "Év": "2015-05-03",
                                    "Szállítási mód": "NULL",
                                    "Érték": "100"
                                },
                                {
                                    "Év": "2015-05-04",
                                    "Szállítási mód": "NULL",
                                    "Érték": "996"
                                },
                                {
                                    "Év": "2015-05-05",
                                    "Szállítási mód": "NULL",
                                    "Érték": "3152"
                                },
                                {
                                    "Év": "2015-05-06",
                                    "Szállítási mód": "NULL",
                                    "Érték": "5030"
                                },
                                {
                                    "Év": "2015-05-07",
                                    "Szállítási mód": "NULL",
                                    "Érték": "3828"
                                },
                                {
                                    "Év": "2015-05-08",
                                    "Szállítási mód": "NULL",
                                    "Érték": "3213"
                                },
                                {
                                    "Év": "2015-05-09",
                                    "Szállítási mód": "NULL",
                                    "Érték": "6665"
                                },
                                {
                                    "Év": "2015-05-10",
                                    "Szállítási mód": "NULL",
                                    "Érték": "6909"
                                },
                                {
                                    "Év": "2015-05-11",
                                    "Szállítási mód": "NULL",
                                    "Érték": "6224"
                                },
                                {
                                    "Év": "2015-05-12",
                                    "Szállítási mód": "NULL",
                                    "Érték": "7568"
                                },
                                {
                                    "Év": "2015-05-13",
                                    "Szállítási mód": "NULL",
                                    "Érték": "7985"
                                },
                                {
                                    "Év": "2015-05-14",
                                    "Szállítási mód": "NULL",
                                    "Érték": "9706"
                                },
                                {
                                    "Év": "2015-05-15",
                                    "Szállítási mód": "NULL",
                                    "Érték": "7400"
                                },
                                {
                                    "Év": "2015-05-16",
                                    "Szállítási mód": "NULL",
                                    "Érték": "7897"
                                },
                                {
                                    "Év": "2015-05-17",
                                    "Szállítási mód": "NULL",
                                    "Érték": "4572"
                                },
                                {
                                    "Év": "2015-05-18",
                                    "Szállítási mód": "NULL",
                                    "Érték": "8190"
                                },
                                {
                                    "Év": "2015-05-19",
                                    "Szállítási mód": "NULL",
                                    "Érték": "7248"
                                },
                                {
                                    "Év": "2015-05-20",
                                    "Szállítási mód": "NULL",
                                    "Érték": "9859"
                                },
                                {
                                    "Év": "2015-05-21",
                                    "Szállítási mód": "NULL",
                                    "Érték": "8041"
                                },
                                {
                                    "Év": "2015-05-22",
                                    "Szállítási mód": "NULL",
                                    "Érték": "8338"
                                },
                                {
                                    "Év": "2015-05-23",
                                    "Szállítási mód": "NULL",
                                    "Érték": "5616"
                                },
                                {
                                    "Év": "2015-05-24",
                                    "Szállítási mód": "NULL",
                                    "Érték": "5001"
                                },
                                {
                                    "Év": "2015-05-25",
                                    "Szállítási mód": "NULL",
                                    "Érték": "7611"
                                },
                                {
                                    "Év": "2015-05-26",
                                    "Szállítási mód": "NULL",
                                    "Érték": "7153"
                                },
                                {
                                    "Év": "2015-05-27",
                                    "Szállítási mód": "NULL",
                                    "Érték": "8300"
                                },
                                {
                                    "Év": "2015-05-28",
                                    "Szállítási mód": "NULL",
                                    "Érték": "9340"
                                },
                                {
                                    "Év": "2015-05-29",
                                    "Szállítási mód": "NULL",
                                    "Érték": "10784"
                                },
                                {
                                    "Év": "2015-05-30",
                                    "Szállítási mód": "NULL",
                                    "Érték": "7763"
                                },
                                {
                                    "Év": "2015-05-31",
                                    "Szállítási mód": "NULL",
                                    "Érték": "4364"
                                },
                                {
                                    "Év": "2015-06-01",
                                    "Szállítási mód": "NULL",
                                    "Érték": "6947"
                                },
                                {
                                    "Év": "2015-06-02",
                                    "Szállítási mód": "NULL",
                                    "Érték": "6241"
                                },
                                {
                                    "Év": "2015-06-03",
                                    "Szállítási mód": "NULL",
                                    "Érték": "9359"
                                },
                                {
                                    "Év": "2015-06-04",
                                    "Szállítási mód": "NULL",
                                    "Érték": "8474"
                                },
                                {
                                    "Év": "2015-06-05",
                                    "Szállítási mód": "NULL",
                                    "Érték": "8961"
                                },
                                {
                                    "Év": "2015-06-06",
                                    "Szállítási mód": "NULL",
                                    "Érték": "9510"
                                },
                                {
                                    "Év": "2015-06-07",
                                    "Szállítási mód": "NULL",
                                    "Érték": "7956"
                                },
                                {
                                    "Év": "2015-06-08",
                                    "Szállítási mód": "NULL",
                                    "Érték": "4277"
                                },
                                {
                                    "Év": "2015-06-09",
                                    "Szállítási mód": "NULL",
                                    "Érték": "7132"
                                },
                                {
                                    "Év": "2015-06-10",
                                    "Szállítási mód": "NULL",
                                    "Érték": "9346"
                                },
                                {
                                    "Év": "2015-06-11",
                                    "Szállítási mód": "NULL",
                                    "Érték": "5191"
                                },
                                {
                                    "Év": "2015-06-12",
                                    "Szállítási mód": "NULL",
                                    "Érték": "7336"
                                },
                                {
                                    "Év": "2015-06-13",
                                    "Szállítási mód": "NULL",
                                    "Érték": "7818"
                                },
                                {
                                    "Év": "2015-06-14",
                                    "Szállítási mód": "NULL",
                                    "Érték": "6484"
                                },
                                {
                                    "Év": "2015-06-15",
                                    "Szállítási mód": "NULL",
                                    "Érték": "7796"
                                },
                                {
                                    "Év": "2015-06-16",
                                    "Szállítási mód": "NULL",
                                    "Érték": "4307"
                                },
                                {
                                    "Év": "2015-06-17",
                                    "Szállítási mód": "NULL",
                                    "Érték": "8645"
                                },
                                {
                                    "Év": "2015-06-18",
                                    "Szállítási mód": "NULL",
                                    "Érték": "10077"
                                },
                                {
                                    "Év": "2015-06-19",
                                    "Szállítási mód": "NULL",
                                    "Érték": "5675"
                                },
                                {
                                    "Év": "2015-06-20",
                                    "Szállítási mód": "NULL",
                                    "Érték": "7859"
                                },
                                {
                                    "Év": "2015-06-21",
                                    "Szállítási mód": "NULL",
                                    "Érték": "6627"
                                },
                                {
                                    "Év": "2015-06-22",
                                    "Szállítási mód": "NULL",
                                    "Érték": "9084"
                                },
                                {
                                    "Év": "2015-06-23",
                                    "Szállítási mód": "NULL",
                                    "Érték": "8869"
                                },
                                {
                                    "Év": "2015-06-24",
                                    "Szállítási mód": "NULL",
                                    "Érték": "4993"
                                },
                                {
                                    "Év": "2015-06-25",
                                    "Szállítási mód": "NULL",
                                    "Érték": "8165"
                                },
                                {
                                    "Év": "2015-06-26",
                                    "Szállítási mód": "NULL",
                                    "Érték": "10834"
                                },
                                {
                                    "Év": "2015-06-27",
                                    "Szállítási mód": "NULL",
                                    "Érték": "6396"
                                },
                                {
                                    "Év": "2015-06-28",
                                    "Szállítási mód": "NULL",
                                    "Érték": "6803"
                                },
                                {
                                    "Év": "2015-06-29",
                                    "Szállítási mód": "NULL",
                                    "Érték": "7435"
                                },
                                {
                                    "Év": "2015-06-30",
                                    "Szállítási mód": "NULL",
                                    "Érték": "8526"
                                },
                                {
                                    "Év": "2015-07-01",
                                    "Szállítási mód": "NULL",
                                    "Érték": "6032"
                                },
                                {
                                    "Év": "2015-07-02",
                                    "Szállítási mód": "NULL",
                                    "Érték": "7066"
                                },
                                {
                                    "Év": "2015-07-03",
                                    "Szállítási mód": "NULL",
                                    "Érték": "6359"
                                },
                                {
                                    "Év": "2015-07-04",
                                    "Szállítási mód": "NULL",
                                    "Érték": "8739"
                                },
                                {
                                    "Év": "2015-07-05",
                                    "Szállítási mód": "NULL",
                                    "Érték": "8558"
                                },
                                {
                                    "Év": "2015-07-06",
                                    "Szállítási mód": "NULL",
                                    "Érték": "8389"
                                },
                                {
                                    "Év": "2015-07-07",
                                    "Szállítási mód": "NULL",
                                    "Érték": "9522"
                                },
                                {
                                    "Év": "2015-07-08",
                                    "Szállítási mód": "NULL",
                                    "Érték": "6395"
                                },
                                {
                                    "Év": "2015-07-09",
                                    "Szállítási mód": "NULL",
                                    "Érték": "7375"
                                },
                                {
                                    "Év": "2015-07-10",
                                    "Szállítási mód": "NULL",
                                    "Érték": "7676"
                                },
                                {
                                    "Év": "2015-07-11",
                                    "Szállítási mód": "NULL",
                                    "Érték": "7366"
                                },
                                {
                                    "Év": "2015-07-12",
                                    "Szállítási mód": "NULL",
                                    "Érték": "8638"
                                },
                                {
                                    "Év": "2015-07-13",
                                    "Szállítási mód": "NULL",
                                    "Érték": "8300"
                                },
                                {
                                    "Év": "2015-07-14",
                                    "Szállítási mód": "NULL",
                                    "Érték": "6340"
                                },
                                {
                                    "Év": "2015-07-15",
                                    "Szállítási mód": "NULL",
                                    "Érték": "8615"
                                },
                                {
                                    "Év": "2015-07-16",
                                    "Szállítási mód": "NULL",
                                    "Érték": "7041"
                                },
                                {
                                    "Év": "2015-07-17",
                                    "Szállítási mód": "NULL",
                                    "Érték": "7327"
                                },
                                {
                                    "Év": "2015-07-18",
                                    "Szállítási mód": "NULL",
                                    "Érték": "6762"
                                },
                                {
                                    "Év": "2015-07-19",
                                    "Szállítási mód": "NULL",
                                    "Érték": "6776"
                                },
                                {
                                    "Év": "2015-07-20",
                                    "Szállítási mód": "NULL",
                                    "Érték": "9748"
                                },
                                {
                                    "Év": "2015-07-21",
                                    "Szállítási mód": "NULL",
                                    "Érték": "9805"
                                },
                                {
                                    "Év": "2015-07-22",
                                    "Szállítási mód": "NULL",
                                    "Érték": "5140"
                                },
                                {
                                    "Év": "2015-07-23",
                                    "Szállítási mód": "NULL",
                                    "Érték": "7258"
                                },
                                {
                                    "Év": "2015-07-24",
                                    "Szállítási mód": "NULL",
                                    "Érték": "8697"
                                },
                                {
                                    "Év": "2015-07-25",
                                    "Szállítási mód": "NULL",
                                    "Érték": "8180"
                                },
                                {
                                    "Év": "2015-07-26",
                                    "Szállítási mód": "NULL",
                                    "Érték": "9323"
                                },
                                {
                                    "Év": "2015-07-27",
                                    "Szállítási mód": "NULL",
                                    "Érték": "5417"
                                },
                                {
                                    "Év": "2015-07-28",
                                    "Szállítási mód": "NULL",
                                    "Érték": "7825"
                                },
                                {
                                    "Év": "2015-07-29",
                                    "Szállítási mód": "NULL",
                                    "Érték": "6405"
                                },
                                {
                                    "Év": "2015-07-30",
                                    "Szállítási mód": "NULL",
                                    "Érték": "10029"
                                },
                                {
                                    "Év": "2015-07-31",
                                    "Szállítási mód": "NULL",
                                    "Érték": "8673"
                                },
                                {
                                    "Év": "2015-08-01",
                                    "Szállítási mód": "NULL",
                                    "Érték": "9957"
                                },
                                {
                                    "Év": "2015-08-02",
                                    "Szállítási mód": "NULL",
                                    "Érték": "7599"
                                },
                                {
                                    "Év": "2015-08-03",
                                    "Szállítási mód": "NULL",
                                    "Érték": "9208"
                                },
                                {
                                    "Év": "2015-08-04",
                                    "Szállítási mód": "NULL",
                                    "Érték": "9353"
                                },
                                {
                                    "Év": "2015-08-05",
                                    "Szállítási mód": "NULL",
                                    "Érték": "10342"
                                },
                                {
                                    "Év": "2015-08-06",
                                    "Szállítási mód": "NULL",
                                    "Érték": "5124"
                                },
                                {
                                    "Év": "2015-08-07",
                                    "Szállítási mód": "NULL",
                                    "Érték": "8960"
                                },
                                {
                                    "Év": "2015-08-08",
                                    "Szállítási mód": "NULL",
                                    "Érték": "10296"
                                },
                                {
                                    "Év": "2015-08-09",
                                    "Szállítási mód": "NULL",
                                    "Érték": "6026"
                                },
                                {
                                    "Év": "2015-08-10",
                                    "Szállítási mód": "NULL",
                                    "Érték": "7896"
                                },
                                {
                                    "Év": "2015-08-11",
                                    "Szállítási mód": "NULL",
                                    "Érték": "9008"
                                },
                                {
                                    "Év": "2015-08-12",
                                    "Szállítási mód": "NULL",
                                    "Érték": "7605"
                                },
                                {
                                    "Év": "2015-08-13",
                                    "Szállítási mód": "NULL",
                                    "Érték": "9380"
                                },
                                {
                                    "Év": "2015-08-14",
                                    "Szállítási mód": "NULL",
                                    "Érték": "9780"
                                },
                                {
                                    "Év": "2015-08-15",
                                    "Szállítási mód": "NULL",
                                    "Érték": "7514"
                                },
                                {
                                    "Év": "2015-08-16",
                                    "Szállítási mód": "NULL",
                                    "Érték": "5341"
                                },
                                {
                                    "Év": "2015-08-17",
                                    "Szállítási mód": "NULL",
                                    "Érték": "7162"
                                },
                                {
                                    "Év": "2015-08-18",
                                    "Szállítási mód": "NULL",
                                    "Érték": "6271"
                                },
                                {
                                    "Év": "2015-08-19",
                                    "Szállítási mód": "NULL",
                                    "Érték": "6650"
                                },
                                {
                                    "Év": "2015-08-20",
                                    "Szállítási mód": "NULL",
                                    "Érték": "9005"
                                },
                                {
                                    "Év": "2015-08-21",
                                    "Szállítási mód": "NULL",
                                    "Érték": "6874"
                                },
                                {
                                    "Év": "2015-08-22",
                                    "Szállítási mód": "NULL",
                                    "Érték": "10138"
                                },
                                {
                                    "Év": "2015-08-23",
                                    "Szállítási mód": "NULL",
                                    "Érték": "6734"
                                },
                                {
                                    "Év": "2015-08-24",
                                    "Szállítási mód": "NULL",
                                    "Érték": "7767"
                                },
                                {
                                    "Év": "2015-08-25",
                                    "Szállítási mód": "NULL",
                                    "Érték": "9206"
                                },
                                {
                                    "Év": "2015-08-26",
                                    "Szállítási mód": "NULL",
                                    "Érték": "11006"
                                },
                                {
                                    "Év": "2015-08-27",
                                    "Szállítási mód": "NULL",
                                    "Érték": "6244"
                                },
                                {
                                    "Év": "2015-08-28",
                                    "Szállítási mód": "NULL",
                                    "Érték": "8145"
                                },
                                {
                                    "Év": "2015-08-29",
                                    "Szállítási mód": "NULL",
                                    "Érték": "7380"
                                },
                                {
                                    "Év": "2015-08-30",
                                    "Szállítási mód": "NULL",
                                    "Érték": "9727"
                                },
                                {
                                    "Év": "2015-08-31",
                                    "Szállítási mód": "NULL",
                                    "Érték": "7226"
                                },
                                {
                                    "Év": "2015-09-01",
                                    "Szállítási mód": "NULL",
                                    "Érték": "9466"
                                },
                                {
                                    "Év": "2015-09-02",
                                    "Szállítási mód": "NULL",
                                    "Érték": "6179"
                                },
                                {
                                    "Év": "2015-09-03",
                                    "Szállítási mód": "NULL",
                                    "Érték": "9949"
                                },
                                {
                                    "Év": "2015-09-04",
                                    "Szállítási mód": "NULL",
                                    "Érték": "10432"
                                },
                                {
                                    "Év": "2015-09-05",
                                    "Szállítási mód": "NULL",
                                    "Érték": "7083"
                                },
                                {
                                    "Év": "2015-09-06",
                                    "Szállítási mód": "NULL",
                                    "Érték": "8378"
                                },
                                {
                                    "Év": "2015-09-07",
                                    "Szállítási mód": "NULL",
                                    "Érték": "8303"
                                },
                                {
                                    "Év": "2015-09-08",
                                    "Szállítási mód": "NULL",
                                    "Érték": "8349"
                                },
                                {
                                    "Év": "2015-09-09",
                                    "Szállítási mód": "NULL",
                                    "Érték": "7985"
                                },
                                {
                                    "Év": "2015-09-10",
                                    "Szállítási mód": "NULL",
                                    "Érték": "10353"
                                },
                                {
                                    "Év": "2015-09-11",
                                    "Szállítási mód": "NULL",
                                    "Érték": "9284"
                                },
                                {
                                    "Év": "2015-09-12",
                                    "Szállítási mód": "NULL",
                                    "Érték": "8553"
                                },
                                {
                                    "Év": "2015-09-13",
                                    "Szállítási mód": "NULL",
                                    "Érték": "7435"
                                },
                                {
                                    "Év": "2015-09-14",
                                    "Szállítási mód": "NULL",
                                    "Érték": "8232"
                                },
                                {
                                    "Év": "2015-09-15",
                                    "Szállítási mód": "NULL",
                                    "Érték": "4776"
                                },
                                {
                                    "Év": "2015-09-16",
                                    "Szállítási mód": "NULL",
                                    "Érték": "7416"
                                },
                                {
                                    "Év": "2015-09-17",
                                    "Szállítási mód": "NULL",
                                    "Érték": "8358"
                                },
                                {
                                    "Év": "2015-09-18",
                                    "Szállítási mód": "NULL",
                                    "Érték": "7210"
                                },
                                {
                                    "Év": "2015-09-19",
                                    "Szállítási mód": "NULL",
                                    "Érték": "8267"
                                },
                                {
                                    "Év": "2015-09-20",
                                    "Szállítási mód": "NULL",
                                    "Érték": "10001"
                                },
                                {
                                    "Év": "2015-09-21",
                                    "Szállítási mód": "NULL",
                                    "Érték": "7086"
                                },
                                {
                                    "Év": "2015-09-22",
                                    "Szállítási mód": "NULL",
                                    "Érték": "7424"
                                },
                                {
                                    "Év": "2015-09-23",
                                    "Szállítási mód": "NULL",
                                    "Érték": "8183"
                                },
                                {
                                    "Év": "2015-09-24",
                                    "Szállítási mód": "NULL",
                                    "Érték": "10252"
                                },
                                {
                                    "Év": "2015-09-25",
                                    "Szállítási mód": "NULL",
                                    "Érték": "8106"
                                },
                                {
                                    "Év": "2015-09-26",
                                    "Szállítási mód": "NULL",
                                    "Érték": "9451"
                                },
                                {
                                    "Év": "2015-09-27",
                                    "Szállítási mód": "NULL",
                                    "Érték": "8692"
                                },
                                {
                                    "Év": "2015-09-28",
                                    "Szállítási mód": "NULL",
                                    "Érték": "10281"
                                },
                                {
                                    "Év": "2015-09-29",
                                    "Szállítási mód": "NULL",
                                    "Érték": "9481"
                                },
                                {
                                    "Év": "2015-09-30",
                                    "Szállítási mód": "NULL",
                                    "Érték": "5900"
                                },
                                {
                                    "Év": "2015-10-01",
                                    "Szállítási mód": "NULL",
                                    "Érték": "9384"
                                },
                                {
                                    "Év": "2015-10-02",
                                    "Szállítási mód": "NULL",
                                    "Érték": "5674"
                                },
                                {
                                    "Év": "2015-10-03",
                                    "Szállítási mód": "NULL",
                                    "Érték": "8509"
                                },
                                {
                                    "Év": "2015-10-04",
                                    "Szállítási mód": "NULL",
                                    "Érték": "7645"
                                },
                                {
                                    "Év": "2015-10-05",
                                    "Szállítási mód": "NULL",
                                    "Érték": "8535"
                                },
                                {
                                    "Év": "2015-10-06",
                                    "Szállítási mód": "NULL",
                                    "Érték": "7529"
                                },
                                {
                                    "Év": "2015-10-07",
                                    "Szállítási mód": "NULL",
                                    "Érték": "9435"
                                },
                                {
                                    "Év": "2015-10-08",
                                    "Szállítási mód": "NULL",
                                    "Érték": "7319"
                                },
                                {
                                    "Év": "2015-10-09",
                                    "Szállítási mód": "NULL",
                                    "Érték": "8931"
                                },
                                {
                                    "Év": "2015-10-10",
                                    "Szállítási mód": "NULL",
                                    "Érték": "7928"
                                },
                                {
                                    "Év": "2015-10-11",
                                    "Szállítási mód": "NULL",
                                    "Érték": "7516"
                                },
                                {
                                    "Év": "2015-10-12",
                                    "Szállítási mód": "NULL",
                                    "Érték": "9355"
                                },
                                {
                                    "Év": "2015-10-13",
                                    "Szállítási mód": "NULL",
                                    "Érték": "6564"
                                },
                                {
                                    "Év": "2015-10-14",
                                    "Szállítási mód": "NULL",
                                    "Érték": "7035"
                                },
                                {
                                    "Év": "2015-10-15",
                                    "Szállítási mód": "NULL",
                                    "Érték": "9269"
                                },
                                {
                                    "Év": "2015-10-16",
                                    "Szállítási mód": "NULL",
                                    "Érték": "8427"
                                },
                                {
                                    "Év": "2015-10-17",
                                    "Szállítási mód": "NULL",
                                    "Érték": "6936"
                                },
                                {
                                    "Év": "2015-10-18",
                                    "Szállítási mód": "NULL",
                                    "Érték": "8671"
                                },
                                {
                                    "Év": "2015-10-19",
                                    "Szállítási mód": "NULL",
                                    "Érték": "7207"
                                },
                                {
                                    "Év": "2015-10-20",
                                    "Szállítási mód": "NULL",
                                    "Érték": "8613"
                                },
                                {
                                    "Év": "2015-10-21",
                                    "Szállítási mód": "NULL",
                                    "Érték": "7366"
                                },
                                {
                                    "Év": "2015-10-22",
                                    "Szállítási mód": "NULL",
                                    "Érték": "6678"
                                },
                                {
                                    "Év": "2015-10-23",
                                    "Szállítási mód": "NULL",
                                    "Érték": "8056"
                                },
                                {
                                    "Év": "2015-10-24",
                                    "Szállítási mód": "NULL",
                                    "Érték": "7233"
                                },
                                {
                                    "Év": "2015-10-25",
                                    "Szállítási mód": "NULL",
                                    "Érték": "9107"
                                },
                                {
                                    "Év": "2015-10-26",
                                    "Szállítási mód": "NULL",
                                    "Érték": "9776"
                                },
                                {
                                    "Év": "2015-10-27",
                                    "Szállítási mód": "NULL",
                                    "Érték": "7669"
                                },
                                {
                                    "Év": "2015-10-28",
                                    "Szállítási mód": "NULL",
                                    "Érték": "7522"
                                },
                                {
                                    "Év": "2015-10-29",
                                    "Szállítási mód": "NULL",
                                    "Érték": "6971"
                                },
                                {
                                    "Év": "2015-10-30",
                                    "Szállítási mód": "NULL",
                                    "Érték": "8999"
                                },
                                {
                                    "Év": "2015-10-31",
                                    "Szállítási mód": "NULL",
                                    "Érték": "7046"
                                },
                                {
                                    "Év": "2015-11-01",
                                    "Szállítási mód": "NULL",
                                    "Érték": "6171"
                                },
                                {
                                    "Év": "2015-11-02",
                                    "Szállítási mód": "NULL",
                                    "Érték": "7612"
                                },
                                {
                                    "Év": "2015-11-03",
                                    "Szállítási mód": "NULL",
                                    "Érték": "11533"
                                },
                                {
                                    "Év": "2015-11-04",
                                    "Szállítási mód": "NULL",
                                    "Érték": "5352"
                                },
                                {
                                    "Év": "2015-11-05",
                                    "Szállítási mód": "NULL",
                                    "Érték": "7183"
                                },
                                {
                                    "Év": "2015-11-06",
                                    "Szállítási mód": "NULL",
                                    "Érték": "8606"
                                },
                                {
                                    "Év": "2015-11-07",
                                    "Szállítási mód": "NULL",
                                    "Érték": "7260"
                                },
                                {
                                    "Év": "2015-11-08",
                                    "Szállítási mód": "NULL",
                                    "Érték": "8177"
                                },
                                {
                                    "Év": "2015-11-09",
                                    "Szállítási mód": "NULL",
                                    "Érték": "8431"
                                },
                                {
                                    "Év": "2015-11-10",
                                    "Szállítási mód": "NULL",
                                    "Érték": "8329"
                                },
                                {
                                    "Év": "2015-11-11",
                                    "Szállítási mód": "NULL",
                                    "Érték": "8191"
                                },
                                {
                                    "Év": "2015-11-12",
                                    "Szállítási mód": "NULL",
                                    "Érték": "5884"
                                },
                                {
                                    "Év": "2015-11-13",
                                    "Szállítási mód": "NULL",
                                    "Érték": "7359"
                                },
                                {
                                    "Év": "2015-11-14",
                                    "Szállítási mód": "NULL",
                                    "Érték": "7730"
                                },
                                {
                                    "Év": "2015-11-15",
                                    "Szállítási mód": "NULL",
                                    "Érték": "6881"
                                },
                                {
                                    "Év": "2015-11-16",
                                    "Szállítási mód": "NULL",
                                    "Érték": "7721"
                                },
                                {
                                    "Év": "2015-11-17",
                                    "Szállítási mód": "NULL",
                                    "Érték": "7234"
                                },
                                {
                                    "Év": "2015-11-18",
                                    "Szállítási mód": "NULL",
                                    "Érték": "8321"
                                },
                                {
                                    "Év": "2015-11-19",
                                    "Szállítási mód": "NULL",
                                    "Érték": "7582"
                                },
                                {
                                    "Év": "2015-11-20",
                                    "Szállítási mód": "NULL",
                                    "Érték": "6288"
                                },
                                {
                                    "Év": "2015-11-21",
                                    "Szállítási mód": "NULL",
                                    "Érték": "6657"
                                },
                                {
                                    "Év": "2015-11-22",
                                    "Szállítási mód": "NULL",
                                    "Érték": "8640"
                                },
                                {
                                    "Év": "2015-11-23",
                                    "Szállítási mód": "NULL",
                                    "Érték": "7363"
                                },
                                {
                                    "Év": "2015-11-24",
                                    "Szállítási mód": "NULL",
                                    "Érték": "7556"
                                },
                                {
                                    "Év": "2015-11-25",
                                    "Szállítási mód": "NULL",
                                    "Érték": "7103"
                                },
                                {
                                    "Év": "2015-11-26",
                                    "Szállítási mód": "NULL",
                                    "Érték": "8368"
                                },
                                {
                                    "Év": "2015-11-27",
                                    "Szállítási mód": "NULL",
                                    "Érték": "6865"
                                },
                                {
                                    "Év": "2015-11-28",
                                    "Szállítási mód": "NULL",
                                    "Érték": "10098"
                                },
                                {
                                    "Év": "2015-11-29",
                                    "Szállítási mód": "NULL",
                                    "Érték": "7636"
                                },
                                {
                                    "Év": "2015-11-30",
                                    "Szállítási mód": "NULL",
                                    "Érték": "7182"
                                },
                                {
                                    "Év": "2015-12-01",
                                    "Szállítási mód": "NULL",
                                    "Érték": "7314"
                                },
                                {
                                    "Év": "2015-12-02",
                                    "Szállítási mód": "NULL",
                                    "Érték": "9592"
                                },
                                {
                                    "Év": "2015-12-03",
                                    "Szállítási mód": "NULL",
                                    "Érték": "8829"
                                },
                                {
                                    "Év": "2015-12-04",
                                    "Szállítási mód": "NULL",
                                    "Érték": "8013"
                                },
                                {
                                    "Év": "2015-12-05",
                                    "Szállítási mód": "NULL",
                                    "Érték": "8887"
                                },
                                {
                                    "Év": "2015-12-06",
                                    "Szállítási mód": "NULL",
                                    "Érték": "5596"
                                },
                                {
                                    "Év": "2015-12-07",
                                    "Szállítási mód": "NULL",
                                    "Érték": "8825"
                                },
                                {
                                    "Év": "2015-12-08",
                                    "Szállítási mód": "NULL",
                                    "Érték": "7819"
                                },
                                {
                                    "Év": "2015-12-09",
                                    "Szállítási mód": "NULL",
                                    "Érték": "7897"
                                },
                                {
                                    "Év": "2015-12-10",
                                    "Szállítási mód": "NULL",
                                    "Érték": "9644"
                                },
                                {
                                    "Év": "2015-12-11",
                                    "Szállítási mód": "NULL",
                                    "Érték": "8093"
                                },
                                {
                                    "Év": "2015-12-12",
                                    "Szállítási mód": "NULL",
                                    "Érték": "8957"
                                },
                                {
                                    "Év": "2015-12-13",
                                    "Szállítási mód": "NULL",
                                    "Érték": "7399"
                                },
                                {
                                    "Év": "2015-12-14",
                                    "Szállítási mód": "NULL",
                                    "Érték": "7676"
                                },
                                {
                                    "Év": "2015-12-15",
                                    "Szállítási mód": "NULL",
                                    "Érték": "6863"
                                },
                                {
                                    "Év": "2015-12-16",
                                    "Szállítási mód": "NULL",
                                    "Érték": "7886"
                                },
                                {
                                    "Év": "2015-12-17",
                                    "Szállítási mód": "NULL",
                                    "Érték": "6894"
                                },
                                {
                                    "Év": "2015-12-18",
                                    "Szállítási mód": "NULL",
                                    "Érték": "12260"
                                },
                                {
                                    "Év": "2015-12-19",
                                    "Szállítási mód": "NULL",
                                    "Érték": "5788"
                                },
                                {
                                    "Év": "2015-12-20",
                                    "Szállítási mód": "NULL",
                                    "Érték": "8699"
                                },
                                {
                                    "Év": "2015-12-21",
                                    "Szállítási mód": "NULL",
                                    "Érték": "6630"
                                },
                                {
                                    "Év": "2015-12-22",
                                    "Szállítási mód": "NULL",
                                    "Érték": "9212"
                                },
                                {
                                    "Év": "2015-12-23",
                                    "Szállítási mód": "NULL",
                                    "Érték": "6676"
                                },
                                {
                                    "Év": "2015-12-24",
                                    "Szállítási mód": "NULL",
                                    "Érték": "8869"
                                },
                                {
                                    "Év": "2015-12-25",
                                    "Szállítási mód": "NULL",
                                    "Érték": "6944"
                                },
                                {
                                    "Év": "2015-12-26",
                                    "Szállítási mód": "NULL",
                                    "Érték": "8921"
                                },
                                {
                                    "Év": "2015-12-27",
                                    "Szállítási mód": "NULL",
                                    "Érték": "7648"
                                },
                                {
                                    "Év": "2015-12-28",
                                    "Szállítási mód": "NULL",
                                    "Érték": "8042"
                                },
                                {
                                    "Év": "2015-12-29",
                                    "Szállítási mód": "NULL",
                                    "Érték": "7923"
                                },
                                {
                                    "Év": "2015-12-30",
                                    "Szállítási mód": "NULL",
                                    "Érték": "6562"
                                },
                                {
                                    "Év": "2015-12-31",
                                    "Szállítási mód": "NULL",
                                    "Érték": "7021"
                                },
                                {
                                    "Év": "2016-01-01",
                                    "Szállítási mód": "NULL",
                                    "Érték": "8837"
                                },
                                {
                                    "Év": "2016-01-02",
                                    "Szállítási mód": "NULL",
                                    "Érték": "7518"
                                },
                                {
                                    "Év": "2016-01-03",
                                    "Szállítási mód": "NULL",
                                    "Érték": "8422"
                                },
                                {
                                    "Év": "2016-01-04",
                                    "Szállítási mód": "NULL",
                                    "Érték": "8813"
                                },
                                {
                                    "Év": "2016-01-05",
                                    "Szállítási mód": "NULL",
                                    "Érték": "6895"
                                },
                                {
                                    "Év": "2016-01-06",
                                    "Szállítási mód": "NULL",
                                    "Érték": "6716"
                                },
                                {
                                    "Év": "2016-01-07",
                                    "Szállítási mód": "NULL",
                                    "Érték": "5593"
                                },
                                {
                                    "Év": "2016-01-08",
                                    "Szállítási mód": "NULL",
                                    "Érték": "9534"
                                },
                                {
                                    "Év": "2016-01-09",
                                    "Szállítási mód": "NULL",
                                    "Érték": "7056"
                                },
                                {
                                    "Év": "2016-01-10",
                                    "Szállítási mód": "NULL",
                                    "Érték": "8057"
                                },
                                {
                                    "Év": "2016-01-11",
                                    "Szállítási mód": "NULL",
                                    "Érték": "6734"
                                },
                                {
                                    "Év": "2016-01-12",
                                    "Szállítási mód": "NULL",
                                    "Érték": "6949"
                                },
                                {
                                    "Év": "2016-01-13",
                                    "Szállítási mód": "NULL",
                                    "Érték": "7487"
                                },
                                {
                                    "Év": "2016-01-14",
                                    "Szállítási mód": "NULL",
                                    "Érték": "8998"
                                },
                                {
                                    "Év": "2016-01-15",
                                    "Szállítási mód": "NULL",
                                    "Érték": "9345"
                                },
                                {
                                    "Év": "2016-01-16",
                                    "Szállítási mód": "NULL",
                                    "Érték": "8068"
                                },
                                {
                                    "Év": "2016-01-17",
                                    "Szállítási mód": "NULL",
                                    "Érték": "6954"
                                },
                                {
                                    "Év": "2016-01-18",
                                    "Szállítási mód": "NULL",
                                    "Érték": "4416"
                                },
                                {
                                    "Év": "2016-01-19",
                                    "Szállítási mód": "NULL",
                                    "Érték": "7124"
                                },
                                {
                                    "Év": "2016-01-20",
                                    "Szállítási mód": "NULL",
                                    "Érték": "8568"
                                },
                                {
                                    "Év": "2016-01-21",
                                    "Szállítási mód": "NULL",
                                    "Érték": "10953"
                                },
                                {
                                    "Év": "2016-01-22",
                                    "Szállítási mód": "NULL",
                                    "Érték": "8588"
                                },
                                {
                                    "Év": "2016-01-23",
                                    "Szállítási mód": "NULL",
                                    "Érték": "6512"
                                },
                                {
                                    "Év": "2016-01-24",
                                    "Szállítási mód": "NULL",
                                    "Érték": "8898"
                                },
                                {
                                    "Év": "2016-01-25",
                                    "Szállítási mód": "NULL",
                                    "Érték": "5191"
                                },
                                {
                                    "Év": "2016-01-26",
                                    "Szállítási mód": "NULL",
                                    "Érték": "5293"
                                },
                                {
                                    "Év": "2016-01-27",
                                    "Szállítási mód": "NULL",
                                    "Érték": "6513"
                                },
                                {
                                    "Év": "2016-01-28",
                                    "Szállítási mód": "NULL",
                                    "Érték": "8119"
                                },
                                {
                                    "Év": "2016-01-29",
                                    "Szállítási mód": "NULL",
                                    "Érték": "6658"
                                },
                                {
                                    "Év": "2016-01-30",
                                    "Szállítási mód": "NULL",
                                    "Érték": "8727"
                                },
                                {
                                    "Év": "2016-01-31",
                                    "Szállítási mód": "NULL",
                                    "Érték": "7527"
                                },
                                {
                                    "Év": "2016-02-01",
                                    "Szállítási mód": "NULL",
                                    "Érték": "9120"
                                },
                                {
                                    "Év": "2016-02-02",
                                    "Szállítási mód": "NULL",
                                    "Érték": "8088"
                                },
                                {
                                    "Év": "2016-02-03",
                                    "Szállítási mód": "NULL",
                                    "Érték": "9306"
                                },
                                {
                                    "Év": "2016-02-04",
                                    "Szállítási mód": "NULL",
                                    "Érték": "7994"
                                },
                                {
                                    "Év": "2016-02-05",
                                    "Szállítási mód": "NULL",
                                    "Érték": "9703"
                                },
                                {
                                    "Év": "2016-02-06",
                                    "Szállítási mód": "NULL",
                                    "Érték": "9860"
                                },
                                {
                                    "Év": "2016-02-07",
                                    "Szállítási mód": "NULL",
                                    "Érték": "6630"
                                },
                                {
                                    "Év": "2016-02-08",
                                    "Szállítási mód": "NULL",
                                    "Érték": "10093"
                                },
                                {
                                    "Év": "2016-02-09",
                                    "Szállítási mód": "NULL",
                                    "Érték": "9706"
                                },
                                {
                                    "Év": "2016-02-10",
                                    "Szállítási mód": "NULL",
                                    "Érték": "8520"
                                },
                                {
                                    "Év": "2016-02-11",
                                    "Szállítási mód": "NULL",
                                    "Érték": "7094"
                                },
                                {
                                    "Év": "2016-02-12",
                                    "Szállítási mód": "NULL",
                                    "Érték": "7789"
                                },
                                {
                                    "Év": "2016-02-13",
                                    "Szállítási mód": "NULL",
                                    "Érték": "7991"
                                },
                                {
                                    "Év": "2016-02-14",
                                    "Szállítási mód": "NULL",
                                    "Érték": "8049"
                                },
                                {
                                    "Év": "2016-02-15",
                                    "Szállítási mód": "NULL",
                                    "Érték": "10033"
                                },
                                {
                                    "Év": "2016-02-16",
                                    "Szállítási mód": "NULL",
                                    "Érték": "8049"
                                },
                                {
                                    "Év": "2016-02-17",
                                    "Szállítási mód": "NULL",
                                    "Érték": "9586"
                                },
                                {
                                    "Év": "2016-02-18",
                                    "Szállítási mód": "NULL",
                                    "Érték": "5922"
                                },
                                {
                                    "Év": "2016-02-19",
                                    "Szállítási mód": "NULL",
                                    "Érték": "8898"
                                },
                                {
                                    "Év": "2016-02-20",
                                    "Szállítási mód": "NULL",
                                    "Érték": "7549"
                                },
                                {
                                    "Év": "2016-02-21",
                                    "Szállítási mód": "NULL",
                                    "Érték": "6531"
                                },
                                {
                                    "Év": "2016-02-22",
                                    "Szállítási mód": "NULL",
                                    "Érték": "8724"
                                },
                                {
                                    "Év": "2016-02-23",
                                    "Szállítási mód": "NULL",
                                    "Érték": "6959"
                                },
                                {
                                    "Év": "2016-02-24",
                                    "Szállítási mód": "NULL",
                                    "Érték": "6314"
                                },
                                {
                                    "Év": "2016-02-25",
                                    "Szállítási mód": "NULL",
                                    "Érték": "7324"
                                },
                                {
                                    "Év": "2016-02-26",
                                    "Szállítási mód": "NULL",
                                    "Érték": "8466"
                                },
                                {
                                    "Év": "2016-02-27",
                                    "Szállítási mód": "NULL",
                                    "Érték": "7122"
                                },
                                {
                                    "Év": "2016-02-28",
                                    "Szállítási mód": "NULL",
                                    "Érték": "8447"
                                },
                                {
                                    "Év": "2016-02-29",
                                    "Szállítási mód": "NULL",
                                    "Érték": "8516"
                                },
                                {
                                    "Év": "2016-03-01",
                                    "Szállítási mód": "NULL",
                                    "Érték": "9654"
                                },
                                {
                                    "Év": "2016-03-02",
                                    "Szállítási mód": "NULL",
                                    "Érték": "7282"
                                },
                                {
                                    "Év": "2016-03-03",
                                    "Szállítási mód": "NULL",
                                    "Érték": "8853"
                                },
                                {
                                    "Év": "2016-03-04",
                                    "Szállítási mód": "NULL",
                                    "Érték": "8549"
                                },
                                {
                                    "Év": "2016-03-05",
                                    "Szállítási mód": "NULL",
                                    "Érték": "9463"
                                },
                                {
                                    "Év": "2016-03-06",
                                    "Szállítási mód": "NULL",
                                    "Érték": "7740"
                                },
                                {
                                    "Év": "2016-03-07",
                                    "Szállítási mód": "NULL",
                                    "Érték": "7680"
                                },
                                {
                                    "Év": "2016-03-08",
                                    "Szállítási mód": "NULL",
                                    "Érték": "5849"
                                },
                                {
                                    "Év": "2016-03-09",
                                    "Szállítási mód": "NULL",
                                    "Érték": "9412"
                                },
                                {
                                    "Év": "2016-03-10",
                                    "Szállítási mód": "NULL",
                                    "Érték": "8848"
                                },
                                {
                                    "Év": "2016-03-11",
                                    "Szállítási mód": "NULL",
                                    "Érték": "6193"
                                },
                                {
                                    "Év": "2016-03-12",
                                    "Szállítási mód": "NULL",
                                    "Érték": "10487"
                                },
                                {
                                    "Év": "2016-03-13",
                                    "Szállítási mód": "NULL",
                                    "Érték": "5913"
                                },
                                {
                                    "Év": "2016-03-14",
                                    "Szállítási mód": "NULL",
                                    "Érték": "9336"
                                },
                                {
                                    "Év": "2016-03-15",
                                    "Szállítási mód": "NULL",
                                    "Érték": "8180"
                                },
                                {
                                    "Év": "2016-03-16",
                                    "Szállítási mód": "NULL",
                                    "Érték": "7448"
                                },
                                {
                                    "Év": "2016-03-17",
                                    "Szállítási mód": "NULL",
                                    "Érték": "7770"
                                },
                                {
                                    "Év": "2016-03-18",
                                    "Szállítási mód": "NULL",
                                    "Érték": "6927"
                                },
                                {
                                    "Év": "2016-03-19",
                                    "Szállítási mód": "NULL",
                                    "Érték": "7827"
                                },
                                {
                                    "Év": "2016-03-20",
                                    "Szállítási mód": "NULL",
                                    "Érték": "12190"
                                },
                                {
                                    "Év": "2016-03-21",
                                    "Szállítási mód": "NULL",
                                    "Érték": "11075"
                                },
                                {
                                    "Év": "2016-03-22",
                                    "Szállítási mód": "NULL",
                                    "Érték": "7770"
                                },
                                {
                                    "Év": "2016-03-23",
                                    "Szállítási mód": "NULL",
                                    "Érték": "6397"
                                },
                                {
                                    "Év": "2016-03-24",
                                    "Szállítási mód": "NULL",
                                    "Érték": "7220"
                                },
                                {
                                    "Év": "2016-03-25",
                                    "Szállítási mód": "NULL",
                                    "Érték": "8763"
                                },
                                {
                                    "Év": "2016-03-26",
                                    "Szállítási mód": "NULL",
                                    "Érték": "9893"
                                },
                                {
                                    "Év": "2016-03-27",
                                    "Szállítási mód": "NULL",
                                    "Érték": "8950"
                                },
                                {
                                    "Év": "2016-03-28",
                                    "Szállítási mód": "NULL",
                                    "Érték": "7552"
                                },
                                {
                                    "Év": "2016-03-29",
                                    "Szállítási mód": "NULL",
                                    "Érték": "7416"
                                },
                                {
                                    "Év": "2016-03-30",
                                    "Szállítási mód": "NULL",
                                    "Érték": "8631"
                                },
                                {
                                    "Év": "2016-03-31",
                                    "Szállítási mód": "NULL",
                                    "Érték": "6885"
                                },
                                {
                                    "Év": "2016-04-01",
                                    "Szállítási mód": "NULL",
                                    "Érték": "8756"
                                },
                                {
                                    "Év": "2016-04-02",
                                    "Szállítási mód": "NULL",
                                    "Érték": "8073"
                                },
                                {
                                    "Év": "2016-04-03",
                                    "Szállítási mód": "NULL",
                                    "Érték": "5897"
                                },
                                {
                                    "Év": "2016-04-04",
                                    "Szállítási mód": "NULL",
                                    "Érték": "7405"
                                },
                                {
                                    "Év": "2016-04-05",
                                    "Szállítási mód": "NULL",
                                    "Érték": "8092"
                                },
                                {
                                    "Év": "2016-04-06",
                                    "Szállítási mód": "NULL",
                                    "Érték": "7458"
                                },
                                {
                                    "Év": "2016-04-07",
                                    "Szállítási mód": "NULL",
                                    "Érték": "9216"
                                },
                                {
                                    "Év": "2016-04-08",
                                    "Szállítási mód": "NULL",
                                    "Érték": "10889"
                                },
                                {
                                    "Év": "2016-04-09",
                                    "Szállítási mód": "NULL",
                                    "Érték": "9754"
                                },
                                {
                                    "Év": "2016-04-10",
                                    "Szállítási mód": "NULL",
                                    "Érték": "9878"
                                },
                                {
                                    "Év": "2016-04-11",
                                    "Szállítási mód": "NULL",
                                    "Érték": "8948"
                                },
                                {
                                    "Év": "2016-04-12",
                                    "Szállítási mód": "NULL",
                                    "Érték": "7144"
                                },
                                {
                                    "Év": "2016-04-13",
                                    "Szállítási mód": "NULL",
                                    "Érték": "7728"
                                },
                                {
                                    "Év": "2016-04-14",
                                    "Szállítási mód": "NULL",
                                    "Érték": "8805"
                                },
                                {
                                    "Év": "2016-04-15",
                                    "Szállítási mód": "NULL",
                                    "Érték": "8331"
                                },
                                {
                                    "Év": "2016-04-16",
                                    "Szállítási mód": "NULL",
                                    "Érték": "8755"
                                },
                                {
                                    "Év": "2016-04-17",
                                    "Szállítási mód": "NULL",
                                    "Érték": "10267"
                                },
                                {
                                    "Év": "2016-04-18",
                                    "Szállítási mód": "NULL",
                                    "Érték": "7586"
                                },
                                {
                                    "Év": "2016-04-19",
                                    "Szállítási mód": "NULL",
                                    "Érték": "9190"
                                },
                                {
                                    "Év": "2016-04-20",
                                    "Szállítási mód": "NULL",
                                    "Érték": "6584"
                                },
                                {
                                    "Év": "2016-04-21",
                                    "Szállítási mód": "NULL",
                                    "Érték": "6628"
                                },
                                {
                                    "Év": "2016-04-22",
                                    "Szállítási mód": "NULL",
                                    "Érték": "6502"
                                },
                                {
                                    "Év": "2016-04-23",
                                    "Szállítási mód": "NULL",
                                    "Érték": "6588"
                                },
                                {
                                    "Év": "2016-04-24",
                                    "Szállítási mód": "NULL",
                                    "Érték": "9512"
                                },
                                {
                                    "Év": "2016-04-25",
                                    "Szállítási mód": "NULL",
                                    "Érték": "10177"
                                },
                                {
                                    "Év": "2016-04-26",
                                    "Szállítási mód": "NULL",
                                    "Érték": "7946"
                                },
                                {
                                    "Év": "2016-04-27",
                                    "Szállítási mód": "NULL",
                                    "Érték": "8344"
                                },
                                {
                                    "Év": "2016-04-28",
                                    "Szállítási mód": "NULL",
                                    "Érték": "7732"
                                },
                                {
                                    "Év": "2016-04-29",
                                    "Szállítási mód": "NULL",
                                    "Érték": "7870"
                                },
                                {
                                    "Év": "2016-04-30",
                                    "Szállítási mód": "NULL",
                                    "Érték": "7898"
                                },
                                {
                                    "Év": "2016-05-01",
                                    "Szállítási mód": "NULL",
                                    "Érték": "6600"
                                },
                                {
                                    "Év": "2016-05-02",
                                    "Szállítási mód": "NULL",
                                    "Érték": "8142"
                                },
                                {
                                    "Év": "2016-05-03",
                                    "Szállítási mód": "NULL",
                                    "Érték": "5084"
                                },
                                {
                                    "Év": "2016-05-04",
                                    "Szállítási mód": "NULL",
                                    "Érték": "9125"
                                },
                                {
                                    "Év": "2016-05-05",
                                    "Szállítási mód": "NULL",
                                    "Érték": "7845"
                                },
                                {
                                    "Év": "2016-05-06",
                                    "Szállítási mód": "NULL",
                                    "Érték": "7969"
                                },
                                {
                                    "Év": "2016-05-07",
                                    "Szállítási mód": "NULL",
                                    "Érték": "8896"
                                },
                                {
                                    "Év": "2016-05-08",
                                    "Szállítási mód": "NULL",
                                    "Érték": "7858"
                                },
                                {
                                    "Év": "2016-05-09",
                                    "Szállítási mód": "NULL",
                                    "Érték": "11178"
                                },
                                {
                                    "Év": "2016-05-10",
                                    "Szállítási mód": "NULL",
                                    "Érték": "8968"
                                },
                                {
                                    "Év": "2016-05-11",
                                    "Szállítási mód": "NULL",
                                    "Érték": "8132"
                                },
                                {
                                    "Év": "2016-05-12",
                                    "Szállítási mód": "NULL",
                                    "Érték": "8095"
                                },
                                {
                                    "Év": "2016-05-13",
                                    "Szállítási mód": "NULL",
                                    "Érték": "8089"
                                },
                                {
                                    "Év": "2016-05-14",
                                    "Szállítási mód": "NULL",
                                    "Érték": "7722"
                                },
                                {
                                    "Év": "2016-05-15",
                                    "Szállítási mód": "NULL",
                                    "Érték": "5490"
                                },
                                {
                                    "Év": "2016-05-16",
                                    "Szállítási mód": "NULL",
                                    "Érték": "7944"
                                },
                                {
                                    "Év": "2016-05-17",
                                    "Szállítási mód": "NULL",
                                    "Érték": "8888"
                                },
                                {
                                    "Év": "2016-05-18",
                                    "Szállítási mód": "NULL",
                                    "Érték": "5720"
                                },
                                {
                                    "Év": "2016-05-19",
                                    "Szállítási mód": "NULL",
                                    "Érték": "7578"
                                },
                                {
                                    "Év": "2016-05-20",
                                    "Szállítási mód": "NULL",
                                    "Érték": "8879"
                                },
                                {
                                    "Év": "2016-05-21",
                                    "Szállítási mód": "NULL",
                                    "Érték": "9030"
                                },
                                {
                                    "Év": "2016-05-22",
                                    "Szállítási mód": "NULL",
                                    "Érték": "4914"
                                },
                                {
                                    "Év": "2016-05-23",
                                    "Szállítási mód": "NULL",
                                    "Érték": "8577"
                                },
                                {
                                    "Év": "2016-05-24",
                                    "Szállítási mód": "NULL",
                                    "Érték": "8816"
                                },
                                {
                                    "Év": "2016-05-25",
                                    "Szállítási mód": "NULL",
                                    "Érték": "9296"
                                },
                                {
                                    "Év": "2016-05-26",
                                    "Szállítási mód": "NULL",
                                    "Érték": "5287"
                                },
                                {
                                    "Év": "2016-05-27",
                                    "Szállítási mód": "NULL",
                                    "Érték": "9701"
                                },
                                {
                                    "Év": "2016-05-28",
                                    "Szállítási mód": "NULL",
                                    "Érték": "6509"
                                },
                                {
                                    "Év": "2016-05-29",
                                    "Szállítási mód": "NULL",
                                    "Érték": "9450"
                                },
                                {
                                    "Év": "2016-05-30",
                                    "Szállítási mód": "NULL",
                                    "Érték": "6884"
                                },
                                {
                                    "Év": "2016-05-31",
                                    "Szállítási mód": "NULL",
                                    "Érték": "10007"
                                },
                                {
                                    "Év": "2016-06-01",
                                    "Szállítási mód": "NULL",
                                    "Érték": "8484"
                                },
                                {
                                    "Év": "2016-06-02",
                                    "Szállítási mód": "NULL",
                                    "Érték": "6928"
                                },
                                {
                                    "Év": "2016-06-03",
                                    "Szállítási mód": "NULL",
                                    "Érték": "6567"
                                },
                                {
                                    "Év": "2016-06-04",
                                    "Szállítási mód": "NULL",
                                    "Érték": "7904"
                                },
                                {
                                    "Év": "2016-06-05",
                                    "Szállítási mód": "NULL",
                                    "Érték": "5802"
                                },
                                {
                                    "Év": "2016-06-06",
                                    "Szállítási mód": "NULL",
                                    "Érték": "9474"
                                },
                                {
                                    "Év": "2016-06-07",
                                    "Szállítási mód": "NULL",
                                    "Érték": "8722"
                                },
                                {
                                    "Év": "2016-06-08",
                                    "Szállítási mód": "NULL",
                                    "Érték": "7019"
                                },
                                {
                                    "Év": "2016-06-09",
                                    "Szállítási mód": "NULL",
                                    "Érték": "7354"
                                },
                                {
                                    "Év": "2016-06-10",
                                    "Szállítási mód": "NULL",
                                    "Érték": "8873"
                                },
                                {
                                    "Év": "2016-06-11",
                                    "Szállítási mód": "NULL",
                                    "Érték": "9217"
                                },
                                {
                                    "Év": "2016-06-12",
                                    "Szállítási mód": "NULL",
                                    "Érték": "9418"
                                },
                                {
                                    "Év": "2016-06-13",
                                    "Szállítási mód": "NULL",
                                    "Érték": "6407"
                                },
                                {
                                    "Év": "2016-06-14",
                                    "Szállítási mód": "NULL",
                                    "Érték": "7968"
                                },
                                {
                                    "Év": "2016-06-15",
                                    "Szállítási mód": "NULL",
                                    "Érték": "8830"
                                },
                                {
                                    "Év": "2016-06-16",
                                    "Szállítási mód": "NULL",
                                    "Érték": "6462"
                                },
                                {
                                    "Év": "2016-06-17",
                                    "Szállítási mód": "NULL",
                                    "Érték": "9189"
                                },
                                {
                                    "Év": "2016-06-18",
                                    "Szállítási mód": "NULL",
                                    "Érték": "6311"
                                },
                                {
                                    "Év": "2016-06-19",
                                    "Szállítási mód": "NULL",
                                    "Érték": "8834"
                                },
                                {
                                    "Év": "2016-06-20",
                                    "Szállítási mód": "NULL",
                                    "Érték": "8005"
                                },
                                {
                                    "Év": "2016-06-21",
                                    "Szállítási mód": "NULL",
                                    "Érték": "6482"
                                },
                                {
                                    "Év": "2016-06-22",
                                    "Szállítási mód": "NULL",
                                    "Érték": "6541"
                                },
                                {
                                    "Év": "2016-06-23",
                                    "Szállítási mód": "NULL",
                                    "Érték": "6662"
                                },
                                {
                                    "Év": "2016-06-24",
                                    "Szállítási mód": "NULL",
                                    "Érték": "8530"
                                },
                                {
                                    "Év": "2016-06-25",
                                    "Szállítási mód": "NULL",
                                    "Érték": "8262"
                                },
                                {
                                    "Év": "2016-06-26",
                                    "Szállítási mód": "NULL",
                                    "Érték": "10488"
                                },
                                {
                                    "Év": "2016-06-27",
                                    "Szállítási mód": "NULL",
                                    "Érték": "5541"
                                },
                                {
                                    "Év": "2016-06-28",
                                    "Szállítási mód": "NULL",
                                    "Érték": "10267"
                                },
                                {
                                    "Év": "2016-06-29",
                                    "Szállítási mód": "NULL",
                                    "Érték": "9869"
                                },
                                {
                                    "Év": "2016-06-30",
                                    "Szállítási mód": "NULL",
                                    "Érték": "9437"
                                },
                                {
                                    "Év": "2016-07-01",
                                    "Szállítási mód": "NULL",
                                    "Érték": "5916"
                                },
                                {
                                    "Év": "2016-07-02",
                                    "Szállítási mód": "NULL",
                                    "Érték": "6710"
                                },
                                {
                                    "Év": "2016-07-03",
                                    "Szállítási mód": "NULL",
                                    "Érték": "9081"
                                },
                                {
                                    "Év": "2016-07-04",
                                    "Szállítási mód": "NULL",
                                    "Érték": "10816"
                                },
                                {
                                    "Év": "2016-07-05",
                                    "Szállítási mód": "NULL",
                                    "Érték": "8863"
                                },
                                {
                                    "Év": "2016-07-06",
                                    "Szállítási mód": "NULL",
                                    "Érték": "7283"
                                },
                                {
                                    "Év": "2016-07-07",
                                    "Szállítási mód": "NULL",
                                    "Érték": "5922"
                                },
                                {
                                    "Év": "2016-07-08",
                                    "Szállítási mód": "NULL",
                                    "Érték": "7968"
                                },
                                {
                                    "Év": "2016-07-09",
                                    "Szállítási mód": "NULL",
                                    "Érték": "9112"
                                },
                                {
                                    "Év": "2016-07-10",
                                    "Szállítási mód": "NULL",
                                    "Érték": "7494"
                                },
                                {
                                    "Év": "2016-07-11",
                                    "Szállítási mód": "NULL",
                                    "Érték": "10358"
                                },
                                {
                                    "Év": "2016-07-12",
                                    "Szállítási mód": "NULL",
                                    "Érték": "8519"
                                },
                                {
                                    "Év": "2016-07-13",
                                    "Szállítási mód": "NULL",
                                    "Érték": "8721"
                                },
                                {
                                    "Év": "2016-07-14",
                                    "Szállítási mód": "NULL",
                                    "Érték": "7363"
                                },
                                {
                                    "Év": "2016-07-15",
                                    "Szállítási mód": "NULL",
                                    "Érték": "7066"
                                },
                                {
                                    "Év": "2016-07-16",
                                    "Szállítási mód": "NULL",
                                    "Érték": "8298"
                                },
                                {
                                    "Év": "2016-07-17",
                                    "Szállítási mód": "NULL",
                                    "Érték": "6320"
                                },
                                {
                                    "Év": "2016-07-18",
                                    "Szállítási mód": "NULL",
                                    "Érték": "8573"
                                },
                                {
                                    "Év": "2016-07-19",
                                    "Szállítási mód": "NULL",
                                    "Érték": "9023"
                                },
                                {
                                    "Év": "2016-07-20",
                                    "Szállítási mód": "NULL",
                                    "Érték": "7415"
                                },
                                {
                                    "Év": "2016-07-21",
                                    "Szállítási mód": "NULL",
                                    "Érték": "7484"
                                },
                                {
                                    "Év": "2016-07-22",
                                    "Szállítási mód": "NULL",
                                    "Érték": "7412"
                                },
                                {
                                    "Év": "2016-07-23",
                                    "Szállítási mód": "NULL",
                                    "Érték": "6895"
                                },
                                {
                                    "Év": "2016-07-24",
                                    "Szállítási mód": "NULL",
                                    "Érték": "6958"
                                },
                                {
                                    "Év": "2016-07-25",
                                    "Szállítási mód": "NULL",
                                    "Érték": "7559"
                                },
                                {
                                    "Év": "2016-07-26",
                                    "Szállítási mód": "NULL",
                                    "Érték": "7020"
                                },
                                {
                                    "Év": "2016-07-27",
                                    "Szállítási mód": "NULL",
                                    "Érték": "9352"
                                },
                                {
                                    "Év": "2016-07-28",
                                    "Szállítási mód": "NULL",
                                    "Érték": "7155"
                                },
                                {
                                    "Év": "2016-07-29",
                                    "Szállítási mód": "NULL",
                                    "Érték": "9038"
                                },
                                {
                                    "Év": "2016-07-30",
                                    "Szállítási mód": "NULL",
                                    "Érték": "6288"
                                },
                                {
                                    "Év": "2016-07-31",
                                    "Szállítási mód": "NULL",
                                    "Érték": "9007"
                                },
                                {
                                    "Év": "2016-08-01",
                                    "Szállítási mód": "NULL",
                                    "Érték": "7588"
                                },
                                {
                                    "Év": "2016-08-02",
                                    "Szállítási mód": "NULL",
                                    "Érték": "6686"
                                },
                                {
                                    "Év": "2016-08-03",
                                    "Szállítási mód": "NULL",
                                    "Érték": "7884"
                                },
                                {
                                    "Év": "2016-08-04",
                                    "Szállítási mód": "NULL",
                                    "Érték": "6900"
                                },
                                {
                                    "Év": "2016-08-05",
                                    "Szállítási mód": "NULL",
                                    "Érték": "7610"
                                },
                                {
                                    "Év": "2016-08-06",
                                    "Szállítási mód": "NULL",
                                    "Érték": "8498"
                                },
                                {
                                    "Év": "2016-08-07",
                                    "Szállítási mód": "NULL",
                                    "Érték": "5511"
                                },
                                {
                                    "Év": "2016-08-08",
                                    "Szállítási mód": "NULL",
                                    "Érték": "5829"
                                },
                                {
                                    "Év": "2016-08-09",
                                    "Szállítási mód": "NULL",
                                    "Érték": "10307"
                                },
                                {
                                    "Év": "2016-08-10",
                                    "Szállítási mód": "NULL",
                                    "Érték": "8311"
                                },
                                {
                                    "Év": "2016-08-11",
                                    "Szállítási mód": "NULL",
                                    "Érték": "8232"
                                },
                                {
                                    "Év": "2016-08-12",
                                    "Szállítási mód": "NULL",
                                    "Érték": "8761"
                                },
                                {
                                    "Év": "2016-08-13",
                                    "Szállítási mód": "NULL",
                                    "Érték": "9571"
                                },
                                {
                                    "Év": "2016-08-14",
                                    "Szállítási mód": "NULL",
                                    "Érték": "8263"
                                },
                                {
                                    "Év": "2016-08-15",
                                    "Szállítási mód": "NULL",
                                    "Érték": "10966"
                                },
                                {
                                    "Év": "2016-08-16",
                                    "Szállítási mód": "NULL",
                                    "Érték": "7435"
                                },
                                {
                                    "Év": "2016-08-17",
                                    "Szállítási mód": "NULL",
                                    "Érték": "7576"
                                },
                                {
                                    "Év": "2016-08-18",
                                    "Szállítási mód": "NULL",
                                    "Érték": "7689"
                                },
                                {
                                    "Év": "2016-08-19",
                                    "Szállítási mód": "NULL",
                                    "Érték": "6974"
                                },
                                {
                                    "Év": "2016-08-20",
                                    "Szállítási mód": "NULL",
                                    "Érték": "9117"
                                },
                                {
                                    "Év": "2016-08-21",
                                    "Szállítási mód": "NULL",
                                    "Érték": "5864"
                                },
                                {
                                    "Év": "2016-08-22",
                                    "Szállítási mód": "NULL",
                                    "Érték": "7082"
                                },
                                {
                                    "Év": "2016-08-23",
                                    "Szállítási mód": "NULL",
                                    "Érték": "6153"
                                },
                                {
                                    "Év": "2016-08-24",
                                    "Szállítási mód": "NULL",
                                    "Érték": "8822"
                                },
                                {
                                    "Év": "2016-08-25",
                                    "Szállítási mód": "NULL",
                                    "Érték": "9398"
                                },
                                {
                                    "Év": "2016-08-26",
                                    "Szállítási mód": "NULL",
                                    "Érték": "8695"
                                },
                                {
                                    "Év": "2016-08-27",
                                    "Szállítási mód": "NULL",
                                    "Érték": "8120"
                                },
                                {
                                    "Év": "2016-08-28",
                                    "Szállítási mód": "NULL",
                                    "Érték": "8937"
                                },
                                {
                                    "Év": "2016-08-29",
                                    "Szállítási mód": "NULL",
                                    "Érték": "7542"
                                },
                                {
                                    "Év": "2016-08-30",
                                    "Szállítási mód": "NULL",
                                    "Érték": "5527"
                                },
                                {
                                    "Év": "2016-08-31",
                                    "Szállítási mód": "NULL",
                                    "Érték": "6069"
                                },
                                {
                                    "Év": "2016-09-01",
                                    "Szállítási mód": "NULL",
                                    "Érték": "6626"
                                },
                                {
                                    "Év": "2016-09-02",
                                    "Szállítási mód": "NULL",
                                    "Érték": "7775"
                                },
                                {
                                    "Év": "2016-09-03",
                                    "Szállítási mód": "NULL",
                                    "Érték": "11043"
                                },
                                {
                                    "Év": "2016-09-04",
                                    "Szállítási mód": "NULL",
                                    "Érték": "11369"
                                },
                                {
                                    "Év": "2016-09-05",
                                    "Szállítási mód": "NULL",
                                    "Érték": "6206"
                                },
                                {
                                    "Év": "2016-09-06",
                                    "Szállítási mód": "NULL",
                                    "Érték": "8736"
                                },
                                {
                                    "Év": "2016-09-07",
                                    "Szállítási mód": "NULL",
                                    "Érték": "8579"
                                },
                                {
                                    "Év": "2016-09-08",
                                    "Szállítási mód": "NULL",
                                    "Érték": "8561"
                                },
                                {
                                    "Év": "2016-09-09",
                                    "Szállítási mód": "NULL",
                                    "Érték": "8470"
                                },
                                {
                                    "Év": "2016-09-10",
                                    "Szállítási mód": "NULL",
                                    "Érték": "9203"
                                },
                                {
                                    "Év": "2016-09-11",
                                    "Szállítási mód": "NULL",
                                    "Érték": "8573"
                                },
                                {
                                    "Év": "2016-09-12",
                                    "Szállítási mód": "NULL",
                                    "Érték": "6264"
                                },
                                {
                                    "Év": "2016-09-13",
                                    "Szállítási mód": "NULL",
                                    "Érték": "8200"
                                },
                                {
                                    "Év": "2016-09-14",
                                    "Szállítási mód": "NULL",
                                    "Érték": "10576"
                                },
                                {
                                    "Év": "2016-09-15",
                                    "Szállítási mód": "NULL",
                                    "Érték": "10530"
                                },
                                {
                                    "Év": "2016-09-16",
                                    "Szállítási mód": "NULL",
                                    "Érték": "5621"
                                },
                                {
                                    "Év": "2016-09-17",
                                    "Szállítási mód": "NULL",
                                    "Érték": "7379"
                                },
                                {
                                    "Év": "2016-09-18",
                                    "Szállítási mód": "NULL",
                                    "Érték": "10790"
                                },
                                {
                                    "Év": "2016-09-19",
                                    "Szállítási mód": "NULL",
                                    "Érték": "7019"
                                },
                                {
                                    "Év": "2016-09-20",
                                    "Szállítási mód": "NULL",
                                    "Érték": "8544"
                                },
                                {
                                    "Év": "2016-09-21",
                                    "Szállítási mód": "NULL",
                                    "Érték": "5504"
                                },
                                {
                                    "Év": "2016-09-22",
                                    "Szállítási mód": "NULL",
                                    "Érték": "6691"
                                },
                                {
                                    "Év": "2016-09-23",
                                    "Szállítási mód": "NULL",
                                    "Érték": "6574"
                                },
                                {
                                    "Év": "2016-09-24",
                                    "Szállítási mód": "NULL",
                                    "Érték": "6220"
                                },
                                {
                                    "Év": "2016-09-25",
                                    "Szállítási mód": "NULL",
                                    "Érték": "6759"
                                },
                                {
                                    "Év": "2016-09-26",
                                    "Szállítási mód": "NULL",
                                    "Érték": "7073"
                                },
                                {
                                    "Év": "2016-09-27",
                                    "Szállítási mód": "NULL",
                                    "Érték": "9214"
                                },
                                {
                                    "Év": "2016-09-28",
                                    "Szállítási mód": "NULL",
                                    "Érték": "7948"
                                },
                                {
                                    "Év": "2016-09-29",
                                    "Szállítási mód": "NULL",
                                    "Érték": "5840"
                                },
                                {
                                    "Év": "2016-09-30",
                                    "Szállítási mód": "NULL",
                                    "Érték": "8410"
                                },
                                {
                                    "Év": "2016-10-01",
                                    "Szállítási mód": "NULL",
                                    "Érték": "8122"
                                },
                                {
                                    "Év": "2016-10-02",
                                    "Szállítási mód": "NULL",
                                    "Érték": "7206"
                                },
                                {
                                    "Év": "2016-10-03",
                                    "Szállítási mód": "NULL",
                                    "Érték": "6357"
                                },
                                {
                                    "Év": "2016-10-04",
                                    "Szállítási mód": "NULL",
                                    "Érték": "7203"
                                },
                                {
                                    "Év": "2016-10-05",
                                    "Szállítási mód": "NULL",
                                    "Érték": "7856"
                                },
                                {
                                    "Év": "2016-10-06",
                                    "Szállítási mód": "NULL",
                                    "Érték": "6682"
                                },
                                {
                                    "Év": "2016-10-07",
                                    "Szállítási mód": "NULL",
                                    "Érték": "6607"
                                },
                                {
                                    "Év": "2016-10-08",
                                    "Szállítási mód": "NULL",
                                    "Érték": "8515"
                                },
                                {
                                    "Év": "2016-10-09",
                                    "Szállítási mód": "NULL",
                                    "Érték": "10396"
                                },
                                {
                                    "Év": "2016-10-10",
                                    "Szállítási mód": "NULL",
                                    "Érték": "7117"
                                },
                                {
                                    "Év": "2016-10-11",
                                    "Szállítási mód": "NULL",
                                    "Érték": "9192"
                                },
                                {
                                    "Év": "2016-10-12",
                                    "Szállítási mód": "NULL",
                                    "Érték": "10889"
                                },
                                {
                                    "Év": "2016-10-13",
                                    "Szállítási mód": "NULL",
                                    "Érték": "10192"
                                },
                                {
                                    "Év": "2016-10-14",
                                    "Szállítási mód": "NULL",
                                    "Érték": "7397"
                                },
                                {
                                    "Év": "2016-10-15",
                                    "Szállítási mód": "NULL",
                                    "Érték": "7459"
                                },
                                {
                                    "Év": "2016-10-16",
                                    "Szállítási mód": "NULL",
                                    "Érték": "7198"
                                },
                                {
                                    "Év": "2016-10-17",
                                    "Szállítási mód": "NULL",
                                    "Érték": "11045"
                                },
                                {
                                    "Év": "2016-10-18",
                                    "Szállítási mód": "NULL",
                                    "Érték": "7033"
                                },
                                {
                                    "Év": "2016-10-19",
                                    "Szállítási mód": "NULL",
                                    "Érték": "9307"
                                },
                                {
                                    "Év": "2016-10-20",
                                    "Szállítási mód": "NULL",
                                    "Érték": "6856"
                                },
                                {
                                    "Év": "2016-10-21",
                                    "Szállítási mód": "NULL",
                                    "Érték": "9403"
                                },
                                {
                                    "Év": "2016-10-22",
                                    "Szállítási mód": "NULL",
                                    "Érték": "8356"
                                },
                                {
                                    "Év": "2016-10-23",
                                    "Szállítási mód": "NULL",
                                    "Érték": "9634"
                                },
                                {
                                    "Év": "2016-10-24",
                                    "Szállítási mód": "NULL",
                                    "Érték": "4888"
                                },
                                {
                                    "Év": "2016-10-25",
                                    "Szállítási mód": "NULL",
                                    "Érték": "11978"
                                },
                                {
                                    "Év": "2016-10-26",
                                    "Szállítási mód": "NULL",
                                    "Érték": "8070"
                                },
                                {
                                    "Év": "2016-10-27",
                                    "Szállítási mód": "NULL",
                                    "Érték": "7617"
                                },
                                {
                                    "Év": "2016-10-28",
                                    "Szállítási mód": "NULL",
                                    "Érték": "7766"
                                },
                                {
                                    "Év": "2016-10-29",
                                    "Szállítási mód": "NULL",
                                    "Érték": "6854"
                                },
                                {
                                    "Év": "2016-10-30",
                                    "Szállítási mód": "NULL",
                                    "Érték": "11718"
                                },
                                {
                                    "Év": "2016-10-31",
                                    "Szállítási mód": "NULL",
                                    "Érték": "8714"
                                },
                                {
                                    "Év": "2016-11-01",
                                    "Szállítási mód": "NULL",
                                    "Érték": "7238"
                                },
                                {
                                    "Év": "2016-11-02",
                                    "Szállítási mód": "NULL",
                                    "Érték": "5472"
                                },
                                {
                                    "Év": "2016-11-03",
                                    "Szállítási mód": "NULL",
                                    "Érték": "7739"
                                },
                                {
                                    "Év": "2016-11-04",
                                    "Szállítási mód": "NULL",
                                    "Érték": "6667"
                                },
                                {
                                    "Év": "2016-11-05",
                                    "Szállítási mód": "NULL",
                                    "Érték": "9157"
                                },
                                {
                                    "Év": "2016-11-06",
                                    "Szállítási mód": "NULL",
                                    "Érték": "8517"
                                },
                                {
                                    "Év": "2016-11-07",
                                    "Szállítási mód": "NULL",
                                    "Érték": "6691"
                                },
                                {
                                    "Év": "2016-11-08",
                                    "Szállítási mód": "NULL",
                                    "Érték": "8431"
                                },
                                {
                                    "Év": "2016-11-09",
                                    "Szállítási mód": "NULL",
                                    "Érték": "5911"
                                },
                                {
                                    "Év": "2016-11-10",
                                    "Szállítási mód": "NULL",
                                    "Érték": "6795"
                                },
                                {
                                    "Év": "2016-11-11",
                                    "Szállítási mód": "NULL",
                                    "Érték": "6940"
                                },
                                {
                                    "Év": "2016-11-12",
                                    "Szállítási mód": "NULL",
                                    "Érték": "10959"
                                },
                                {
                                    "Év": "2016-11-13",
                                    "Szállítási mód": "NULL",
                                    "Érték": "10751"
                                },
                                {
                                    "Év": "2016-11-14",
                                    "Szállítási mód": "NULL",
                                    "Érték": "11881"
                                },
                                {
                                    "Év": "2016-11-15",
                                    "Szállítási mód": "NULL",
                                    "Érték": "6736"
                                },
                                {
                                    "Év": "2016-11-16",
                                    "Szállítási mód": "NULL",
                                    "Érték": "8969"
                                },
                                {
                                    "Év": "2016-11-17",
                                    "Szállítási mód": "NULL",
                                    "Érték": "6852"
                                },
                                {
                                    "Év": "2016-11-18",
                                    "Szállítási mód": "NULL",
                                    "Érték": "6770"
                                },
                                {
                                    "Év": "2016-11-19",
                                    "Szállítási mód": "NULL",
                                    "Érték": "7451"
                                },
                                {
                                    "Év": "2016-11-20",
                                    "Szállítási mód": "NULL",
                                    "Érték": "7946"
                                },
                                {
                                    "Év": "2016-11-21",
                                    "Szállítási mód": "NULL",
                                    "Érték": "6727"
                                },
                                {
                                    "Év": "2016-11-22",
                                    "Szállítási mód": "NULL",
                                    "Érték": "7801"
                                },
                                {
                                    "Év": "2016-11-23",
                                    "Szállítási mód": "NULL",
                                    "Érték": "7435"
                                },
                                {
                                    "Év": "2016-11-24",
                                    "Szállítási mód": "NULL",
                                    "Érték": "5981"
                                },
                                {
                                    "Év": "2016-11-25",
                                    "Szállítási mód": "NULL",
                                    "Érték": "6915"
                                },
                                {
                                    "Év": "2016-11-26",
                                    "Szállítási mód": "NULL",
                                    "Érték": "9216"
                                },
                                {
                                    "Év": "2016-11-27",
                                    "Szállítási mód": "NULL",
                                    "Érték": "9893"
                                },
                                {
                                    "Év": "2016-11-28",
                                    "Szállítási mód": "NULL",
                                    "Érték": "9770"
                                },
                                {
                                    "Év": "2016-11-29",
                                    "Szállítási mód": "NULL",
                                    "Érték": "8722"
                                },
                                {
                                    "Év": "2016-11-30",
                                    "Szállítási mód": "NULL",
                                    "Érték": "6419"
                                },
                                {
                                    "Év": "2016-12-01",
                                    "Szállítási mód": "NULL",
                                    "Érték": "9940"
                                },
                                {
                                    "Év": "2016-12-02",
                                    "Szállítási mód": "NULL",
                                    "Érték": "4748"
                                },
                                {
                                    "Év": "2016-12-03",
                                    "Szállítási mód": "NULL",
                                    "Érték": "6745"
                                },
                                {
                                    "Év": "2016-12-04",
                                    "Szállítási mód": "NULL",
                                    "Érték": "9959"
                                },
                                {
                                    "Év": "2016-12-05",
                                    "Szállítási mód": "NULL",
                                    "Érték": "8225"
                                },
                                {
                                    "Év": "2016-12-06",
                                    "Szállítási mód": "NULL",
                                    "Érték": "7762"
                                },
                                {
                                    "Év": "2016-12-07",
                                    "Szállítási mód": "NULL",
                                    "Érték": "7380"
                                },
                                {
                                    "Év": "2016-12-08",
                                    "Szállítási mód": "NULL",
                                    "Érték": "7200"
                                },
                                {
                                    "Év": "2016-12-09",
                                    "Szállítási mód": "NULL",
                                    "Érték": "9724"
                                },
                                {
                                    "Év": "2016-12-10",
                                    "Szállítási mód": "NULL",
                                    "Érték": "7083"
                                },
                                {
                                    "Év": "2016-12-11",
                                    "Szállítási mód": "NULL",
                                    "Érték": "7576"
                                },
                                {
                                    "Év": "2016-12-12",
                                    "Szállítási mód": "NULL",
                                    "Érték": "8580"
                                },
                                {
                                    "Év": "2016-12-13",
                                    "Szállítási mód": "NULL",
                                    "Érték": "8233"
                                },
                                {
                                    "Év": "2016-12-14",
                                    "Szállítási mód": "NULL",
                                    "Érték": "6268"
                                },
                                {
                                    "Év": "2016-12-15",
                                    "Szállítási mód": "NULL",
                                    "Érték": "7392"
                                },
                                {
                                    "Év": "2016-12-16",
                                    "Szállítási mód": "NULL",
                                    "Érték": "6407"
                                },
                                {
                                    "Év": "2016-12-17",
                                    "Szállítási mód": "NULL",
                                    "Érték": "7555"
                                },
                                {
                                    "Év": "2016-12-18",
                                    "Szállítási mód": "NULL",
                                    "Érték": "6070"
                                },
                                {
                                    "Év": "2016-12-19",
                                    "Szállítási mód": "NULL",
                                    "Érték": "5390"
                                },
                                {
                                    "Év": "2016-12-20",
                                    "Szállítási mód": "NULL",
                                    "Érték": "7735"
                                },
                                {
                                    "Év": "2016-12-21",
                                    "Szállítási mód": "NULL",
                                    "Érték": "10434"
                                },
                                {
                                    "Év": "2016-12-22",
                                    "Szállítási mód": "NULL",
                                    "Érték": "5465"
                                },
                                {
                                    "Év": "2016-12-23",
                                    "Szállítási mód": "NULL",
                                    "Érték": "8338"
                                },
                                {
                                    "Év": "2016-12-24",
                                    "Szállítási mód": "NULL",
                                    "Érték": "5916"
                                },
                                {
                                    "Év": "2016-12-25",
                                    "Szállítási mód": "NULL",
                                    "Érték": "7345"
                                },
                                {
                                    "Év": "2016-12-26",
                                    "Szállítási mód": "NULL",
                                    "Érték": "9875"
                                },
                                {
                                    "Év": "2016-12-27",
                                    "Szállítási mód": "NULL",
                                    "Érték": "10216"
                                },
                                {
                                    "Év": "2016-12-28",
                                    "Szállítási mód": "NULL",
                                    "Érték": "6222"
                                },
                                {
                                    "Év": "2016-12-29",
                                    "Szállítási mód": "NULL",
                                    "Érték": "10046"
                                },
                                {
                                    "Év": "2016-12-30",
                                    "Szállítási mód": "NULL",
                                    "Érték": "7113"
                                },
                                {
                                    "Év": "2016-12-31",
                                    "Szállítási mód": "NULL",
                                    "Érték": "7188"
                                },
                                {
                                    "Év": "2017-01-01",
                                    "Szállítási mód": "NULL",
                                    "Érték": "7200"
                                },
                                {
                                    "Év": "2017-01-02",
                                    "Szállítási mód": "NULL",
                                    "Érték": "7425"
                                },
                                {
                                    "Év": "2017-01-03",
                                    "Szállítási mód": "NULL",
                                    "Érték": "6783"
                                },
                                {
                                    "Év": "2017-01-04",
                                    "Szállítási mód": "NULL",
                                    "Érték": "7465"
                                },
                                {
                                    "Év": "2017-01-05",
                                    "Szállítási mód": "NULL",
                                    "Érték": "7591"
                                },
                                {
                                    "Év": "2017-01-06",
                                    "Szállítási mód": "NULL",
                                    "Érték": "8298"
                                },
                                {
                                    "Év": "2017-01-07",
                                    "Szállítási mód": "NULL",
                                    "Érték": "8976"
                                },
                                {
                                    "Év": "2017-01-08",
                                    "Szállítási mód": "NULL",
                                    "Érték": "7179"
                                },
                                {
                                    "Év": "2017-01-09",
                                    "Szállítási mód": "NULL",
                                    "Érték": "9465"
                                },
                                {
                                    "Év": "2017-01-10",
                                    "Szállítási mód": "NULL",
                                    "Érték": "8667"
                                },
                                {
                                    "Év": "2017-01-11",
                                    "Szállítási mód": "NULL",
                                    "Érték": "9472"
                                },
                                {
                                    "Év": "2017-01-12",
                                    "Szállítási mód": "NULL",
                                    "Érték": "7636"
                                },
                                {
                                    "Év": "2017-01-13",
                                    "Szállítási mód": "NULL",
                                    "Érték": "7538"
                                },
                                {
                                    "Év": "2017-01-14",
                                    "Szállítási mód": "NULL",
                                    "Érték": "8920"
                                },
                                {
                                    "Év": "2017-01-15",
                                    "Szállítási mód": "NULL",
                                    "Érték": "7611"
                                },
                                {
                                    "Év": "2017-01-16",
                                    "Szállítási mód": "NULL",
                                    "Érték": "7369"
                                },
                                {
                                    "Év": "2017-01-17",
                                    "Szállítási mód": "NULL",
                                    "Érték": "8658"
                                },
                                {
                                    "Év": "2017-01-18",
                                    "Szállítási mód": "NULL",
                                    "Érték": "6558"
                                },
                                {
                                    "Év": "2017-01-19",
                                    "Szállítási mód": "NULL",
                                    "Érték": "6422"
                                },
                                {
                                    "Év": "2017-01-20",
                                    "Szállítási mód": "NULL",
                                    "Érték": "6450"
                                },
                                {
                                    "Év": "2017-01-21",
                                    "Szállítási mód": "NULL",
                                    "Érték": "7150"
                                },
                                {
                                    "Év": "2017-01-22",
                                    "Szállítási mód": "NULL",
                                    "Érték": "8199"
                                },
                                {
                                    "Év": "2017-01-23",
                                    "Szállítási mód": "NULL",
                                    "Érték": "8394"
                                },
                                {
                                    "Év": "2017-01-24",
                                    "Szállítási mód": "NULL",
                                    "Érték": "8615"
                                },
                                {
                                    "Év": "2017-01-25",
                                    "Szállítási mód": "NULL",
                                    "Érték": "6484"
                                },
                                {
                                    "Év": "2017-01-26",
                                    "Szállítási mód": "NULL",
                                    "Érték": "9426"
                                },
                                {
                                    "Év": "2017-01-27",
                                    "Szállítási mód": "NULL",
                                    "Érték": "5418"
                                },
                                {
                                    "Év": "2017-01-28",
                                    "Szállítási mód": "NULL",
                                    "Érték": "8401"
                                },
                                {
                                    "Év": "2017-01-29",
                                    "Szállítási mód": "NULL",
                                    "Érték": "8997"
                                },
                                {
                                    "Év": "2017-01-30",
                                    "Szállítási mód": "NULL",
                                    "Érték": "9661"
                                },
                                {
                                    "Év": "2017-01-31",
                                    "Szállítási mód": "NULL",
                                    "Érték": "6253"
                                },
                                {
                                    "Év": "2017-02-01",
                                    "Szállítási mód": "NULL",
                                    "Érték": "5703"
                                },
                                {
                                    "Év": "2017-02-02",
                                    "Szállítási mód": "NULL",
                                    "Érték": "8746"
                                },
                                {
                                    "Év": "2017-02-03",
                                    "Szállítási mód": "NULL",
                                    "Érték": "7840"
                                },
                                {
                                    "Év": "2017-02-04",
                                    "Szállítási mód": "NULL",
                                    "Érték": "6220"
                                },
                                {
                                    "Év": "2017-02-05",
                                    "Szállítási mód": "NULL",
                                    "Érték": "5138"
                                },
                                {
                                    "Év": "2017-02-06",
                                    "Szállítási mód": "NULL",
                                    "Érték": "8206"
                                },
                                {
                                    "Év": "2017-02-07",
                                    "Szállítási mód": "NULL",
                                    "Érték": "6846"
                                },
                                {
                                    "Év": "2017-02-08",
                                    "Szállítási mód": "NULL",
                                    "Érték": "10057"
                                },
                                {
                                    "Év": "2017-02-09",
                                    "Szállítási mód": "NULL",
                                    "Érték": "8302"
                                },
                                {
                                    "Év": "2017-02-10",
                                    "Szállítási mód": "NULL",
                                    "Érték": "8964"
                                },
                                {
                                    "Év": "2017-02-11",
                                    "Szállítási mód": "NULL",
                                    "Érték": "8790"
                                },
                                {
                                    "Év": "2017-02-12",
                                    "Szállítási mód": "NULL",
                                    "Érték": "6268"
                                },
                                {
                                    "Év": "2017-02-13",
                                    "Szállítási mód": "NULL",
                                    "Érték": "8176"
                                },
                                {
                                    "Év": "2017-02-14",
                                    "Szállítási mód": "NULL",
                                    "Érték": "10029"
                                },
                                {
                                    "Év": "2017-02-15",
                                    "Szállítási mód": "NULL",
                                    "Érték": "6443"
                                },
                                {
                                    "Év": "2017-02-16",
                                    "Szállítási mód": "NULL",
                                    "Érték": "8794"
                                },
                                {
                                    "Év": "2017-02-17",
                                    "Szállítási mód": "NULL",
                                    "Érték": "9808"
                                },
                                {
                                    "Év": "2017-02-18",
                                    "Szállítási mód": "NULL",
                                    "Érték": "10757"
                                },
                                {
                                    "Év": "2017-02-19",
                                    "Szállítási mód": "NULL",
                                    "Érték": "8284"
                                },
                                {
                                    "Év": "2017-02-20",
                                    "Szállítási mód": "NULL",
                                    "Érték": "5660"
                                },
                                {
                                    "Év": "2017-02-21",
                                    "Szállítási mód": "NULL",
                                    "Érték": "8878"
                                },
                                {
                                    "Év": "2017-02-22",
                                    "Szállítási mód": "NULL",
                                    "Érték": "9034"
                                },
                                {
                                    "Év": "2017-02-23",
                                    "Szállítási mód": "NULL",
                                    "Érték": "7574"
                                },
                                {
                                    "Év": "2017-02-24",
                                    "Szállítási mód": "NULL",
                                    "Érték": "6814"
                                },
                                {
                                    "Év": "2017-02-25",
                                    "Szállítási mód": "NULL",
                                    "Érték": "6820"
                                },
                                {
                                    "Év": "2017-02-26",
                                    "Szállítási mód": "NULL",
                                    "Érték": "8578"
                                },
                                {
                                    "Év": "2017-02-27",
                                    "Szállítási mód": "NULL",
                                    "Érték": "9185"
                                },
                                {
                                    "Év": "2017-02-28",
                                    "Szállítási mód": "NULL",
                                    "Érték": "11649"
                                },
                                {
                                    "Év": "2017-03-01",
                                    "Szállítási mód": "NULL",
                                    "Érték": "5037"
                                },
                                {
                                    "Év": "2017-03-02",
                                    "Szállítási mód": "NULL",
                                    "Érték": "4861"
                                },
                                {
                                    "Év": "2017-03-03",
                                    "Szállítási mód": "NULL",
                                    "Érték": "7585"
                                },
                                {
                                    "Év": "2017-03-04",
                                    "Szállítási mód": "NULL",
                                    "Érték": "5977"
                                },
                                {
                                    "Év": "2017-03-05",
                                    "Szállítási mód": "NULL",
                                    "Érték": "10338"
                                },
                                {
                                    "Év": "2017-03-06",
                                    "Szállítási mód": "NULL",
                                    "Érték": "10916"
                                },
                                {
                                    "Év": "2017-03-07",
                                    "Szállítási mód": "NULL",
                                    "Érték": "8747"
                                },
                                {
                                    "Év": "2017-03-08",
                                    "Szállítási mód": "NULL",
                                    "Érték": "6837"
                                },
                                {
                                    "Év": "2017-03-09",
                                    "Szállítási mód": "NULL",
                                    "Érték": "6964"
                                },
                                {
                                    "Év": "2017-03-10",
                                    "Szállítási mód": "NULL",
                                    "Érték": "6846"
                                },
                                {
                                    "Év": "2017-03-11",
                                    "Szállítási mód": "NULL",
                                    "Érték": "6885"
                                },
                                {
                                    "Év": "2017-03-12",
                                    "Szállítási mód": "NULL",
                                    "Érték": "5941"
                                },
                                {
                                    "Év": "2017-03-13",
                                    "Szállítási mód": "NULL",
                                    "Érték": "6950"
                                },
                                {
                                    "Év": "2017-03-14",
                                    "Szállítási mód": "NULL",
                                    "Érték": "7224"
                                },
                                {
                                    "Év": "2017-03-15",
                                    "Szállítási mód": "NULL",
                                    "Érték": "9718"
                                },
                                {
                                    "Év": "2017-03-16",
                                    "Szállítási mód": "NULL",
                                    "Érték": "9763"
                                },
                                {
                                    "Év": "2017-03-17",
                                    "Szállítási mód": "NULL",
                                    "Érték": "8908"
                                },
                                {
                                    "Év": "2017-03-18",
                                    "Szállítási mód": "NULL",
                                    "Érték": "9344"
                                },
                                {
                                    "Év": "2017-03-19",
                                    "Szállítási mód": "NULL",
                                    "Érték": "9937"
                                },
                                {
                                    "Év": "2017-03-20",
                                    "Szállítási mód": "NULL",
                                    "Érték": "7683"
                                },
                                {
                                    "Év": "2017-03-21",
                                    "Szállítási mód": "NULL",
                                    "Érték": "8639"
                                },
                                {
                                    "Év": "2017-03-22",
                                    "Szállítási mód": "NULL",
                                    "Érték": "6526"
                                },
                                {
                                    "Év": "2017-03-23",
                                    "Szállítási mód": "NULL",
                                    "Érték": "8799"
                                },
                                {
                                    "Év": "2017-03-24",
                                    "Szállítási mód": "NULL",
                                    "Érték": "7416"
                                },
                                {
                                    "Év": "2017-03-25",
                                    "Szállítási mód": "NULL",
                                    "Érték": "6272"
                                },
                                {
                                    "Év": "2017-03-26",
                                    "Szállítási mód": "NULL",
                                    "Érték": "7786"
                                },
                                {
                                    "Év": "2017-03-27",
                                    "Szállítási mód": "NULL",
                                    "Érték": "7715"
                                },
                                {
                                    "Év": "2017-03-28",
                                    "Szállítási mód": "NULL",
                                    "Érték": "8568"
                                },
                                {
                                    "Év": "2017-03-29",
                                    "Szállítási mód": "NULL",
                                    "Érték": "8346"
                                },
                                {
                                    "Év": "2017-03-30",
                                    "Szállítási mód": "NULL",
                                    "Érték": "8513"
                                },
                                {
                                    "Év": "2017-03-31",
                                    "Szállítási mód": "NULL",
                                    "Érték": "8598"
                                },
                                {
                                    "Év": "2017-04-01",
                                    "Szállítási mód": "NULL",
                                    "Érték": "7307"
                                },
                                {
                                    "Év": "2017-04-02",
                                    "Szállítási mód": "NULL",
                                    "Érték": "9477"
                                },
                                {
                                    "Év": "2017-04-03",
                                    "Szállítási mód": "NULL",
                                    "Érték": "6042"
                                },
                                {
                                    "Év": "2017-04-04",
                                    "Szállítási mód": "NULL",
                                    "Érték": "7493"
                                },
                                {
                                    "Év": "2017-04-05",
                                    "Szállítási mód": "NULL",
                                    "Érték": "7562"
                                },
                                {
                                    "Év": "2017-04-06",
                                    "Szállítási mód": "NULL",
                                    "Érték": "4646"
                                },
                                {
                                    "Év": "2017-04-07",
                                    "Szállítási mód": "NULL",
                                    "Érték": "5197"
                                },
                                {
                                    "Év": "2017-04-08",
                                    "Szállítási mód": "NULL",
                                    "Érték": "3057"
                                },
                                {
                                    "Év": "2017-04-09",
                                    "Szállítási mód": "NULL",
                                    "Érték": "3870"
                                },
                                {
                                    "Év": "2017-04-10",
                                    "Szállítási mód": "NULL",
                                    "Érték": "1640"
                                },
                                {
                                    "Év": "2017-04-11",
                                    "Szállítási mód": "NULL",
                                    "Érték": "1220"
                                },
                                {
                                    "Év": "NULL",
                                    "Szállítási mód": "NULL",
                                    "Érték": "5578316"
                                }
                            ]
                        },
                        "text/html": [
                            "<table>",
                            "<tr><th>Év</th><th>Szállítási mód</th><th>Érték</th></tr>",
                            "<tr><td>2015-05-03</td><td>NULL</td><td>100</td></tr>",
                            "<tr><td>2015-05-04</td><td>NULL</td><td>996</td></tr>",
                            "<tr><td>2015-05-05</td><td>NULL</td><td>3152</td></tr>",
                            "<tr><td>2015-05-06</td><td>NULL</td><td>5030</td></tr>",
                            "<tr><td>2015-05-07</td><td>NULL</td><td>3828</td></tr>",
                            "<tr><td>2015-05-08</td><td>NULL</td><td>3213</td></tr>",
                            "<tr><td>2015-05-09</td><td>NULL</td><td>6665</td></tr>",
                            "<tr><td>2015-05-10</td><td>NULL</td><td>6909</td></tr>",
                            "<tr><td>2015-05-11</td><td>NULL</td><td>6224</td></tr>",
                            "<tr><td>2015-05-12</td><td>NULL</td><td>7568</td></tr>",
                            "<tr><td>2015-05-13</td><td>NULL</td><td>7985</td></tr>",
                            "<tr><td>2015-05-14</td><td>NULL</td><td>9706</td></tr>",
                            "<tr><td>2015-05-15</td><td>NULL</td><td>7400</td></tr>",
                            "<tr><td>2015-05-16</td><td>NULL</td><td>7897</td></tr>",
                            "<tr><td>2015-05-17</td><td>NULL</td><td>4572</td></tr>",
                            "<tr><td>2015-05-18</td><td>NULL</td><td>8190</td></tr>",
                            "<tr><td>2015-05-19</td><td>NULL</td><td>7248</td></tr>",
                            "<tr><td>2015-05-20</td><td>NULL</td><td>9859</td></tr>",
                            "<tr><td>2015-05-21</td><td>NULL</td><td>8041</td></tr>",
                            "<tr><td>2015-05-22</td><td>NULL</td><td>8338</td></tr>",
                            "<tr><td>2015-05-23</td><td>NULL</td><td>5616</td></tr>",
                            "<tr><td>2015-05-24</td><td>NULL</td><td>5001</td></tr>",
                            "<tr><td>2015-05-25</td><td>NULL</td><td>7611</td></tr>",
                            "<tr><td>2015-05-26</td><td>NULL</td><td>7153</td></tr>",
                            "<tr><td>2015-05-27</td><td>NULL</td><td>8300</td></tr>",
                            "<tr><td>2015-05-28</td><td>NULL</td><td>9340</td></tr>",
                            "<tr><td>2015-05-29</td><td>NULL</td><td>10784</td></tr>",
                            "<tr><td>2015-05-30</td><td>NULL</td><td>7763</td></tr>",
                            "<tr><td>2015-05-31</td><td>NULL</td><td>4364</td></tr>",
                            "<tr><td>2015-06-01</td><td>NULL</td><td>6947</td></tr>",
                            "<tr><td>2015-06-02</td><td>NULL</td><td>6241</td></tr>",
                            "<tr><td>2015-06-03</td><td>NULL</td><td>9359</td></tr>",
                            "<tr><td>2015-06-04</td><td>NULL</td><td>8474</td></tr>",
                            "<tr><td>2015-06-05</td><td>NULL</td><td>8961</td></tr>",
                            "<tr><td>2015-06-06</td><td>NULL</td><td>9510</td></tr>",
                            "<tr><td>2015-06-07</td><td>NULL</td><td>7956</td></tr>",
                            "<tr><td>2015-06-08</td><td>NULL</td><td>4277</td></tr>",
                            "<tr><td>2015-06-09</td><td>NULL</td><td>7132</td></tr>",
                            "<tr><td>2015-06-10</td><td>NULL</td><td>9346</td></tr>",
                            "<tr><td>2015-06-11</td><td>NULL</td><td>5191</td></tr>",
                            "<tr><td>2015-06-12</td><td>NULL</td><td>7336</td></tr>",
                            "<tr><td>2015-06-13</td><td>NULL</td><td>7818</td></tr>",
                            "<tr><td>2015-06-14</td><td>NULL</td><td>6484</td></tr>",
                            "<tr><td>2015-06-15</td><td>NULL</td><td>7796</td></tr>",
                            "<tr><td>2015-06-16</td><td>NULL</td><td>4307</td></tr>",
                            "<tr><td>2015-06-17</td><td>NULL</td><td>8645</td></tr>",
                            "<tr><td>2015-06-18</td><td>NULL</td><td>10077</td></tr>",
                            "<tr><td>2015-06-19</td><td>NULL</td><td>5675</td></tr>",
                            "<tr><td>2015-06-20</td><td>NULL</td><td>7859</td></tr>",
                            "<tr><td>2015-06-21</td><td>NULL</td><td>6627</td></tr>",
                            "<tr><td>2015-06-22</td><td>NULL</td><td>9084</td></tr>",
                            "<tr><td>2015-06-23</td><td>NULL</td><td>8869</td></tr>",
                            "<tr><td>2015-06-24</td><td>NULL</td><td>4993</td></tr>",
                            "<tr><td>2015-06-25</td><td>NULL</td><td>8165</td></tr>",
                            "<tr><td>2015-06-26</td><td>NULL</td><td>10834</td></tr>",
                            "<tr><td>2015-06-27</td><td>NULL</td><td>6396</td></tr>",
                            "<tr><td>2015-06-28</td><td>NULL</td><td>6803</td></tr>",
                            "<tr><td>2015-06-29</td><td>NULL</td><td>7435</td></tr>",
                            "<tr><td>2015-06-30</td><td>NULL</td><td>8526</td></tr>",
                            "<tr><td>2015-07-01</td><td>NULL</td><td>6032</td></tr>",
                            "<tr><td>2015-07-02</td><td>NULL</td><td>7066</td></tr>",
                            "<tr><td>2015-07-03</td><td>NULL</td><td>6359</td></tr>",
                            "<tr><td>2015-07-04</td><td>NULL</td><td>8739</td></tr>",
                            "<tr><td>2015-07-05</td><td>NULL</td><td>8558</td></tr>",
                            "<tr><td>2015-07-06</td><td>NULL</td><td>8389</td></tr>",
                            "<tr><td>2015-07-07</td><td>NULL</td><td>9522</td></tr>",
                            "<tr><td>2015-07-08</td><td>NULL</td><td>6395</td></tr>",
                            "<tr><td>2015-07-09</td><td>NULL</td><td>7375</td></tr>",
                            "<tr><td>2015-07-10</td><td>NULL</td><td>7676</td></tr>",
                            "<tr><td>2015-07-11</td><td>NULL</td><td>7366</td></tr>",
                            "<tr><td>2015-07-12</td><td>NULL</td><td>8638</td></tr>",
                            "<tr><td>2015-07-13</td><td>NULL</td><td>8300</td></tr>",
                            "<tr><td>2015-07-14</td><td>NULL</td><td>6340</td></tr>",
                            "<tr><td>2015-07-15</td><td>NULL</td><td>8615</td></tr>",
                            "<tr><td>2015-07-16</td><td>NULL</td><td>7041</td></tr>",
                            "<tr><td>2015-07-17</td><td>NULL</td><td>7327</td></tr>",
                            "<tr><td>2015-07-18</td><td>NULL</td><td>6762</td></tr>",
                            "<tr><td>2015-07-19</td><td>NULL</td><td>6776</td></tr>",
                            "<tr><td>2015-07-20</td><td>NULL</td><td>9748</td></tr>",
                            "<tr><td>2015-07-21</td><td>NULL</td><td>9805</td></tr>",
                            "<tr><td>2015-07-22</td><td>NULL</td><td>5140</td></tr>",
                            "<tr><td>2015-07-23</td><td>NULL</td><td>7258</td></tr>",
                            "<tr><td>2015-07-24</td><td>NULL</td><td>8697</td></tr>",
                            "<tr><td>2015-07-25</td><td>NULL</td><td>8180</td></tr>",
                            "<tr><td>2015-07-26</td><td>NULL</td><td>9323</td></tr>",
                            "<tr><td>2015-07-27</td><td>NULL</td><td>5417</td></tr>",
                            "<tr><td>2015-07-28</td><td>NULL</td><td>7825</td></tr>",
                            "<tr><td>2015-07-29</td><td>NULL</td><td>6405</td></tr>",
                            "<tr><td>2015-07-30</td><td>NULL</td><td>10029</td></tr>",
                            "<tr><td>2015-07-31</td><td>NULL</td><td>8673</td></tr>",
                            "<tr><td>2015-08-01</td><td>NULL</td><td>9957</td></tr>",
                            "<tr><td>2015-08-02</td><td>NULL</td><td>7599</td></tr>",
                            "<tr><td>2015-08-03</td><td>NULL</td><td>9208</td></tr>",
                            "<tr><td>2015-08-04</td><td>NULL</td><td>9353</td></tr>",
                            "<tr><td>2015-08-05</td><td>NULL</td><td>10342</td></tr>",
                            "<tr><td>2015-08-06</td><td>NULL</td><td>5124</td></tr>",
                            "<tr><td>2015-08-07</td><td>NULL</td><td>8960</td></tr>",
                            "<tr><td>2015-08-08</td><td>NULL</td><td>10296</td></tr>",
                            "<tr><td>2015-08-09</td><td>NULL</td><td>6026</td></tr>",
                            "<tr><td>2015-08-10</td><td>NULL</td><td>7896</td></tr>",
                            "<tr><td>2015-08-11</td><td>NULL</td><td>9008</td></tr>",
                            "<tr><td>2015-08-12</td><td>NULL</td><td>7605</td></tr>",
                            "<tr><td>2015-08-13</td><td>NULL</td><td>9380</td></tr>",
                            "<tr><td>2015-08-14</td><td>NULL</td><td>9780</td></tr>",
                            "<tr><td>2015-08-15</td><td>NULL</td><td>7514</td></tr>",
                            "<tr><td>2015-08-16</td><td>NULL</td><td>5341</td></tr>",
                            "<tr><td>2015-08-17</td><td>NULL</td><td>7162</td></tr>",
                            "<tr><td>2015-08-18</td><td>NULL</td><td>6271</td></tr>",
                            "<tr><td>2015-08-19</td><td>NULL</td><td>6650</td></tr>",
                            "<tr><td>2015-08-20</td><td>NULL</td><td>9005</td></tr>",
                            "<tr><td>2015-08-21</td><td>NULL</td><td>6874</td></tr>",
                            "<tr><td>2015-08-22</td><td>NULL</td><td>10138</td></tr>",
                            "<tr><td>2015-08-23</td><td>NULL</td><td>6734</td></tr>",
                            "<tr><td>2015-08-24</td><td>NULL</td><td>7767</td></tr>",
                            "<tr><td>2015-08-25</td><td>NULL</td><td>9206</td></tr>",
                            "<tr><td>2015-08-26</td><td>NULL</td><td>11006</td></tr>",
                            "<tr><td>2015-08-27</td><td>NULL</td><td>6244</td></tr>",
                            "<tr><td>2015-08-28</td><td>NULL</td><td>8145</td></tr>",
                            "<tr><td>2015-08-29</td><td>NULL</td><td>7380</td></tr>",
                            "<tr><td>2015-08-30</td><td>NULL</td><td>9727</td></tr>",
                            "<tr><td>2015-08-31</td><td>NULL</td><td>7226</td></tr>",
                            "<tr><td>2015-09-01</td><td>NULL</td><td>9466</td></tr>",
                            "<tr><td>2015-09-02</td><td>NULL</td><td>6179</td></tr>",
                            "<tr><td>2015-09-03</td><td>NULL</td><td>9949</td></tr>",
                            "<tr><td>2015-09-04</td><td>NULL</td><td>10432</td></tr>",
                            "<tr><td>2015-09-05</td><td>NULL</td><td>7083</td></tr>",
                            "<tr><td>2015-09-06</td><td>NULL</td><td>8378</td></tr>",
                            "<tr><td>2015-09-07</td><td>NULL</td><td>8303</td></tr>",
                            "<tr><td>2015-09-08</td><td>NULL</td><td>8349</td></tr>",
                            "<tr><td>2015-09-09</td><td>NULL</td><td>7985</td></tr>",
                            "<tr><td>2015-09-10</td><td>NULL</td><td>10353</td></tr>",
                            "<tr><td>2015-09-11</td><td>NULL</td><td>9284</td></tr>",
                            "<tr><td>2015-09-12</td><td>NULL</td><td>8553</td></tr>",
                            "<tr><td>2015-09-13</td><td>NULL</td><td>7435</td></tr>",
                            "<tr><td>2015-09-14</td><td>NULL</td><td>8232</td></tr>",
                            "<tr><td>2015-09-15</td><td>NULL</td><td>4776</td></tr>",
                            "<tr><td>2015-09-16</td><td>NULL</td><td>7416</td></tr>",
                            "<tr><td>2015-09-17</td><td>NULL</td><td>8358</td></tr>",
                            "<tr><td>2015-09-18</td><td>NULL</td><td>7210</td></tr>",
                            "<tr><td>2015-09-19</td><td>NULL</td><td>8267</td></tr>",
                            "<tr><td>2015-09-20</td><td>NULL</td><td>10001</td></tr>",
                            "<tr><td>2015-09-21</td><td>NULL</td><td>7086</td></tr>",
                            "<tr><td>2015-09-22</td><td>NULL</td><td>7424</td></tr>",
                            "<tr><td>2015-09-23</td><td>NULL</td><td>8183</td></tr>",
                            "<tr><td>2015-09-24</td><td>NULL</td><td>10252</td></tr>",
                            "<tr><td>2015-09-25</td><td>NULL</td><td>8106</td></tr>",
                            "<tr><td>2015-09-26</td><td>NULL</td><td>9451</td></tr>",
                            "<tr><td>2015-09-27</td><td>NULL</td><td>8692</td></tr>",
                            "<tr><td>2015-09-28</td><td>NULL</td><td>10281</td></tr>",
                            "<tr><td>2015-09-29</td><td>NULL</td><td>9481</td></tr>",
                            "<tr><td>2015-09-30</td><td>NULL</td><td>5900</td></tr>",
                            "<tr><td>2015-10-01</td><td>NULL</td><td>9384</td></tr>",
                            "<tr><td>2015-10-02</td><td>NULL</td><td>5674</td></tr>",
                            "<tr><td>2015-10-03</td><td>NULL</td><td>8509</td></tr>",
                            "<tr><td>2015-10-04</td><td>NULL</td><td>7645</td></tr>",
                            "<tr><td>2015-10-05</td><td>NULL</td><td>8535</td></tr>",
                            "<tr><td>2015-10-06</td><td>NULL</td><td>7529</td></tr>",
                            "<tr><td>2015-10-07</td><td>NULL</td><td>9435</td></tr>",
                            "<tr><td>2015-10-08</td><td>NULL</td><td>7319</td></tr>",
                            "<tr><td>2015-10-09</td><td>NULL</td><td>8931</td></tr>",
                            "<tr><td>2015-10-10</td><td>NULL</td><td>7928</td></tr>",
                            "<tr><td>2015-10-11</td><td>NULL</td><td>7516</td></tr>",
                            "<tr><td>2015-10-12</td><td>NULL</td><td>9355</td></tr>",
                            "<tr><td>2015-10-13</td><td>NULL</td><td>6564</td></tr>",
                            "<tr><td>2015-10-14</td><td>NULL</td><td>7035</td></tr>",
                            "<tr><td>2015-10-15</td><td>NULL</td><td>9269</td></tr>",
                            "<tr><td>2015-10-16</td><td>NULL</td><td>8427</td></tr>",
                            "<tr><td>2015-10-17</td><td>NULL</td><td>6936</td></tr>",
                            "<tr><td>2015-10-18</td><td>NULL</td><td>8671</td></tr>",
                            "<tr><td>2015-10-19</td><td>NULL</td><td>7207</td></tr>",
                            "<tr><td>2015-10-20</td><td>NULL</td><td>8613</td></tr>",
                            "<tr><td>2015-10-21</td><td>NULL</td><td>7366</td></tr>",
                            "<tr><td>2015-10-22</td><td>NULL</td><td>6678</td></tr>",
                            "<tr><td>2015-10-23</td><td>NULL</td><td>8056</td></tr>",
                            "<tr><td>2015-10-24</td><td>NULL</td><td>7233</td></tr>",
                            "<tr><td>2015-10-25</td><td>NULL</td><td>9107</td></tr>",
                            "<tr><td>2015-10-26</td><td>NULL</td><td>9776</td></tr>",
                            "<tr><td>2015-10-27</td><td>NULL</td><td>7669</td></tr>",
                            "<tr><td>2015-10-28</td><td>NULL</td><td>7522</td></tr>",
                            "<tr><td>2015-10-29</td><td>NULL</td><td>6971</td></tr>",
                            "<tr><td>2015-10-30</td><td>NULL</td><td>8999</td></tr>",
                            "<tr><td>2015-10-31</td><td>NULL</td><td>7046</td></tr>",
                            "<tr><td>2015-11-01</td><td>NULL</td><td>6171</td></tr>",
                            "<tr><td>2015-11-02</td><td>NULL</td><td>7612</td></tr>",
                            "<tr><td>2015-11-03</td><td>NULL</td><td>11533</td></tr>",
                            "<tr><td>2015-11-04</td><td>NULL</td><td>5352</td></tr>",
                            "<tr><td>2015-11-05</td><td>NULL</td><td>7183</td></tr>",
                            "<tr><td>2015-11-06</td><td>NULL</td><td>8606</td></tr>",
                            "<tr><td>2015-11-07</td><td>NULL</td><td>7260</td></tr>",
                            "<tr><td>2015-11-08</td><td>NULL</td><td>8177</td></tr>",
                            "<tr><td>2015-11-09</td><td>NULL</td><td>8431</td></tr>",
                            "<tr><td>2015-11-10</td><td>NULL</td><td>8329</td></tr>",
                            "<tr><td>2015-11-11</td><td>NULL</td><td>8191</td></tr>",
                            "<tr><td>2015-11-12</td><td>NULL</td><td>5884</td></tr>",
                            "<tr><td>2015-11-13</td><td>NULL</td><td>7359</td></tr>",
                            "<tr><td>2015-11-14</td><td>NULL</td><td>7730</td></tr>",
                            "<tr><td>2015-11-15</td><td>NULL</td><td>6881</td></tr>",
                            "<tr><td>2015-11-16</td><td>NULL</td><td>7721</td></tr>",
                            "<tr><td>2015-11-17</td><td>NULL</td><td>7234</td></tr>",
                            "<tr><td>2015-11-18</td><td>NULL</td><td>8321</td></tr>",
                            "<tr><td>2015-11-19</td><td>NULL</td><td>7582</td></tr>",
                            "<tr><td>2015-11-20</td><td>NULL</td><td>6288</td></tr>",
                            "<tr><td>2015-11-21</td><td>NULL</td><td>6657</td></tr>",
                            "<tr><td>2015-11-22</td><td>NULL</td><td>8640</td></tr>",
                            "<tr><td>2015-11-23</td><td>NULL</td><td>7363</td></tr>",
                            "<tr><td>2015-11-24</td><td>NULL</td><td>7556</td></tr>",
                            "<tr><td>2015-11-25</td><td>NULL</td><td>7103</td></tr>",
                            "<tr><td>2015-11-26</td><td>NULL</td><td>8368</td></tr>",
                            "<tr><td>2015-11-27</td><td>NULL</td><td>6865</td></tr>",
                            "<tr><td>2015-11-28</td><td>NULL</td><td>10098</td></tr>",
                            "<tr><td>2015-11-29</td><td>NULL</td><td>7636</td></tr>",
                            "<tr><td>2015-11-30</td><td>NULL</td><td>7182</td></tr>",
                            "<tr><td>2015-12-01</td><td>NULL</td><td>7314</td></tr>",
                            "<tr><td>2015-12-02</td><td>NULL</td><td>9592</td></tr>",
                            "<tr><td>2015-12-03</td><td>NULL</td><td>8829</td></tr>",
                            "<tr><td>2015-12-04</td><td>NULL</td><td>8013</td></tr>",
                            "<tr><td>2015-12-05</td><td>NULL</td><td>8887</td></tr>",
                            "<tr><td>2015-12-06</td><td>NULL</td><td>5596</td></tr>",
                            "<tr><td>2015-12-07</td><td>NULL</td><td>8825</td></tr>",
                            "<tr><td>2015-12-08</td><td>NULL</td><td>7819</td></tr>",
                            "<tr><td>2015-12-09</td><td>NULL</td><td>7897</td></tr>",
                            "<tr><td>2015-12-10</td><td>NULL</td><td>9644</td></tr>",
                            "<tr><td>2015-12-11</td><td>NULL</td><td>8093</td></tr>",
                            "<tr><td>2015-12-12</td><td>NULL</td><td>8957</td></tr>",
                            "<tr><td>2015-12-13</td><td>NULL</td><td>7399</td></tr>",
                            "<tr><td>2015-12-14</td><td>NULL</td><td>7676</td></tr>",
                            "<tr><td>2015-12-15</td><td>NULL</td><td>6863</td></tr>",
                            "<tr><td>2015-12-16</td><td>NULL</td><td>7886</td></tr>",
                            "<tr><td>2015-12-17</td><td>NULL</td><td>6894</td></tr>",
                            "<tr><td>2015-12-18</td><td>NULL</td><td>12260</td></tr>",
                            "<tr><td>2015-12-19</td><td>NULL</td><td>5788</td></tr>",
                            "<tr><td>2015-12-20</td><td>NULL</td><td>8699</td></tr>",
                            "<tr><td>2015-12-21</td><td>NULL</td><td>6630</td></tr>",
                            "<tr><td>2015-12-22</td><td>NULL</td><td>9212</td></tr>",
                            "<tr><td>2015-12-23</td><td>NULL</td><td>6676</td></tr>",
                            "<tr><td>2015-12-24</td><td>NULL</td><td>8869</td></tr>",
                            "<tr><td>2015-12-25</td><td>NULL</td><td>6944</td></tr>",
                            "<tr><td>2015-12-26</td><td>NULL</td><td>8921</td></tr>",
                            "<tr><td>2015-12-27</td><td>NULL</td><td>7648</td></tr>",
                            "<tr><td>2015-12-28</td><td>NULL</td><td>8042</td></tr>",
                            "<tr><td>2015-12-29</td><td>NULL</td><td>7923</td></tr>",
                            "<tr><td>2015-12-30</td><td>NULL</td><td>6562</td></tr>",
                            "<tr><td>2015-12-31</td><td>NULL</td><td>7021</td></tr>",
                            "<tr><td>2016-01-01</td><td>NULL</td><td>8837</td></tr>",
                            "<tr><td>2016-01-02</td><td>NULL</td><td>7518</td></tr>",
                            "<tr><td>2016-01-03</td><td>NULL</td><td>8422</td></tr>",
                            "<tr><td>2016-01-04</td><td>NULL</td><td>8813</td></tr>",
                            "<tr><td>2016-01-05</td><td>NULL</td><td>6895</td></tr>",
                            "<tr><td>2016-01-06</td><td>NULL</td><td>6716</td></tr>",
                            "<tr><td>2016-01-07</td><td>NULL</td><td>5593</td></tr>",
                            "<tr><td>2016-01-08</td><td>NULL</td><td>9534</td></tr>",
                            "<tr><td>2016-01-09</td><td>NULL</td><td>7056</td></tr>",
                            "<tr><td>2016-01-10</td><td>NULL</td><td>8057</td></tr>",
                            "<tr><td>2016-01-11</td><td>NULL</td><td>6734</td></tr>",
                            "<tr><td>2016-01-12</td><td>NULL</td><td>6949</td></tr>",
                            "<tr><td>2016-01-13</td><td>NULL</td><td>7487</td></tr>",
                            "<tr><td>2016-01-14</td><td>NULL</td><td>8998</td></tr>",
                            "<tr><td>2016-01-15</td><td>NULL</td><td>9345</td></tr>",
                            "<tr><td>2016-01-16</td><td>NULL</td><td>8068</td></tr>",
                            "<tr><td>2016-01-17</td><td>NULL</td><td>6954</td></tr>",
                            "<tr><td>2016-01-18</td><td>NULL</td><td>4416</td></tr>",
                            "<tr><td>2016-01-19</td><td>NULL</td><td>7124</td></tr>",
                            "<tr><td>2016-01-20</td><td>NULL</td><td>8568</td></tr>",
                            "<tr><td>2016-01-21</td><td>NULL</td><td>10953</td></tr>",
                            "<tr><td>2016-01-22</td><td>NULL</td><td>8588</td></tr>",
                            "<tr><td>2016-01-23</td><td>NULL</td><td>6512</td></tr>",
                            "<tr><td>2016-01-24</td><td>NULL</td><td>8898</td></tr>",
                            "<tr><td>2016-01-25</td><td>NULL</td><td>5191</td></tr>",
                            "<tr><td>2016-01-26</td><td>NULL</td><td>5293</td></tr>",
                            "<tr><td>2016-01-27</td><td>NULL</td><td>6513</td></tr>",
                            "<tr><td>2016-01-28</td><td>NULL</td><td>8119</td></tr>",
                            "<tr><td>2016-01-29</td><td>NULL</td><td>6658</td></tr>",
                            "<tr><td>2016-01-30</td><td>NULL</td><td>8727</td></tr>",
                            "<tr><td>2016-01-31</td><td>NULL</td><td>7527</td></tr>",
                            "<tr><td>2016-02-01</td><td>NULL</td><td>9120</td></tr>",
                            "<tr><td>2016-02-02</td><td>NULL</td><td>8088</td></tr>",
                            "<tr><td>2016-02-03</td><td>NULL</td><td>9306</td></tr>",
                            "<tr><td>2016-02-04</td><td>NULL</td><td>7994</td></tr>",
                            "<tr><td>2016-02-05</td><td>NULL</td><td>9703</td></tr>",
                            "<tr><td>2016-02-06</td><td>NULL</td><td>9860</td></tr>",
                            "<tr><td>2016-02-07</td><td>NULL</td><td>6630</td></tr>",
                            "<tr><td>2016-02-08</td><td>NULL</td><td>10093</td></tr>",
                            "<tr><td>2016-02-09</td><td>NULL</td><td>9706</td></tr>",
                            "<tr><td>2016-02-10</td><td>NULL</td><td>8520</td></tr>",
                            "<tr><td>2016-02-11</td><td>NULL</td><td>7094</td></tr>",
                            "<tr><td>2016-02-12</td><td>NULL</td><td>7789</td></tr>",
                            "<tr><td>2016-02-13</td><td>NULL</td><td>7991</td></tr>",
                            "<tr><td>2016-02-14</td><td>NULL</td><td>8049</td></tr>",
                            "<tr><td>2016-02-15</td><td>NULL</td><td>10033</td></tr>",
                            "<tr><td>2016-02-16</td><td>NULL</td><td>8049</td></tr>",
                            "<tr><td>2016-02-17</td><td>NULL</td><td>9586</td></tr>",
                            "<tr><td>2016-02-18</td><td>NULL</td><td>5922</td></tr>",
                            "<tr><td>2016-02-19</td><td>NULL</td><td>8898</td></tr>",
                            "<tr><td>2016-02-20</td><td>NULL</td><td>7549</td></tr>",
                            "<tr><td>2016-02-21</td><td>NULL</td><td>6531</td></tr>",
                            "<tr><td>2016-02-22</td><td>NULL</td><td>8724</td></tr>",
                            "<tr><td>2016-02-23</td><td>NULL</td><td>6959</td></tr>",
                            "<tr><td>2016-02-24</td><td>NULL</td><td>6314</td></tr>",
                            "<tr><td>2016-02-25</td><td>NULL</td><td>7324</td></tr>",
                            "<tr><td>2016-02-26</td><td>NULL</td><td>8466</td></tr>",
                            "<tr><td>2016-02-27</td><td>NULL</td><td>7122</td></tr>",
                            "<tr><td>2016-02-28</td><td>NULL</td><td>8447</td></tr>",
                            "<tr><td>2016-02-29</td><td>NULL</td><td>8516</td></tr>",
                            "<tr><td>2016-03-01</td><td>NULL</td><td>9654</td></tr>",
                            "<tr><td>2016-03-02</td><td>NULL</td><td>7282</td></tr>",
                            "<tr><td>2016-03-03</td><td>NULL</td><td>8853</td></tr>",
                            "<tr><td>2016-03-04</td><td>NULL</td><td>8549</td></tr>",
                            "<tr><td>2016-03-05</td><td>NULL</td><td>9463</td></tr>",
                            "<tr><td>2016-03-06</td><td>NULL</td><td>7740</td></tr>",
                            "<tr><td>2016-03-07</td><td>NULL</td><td>7680</td></tr>",
                            "<tr><td>2016-03-08</td><td>NULL</td><td>5849</td></tr>",
                            "<tr><td>2016-03-09</td><td>NULL</td><td>9412</td></tr>",
                            "<tr><td>2016-03-10</td><td>NULL</td><td>8848</td></tr>",
                            "<tr><td>2016-03-11</td><td>NULL</td><td>6193</td></tr>",
                            "<tr><td>2016-03-12</td><td>NULL</td><td>10487</td></tr>",
                            "<tr><td>2016-03-13</td><td>NULL</td><td>5913</td></tr>",
                            "<tr><td>2016-03-14</td><td>NULL</td><td>9336</td></tr>",
                            "<tr><td>2016-03-15</td><td>NULL</td><td>8180</td></tr>",
                            "<tr><td>2016-03-16</td><td>NULL</td><td>7448</td></tr>",
                            "<tr><td>2016-03-17</td><td>NULL</td><td>7770</td></tr>",
                            "<tr><td>2016-03-18</td><td>NULL</td><td>6927</td></tr>",
                            "<tr><td>2016-03-19</td><td>NULL</td><td>7827</td></tr>",
                            "<tr><td>2016-03-20</td><td>NULL</td><td>12190</td></tr>",
                            "<tr><td>2016-03-21</td><td>NULL</td><td>11075</td></tr>",
                            "<tr><td>2016-03-22</td><td>NULL</td><td>7770</td></tr>",
                            "<tr><td>2016-03-23</td><td>NULL</td><td>6397</td></tr>",
                            "<tr><td>2016-03-24</td><td>NULL</td><td>7220</td></tr>",
                            "<tr><td>2016-03-25</td><td>NULL</td><td>8763</td></tr>",
                            "<tr><td>2016-03-26</td><td>NULL</td><td>9893</td></tr>",
                            "<tr><td>2016-03-27</td><td>NULL</td><td>8950</td></tr>",
                            "<tr><td>2016-03-28</td><td>NULL</td><td>7552</td></tr>",
                            "<tr><td>2016-03-29</td><td>NULL</td><td>7416</td></tr>",
                            "<tr><td>2016-03-30</td><td>NULL</td><td>8631</td></tr>",
                            "<tr><td>2016-03-31</td><td>NULL</td><td>6885</td></tr>",
                            "<tr><td>2016-04-01</td><td>NULL</td><td>8756</td></tr>",
                            "<tr><td>2016-04-02</td><td>NULL</td><td>8073</td></tr>",
                            "<tr><td>2016-04-03</td><td>NULL</td><td>5897</td></tr>",
                            "<tr><td>2016-04-04</td><td>NULL</td><td>7405</td></tr>",
                            "<tr><td>2016-04-05</td><td>NULL</td><td>8092</td></tr>",
                            "<tr><td>2016-04-06</td><td>NULL</td><td>7458</td></tr>",
                            "<tr><td>2016-04-07</td><td>NULL</td><td>9216</td></tr>",
                            "<tr><td>2016-04-08</td><td>NULL</td><td>10889</td></tr>",
                            "<tr><td>2016-04-09</td><td>NULL</td><td>9754</td></tr>",
                            "<tr><td>2016-04-10</td><td>NULL</td><td>9878</td></tr>",
                            "<tr><td>2016-04-11</td><td>NULL</td><td>8948</td></tr>",
                            "<tr><td>2016-04-12</td><td>NULL</td><td>7144</td></tr>",
                            "<tr><td>2016-04-13</td><td>NULL</td><td>7728</td></tr>",
                            "<tr><td>2016-04-14</td><td>NULL</td><td>8805</td></tr>",
                            "<tr><td>2016-04-15</td><td>NULL</td><td>8331</td></tr>",
                            "<tr><td>2016-04-16</td><td>NULL</td><td>8755</td></tr>",
                            "<tr><td>2016-04-17</td><td>NULL</td><td>10267</td></tr>",
                            "<tr><td>2016-04-18</td><td>NULL</td><td>7586</td></tr>",
                            "<tr><td>2016-04-19</td><td>NULL</td><td>9190</td></tr>",
                            "<tr><td>2016-04-20</td><td>NULL</td><td>6584</td></tr>",
                            "<tr><td>2016-04-21</td><td>NULL</td><td>6628</td></tr>",
                            "<tr><td>2016-04-22</td><td>NULL</td><td>6502</td></tr>",
                            "<tr><td>2016-04-23</td><td>NULL</td><td>6588</td></tr>",
                            "<tr><td>2016-04-24</td><td>NULL</td><td>9512</td></tr>",
                            "<tr><td>2016-04-25</td><td>NULL</td><td>10177</td></tr>",
                            "<tr><td>2016-04-26</td><td>NULL</td><td>7946</td></tr>",
                            "<tr><td>2016-04-27</td><td>NULL</td><td>8344</td></tr>",
                            "<tr><td>2016-04-28</td><td>NULL</td><td>7732</td></tr>",
                            "<tr><td>2016-04-29</td><td>NULL</td><td>7870</td></tr>",
                            "<tr><td>2016-04-30</td><td>NULL</td><td>7898</td></tr>",
                            "<tr><td>2016-05-01</td><td>NULL</td><td>6600</td></tr>",
                            "<tr><td>2016-05-02</td><td>NULL</td><td>8142</td></tr>",
                            "<tr><td>2016-05-03</td><td>NULL</td><td>5084</td></tr>",
                            "<tr><td>2016-05-04</td><td>NULL</td><td>9125</td></tr>",
                            "<tr><td>2016-05-05</td><td>NULL</td><td>7845</td></tr>",
                            "<tr><td>2016-05-06</td><td>NULL</td><td>7969</td></tr>",
                            "<tr><td>2016-05-07</td><td>NULL</td><td>8896</td></tr>",
                            "<tr><td>2016-05-08</td><td>NULL</td><td>7858</td></tr>",
                            "<tr><td>2016-05-09</td><td>NULL</td><td>11178</td></tr>",
                            "<tr><td>2016-05-10</td><td>NULL</td><td>8968</td></tr>",
                            "<tr><td>2016-05-11</td><td>NULL</td><td>8132</td></tr>",
                            "<tr><td>2016-05-12</td><td>NULL</td><td>8095</td></tr>",
                            "<tr><td>2016-05-13</td><td>NULL</td><td>8089</td></tr>",
                            "<tr><td>2016-05-14</td><td>NULL</td><td>7722</td></tr>",
                            "<tr><td>2016-05-15</td><td>NULL</td><td>5490</td></tr>",
                            "<tr><td>2016-05-16</td><td>NULL</td><td>7944</td></tr>",
                            "<tr><td>2016-05-17</td><td>NULL</td><td>8888</td></tr>",
                            "<tr><td>2016-05-18</td><td>NULL</td><td>5720</td></tr>",
                            "<tr><td>2016-05-19</td><td>NULL</td><td>7578</td></tr>",
                            "<tr><td>2016-05-20</td><td>NULL</td><td>8879</td></tr>",
                            "<tr><td>2016-05-21</td><td>NULL</td><td>9030</td></tr>",
                            "<tr><td>2016-05-22</td><td>NULL</td><td>4914</td></tr>",
                            "<tr><td>2016-05-23</td><td>NULL</td><td>8577</td></tr>",
                            "<tr><td>2016-05-24</td><td>NULL</td><td>8816</td></tr>",
                            "<tr><td>2016-05-25</td><td>NULL</td><td>9296</td></tr>",
                            "<tr><td>2016-05-26</td><td>NULL</td><td>5287</td></tr>",
                            "<tr><td>2016-05-27</td><td>NULL</td><td>9701</td></tr>",
                            "<tr><td>2016-05-28</td><td>NULL</td><td>6509</td></tr>",
                            "<tr><td>2016-05-29</td><td>NULL</td><td>9450</td></tr>",
                            "<tr><td>2016-05-30</td><td>NULL</td><td>6884</td></tr>",
                            "<tr><td>2016-05-31</td><td>NULL</td><td>10007</td></tr>",
                            "<tr><td>2016-06-01</td><td>NULL</td><td>8484</td></tr>",
                            "<tr><td>2016-06-02</td><td>NULL</td><td>6928</td></tr>",
                            "<tr><td>2016-06-03</td><td>NULL</td><td>6567</td></tr>",
                            "<tr><td>2016-06-04</td><td>NULL</td><td>7904</td></tr>",
                            "<tr><td>2016-06-05</td><td>NULL</td><td>5802</td></tr>",
                            "<tr><td>2016-06-06</td><td>NULL</td><td>9474</td></tr>",
                            "<tr><td>2016-06-07</td><td>NULL</td><td>8722</td></tr>",
                            "<tr><td>2016-06-08</td><td>NULL</td><td>7019</td></tr>",
                            "<tr><td>2016-06-09</td><td>NULL</td><td>7354</td></tr>",
                            "<tr><td>2016-06-10</td><td>NULL</td><td>8873</td></tr>",
                            "<tr><td>2016-06-11</td><td>NULL</td><td>9217</td></tr>",
                            "<tr><td>2016-06-12</td><td>NULL</td><td>9418</td></tr>",
                            "<tr><td>2016-06-13</td><td>NULL</td><td>6407</td></tr>",
                            "<tr><td>2016-06-14</td><td>NULL</td><td>7968</td></tr>",
                            "<tr><td>2016-06-15</td><td>NULL</td><td>8830</td></tr>",
                            "<tr><td>2016-06-16</td><td>NULL</td><td>6462</td></tr>",
                            "<tr><td>2016-06-17</td><td>NULL</td><td>9189</td></tr>",
                            "<tr><td>2016-06-18</td><td>NULL</td><td>6311</td></tr>",
                            "<tr><td>2016-06-19</td><td>NULL</td><td>8834</td></tr>",
                            "<tr><td>2016-06-20</td><td>NULL</td><td>8005</td></tr>",
                            "<tr><td>2016-06-21</td><td>NULL</td><td>6482</td></tr>",
                            "<tr><td>2016-06-22</td><td>NULL</td><td>6541</td></tr>",
                            "<tr><td>2016-06-23</td><td>NULL</td><td>6662</td></tr>",
                            "<tr><td>2016-06-24</td><td>NULL</td><td>8530</td></tr>",
                            "<tr><td>2016-06-25</td><td>NULL</td><td>8262</td></tr>",
                            "<tr><td>2016-06-26</td><td>NULL</td><td>10488</td></tr>",
                            "<tr><td>2016-06-27</td><td>NULL</td><td>5541</td></tr>",
                            "<tr><td>2016-06-28</td><td>NULL</td><td>10267</td></tr>",
                            "<tr><td>2016-06-29</td><td>NULL</td><td>9869</td></tr>",
                            "<tr><td>2016-06-30</td><td>NULL</td><td>9437</td></tr>",
                            "<tr><td>2016-07-01</td><td>NULL</td><td>5916</td></tr>",
                            "<tr><td>2016-07-02</td><td>NULL</td><td>6710</td></tr>",
                            "<tr><td>2016-07-03</td><td>NULL</td><td>9081</td></tr>",
                            "<tr><td>2016-07-04</td><td>NULL</td><td>10816</td></tr>",
                            "<tr><td>2016-07-05</td><td>NULL</td><td>8863</td></tr>",
                            "<tr><td>2016-07-06</td><td>NULL</td><td>7283</td></tr>",
                            "<tr><td>2016-07-07</td><td>NULL</td><td>5922</td></tr>",
                            "<tr><td>2016-07-08</td><td>NULL</td><td>7968</td></tr>",
                            "<tr><td>2016-07-09</td><td>NULL</td><td>9112</td></tr>",
                            "<tr><td>2016-07-10</td><td>NULL</td><td>7494</td></tr>",
                            "<tr><td>2016-07-11</td><td>NULL</td><td>10358</td></tr>",
                            "<tr><td>2016-07-12</td><td>NULL</td><td>8519</td></tr>",
                            "<tr><td>2016-07-13</td><td>NULL</td><td>8721</td></tr>",
                            "<tr><td>2016-07-14</td><td>NULL</td><td>7363</td></tr>",
                            "<tr><td>2016-07-15</td><td>NULL</td><td>7066</td></tr>",
                            "<tr><td>2016-07-16</td><td>NULL</td><td>8298</td></tr>",
                            "<tr><td>2016-07-17</td><td>NULL</td><td>6320</td></tr>",
                            "<tr><td>2016-07-18</td><td>NULL</td><td>8573</td></tr>",
                            "<tr><td>2016-07-19</td><td>NULL</td><td>9023</td></tr>",
                            "<tr><td>2016-07-20</td><td>NULL</td><td>7415</td></tr>",
                            "<tr><td>2016-07-21</td><td>NULL</td><td>7484</td></tr>",
                            "<tr><td>2016-07-22</td><td>NULL</td><td>7412</td></tr>",
                            "<tr><td>2016-07-23</td><td>NULL</td><td>6895</td></tr>",
                            "<tr><td>2016-07-24</td><td>NULL</td><td>6958</td></tr>",
                            "<tr><td>2016-07-25</td><td>NULL</td><td>7559</td></tr>",
                            "<tr><td>2016-07-26</td><td>NULL</td><td>7020</td></tr>",
                            "<tr><td>2016-07-27</td><td>NULL</td><td>9352</td></tr>",
                            "<tr><td>2016-07-28</td><td>NULL</td><td>7155</td></tr>",
                            "<tr><td>2016-07-29</td><td>NULL</td><td>9038</td></tr>",
                            "<tr><td>2016-07-30</td><td>NULL</td><td>6288</td></tr>",
                            "<tr><td>2016-07-31</td><td>NULL</td><td>9007</td></tr>",
                            "<tr><td>2016-08-01</td><td>NULL</td><td>7588</td></tr>",
                            "<tr><td>2016-08-02</td><td>NULL</td><td>6686</td></tr>",
                            "<tr><td>2016-08-03</td><td>NULL</td><td>7884</td></tr>",
                            "<tr><td>2016-08-04</td><td>NULL</td><td>6900</td></tr>",
                            "<tr><td>2016-08-05</td><td>NULL</td><td>7610</td></tr>",
                            "<tr><td>2016-08-06</td><td>NULL</td><td>8498</td></tr>",
                            "<tr><td>2016-08-07</td><td>NULL</td><td>5511</td></tr>",
                            "<tr><td>2016-08-08</td><td>NULL</td><td>5829</td></tr>",
                            "<tr><td>2016-08-09</td><td>NULL</td><td>10307</td></tr>",
                            "<tr><td>2016-08-10</td><td>NULL</td><td>8311</td></tr>",
                            "<tr><td>2016-08-11</td><td>NULL</td><td>8232</td></tr>",
                            "<tr><td>2016-08-12</td><td>NULL</td><td>8761</td></tr>",
                            "<tr><td>2016-08-13</td><td>NULL</td><td>9571</td></tr>",
                            "<tr><td>2016-08-14</td><td>NULL</td><td>8263</td></tr>",
                            "<tr><td>2016-08-15</td><td>NULL</td><td>10966</td></tr>",
                            "<tr><td>2016-08-16</td><td>NULL</td><td>7435</td></tr>",
                            "<tr><td>2016-08-17</td><td>NULL</td><td>7576</td></tr>",
                            "<tr><td>2016-08-18</td><td>NULL</td><td>7689</td></tr>",
                            "<tr><td>2016-08-19</td><td>NULL</td><td>6974</td></tr>",
                            "<tr><td>2016-08-20</td><td>NULL</td><td>9117</td></tr>",
                            "<tr><td>2016-08-21</td><td>NULL</td><td>5864</td></tr>",
                            "<tr><td>2016-08-22</td><td>NULL</td><td>7082</td></tr>",
                            "<tr><td>2016-08-23</td><td>NULL</td><td>6153</td></tr>",
                            "<tr><td>2016-08-24</td><td>NULL</td><td>8822</td></tr>",
                            "<tr><td>2016-08-25</td><td>NULL</td><td>9398</td></tr>",
                            "<tr><td>2016-08-26</td><td>NULL</td><td>8695</td></tr>",
                            "<tr><td>2016-08-27</td><td>NULL</td><td>8120</td></tr>",
                            "<tr><td>2016-08-28</td><td>NULL</td><td>8937</td></tr>",
                            "<tr><td>2016-08-29</td><td>NULL</td><td>7542</td></tr>",
                            "<tr><td>2016-08-30</td><td>NULL</td><td>5527</td></tr>",
                            "<tr><td>2016-08-31</td><td>NULL</td><td>6069</td></tr>",
                            "<tr><td>2016-09-01</td><td>NULL</td><td>6626</td></tr>",
                            "<tr><td>2016-09-02</td><td>NULL</td><td>7775</td></tr>",
                            "<tr><td>2016-09-03</td><td>NULL</td><td>11043</td></tr>",
                            "<tr><td>2016-09-04</td><td>NULL</td><td>11369</td></tr>",
                            "<tr><td>2016-09-05</td><td>NULL</td><td>6206</td></tr>",
                            "<tr><td>2016-09-06</td><td>NULL</td><td>8736</td></tr>",
                            "<tr><td>2016-09-07</td><td>NULL</td><td>8579</td></tr>",
                            "<tr><td>2016-09-08</td><td>NULL</td><td>8561</td></tr>",
                            "<tr><td>2016-09-09</td><td>NULL</td><td>8470</td></tr>",
                            "<tr><td>2016-09-10</td><td>NULL</td><td>9203</td></tr>",
                            "<tr><td>2016-09-11</td><td>NULL</td><td>8573</td></tr>",
                            "<tr><td>2016-09-12</td><td>NULL</td><td>6264</td></tr>",
                            "<tr><td>2016-09-13</td><td>NULL</td><td>8200</td></tr>",
                            "<tr><td>2016-09-14</td><td>NULL</td><td>10576</td></tr>",
                            "<tr><td>2016-09-15</td><td>NULL</td><td>10530</td></tr>",
                            "<tr><td>2016-09-16</td><td>NULL</td><td>5621</td></tr>",
                            "<tr><td>2016-09-17</td><td>NULL</td><td>7379</td></tr>",
                            "<tr><td>2016-09-18</td><td>NULL</td><td>10790</td></tr>",
                            "<tr><td>2016-09-19</td><td>NULL</td><td>7019</td></tr>",
                            "<tr><td>2016-09-20</td><td>NULL</td><td>8544</td></tr>",
                            "<tr><td>2016-09-21</td><td>NULL</td><td>5504</td></tr>",
                            "<tr><td>2016-09-22</td><td>NULL</td><td>6691</td></tr>",
                            "<tr><td>2016-09-23</td><td>NULL</td><td>6574</td></tr>",
                            "<tr><td>2016-09-24</td><td>NULL</td><td>6220</td></tr>",
                            "<tr><td>2016-09-25</td><td>NULL</td><td>6759</td></tr>",
                            "<tr><td>2016-09-26</td><td>NULL</td><td>7073</td></tr>",
                            "<tr><td>2016-09-27</td><td>NULL</td><td>9214</td></tr>",
                            "<tr><td>2016-09-28</td><td>NULL</td><td>7948</td></tr>",
                            "<tr><td>2016-09-29</td><td>NULL</td><td>5840</td></tr>",
                            "<tr><td>2016-09-30</td><td>NULL</td><td>8410</td></tr>",
                            "<tr><td>2016-10-01</td><td>NULL</td><td>8122</td></tr>",
                            "<tr><td>2016-10-02</td><td>NULL</td><td>7206</td></tr>",
                            "<tr><td>2016-10-03</td><td>NULL</td><td>6357</td></tr>",
                            "<tr><td>2016-10-04</td><td>NULL</td><td>7203</td></tr>",
                            "<tr><td>2016-10-05</td><td>NULL</td><td>7856</td></tr>",
                            "<tr><td>2016-10-06</td><td>NULL</td><td>6682</td></tr>",
                            "<tr><td>2016-10-07</td><td>NULL</td><td>6607</td></tr>",
                            "<tr><td>2016-10-08</td><td>NULL</td><td>8515</td></tr>",
                            "<tr><td>2016-10-09</td><td>NULL</td><td>10396</td></tr>",
                            "<tr><td>2016-10-10</td><td>NULL</td><td>7117</td></tr>",
                            "<tr><td>2016-10-11</td><td>NULL</td><td>9192</td></tr>",
                            "<tr><td>2016-10-12</td><td>NULL</td><td>10889</td></tr>",
                            "<tr><td>2016-10-13</td><td>NULL</td><td>10192</td></tr>",
                            "<tr><td>2016-10-14</td><td>NULL</td><td>7397</td></tr>",
                            "<tr><td>2016-10-15</td><td>NULL</td><td>7459</td></tr>",
                            "<tr><td>2016-10-16</td><td>NULL</td><td>7198</td></tr>",
                            "<tr><td>2016-10-17</td><td>NULL</td><td>11045</td></tr>",
                            "<tr><td>2016-10-18</td><td>NULL</td><td>7033</td></tr>",
                            "<tr><td>2016-10-19</td><td>NULL</td><td>9307</td></tr>",
                            "<tr><td>2016-10-20</td><td>NULL</td><td>6856</td></tr>",
                            "<tr><td>2016-10-21</td><td>NULL</td><td>9403</td></tr>",
                            "<tr><td>2016-10-22</td><td>NULL</td><td>8356</td></tr>",
                            "<tr><td>2016-10-23</td><td>NULL</td><td>9634</td></tr>",
                            "<tr><td>2016-10-24</td><td>NULL</td><td>4888</td></tr>",
                            "<tr><td>2016-10-25</td><td>NULL</td><td>11978</td></tr>",
                            "<tr><td>2016-10-26</td><td>NULL</td><td>8070</td></tr>",
                            "<tr><td>2016-10-27</td><td>NULL</td><td>7617</td></tr>",
                            "<tr><td>2016-10-28</td><td>NULL</td><td>7766</td></tr>",
                            "<tr><td>2016-10-29</td><td>NULL</td><td>6854</td></tr>",
                            "<tr><td>2016-10-30</td><td>NULL</td><td>11718</td></tr>",
                            "<tr><td>2016-10-31</td><td>NULL</td><td>8714</td></tr>",
                            "<tr><td>2016-11-01</td><td>NULL</td><td>7238</td></tr>",
                            "<tr><td>2016-11-02</td><td>NULL</td><td>5472</td></tr>",
                            "<tr><td>2016-11-03</td><td>NULL</td><td>7739</td></tr>",
                            "<tr><td>2016-11-04</td><td>NULL</td><td>6667</td></tr>",
                            "<tr><td>2016-11-05</td><td>NULL</td><td>9157</td></tr>",
                            "<tr><td>2016-11-06</td><td>NULL</td><td>8517</td></tr>",
                            "<tr><td>2016-11-07</td><td>NULL</td><td>6691</td></tr>",
                            "<tr><td>2016-11-08</td><td>NULL</td><td>8431</td></tr>",
                            "<tr><td>2016-11-09</td><td>NULL</td><td>5911</td></tr>",
                            "<tr><td>2016-11-10</td><td>NULL</td><td>6795</td></tr>",
                            "<tr><td>2016-11-11</td><td>NULL</td><td>6940</td></tr>",
                            "<tr><td>2016-11-12</td><td>NULL</td><td>10959</td></tr>",
                            "<tr><td>2016-11-13</td><td>NULL</td><td>10751</td></tr>",
                            "<tr><td>2016-11-14</td><td>NULL</td><td>11881</td></tr>",
                            "<tr><td>2016-11-15</td><td>NULL</td><td>6736</td></tr>",
                            "<tr><td>2016-11-16</td><td>NULL</td><td>8969</td></tr>",
                            "<tr><td>2016-11-17</td><td>NULL</td><td>6852</td></tr>",
                            "<tr><td>2016-11-18</td><td>NULL</td><td>6770</td></tr>",
                            "<tr><td>2016-11-19</td><td>NULL</td><td>7451</td></tr>",
                            "<tr><td>2016-11-20</td><td>NULL</td><td>7946</td></tr>",
                            "<tr><td>2016-11-21</td><td>NULL</td><td>6727</td></tr>",
                            "<tr><td>2016-11-22</td><td>NULL</td><td>7801</td></tr>",
                            "<tr><td>2016-11-23</td><td>NULL</td><td>7435</td></tr>",
                            "<tr><td>2016-11-24</td><td>NULL</td><td>5981</td></tr>",
                            "<tr><td>2016-11-25</td><td>NULL</td><td>6915</td></tr>",
                            "<tr><td>2016-11-26</td><td>NULL</td><td>9216</td></tr>",
                            "<tr><td>2016-11-27</td><td>NULL</td><td>9893</td></tr>",
                            "<tr><td>2016-11-28</td><td>NULL</td><td>9770</td></tr>",
                            "<tr><td>2016-11-29</td><td>NULL</td><td>8722</td></tr>",
                            "<tr><td>2016-11-30</td><td>NULL</td><td>6419</td></tr>",
                            "<tr><td>2016-12-01</td><td>NULL</td><td>9940</td></tr>",
                            "<tr><td>2016-12-02</td><td>NULL</td><td>4748</td></tr>",
                            "<tr><td>2016-12-03</td><td>NULL</td><td>6745</td></tr>",
                            "<tr><td>2016-12-04</td><td>NULL</td><td>9959</td></tr>",
                            "<tr><td>2016-12-05</td><td>NULL</td><td>8225</td></tr>",
                            "<tr><td>2016-12-06</td><td>NULL</td><td>7762</td></tr>",
                            "<tr><td>2016-12-07</td><td>NULL</td><td>7380</td></tr>",
                            "<tr><td>2016-12-08</td><td>NULL</td><td>7200</td></tr>",
                            "<tr><td>2016-12-09</td><td>NULL</td><td>9724</td></tr>",
                            "<tr><td>2016-12-10</td><td>NULL</td><td>7083</td></tr>",
                            "<tr><td>2016-12-11</td><td>NULL</td><td>7576</td></tr>",
                            "<tr><td>2016-12-12</td><td>NULL</td><td>8580</td></tr>",
                            "<tr><td>2016-12-13</td><td>NULL</td><td>8233</td></tr>",
                            "<tr><td>2016-12-14</td><td>NULL</td><td>6268</td></tr>",
                            "<tr><td>2016-12-15</td><td>NULL</td><td>7392</td></tr>",
                            "<tr><td>2016-12-16</td><td>NULL</td><td>6407</td></tr>",
                            "<tr><td>2016-12-17</td><td>NULL</td><td>7555</td></tr>",
                            "<tr><td>2016-12-18</td><td>NULL</td><td>6070</td></tr>",
                            "<tr><td>2016-12-19</td><td>NULL</td><td>5390</td></tr>",
                            "<tr><td>2016-12-20</td><td>NULL</td><td>7735</td></tr>",
                            "<tr><td>2016-12-21</td><td>NULL</td><td>10434</td></tr>",
                            "<tr><td>2016-12-22</td><td>NULL</td><td>5465</td></tr>",
                            "<tr><td>2016-12-23</td><td>NULL</td><td>8338</td></tr>",
                            "<tr><td>2016-12-24</td><td>NULL</td><td>5916</td></tr>",
                            "<tr><td>2016-12-25</td><td>NULL</td><td>7345</td></tr>",
                            "<tr><td>2016-12-26</td><td>NULL</td><td>9875</td></tr>",
                            "<tr><td>2016-12-27</td><td>NULL</td><td>10216</td></tr>",
                            "<tr><td>2016-12-28</td><td>NULL</td><td>6222</td></tr>",
                            "<tr><td>2016-12-29</td><td>NULL</td><td>10046</td></tr>",
                            "<tr><td>2016-12-30</td><td>NULL</td><td>7113</td></tr>",
                            "<tr><td>2016-12-31</td><td>NULL</td><td>7188</td></tr>",
                            "<tr><td>2017-01-01</td><td>NULL</td><td>7200</td></tr>",
                            "<tr><td>2017-01-02</td><td>NULL</td><td>7425</td></tr>",
                            "<tr><td>2017-01-03</td><td>NULL</td><td>6783</td></tr>",
                            "<tr><td>2017-01-04</td><td>NULL</td><td>7465</td></tr>",
                            "<tr><td>2017-01-05</td><td>NULL</td><td>7591</td></tr>",
                            "<tr><td>2017-01-06</td><td>NULL</td><td>8298</td></tr>",
                            "<tr><td>2017-01-07</td><td>NULL</td><td>8976</td></tr>",
                            "<tr><td>2017-01-08</td><td>NULL</td><td>7179</td></tr>",
                            "<tr><td>2017-01-09</td><td>NULL</td><td>9465</td></tr>",
                            "<tr><td>2017-01-10</td><td>NULL</td><td>8667</td></tr>",
                            "<tr><td>2017-01-11</td><td>NULL</td><td>9472</td></tr>",
                            "<tr><td>2017-01-12</td><td>NULL</td><td>7636</td></tr>",
                            "<tr><td>2017-01-13</td><td>NULL</td><td>7538</td></tr>",
                            "<tr><td>2017-01-14</td><td>NULL</td><td>8920</td></tr>",
                            "<tr><td>2017-01-15</td><td>NULL</td><td>7611</td></tr>",
                            "<tr><td>2017-01-16</td><td>NULL</td><td>7369</td></tr>",
                            "<tr><td>2017-01-17</td><td>NULL</td><td>8658</td></tr>",
                            "<tr><td>2017-01-18</td><td>NULL</td><td>6558</td></tr>",
                            "<tr><td>2017-01-19</td><td>NULL</td><td>6422</td></tr>",
                            "<tr><td>2017-01-20</td><td>NULL</td><td>6450</td></tr>",
                            "<tr><td>2017-01-21</td><td>NULL</td><td>7150</td></tr>",
                            "<tr><td>2017-01-22</td><td>NULL</td><td>8199</td></tr>",
                            "<tr><td>2017-01-23</td><td>NULL</td><td>8394</td></tr>",
                            "<tr><td>2017-01-24</td><td>NULL</td><td>8615</td></tr>",
                            "<tr><td>2017-01-25</td><td>NULL</td><td>6484</td></tr>",
                            "<tr><td>2017-01-26</td><td>NULL</td><td>9426</td></tr>",
                            "<tr><td>2017-01-27</td><td>NULL</td><td>5418</td></tr>",
                            "<tr><td>2017-01-28</td><td>NULL</td><td>8401</td></tr>",
                            "<tr><td>2017-01-29</td><td>NULL</td><td>8997</td></tr>",
                            "<tr><td>2017-01-30</td><td>NULL</td><td>9661</td></tr>",
                            "<tr><td>2017-01-31</td><td>NULL</td><td>6253</td></tr>",
                            "<tr><td>2017-02-01</td><td>NULL</td><td>5703</td></tr>",
                            "<tr><td>2017-02-02</td><td>NULL</td><td>8746</td></tr>",
                            "<tr><td>2017-02-03</td><td>NULL</td><td>7840</td></tr>",
                            "<tr><td>2017-02-04</td><td>NULL</td><td>6220</td></tr>",
                            "<tr><td>2017-02-05</td><td>NULL</td><td>5138</td></tr>",
                            "<tr><td>2017-02-06</td><td>NULL</td><td>8206</td></tr>",
                            "<tr><td>2017-02-07</td><td>NULL</td><td>6846</td></tr>",
                            "<tr><td>2017-02-08</td><td>NULL</td><td>10057</td></tr>",
                            "<tr><td>2017-02-09</td><td>NULL</td><td>8302</td></tr>",
                            "<tr><td>2017-02-10</td><td>NULL</td><td>8964</td></tr>",
                            "<tr><td>2017-02-11</td><td>NULL</td><td>8790</td></tr>",
                            "<tr><td>2017-02-12</td><td>NULL</td><td>6268</td></tr>",
                            "<tr><td>2017-02-13</td><td>NULL</td><td>8176</td></tr>",
                            "<tr><td>2017-02-14</td><td>NULL</td><td>10029</td></tr>",
                            "<tr><td>2017-02-15</td><td>NULL</td><td>6443</td></tr>",
                            "<tr><td>2017-02-16</td><td>NULL</td><td>8794</td></tr>",
                            "<tr><td>2017-02-17</td><td>NULL</td><td>9808</td></tr>",
                            "<tr><td>2017-02-18</td><td>NULL</td><td>10757</td></tr>",
                            "<tr><td>2017-02-19</td><td>NULL</td><td>8284</td></tr>",
                            "<tr><td>2017-02-20</td><td>NULL</td><td>5660</td></tr>",
                            "<tr><td>2017-02-21</td><td>NULL</td><td>8878</td></tr>",
                            "<tr><td>2017-02-22</td><td>NULL</td><td>9034</td></tr>",
                            "<tr><td>2017-02-23</td><td>NULL</td><td>7574</td></tr>",
                            "<tr><td>2017-02-24</td><td>NULL</td><td>6814</td></tr>",
                            "<tr><td>2017-02-25</td><td>NULL</td><td>6820</td></tr>",
                            "<tr><td>2017-02-26</td><td>NULL</td><td>8578</td></tr>",
                            "<tr><td>2017-02-27</td><td>NULL</td><td>9185</td></tr>",
                            "<tr><td>2017-02-28</td><td>NULL</td><td>11649</td></tr>",
                            "<tr><td>2017-03-01</td><td>NULL</td><td>5037</td></tr>",
                            "<tr><td>2017-03-02</td><td>NULL</td><td>4861</td></tr>",
                            "<tr><td>2017-03-03</td><td>NULL</td><td>7585</td></tr>",
                            "<tr><td>2017-03-04</td><td>NULL</td><td>5977</td></tr>",
                            "<tr><td>2017-03-05</td><td>NULL</td><td>10338</td></tr>",
                            "<tr><td>2017-03-06</td><td>NULL</td><td>10916</td></tr>",
                            "<tr><td>2017-03-07</td><td>NULL</td><td>8747</td></tr>",
                            "<tr><td>2017-03-08</td><td>NULL</td><td>6837</td></tr>",
                            "<tr><td>2017-03-09</td><td>NULL</td><td>6964</td></tr>",
                            "<tr><td>2017-03-10</td><td>NULL</td><td>6846</td></tr>",
                            "<tr><td>2017-03-11</td><td>NULL</td><td>6885</td></tr>",
                            "<tr><td>2017-03-12</td><td>NULL</td><td>5941</td></tr>",
                            "<tr><td>2017-03-13</td><td>NULL</td><td>6950</td></tr>",
                            "<tr><td>2017-03-14</td><td>NULL</td><td>7224</td></tr>",
                            "<tr><td>2017-03-15</td><td>NULL</td><td>9718</td></tr>",
                            "<tr><td>2017-03-16</td><td>NULL</td><td>9763</td></tr>",
                            "<tr><td>2017-03-17</td><td>NULL</td><td>8908</td></tr>",
                            "<tr><td>2017-03-18</td><td>NULL</td><td>9344</td></tr>",
                            "<tr><td>2017-03-19</td><td>NULL</td><td>9937</td></tr>",
                            "<tr><td>2017-03-20</td><td>NULL</td><td>7683</td></tr>",
                            "<tr><td>2017-03-21</td><td>NULL</td><td>8639</td></tr>",
                            "<tr><td>2017-03-22</td><td>NULL</td><td>6526</td></tr>",
                            "<tr><td>2017-03-23</td><td>NULL</td><td>8799</td></tr>",
                            "<tr><td>2017-03-24</td><td>NULL</td><td>7416</td></tr>",
                            "<tr><td>2017-03-25</td><td>NULL</td><td>6272</td></tr>",
                            "<tr><td>2017-03-26</td><td>NULL</td><td>7786</td></tr>",
                            "<tr><td>2017-03-27</td><td>NULL</td><td>7715</td></tr>",
                            "<tr><td>2017-03-28</td><td>NULL</td><td>8568</td></tr>",
                            "<tr><td>2017-03-29</td><td>NULL</td><td>8346</td></tr>",
                            "<tr><td>2017-03-30</td><td>NULL</td><td>8513</td></tr>",
                            "<tr><td>2017-03-31</td><td>NULL</td><td>8598</td></tr>",
                            "<tr><td>2017-04-01</td><td>NULL</td><td>7307</td></tr>",
                            "<tr><td>2017-04-02</td><td>NULL</td><td>9477</td></tr>",
                            "<tr><td>2017-04-03</td><td>NULL</td><td>6042</td></tr>",
                            "<tr><td>2017-04-04</td><td>NULL</td><td>7493</td></tr>",
                            "<tr><td>2017-04-05</td><td>NULL</td><td>7562</td></tr>",
                            "<tr><td>2017-04-06</td><td>NULL</td><td>4646</td></tr>",
                            "<tr><td>2017-04-07</td><td>NULL</td><td>5197</td></tr>",
                            "<tr><td>2017-04-08</td><td>NULL</td><td>3057</td></tr>",
                            "<tr><td>2017-04-09</td><td>NULL</td><td>3870</td></tr>",
                            "<tr><td>2017-04-10</td><td>NULL</td><td>1640</td></tr>",
                            "<tr><td>2017-04-11</td><td>NULL</td><td>1220</td></tr>",
                            "<tr><td>NULL</td><td>NULL</td><td>5578316</td></tr>",
                            "</table>"
                        ]
                    }
                }
            ],
            "execution_count": 32
        },
        {
            "cell_type": "markdown",
            "source": [
                "```\n",
                "3. Hány olyan ügyfél van, aki még nem rendelt semmit?\n",
                "```\n",
                "\n",
                "1. Csoportosítsuk őket nem szerint, azon belül életkor szerint!\n",
                "2. A lista tartalmazza a részösszegeket és a végösszeget is!\n",
                "\n",
                "![](https://moodle.uni-corvinus.hu/theme/image.php/adaptable/atto_h5p/1709548862/icon)"
            ],
            "metadata": {
                "azdata_cell_guid": "d7876bb9-76d0-4d07-baed-3cb17b2f96c3"
            },
            "attachments": {}
        },
        {
            "cell_type": "code",
            "source": [
                ""
            ],
            "metadata": {
                "azdata_cell_guid": "56ec19ce-e249-4551-b2a8-f17569765acc",
                "language": "sql"
            },
            "outputs": [],
            "execution_count": null
        },
        {
            "cell_type": "markdown",
            "source": [
                "4. <span style=\"color: rgb(36, 41, 47); font-family: -apple-system, BlinkMacSystemFont, &quot;Segoe UI&quot;, Helvetica, Arial, sans-serif, &quot;Apple Color Emoji&quot;, &quot;Segoe UI Emoji&quot;; font-size: 16px;\">Készítsünk listát a megrendelt termékek legkisebb és legnagyobb egységáráról szállítási dátum, azon belül szállítási mód szerinti bontásban!</span>\n",
                "\n",
                "1. A lista csak a 2015 májusi szállításokat tartalmazza!\n",
                "2. Jelenítsük meg a részösszegeket és a végösszeget is!"
            ],
            "metadata": {
                "azdata_cell_guid": "8e7fef82-8022-49a0-8255-fc2846c2134b"
            },
            "attachments": {}
        },
        {
            "cell_type": "code",
            "source": [
                ""
            ],
            "metadata": {
                "azdata_cell_guid": "36f7b396-4a1f-45e5-8720-2302537c91bc",
                "language": "sql"
            },
            "outputs": [],
            "execution_count": null
        },
        {
            "cell_type": "markdown",
            "source": [
                "5. <span style=\"color: rgb(36, 41, 47); font-family: -apple-system, BlinkMacSystemFont, &quot;Segoe UI&quot;, Helvetica, Arial, sans-serif, &quot;Apple Color Emoji&quot;, &quot;Segoe UI Emoji&quot;; font-size: 16px;\">Készítsünk csoportot a termékek listaára alapján a következők szerint:&nbsp;<br></span> <span style=\"color: rgb(36, 41, 47); font-family: -apple-system, BlinkMacSystemFont, &quot;Segoe UI&quot;, Helvetica, Arial, sans-serif, &quot;Apple Color Emoji&quot;, &quot;Segoe UI Emoji&quot;; font-size: 16px;\">Az \"olcsó\" termékek legyenek azok, amelyek listaára 3000 alatt van.<br>&nbsp;A \"drága\" termékek legyenek az 5000 felettiek, a többi legyen \"közepes\".</span>\n",
                "\n",
                "1. Listázzuk az egyes csoportokat, és a csoportokba tartozó termékek darabszámát!\n",
                "2. A lista jelenítse meg a végösszeget is!"
            ],
            "metadata": {
                "azdata_cell_guid": "84239ca2-6b5e-49f5-9860-d44c11d6de32"
            },
            "attachments": {}
        },
        {
            "cell_type": "code",
            "source": [
                ""
            ],
            "metadata": {
                "azdata_cell_guid": "06d9a62b-9430-424b-a135-d80e675f0eb3",
                "language": "sql"
            },
            "outputs": [],
            "execution_count": null
        },
        {
            "cell_type": "markdown",
            "source": [
                "6. <span style=\"font-weight: 600; color: rgb(36, 41, 47); font-family: -apple-system, BlinkMacSystemFont, &quot;Segoe UI&quot;, Helvetica, Arial, sans-serif, &quot;Apple Color Emoji&quot;, &quot;Segoe UI Emoji&quot;; font-size: 16px;\">Készítsünk listát az ügyfelek adatairól név szerinti sorrendben.</span>\n",
                "\n",
                "1. Minden sorban jelenjen meg a sorrend szerint előző, illetve következő ügyfél neve is.\n",
                "2. Ha nincs előző vagy következő ügyfél, akkor a 'Nincs' jelenjen meg!"
            ],
            "metadata": {
                "azdata_cell_guid": "b0d15045-3c43-4f3a-b8d4-76b4f24e5546"
            },
            "attachments": {}
        },
        {
            "cell_type": "code",
            "source": [
                ""
            ],
            "metadata": {
                "azdata_cell_guid": "f2b7400d-1255-40ac-9250-4d57f9da5357",
                "language": "sql"
            },
            "outputs": [],
            "execution_count": null
        },
        {
            "cell_type": "markdown",
            "source": [
                "7. <span style=\"font-weight: 600; color: rgb(36, 41, 47); font-family: -apple-system, BlinkMacSystemFont, &quot;Segoe UI&quot;, Helvetica, Arial, sans-serif, &quot;Apple Color Emoji&quot;, &quot;Segoe UI Emoji&quot;; font-size: 16px;\">Készítsünk lekérdezést, amely megmutatja, hogy melyik termékkategóriába hány termék tartozik. A lista a kategória nevét és a darabszámot jelenítse meg.</span>\n",
                "\n",
                "1. A lista ne tartalmazzon duplikált sorokat.\n",
                "2. A feladatot partíciók segítségével oldjuk meg!"
            ],
            "metadata": {
                "azdata_cell_guid": "7ebf7ddd-1bd2-4246-815a-be8ae37e3b5b"
            },
            "attachments": {}
        },
        {
            "cell_type": "code",
            "source": [
                ""
            ],
            "metadata": {
                "azdata_cell_guid": "84b7e896-f36e-4985-88f5-e0f706494fef",
                "language": "sql"
            },
            "outputs": [],
            "execution_count": null
        },
        {
            "cell_type": "markdown",
            "source": [
                "8. <span style=\"font-weight: 600; color: rgb(36, 41, 47); font-family: -apple-system, BlinkMacSystemFont, &quot;Segoe UI&quot;, Helvetica, Arial, sans-serif, &quot;Apple Color Emoji&quot;, &quot;Segoe UI Emoji&quot;; font-size: 16px;\">Készítsünk listát a rendelési tételekről. Az egyes rendelési tételeket termékenként soroljuk be 4 osztályba a rendelés mennyisége alapján. Jelenítsük meg ezt az információt is egy új oszlopban, az oszlop neve legyen 'Mennyiségi kategória'.</span>\n",
                "\n",
                "1. A lista csak a 100 Ft feletti egységárú rendelési tételeket vegye figyelembe!"
            ],
            "metadata": {
                "azdata_cell_guid": "27a3d3dc-eafb-4a5e-b103-9f465b9eda8f"
            },
            "attachments": {}
        },
        {
            "cell_type": "code",
            "source": [
                ""
            ],
            "metadata": {
                "azdata_cell_guid": "f09edb3f-649b-4a96-958e-9e12774ae8b7",
                "language": "sql"
            },
            "outputs": [],
            "execution_count": null
        },
        {
            "cell_type": "markdown",
            "source": [
                "9. <span style=\"font-weight: 600; color: rgb(36, 41, 47); font-family: -apple-system, BlinkMacSystemFont, &quot;Segoe UI&quot;, Helvetica, Arial, sans-serif, &quot;Apple Color Emoji&quot;, &quot;Segoe UI Emoji&quot;; font-size: 16px;\">Listázzuk a termékek kódját, megnevezését, kategóriájának nevét, és listaárát.</span>\n",
                "\n",
                "1. A listát egészítsük ki két új oszloppal, amelyek a kategória legolcsóbb, illetve legdrágább termékének árát tartalmazzák.\n",
                "2. A két új oszlop létrehozásánál partíciókkal dolgozzunk!"
            ],
            "metadata": {
                "azdata_cell_guid": "f12a331a-0e26-4d3d-9c68-812316286577"
            },
            "attachments": {}
        },
        {
            "cell_type": "code",
            "source": [
                ""
            ],
            "metadata": {
                "azdata_cell_guid": "10a77fc9-e61a-46fc-a401-59720d82bc50",
                "language": "sql"
            },
            "outputs": [],
            "execution_count": null
        },
        {
            "cell_type": "markdown",
            "source": [
                "10. <span style=\"font-weight: 600; color: rgb(36, 41, 47); font-family: -apple-system, BlinkMacSystemFont, &quot;Segoe UI&quot;, Helvetica, Arial, sans-serif, &quot;Apple Color Emoji&quot;, &quot;Segoe UI Emoji&quot;; font-size: 16px;\">Készítsünk listát a rendelésekről. A lista legyen rendezve ügyfelenként (LOGIN), azon belül a rendelés dátuma szerint. A listához készítsünk sorszámozást is. A sorszám a következő formában jelenjen meg: sorszám_év_login. Pl: 1_2015_adam1</span>\n",
                "\n",
                "1. A számozás login-onként, azon belül rendelési évenként kezdődjön újra.\n",
                "2. A sorszám oszlop neve legyen Azonosító"
            ],
            "metadata": {
                "azdata_cell_guid": "9229e2b6-e200-4499-b95b-2d0222149831"
            },
            "attachments": {}
        },
        {
            "cell_type": "code",
            "source": [
                ""
            ],
            "metadata": {
                "azdata_cell_guid": "8b49ed67-28c6-4880-82a8-cd369e5bba99",
                "language": "sql"
            },
            "outputs": [],
            "execution_count": null
        },
        {
            "cell_type": "markdown",
            "source": [
                "11. <span style=\"color: rgb(36, 41, 47); font-family: -apple-system, BlinkMacSystemFont, &quot;Segoe UI&quot;, Helvetica, Arial, sans-serif, &quot;Apple Color Emoji&quot;, &quot;Segoe UI Emoji&quot;; font-size: 16px;\">Készítsünk listát a termékek adatairól listaár szerint növekvő sorrendben! A lista jelenítse meg két új oszlopban a sorrend szerint előző, illetve következő termék listaárát is a termék saját kategóriájában és raktárában!</span>\n",
                "\n",
                "1. Ahol nincs előző vagy következő érték, ott 0 jelenjen meg!\n",
                "2. Az oszlopokat nevezzük el értelemszerűen!"
            ],
            "metadata": {
                "azdata_cell_guid": "7f5fc7a7-3b6a-4d89-b292-490830afb0c6"
            },
            "attachments": {}
        },
        {
            "cell_type": "code",
            "source": [
                ""
            ],
            "metadata": {
                "azdata_cell_guid": "4a9ece40-f782-4c0d-92cd-9c21969067ed",
                "language": "sql"
            },
            "outputs": [],
            "execution_count": null
        },
        {
            "cell_type": "markdown",
            "source": [
                "12. <span style=\"color: rgb(36, 41, 47); font-family: -apple-system, BlinkMacSystemFont, &quot;Segoe UI&quot;, Helvetica, Arial, sans-serif, &quot;Apple Color Emoji&quot;, &quot;Segoe UI Emoji&quot;; font-size: 16px;\">Listázzuk a termékek kódját, nevét és listaárát listaár szerinti sorrendben!</span>\n",
                "\n",
                "1. Vegyünk fel egy új oszlopot Mozgóátlag néven, amely minden esetben az aktuális termék, az előző, és a következő termék átlagárát tartalmazza!\n",
                "2. A mozgóátlagot kerekítsük két tizedesre!"
            ],
            "metadata": {
                "azdata_cell_guid": "5a483c52-bb98-44bb-bd03-1146d4b0abfa"
            },
            "attachments": {}
        },
        {
            "cell_type": "code",
            "source": [
                ""
            ],
            "metadata": {
                "azdata_cell_guid": "dd6e89bd-08f9-4b18-8460-03c45b503df0",
                "language": "sql"
            },
            "outputs": [],
            "execution_count": null
        },
        {
            "cell_type": "markdown",
            "source": [
                "13. <span style=\"color: rgb(36, 41, 47); font-family: -apple-system, BlinkMacSystemFont, &quot;Segoe UI&quot;, Helvetica, Arial, sans-serif, &quot;Apple Color Emoji&quot;, &quot;Segoe UI Emoji&quot;; font-size: 16px;\">Készítsünk listát, amely a rendelések sorszámát és a rendelés értékét tartalmazza. A listát egészítsük ki egy új oszloppal, amely minden rendelés esetén addigi rendelések összegét tartalmazza (az aktuálisat is beleértve)!</span>\n",
                "\n",
                "1. A listát rendezzük sorszám szerint növekvő sorrendbe.\n",
                "2. A lista ne tartalmazzon duplikált sorokat!"
            ],
            "metadata": {
                "azdata_cell_guid": "85d5cb66-96c6-42de-99cf-85ab22d08548"
            },
            "attachments": {}
        },
        {
            "cell_type": "code",
            "source": [
                ""
            ],
            "metadata": {
                "azdata_cell_guid": "cb07d64b-0eaa-498b-b4d2-0b46971e95ce",
                "language": "sql"
            },
            "outputs": [],
            "execution_count": null
        },
        {
            "cell_type": "markdown",
            "source": [
                "14. <span style=\"color: rgb(36, 41, 47); font-family: -apple-system, BlinkMacSystemFont, &quot;Segoe UI&quot;, Helvetica, Arial, sans-serif, &quot;Apple Color Emoji&quot;, &quot;Segoe UI Emoji&quot;; font-size: 16px;\">Készítsünk listát a termékek kódjáról, nevéről, kategória azonosítójáról, raktár azonosítójáról és listaáráról, valamint a termék adott szempontok szerinti rangsorokban elfoglalt helyezéseiről. (Szempontonként külön oszlopban, a helyezéseknél növekvő sorrendet feltételezve). A szempontok a következők legyenek: listaár, kategória szerinti listaár, és raktárkód szerinti listaár.</span>\n",
                "\n",
                "1. Az oszlopokat nevezzük el értelemszerűen.\n",
                "2. A helyezések egyenlőség esetén \"sűrűn\" kövessék egymást.\n",
                "3. A lista legyen rendezett kategória azonosító, azon belül listaár szerint!"
            ],
            "metadata": {
                "azdata_cell_guid": "f95ad665-a807-4099-bf06-64ed974f866f"
            },
            "attachments": {}
        },
        {
            "cell_type": "code",
            "source": [
                ""
            ],
            "metadata": {
                "azdata_cell_guid": "74c7ec8a-ae4a-4d03-b1c4-e8f6bb1be12c",
                "language": "sql"
            },
            "outputs": [],
            "execution_count": null
        },
        {
            "cell_type": "markdown",
            "source": [
                "15. <span style=\"color: rgb(36, 41, 47); font-family: -apple-system, BlinkMacSystemFont, &quot;Segoe UI&quot;, Helvetica, Arial, sans-serif, &quot;Apple Color Emoji&quot;, &quot;Segoe UI Emoji&quot;; font-size: 16px;\">Készítsünk listát a rendelési tételekről, amely minden sor esetén göngyölítve tartalmazza az ügyfél adott rendelési tételig meglévő rendelési tételeinek összértékét!</span>\n",
                "\n",
                "1. Az új oszlop neve legyen Eddigi rendelési tételek összértéke!\n",
                "2. Az ügyfél neve is jelenjen meg!"
            ],
            "metadata": {
                "azdata_cell_guid": "93552388-ffec-49ff-99e5-ae8dc8072601"
            },
            "attachments": {}
        },
        {
            "cell_type": "code",
            "source": [
                ""
            ],
            "metadata": {
                "azdata_cell_guid": "0e7f547f-7d96-4611-b1c2-0fa84a581e79",
                "language": "sql"
            },
            "outputs": [],
            "execution_count": null
        }
    ]
}