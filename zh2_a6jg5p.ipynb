{
    "metadata": {
        "kernelspec": {
            "name": "SQL",
            "display_name": "SQL",
            "language": "sql"
        },
        "language_info": {
            "name": "sql",
            "version": ""
        }
    },
    "nbformat_minor": 2,
    "nbformat": 4,
    "cells": [
        {
            "cell_type": "markdown",
            "source": [
                "1."
            ],
            "metadata": {
                "azdata_cell_guid": "6d2ea166-cf97-4ada-99d8-b63ea9045236"
            },
            "attachments": {}
        },
        {
            "cell_type": "code",
            "source": [
                ""
            ],
            "metadata": {
                "azdata_cell_guid": "8711f783-93e2-475d-8932-610d651df530",
                "language": "sql"
            },
            "outputs": [],
            "execution_count": null
        }
    ]
}