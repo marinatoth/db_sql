{
    "metadata": {
        "kernelspec": {
            "name": "SQL",
            "display_name": "SQL",
            "language": "sql"
        },
        "language_info": {
            "name": "sql",
            "version": ""
        }
    },
    "nbformat_minor": 2,
    "nbformat": 4,
    "cells": [
        {
            "cell_type": "markdown",
            "source": [
                "1. ![](data:image/png;base64,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)"
            ],
            "metadata": {
                "azdata_cell_guid": "6e3d1113-32e1-47ff-875a-626dc61ca11b"
            },
            "attachments": {}
        },
        {
            "cell_type": "code",
            "source": [
                "SELECT iif(v.USERNEV is null, 'Végösszeg',v.USERNEV) as 'Username',\r\n",
                "        COUNT( distinct szh.SZALLAS_ID) as 'db'\r\n",
                "from Vendeg v left JOIN Foglalas f on f.UGYFEL_FK = v.USERNEV\r\n",
                "   left JOIN Szoba sz ON sz.SZOBA_ID = f.SZOBA_FK  \r\n",
                "    left JOIN Szallashely szh ON szh.SZALLAS_ID = sz.SZALLAS_FK\r\n",
                "GROUP BY rollup(v.USERNEV)\r\n",
                "ORDER BY Count(szh.SZALLAS_ID) "
            ],
            "metadata": {
                "azdata_cell_guid": "a07f7411-471e-4255-8d5c-cb080d9dc627",
                "language": "sql"
            },
            "outputs": [
                {
                    "output_type": "display_data",
                    "data": {
                        "text/html": "Warning: Null value is eliminated by an aggregate or other SET operation."
                    },
                    "metadata": {}
                },
                {
                    "output_type": "display_data",
                    "data": {
                        "text/html": "(197 rows affected)"
                    },
                    "metadata": {}
                },
                {
                    "output_type": "display_data",
                    "data": {
                        "text/html": "Total execution time: 00:00:00.027"
                    },
                    "metadata": {}
                },
                {
                    "output_type": "execute_result",
                    "metadata": {},
                    "execution_count": 19,
                    "data": {
                        "application/vnd.dataresource+json": {
                            "schema": {
                                "fields": [
                                    {
                                        "name": "Username"
                                    },
                                    {
                                        "name": "db"
                                    }
                                ]
                            },
                            "data": [
                                {
                                    "Username": "GABORS",
                                    "db": "0"
                                },
                                {
                                    "Username": "gabriella10",
                                    "db": "1"
                                },
                                {
                                    "Username": "laszlo1",
                                    "db": "1"
                                },
                                {
                                    "Username": "ANDRASN",
                                    "db": "1"
                                },
                                {
                                    "Username": "andrea3",
                                    "db": "1"
                                },
                                {
                                    "Username": "david4",
                                    "db": "1"
                                },
                                {
                                    "Username": "szabolcs",
                                    "db": "1"
                                },
                                {
                                    "Username": "tibor2",
                                    "db": "1"
                                },
                                {
                                    "Username": "timea",
                                    "db": "1"
                                },
                                {
                                    "Username": "tibor",
                                    "db": "2"
                                },
                                {
                                    "Username": "tamara2",
                                    "db": "2"
                                },
                                {
                                    "Username": "ROBERTP",
                                    "db": "2"
                                },
                                {
                                    "Username": "VIKTORK",
                                    "db": "2"
                                },
                                {
                                    "Username": "zoltan",
                                    "db": "2"
                                },
                                {
                                    "Username": "zsofi1",
                                    "db": "2"
                                },
                                {
                                    "Username": "balint2",
                                    "db": "1"
                                },
                                {
                                    "Username": "balu",
                                    "db": "2"
                                },
                                {
                                    "Username": "annamaria1",
                                    "db": "1"
                                },
                                {
                                    "Username": "adam3",
                                    "db": "2"
                                },
                                {
                                    "Username": "kristof4",
                                    "db": "2"
                                },
                                {
                                    "Username": "matyas2",
                                    "db": "2"
                                },
                                {
                                    "Username": "eva",
                                    "db": "2"
                                },
                                {
                                    "Username": "imre",
                                    "db": "2"
                                },
                                {
                                    "Username": "ISTVANV",
                                    "db": "2"
                                },
                                {
                                    "Username": "julia4",
                                    "db": "2"
                                },
                                {
                                    "Username": "jozsef",
                                    "db": "3"
                                },
                                {
                                    "Username": "JUDITH",
                                    "db": "3"
                                },
                                {
                                    "Username": "istvan",
                                    "db": "3"
                                },
                                {
                                    "Username": "eszter4",
                                    "db": "3"
                                },
                                {
                                    "Username": "henrik3",
                                    "db": "3"
                                },
                                {
                                    "Username": "IBOLYAA",
                                    "db": "2"
                                },
                                {
                                    "Username": "MATEK",
                                    "db": "3"
                                },
                                {
                                    "Username": "miklos2",
                                    "db": "3"
                                },
                                {
                                    "Username": "MIKLOSB",
                                    "db": "3"
                                },
                                {
                                    "Username": "NANDORF",
                                    "db": "2"
                                },
                                {
                                    "Username": "norbert5",
                                    "db": "2"
                                },
                                {
                                    "Username": "klaudia2",
                                    "db": "3"
                                },
                                {
                                    "Username": "kornel4",
                                    "db": "3"
                                },
                                {
                                    "Username": "lajos",
                                    "db": "3"
                                },
                                {
                                    "Username": "adam1",
                                    "db": "2"
                                },
                                {
                                    "Username": "agnes3",
                                    "db": "3"
                                },
                                {
                                    "Username": "AGNESK",
                                    "db": "3"
                                },
                                {
                                    "Username": "aladar",
                                    "db": "3"
                                },
                                {
                                    "Username": "andras4",
                                    "db": "2"
                                },
                                {
                                    "Username": "ANDREAT",
                                    "db": "2"
                                },
                                {
                                    "Username": "aniko",
                                    "db": "3"
                                },
                                {
                                    "Username": "balint",
                                    "db": "3"
                                },
                                {
                                    "Username": "attila4",
                                    "db": "3"
                                },
                                {
                                    "Username": "attila",
                                    "db": "3"
                                },
                                {
                                    "Username": "zsuzsa",
                                    "db": "2"
                                },
                                {
                                    "Username": "ZOLTANT",
                                    "db": "2"
                                },
                                {
                                    "Username": "roza2",
                                    "db": "3"
                                },
                                {
                                    "Username": "sandor",
                                    "db": "4"
                                },
                                {
                                    "Username": "sandor4",
                                    "db": "3"
                                },
                                {
                                    "Username": "roland",
                                    "db": "3"
                                },
                                {
                                    "Username": "roland1",
                                    "db": "4"
                                },
                                {
                                    "Username": "robert2",
                                    "db": "4"
                                },
                                {
                                    "Username": "peter1",
                                    "db": "3"
                                },
                                {
                                    "Username": "peter2",
                                    "db": "4"
                                },
                                {
                                    "Username": "rajmond4",
                                    "db": "4"
                                },
                                {
                                    "Username": "tamas",
                                    "db": "4"
                                },
                                {
                                    "Username": "sebestyen",
                                    "db": "2"
                                },
                                {
                                    "Username": "zsuzsa3",
                                    "db": "4"
                                },
                                {
                                    "Username": "zsuzsanna",
                                    "db": "4"
                                },
                                {
                                    "Username": "zsolt1",
                                    "db": "2"
                                },
                                {
                                    "Username": "VIKTORIAU",
                                    "db": "4"
                                },
                                {
                                    "Username": "ATTILAO",
                                    "db": "2"
                                },
                                {
                                    "Username": "debora",
                                    "db": "4"
                                },
                                {
                                    "Username": "eszter",
                                    "db": "4"
                                },
                                {
                                    "Username": "aniko4",
                                    "db": "3"
                                },
                                {
                                    "Username": "andrea4",
                                    "db": "2"
                                },
                                {
                                    "Username": "anita",
                                    "db": "4"
                                },
                                {
                                    "Username": "LASZLOA",
                                    "db": "3"
                                },
                                {
                                    "Username": "nikolett3",
                                    "db": "4"
                                },
                                {
                                    "Username": "NIKOLETTAT",
                                    "db": "4"
                                },
                                {
                                    "Username": "MARKH",
                                    "db": "2"
                                },
                                {
                                    "Username": "ilona3",
                                    "db": "2"
                                },
                                {
                                    "Username": "georgij",
                                    "db": "4"
                                },
                                {
                                    "Username": "ESZTERE",
                                    "db": "3"
                                },
                                {
                                    "Username": "eva2",
                                    "db": "3"
                                },
                                {
                                    "Username": "ferenc1",
                                    "db": "4"
                                },
                                {
                                    "Username": "istvan1",
                                    "db": "4"
                                },
                                {
                                    "Username": "gabor4",
                                    "db": "4"
                                },
                                {
                                    "Username": "JANOSP",
                                    "db": "3"
                                },
                                {
                                    "Username": "julianna4",
                                    "db": "4"
                                },
                                {
                                    "Username": "julia",
                                    "db": "2"
                                },
                                {
                                    "Username": "jozsef2",
                                    "db": "3"
                                },
                                {
                                    "Username": "janos3",
                                    "db": "5"
                                },
                                {
                                    "Username": "EVAV",
                                    "db": "4"
                                },
                                {
                                    "Username": "gusztav",
                                    "db": "5"
                                },
                                {
                                    "Username": "MIHALYJ",
                                    "db": "4"
                                },
                                {
                                    "Username": "norbert",
                                    "db": "4"
                                },
                                {
                                    "Username": "pal",
                                    "db": "3"
                                },
                                {
                                    "Username": "KRISZTINAG",
                                    "db": "5"
                                },
                                {
                                    "Username": "mark",
                                    "db": "3"
                                },
                                {
                                    "Username": "laszlo2",
                                    "db": "5"
                                },
                                {
                                    "Username": "ANDRASE",
                                    "db": "3"
                                },
                                {
                                    "Username": "andi",
                                    "db": "4"
                                },
                                {
                                    "Username": "andras2",
                                    "db": "3"
                                },
                                {
                                    "Username": "agnes",
                                    "db": "4"
                                },
                                {
                                    "Username": "dora3",
                                    "db": "4"
                                },
                                {
                                    "Username": "brigitta",
                                    "db": "4"
                                },
                                {
                                    "Username": "brigitta3",
                                    "db": "4"
                                },
                                {
                                    "Username": "timea2",
                                    "db": "5"
                                },
                                {
                                    "Username": "valentin",
                                    "db": "5"
                                },
                                {
                                    "Username": "RENATAS",
                                    "db": "3"
                                },
                                {
                                    "Username": "SEBASTIANF",
                                    "db": "3"
                                },
                                {
                                    "Username": "reka4",
                                    "db": "4"
                                },
                                {
                                    "Username": "PETERB",
                                    "db": "3"
                                },
                                {
                                    "Username": "sandor3",
                                    "db": "3"
                                },
                                {
                                    "Username": "polla",
                                    "db": "4"
                                },
                                {
                                    "Username": "RENATAK",
                                    "db": "5"
                                },
                                {
                                    "Username": "peter3",
                                    "db": "3"
                                },
                                {
                                    "Username": "veronika4",
                                    "db": "4"
                                },
                                {
                                    "Username": "tihamer",
                                    "db": "4"
                                },
                                {
                                    "Username": "ZOLTANP",
                                    "db": "3"
                                },
                                {
                                    "Username": "ZSOLTJ",
                                    "db": "6"
                                },
                                {
                                    "Username": "ZSUZSAV",
                                    "db": "5"
                                },
                                {
                                    "Username": "BENCEB",
                                    "db": "4"
                                },
                                {
                                    "Username": "bertalan",
                                    "db": "4"
                                },
                                {
                                    "Username": "denes",
                                    "db": "3"
                                },
                                {
                                    "Username": "balazs1",
                                    "db": "6"
                                },
                                {
                                    "Username": "attila1",
                                    "db": "5"
                                },
                                {
                                    "Username": "ARPADM",
                                    "db": "5"
                                },
                                {
                                    "Username": "balazs3",
                                    "db": "4"
                                },
                                {
                                    "Username": "BEATRIXS",
                                    "db": "5"
                                },
                                {
                                    "Username": "BELAF",
                                    "db": "3"
                                },
                                {
                                    "Username": "beata4",
                                    "db": "4"
                                },
                                {
                                    "Username": "adam4",
                                    "db": "5"
                                },
                                {
                                    "Username": "AGNESH",
                                    "db": "5"
                                },
                                {
                                    "Username": "ANNAMARIAR",
                                    "db": "5"
                                },
                                {
                                    "Username": "aron2",
                                    "db": "5"
                                },
                                {
                                    "Username": "andrea",
                                    "db": "4"
                                },
                                {
                                    "Username": "lala",
                                    "db": "5"
                                },
                                {
                                    "Username": "LASZLON",
                                    "db": "5"
                                },
                                {
                                    "Username": "kriszti",
                                    "db": "6"
                                },
                                {
                                    "Username": "KRISZTIANM",
                                    "db": "6"
                                },
                                {
                                    "Username": "krisztina1",
                                    "db": "4"
                                },
                                {
                                    "Username": "MONIKAM",
                                    "db": "5"
                                },
                                {
                                    "Username": "gabriella1",
                                    "db": "4"
                                },
                                {
                                    "Username": "david1",
                                    "db": "5"
                                },
                                {
                                    "Username": "gabor1",
                                    "db": "5"
                                },
                                {
                                    "Username": "katalin4",
                                    "db": "3"
                                },
                                {
                                    "Username": "kati",
                                    "db": "4"
                                },
                                {
                                    "Username": "JOZSEFG",
                                    "db": "5"
                                },
                                {
                                    "Username": "JANOSG",
                                    "db": "3"
                                },
                                {
                                    "Username": "imre1",
                                    "db": "4"
                                },
                                {
                                    "Username": "GYONGYIK",
                                    "db": "7"
                                },
                                {
                                    "Username": "marton",
                                    "db": "6"
                                },
                                {
                                    "Username": "nikoletta4",
                                    "db": "4"
                                },
                                {
                                    "Username": "norbert2",
                                    "db": "5"
                                },
                                {
                                    "Username": "arpad2",
                                    "db": "4"
                                },
                                {
                                    "Username": "ARPADH",
                                    "db": "3"
                                },
                                {
                                    "Username": "andras21",
                                    "db": "6"
                                },
                                {
                                    "Username": "alexandra",
                                    "db": "6"
                                },
                                {
                                    "Username": "daniel1",
                                    "db": "5"
                                },
                                {
                                    "Username": "edit",
                                    "db": "5"
                                },
                                {
                                    "Username": "emese",
                                    "db": "3"
                                },
                                {
                                    "Username": "BERNADETTO",
                                    "db": "6"
                                },
                                {
                                    "Username": "bernadett1",
                                    "db": "5"
                                },
                                {
                                    "Username": "vivien3",
                                    "db": "5"
                                },
                                {
                                    "Username": "SZABOLCSM",
                                    "db": "4"
                                },
                                {
                                    "Username": "SZILARDS",
                                    "db": "5"
                                },
                                {
                                    "Username": "tunde",
                                    "db": "7"
                                },
                                {
                                    "Username": "ROBERTI",
                                    "db": "4"
                                },
                                {
                                    "Username": "bernadett2",
                                    "db": "5"
                                },
                                {
                                    "Username": "csongor3",
                                    "db": "6"
                                },
                                {
                                    "Username": "andras3",
                                    "db": "5"
                                },
                                {
                                    "Username": "anett3",
                                    "db": "6"
                                },
                                {
                                    "Username": "MATYASS",
                                    "db": "5"
                                },
                                {
                                    "Username": "krisztina",
                                    "db": "5"
                                },
                                {
                                    "Username": "maria1",
                                    "db": "6"
                                },
                                {
                                    "Username": "GYORGYO",
                                    "db": "3"
                                },
                                {
                                    "Username": "fruzsina4",
                                    "db": "5"
                                },
                                {
                                    "Username": "katka",
                                    "db": "4"
                                },
                                {
                                    "Username": "katalin",
                                    "db": "6"
                                },
                                {
                                    "Username": "norbert4",
                                    "db": "5"
                                },
                                {
                                    "Username": "ANIKOS",
                                    "db": "6"
                                },
                                {
                                    "Username": "dani",
                                    "db": "6"
                                },
                                {
                                    "Username": "daniel",
                                    "db": "5"
                                },
                                {
                                    "Username": "david",
                                    "db": "6"
                                },
                                {
                                    "Username": "BEATRIXK",
                                    "db": "7"
                                },
                                {
                                    "Username": "bence",
                                    "db": "6"
                                },
                                {
                                    "Username": "szilvia1",
                                    "db": "6"
                                },
                                {
                                    "Username": "TAMASF",
                                    "db": "6"
                                },
                                {
                                    "Username": "balint1",
                                    "db": "9"
                                },
                                {
                                    "Username": "balazs2",
                                    "db": "8"
                                },
                                {
                                    "Username": "eszter2",
                                    "db": "5"
                                },
                                {
                                    "Username": "akos",
                                    "db": "7"
                                },
                                {
                                    "Username": "kata",
                                    "db": "5"
                                },
                                {
                                    "Username": "krisztian4",
                                    "db": "6"
                                },
                                {
                                    "Username": "sara",
                                    "db": "9"
                                },
                                {
                                    "Username": "peter4",
                                    "db": "7"
                                },
                                {
                                    "Username": "zoltan4",
                                    "db": "5"
                                },
                                {
                                    "Username": "andras41",
                                    "db": "5"
                                },
                                {
                                    "Username": "ARONK",
                                    "db": "8"
                                },
                                {
                                    "Username": "Végösszeg",
                                    "db": "12"
                                }
                            ]
                        },
                        "text/html": [
                            "<table>",
                            "<tr><th>Username</th><th>db</th></tr>",
                            "<tr><td>GABORS</td><td>0</td></tr>",
                            "<tr><td>gabriella10</td><td>1</td></tr>",
                            "<tr><td>laszlo1</td><td>1</td></tr>",
                            "<tr><td>ANDRASN</td><td>1</td></tr>",
                            "<tr><td>andrea3</td><td>1</td></tr>",
                            "<tr><td>david4</td><td>1</td></tr>",
                            "<tr><td>szabolcs</td><td>1</td></tr>",
                            "<tr><td>tibor2</td><td>1</td></tr>",
                            "<tr><td>timea</td><td>1</td></tr>",
                            "<tr><td>tibor</td><td>2</td></tr>",
                            "<tr><td>tamara2</td><td>2</td></tr>",
                            "<tr><td>ROBERTP</td><td>2</td></tr>",
                            "<tr><td>VIKTORK</td><td>2</td></tr>",
                            "<tr><td>zoltan</td><td>2</td></tr>",
                            "<tr><td>zsofi1</td><td>2</td></tr>",
                            "<tr><td>balint2</td><td>1</td></tr>",
                            "<tr><td>balu</td><td>2</td></tr>",
                            "<tr><td>annamaria1</td><td>1</td></tr>",
                            "<tr><td>adam3</td><td>2</td></tr>",
                            "<tr><td>kristof4</td><td>2</td></tr>",
                            "<tr><td>matyas2</td><td>2</td></tr>",
                            "<tr><td>eva</td><td>2</td></tr>",
                            "<tr><td>imre</td><td>2</td></tr>",
                            "<tr><td>ISTVANV</td><td>2</td></tr>",
                            "<tr><td>julia4</td><td>2</td></tr>",
                            "<tr><td>jozsef</td><td>3</td></tr>",
                            "<tr><td>JUDITH</td><td>3</td></tr>",
                            "<tr><td>istvan</td><td>3</td></tr>",
                            "<tr><td>eszter4</td><td>3</td></tr>",
                            "<tr><td>henrik3</td><td>3</td></tr>",
                            "<tr><td>IBOLYAA</td><td>2</td></tr>",
                            "<tr><td>MATEK</td><td>3</td></tr>",
                            "<tr><td>miklos2</td><td>3</td></tr>",
                            "<tr><td>MIKLOSB</td><td>3</td></tr>",
                            "<tr><td>NANDORF</td><td>2</td></tr>",
                            "<tr><td>norbert5</td><td>2</td></tr>",
                            "<tr><td>klaudia2</td><td>3</td></tr>",
                            "<tr><td>kornel4</td><td>3</td></tr>",
                            "<tr><td>lajos</td><td>3</td></tr>",
                            "<tr><td>adam1</td><td>2</td></tr>",
                            "<tr><td>agnes3</td><td>3</td></tr>",
                            "<tr><td>AGNESK</td><td>3</td></tr>",
                            "<tr><td>aladar</td><td>3</td></tr>",
                            "<tr><td>andras4</td><td>2</td></tr>",
                            "<tr><td>ANDREAT</td><td>2</td></tr>",
                            "<tr><td>aniko</td><td>3</td></tr>",
                            "<tr><td>balint</td><td>3</td></tr>",
                            "<tr><td>attila4</td><td>3</td></tr>",
                            "<tr><td>attila</td><td>3</td></tr>",
                            "<tr><td>zsuzsa</td><td>2</td></tr>",
                            "<tr><td>ZOLTANT</td><td>2</td></tr>",
                            "<tr><td>roza2</td><td>3</td></tr>",
                            "<tr><td>sandor</td><td>4</td></tr>",
                            "<tr><td>sandor4</td><td>3</td></tr>",
                            "<tr><td>roland</td><td>3</td></tr>",
                            "<tr><td>roland1</td><td>4</td></tr>",
                            "<tr><td>robert2</td><td>4</td></tr>",
                            "<tr><td>peter1</td><td>3</td></tr>",
                            "<tr><td>peter2</td><td>4</td></tr>",
                            "<tr><td>rajmond4</td><td>4</td></tr>",
                            "<tr><td>tamas</td><td>4</td></tr>",
                            "<tr><td>sebestyen</td><td>2</td></tr>",
                            "<tr><td>zsuzsa3</td><td>4</td></tr>",
                            "<tr><td>zsuzsanna</td><td>4</td></tr>",
                            "<tr><td>zsolt1</td><td>2</td></tr>",
                            "<tr><td>VIKTORIAU</td><td>4</td></tr>",
                            "<tr><td>ATTILAO</td><td>2</td></tr>",
                            "<tr><td>debora</td><td>4</td></tr>",
                            "<tr><td>eszter</td><td>4</td></tr>",
                            "<tr><td>aniko4</td><td>3</td></tr>",
                            "<tr><td>andrea4</td><td>2</td></tr>",
                            "<tr><td>anita</td><td>4</td></tr>",
                            "<tr><td>LASZLOA</td><td>3</td></tr>",
                            "<tr><td>nikolett3</td><td>4</td></tr>",
                            "<tr><td>NIKOLETTAT</td><td>4</td></tr>",
                            "<tr><td>MARKH</td><td>2</td></tr>",
                            "<tr><td>ilona3</td><td>2</td></tr>",
                            "<tr><td>georgij</td><td>4</td></tr>",
                            "<tr><td>ESZTERE</td><td>3</td></tr>",
                            "<tr><td>eva2</td><td>3</td></tr>",
                            "<tr><td>ferenc1</td><td>4</td></tr>",
                            "<tr><td>istvan1</td><td>4</td></tr>",
                            "<tr><td>gabor4</td><td>4</td></tr>",
                            "<tr><td>JANOSP</td><td>3</td></tr>",
                            "<tr><td>julianna4</td><td>4</td></tr>",
                            "<tr><td>julia</td><td>2</td></tr>",
                            "<tr><td>jozsef2</td><td>3</td></tr>",
                            "<tr><td>janos3</td><td>5</td></tr>",
                            "<tr><td>EVAV</td><td>4</td></tr>",
                            "<tr><td>gusztav</td><td>5</td></tr>",
                            "<tr><td>MIHALYJ</td><td>4</td></tr>",
                            "<tr><td>norbert</td><td>4</td></tr>",
                            "<tr><td>pal</td><td>3</td></tr>",
                            "<tr><td>KRISZTINAG</td><td>5</td></tr>",
                            "<tr><td>mark</td><td>3</td></tr>",
                            "<tr><td>laszlo2</td><td>5</td></tr>",
                            "<tr><td>ANDRASE</td><td>3</td></tr>",
                            "<tr><td>andi</td><td>4</td></tr>",
                            "<tr><td>andras2</td><td>3</td></tr>",
                            "<tr><td>agnes</td><td>4</td></tr>",
                            "<tr><td>dora3</td><td>4</td></tr>",
                            "<tr><td>brigitta</td><td>4</td></tr>",
                            "<tr><td>brigitta3</td><td>4</td></tr>",
                            "<tr><td>timea2</td><td>5</td></tr>",
                            "<tr><td>valentin</td><td>5</td></tr>",
                            "<tr><td>RENATAS</td><td>3</td></tr>",
                            "<tr><td>SEBASTIANF</td><td>3</td></tr>",
                            "<tr><td>reka4</td><td>4</td></tr>",
                            "<tr><td>PETERB</td><td>3</td></tr>",
                            "<tr><td>sandor3</td><td>3</td></tr>",
                            "<tr><td>polla</td><td>4</td></tr>",
                            "<tr><td>RENATAK</td><td>5</td></tr>",
                            "<tr><td>peter3</td><td>3</td></tr>",
                            "<tr><td>veronika4</td><td>4</td></tr>",
                            "<tr><td>tihamer</td><td>4</td></tr>",
                            "<tr><td>ZOLTANP</td><td>3</td></tr>",
                            "<tr><td>ZSOLTJ</td><td>6</td></tr>",
                            "<tr><td>ZSUZSAV</td><td>5</td></tr>",
                            "<tr><td>BENCEB</td><td>4</td></tr>",
                            "<tr><td>bertalan</td><td>4</td></tr>",
                            "<tr><td>denes</td><td>3</td></tr>",
                            "<tr><td>balazs1</td><td>6</td></tr>",
                            "<tr><td>attila1</td><td>5</td></tr>",
                            "<tr><td>ARPADM</td><td>5</td></tr>",
                            "<tr><td>balazs3</td><td>4</td></tr>",
                            "<tr><td>BEATRIXS</td><td>5</td></tr>",
                            "<tr><td>BELAF</td><td>3</td></tr>",
                            "<tr><td>beata4</td><td>4</td></tr>",
                            "<tr><td>adam4</td><td>5</td></tr>",
                            "<tr><td>AGNESH</td><td>5</td></tr>",
                            "<tr><td>ANNAMARIAR</td><td>5</td></tr>",
                            "<tr><td>aron2</td><td>5</td></tr>",
                            "<tr><td>andrea</td><td>4</td></tr>",
                            "<tr><td>lala</td><td>5</td></tr>",
                            "<tr><td>LASZLON</td><td>5</td></tr>",
                            "<tr><td>kriszti</td><td>6</td></tr>",
                            "<tr><td>KRISZTIANM</td><td>6</td></tr>",
                            "<tr><td>krisztina1</td><td>4</td></tr>",
                            "<tr><td>MONIKAM</td><td>5</td></tr>",
                            "<tr><td>gabriella1</td><td>4</td></tr>",
                            "<tr><td>david1</td><td>5</td></tr>",
                            "<tr><td>gabor1</td><td>5</td></tr>",
                            "<tr><td>katalin4</td><td>3</td></tr>",
                            "<tr><td>kati</td><td>4</td></tr>",
                            "<tr><td>JOZSEFG</td><td>5</td></tr>",
                            "<tr><td>JANOSG</td><td>3</td></tr>",
                            "<tr><td>imre1</td><td>4</td></tr>",
                            "<tr><td>GYONGYIK</td><td>7</td></tr>",
                            "<tr><td>marton</td><td>6</td></tr>",
                            "<tr><td>nikoletta4</td><td>4</td></tr>",
                            "<tr><td>norbert2</td><td>5</td></tr>",
                            "<tr><td>arpad2</td><td>4</td></tr>",
                            "<tr><td>ARPADH</td><td>3</td></tr>",
                            "<tr><td>andras21</td><td>6</td></tr>",
                            "<tr><td>alexandra</td><td>6</td></tr>",
                            "<tr><td>daniel1</td><td>5</td></tr>",
                            "<tr><td>edit</td><td>5</td></tr>",
                            "<tr><td>emese</td><td>3</td></tr>",
                            "<tr><td>BERNADETTO</td><td>6</td></tr>",
                            "<tr><td>bernadett1</td><td>5</td></tr>",
                            "<tr><td>vivien3</td><td>5</td></tr>",
                            "<tr><td>SZABOLCSM</td><td>4</td></tr>",
                            "<tr><td>SZILARDS</td><td>5</td></tr>",
                            "<tr><td>tunde</td><td>7</td></tr>",
                            "<tr><td>ROBERTI</td><td>4</td></tr>",
                            "<tr><td>bernadett2</td><td>5</td></tr>",
                            "<tr><td>csongor3</td><td>6</td></tr>",
                            "<tr><td>andras3</td><td>5</td></tr>",
                            "<tr><td>anett3</td><td>6</td></tr>",
                            "<tr><td>MATYASS</td><td>5</td></tr>",
                            "<tr><td>krisztina</td><td>5</td></tr>",
                            "<tr><td>maria1</td><td>6</td></tr>",
                            "<tr><td>GYORGYO</td><td>3</td></tr>",
                            "<tr><td>fruzsina4</td><td>5</td></tr>",
                            "<tr><td>katka</td><td>4</td></tr>",
                            "<tr><td>katalin</td><td>6</td></tr>",
                            "<tr><td>norbert4</td><td>5</td></tr>",
                            "<tr><td>ANIKOS</td><td>6</td></tr>",
                            "<tr><td>dani</td><td>6</td></tr>",
                            "<tr><td>daniel</td><td>5</td></tr>",
                            "<tr><td>david</td><td>6</td></tr>",
                            "<tr><td>BEATRIXK</td><td>7</td></tr>",
                            "<tr><td>bence</td><td>6</td></tr>",
                            "<tr><td>szilvia1</td><td>6</td></tr>",
                            "<tr><td>TAMASF</td><td>6</td></tr>",
                            "<tr><td>balint1</td><td>9</td></tr>",
                            "<tr><td>balazs2</td><td>8</td></tr>",
                            "<tr><td>eszter2</td><td>5</td></tr>",
                            "<tr><td>akos</td><td>7</td></tr>",
                            "<tr><td>kata</td><td>5</td></tr>",
                            "<tr><td>krisztian4</td><td>6</td></tr>",
                            "<tr><td>sara</td><td>9</td></tr>",
                            "<tr><td>peter4</td><td>7</td></tr>",
                            "<tr><td>zoltan4</td><td>5</td></tr>",
                            "<tr><td>andras41</td><td>5</td></tr>",
                            "<tr><td>ARONK</td><td>8</td></tr>",
                            "<tr><td>Végösszeg</td><td>12</td></tr>",
                            "</table>"
                        ]
                    }
                }
            ],
            "execution_count": 19
        },
        {
            "cell_type": "markdown",
            "source": [
                "2. ![](data:image/png;base64,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)"
            ],
            "metadata": {
                "language": "sql",
                "azdata_cell_guid": "62452959-58f4-4cd0-86be-971de6fc40e7"
            },
            "attachments": {}
        },
        {
            "cell_type": "code",
            "source": [
                "SELECT*,\r\n",
                "    DATEDIFF(year,SZUL_DAT, getDATE()) as 'kor',\r\n",
                "    avg(DATEDIFF(year,SZUL_DAT, getDATE())) OVER (ORDER BY szul_dat rows BETWEEN 2 PRECEDING and 2 following ) as 'Átlagol'\r\n",
                "FROM Vendeg\r\n",
                ""
            ],
            "metadata": {
                "language": "sql",
                "azdata_cell_guid": "347bd10d-bedd-414b-891b-e955f8c54e6f"
            },
            "outputs": [
                {
                    "output_type": "display_data",
                    "data": {
                        "text/html": "(196 rows affected)"
                    },
                    "metadata": {}
                },
                {
                    "output_type": "display_data",
                    "data": {
                        "text/html": "Total execution time: 00:00:00.011"
                    },
                    "metadata": {}
                },
                {
                    "output_type": "execute_result",
                    "metadata": {},
                    "execution_count": 29,
                    "data": {
                        "application/vnd.dataresource+json": {
                            "schema": {
                                "fields": [
                                    {
                                        "name": "USERNEV"
                                    },
                                    {
                                        "name": "NEV"
                                    },
                                    {
                                        "name": "EMAIL"
                                    },
                                    {
                                        "name": "SZAML_CIM"
                                    },
                                    {
                                        "name": "SZUL_DAT"
                                    },
                                    {
                                        "name": "kor"
                                    },
                                    {
                                        "name": "Átlagol"
                                    }
                                ]
                            },
                            "data": [
                                {
                                    "USERNEV": "anett3",
                                    "NEV": "Pivarcsi Anett",
                                    "EMAIL": "anett.pivarcsi@mail.hu",
                                    "SZAML_CIM": "1149 Budapest Fő út 60.",
                                    "SZUL_DAT": "1967-01-03",
                                    "kor": "57",
                                    "Átlagol": "57"
                                },
                                {
                                    "USERNEV": "gusztav",
                                    "NEV": "Bárci Gusztáv",
                                    "EMAIL": "gusztav@gmail.com",
                                    "SZAML_CIM": "3643 Dédestapolcsány Endrődi Sándor utca 47.",
                                    "SZUL_DAT": "1967-02-25",
                                    "kor": "57",
                                    "Átlagol": "57"
                                },
                                {
                                    "USERNEV": "agnes3",
                                    "NEV": "Hartyánszky Ágnes",
                                    "EMAIL": "agnes3@gmail.com",
                                    "SZAML_CIM": "6430 Bácsalmás Posta köz 2.",
                                    "SZUL_DAT": "1967-04-11",
                                    "kor": "57",
                                    "Átlagol": "57"
                                },
                                {
                                    "USERNEV": "eva",
                                    "NEV": "Enyedi Éva",
                                    "EMAIL": "eva@gmail.com",
                                    "SZAML_CIM": "4231 Bököny Petőfi utca 8.",
                                    "SZUL_DAT": "1967-06-30",
                                    "kor": "57",
                                    "Átlagol": "57"
                                },
                                {
                                    "USERNEV": "ROBERTI",
                                    "NEV": "Iván Róbert",
                                    "EMAIL": "róbert.iván@mail.hu",
                                    "SZAML_CIM": "2377 Örkény Petőfi Sándor utca 3.",
                                    "SZUL_DAT": "1967-07-02",
                                    "kor": "57",
                                    "Átlagol": "57"
                                },
                                {
                                    "USERNEV": "SZILARDS",
                                    "NEV": "Szalai Szilárd",
                                    "EMAIL": "szilárd.szalai@mail.hu",
                                    "SZAML_CIM": "1077 Budapest Fő út 18.",
                                    "SZUL_DAT": "1967-09-28",
                                    "kor": "57",
                                    "Átlagol": "57"
                                },
                                {
                                    "USERNEV": "laszlo1",
                                    "NEV": "Farkas László",
                                    "EMAIL": "lászló.farkas@mail.hu",
                                    "SZAML_CIM": "5200 Törökszentmiklós Rendeki utca 21.",
                                    "SZUL_DAT": "1967-10-30",
                                    "kor": "57",
                                    "Átlagol": "56"
                                },
                                {
                                    "USERNEV": "janos3",
                                    "NEV": "Harangozó János",
                                    "EMAIL": "janos3@gmail.com",
                                    "SZAML_CIM": "8700 Marcali Petőfi Sándor tér 1.",
                                    "SZUL_DAT": "1967-11-02",
                                    "kor": "57",
                                    "Átlagol": "56"
                                },
                                {
                                    "USERNEV": "katalin",
                                    "NEV": "Horváth Katalin",
                                    "EMAIL": "katalin.horváth@mail.hu",
                                    "SZAML_CIM": "2424 Előszállás Rákóczi út 200.",
                                    "SZUL_DAT": "1968-01-01",
                                    "kor": "56",
                                    "Átlagol": "56"
                                },
                                {
                                    "USERNEV": "pal",
                                    "NEV": "Barabás Pál",
                                    "EMAIL": "pál.barabás@mail.hu",
                                    "SZAML_CIM": "1183 Budapest Szolnoki út 8.",
                                    "SZUL_DAT": "1968-02-06",
                                    "kor": "56",
                                    "Átlagol": "56"
                                },
                                {
                                    "USERNEV": "roland",
                                    "NEV": "Tóth Roland",
                                    "EMAIL": "roland@gmail.com",
                                    "SZAML_CIM": "2000 Szentendre Fő út 169.",
                                    "SZUL_DAT": "1968-03-21",
                                    "kor": "56",
                                    "Átlagol": "56"
                                },
                                {
                                    "USERNEV": "andi",
                                    "NEV": "Maródi Andrea",
                                    "EMAIL": "andrea.maródi@mail.hu",
                                    "SZAML_CIM": "5465 Cserkeszőlő Árpád utca 4.",
                                    "SZUL_DAT": "1968-05-07",
                                    "kor": "56",
                                    "Átlagol": "56"
                                },
                                {
                                    "USERNEV": "KRISZTIANM",
                                    "NEV": "Mogyródi Krisztián",
                                    "EMAIL": "KRISZTIANM@gmail.com",
                                    "SZAML_CIM": "9155 Lébény Jászai tér 21.",
                                    "SZUL_DAT": "1968-05-27",
                                    "kor": "56",
                                    "Átlagol": "56"
                                },
                                {
                                    "USERNEV": "kata",
                                    "NEV": "Gondos Katalin",
                                    "EMAIL": "katalin.gondos@mail.hu",
                                    "SZAML_CIM": "8237 Tihany Kossuth Lajos utca 6.",
                                    "SZUL_DAT": "1968-06-22",
                                    "kor": "56",
                                    "Átlagol": "55"
                                },
                                {
                                    "USERNEV": "NANDORF",
                                    "NEV": "Fő Nándor",
                                    "EMAIL": "nándor.fő@mail.hu",
                                    "SZAML_CIM": "5920 Csorvás Bécsi utca 82.",
                                    "SZUL_DAT": "1968-11-12",
                                    "kor": "56",
                                    "Átlagol": "55"
                                },
                                {
                                    "USERNEV": "PETERB",
                                    "NEV": "Berendi Péter",
                                    "EMAIL": "péter.berendi@mail.hu",
                                    "SZAML_CIM": "3980 Sátoraljaújhely Vasút utca 4/10.",
                                    "SZUL_DAT": "1969-01-01",
                                    "kor": "55",
                                    "Átlagol": "55"
                                },
                                {
                                    "USERNEV": "LASZLON",
                                    "NEV": "Nagy László",
                                    "EMAIL": "lászló.nagy@mail.hu",
                                    "SZAML_CIM": "1173 Budapest Jászai tér 21.",
                                    "SZUL_DAT": "1969-04-12",
                                    "kor": "55",
                                    "Átlagol": "55"
                                },
                                {
                                    "USERNEV": "gabriella10",
                                    "NEV": "Vida Gabriella",
                                    "EMAIL": "gabriella10@gmail.com",
                                    "SZAML_CIM": "2484 Agárd Arany János utca 3.",
                                    "SZUL_DAT": "1969-06-18",
                                    "kor": "55",
                                    "Átlagol": "55"
                                },
                                {
                                    "USERNEV": "LASZLOA",
                                    "NEV": "Antal László",
                                    "EMAIL": "lászló.antal@mail.hu",
                                    "SZAML_CIM": "2484 Agárd Bécsi utca 82.",
                                    "SZUL_DAT": "1969-06-29",
                                    "kor": "55",
                                    "Átlagol": "55"
                                },
                                {
                                    "USERNEV": "daniel1",
                                    "NEV": "Keszler Dániel",
                                    "EMAIL": "dániel.keszler@mail.hu",
                                    "SZAML_CIM": "3580 Tiszaújváros Kossuth Lajos utca 6.",
                                    "SZUL_DAT": "1969-07-16",
                                    "kor": "55",
                                    "Átlagol": "55"
                                },
                                {
                                    "USERNEV": "norbert",
                                    "NEV": "Szűcs Norbert",
                                    "EMAIL": "norbert@gmail.com",
                                    "SZAML_CIM": "5071 Besenyszög Győri utca 12.",
                                    "SZUL_DAT": "1969-07-17",
                                    "kor": "55",
                                    "Átlagol": "55"
                                },
                                {
                                    "USERNEV": "krisztina1",
                                    "NEV": "Bori Krisztina",
                                    "EMAIL": "krisztina.bori@mail.hu",
                                    "SZAML_CIM": "2115 Vácszentlászló Fő utca 47.",
                                    "SZUL_DAT": "1969-10-13",
                                    "kor": "55",
                                    "Átlagol": "54"
                                },
                                {
                                    "USERNEV": "reka4",
                                    "NEV": "Szikszai Réka",
                                    "EMAIL": "réka.szikszai@mail.hu",
                                    "SZAML_CIM": "8254 Kővágóörs Templom utca 73.",
                                    "SZUL_DAT": "1969-11-27",
                                    "kor": "55",
                                    "Átlagol": "54"
                                },
                                {
                                    "USERNEV": "sandor",
                                    "NEV": "Karasz Sándor",
                                    "EMAIL": "sandor@gmail.com",
                                    "SZAML_CIM": "8283 Káptalantóti Kossuth Lajos utca 1/a.",
                                    "SZUL_DAT": "1970-01-27",
                                    "kor": "54",
                                    "Átlagol": "54"
                                },
                                {
                                    "USERNEV": "adam3",
                                    "NEV": "Barkóci Ádám",
                                    "EMAIL": "adam3@gmail.com",
                                    "SZAML_CIM": "3910 Tokaj Dózsa György utca 37.",
                                    "SZUL_DAT": "1970-06-07",
                                    "kor": "54",
                                    "Átlagol": "54"
                                },
                                {
                                    "USERNEV": "krisztian4",
                                    "NEV": "Czérna Krisztián",
                                    "EMAIL": "krisztián.czérna@mail.hu",
                                    "SZAML_CIM": "1107 Budapest Dózsa György utca 37.",
                                    "SZUL_DAT": "1970-08-01",
                                    "kor": "54",
                                    "Átlagol": "53"
                                },
                                {
                                    "USERNEV": "david1",
                                    "NEV": "Sobják Dávid",
                                    "EMAIL": "david1@gmail.com",
                                    "SZAML_CIM": "5083 Kengyel Arany János utca 3.",
                                    "SZUL_DAT": "1970-08-16",
                                    "kor": "54",
                                    "Átlagol": "53"
                                },
                                {
                                    "USERNEV": "szilvia1",
                                    "NEV": "Tari Szilvia",
                                    "EMAIL": "szilvia.tari@mail.hu",
                                    "SZAML_CIM": "6080 Szabadszállás Bécsi utca 82.",
                                    "SZUL_DAT": "1971-03-09",
                                    "kor": "53",
                                    "Átlagol": "53"
                                },
                                {
                                    "USERNEV": "anita",
                                    "NEV": "Hamvay-Kovács Anita",
                                    "EMAIL": "anita.hamvay-kovács@mail.hu",
                                    "SZAML_CIM": "7220 Sarkad Táncsics utca 19.",
                                    "SZUL_DAT": "1971-03-20",
                                    "kor": "53",
                                    "Átlagol": "53"
                                },
                                {
                                    "USERNEV": "andras3",
                                    "NEV": "Vígh András",
                                    "EMAIL": "andrás.vígh@mail.hu",
                                    "SZAML_CIM": "1118 Budapest Arany János utca 1.",
                                    "SZUL_DAT": "1971-04-02",
                                    "kor": "53",
                                    "Átlagol": "53"
                                },
                                {
                                    "USERNEV": "aron2",
                                    "NEV": "Jakab Áron",
                                    "EMAIL": "aron2@gmail.com",
                                    "SZAML_CIM": "7133 Fadd Bajcsy-Zsilinszky utca 4.",
                                    "SZUL_DAT": "1971-04-26",
                                    "kor": "53",
                                    "Átlagol": "52"
                                },
                                {
                                    "USERNEV": "eva2",
                                    "NEV": "Perlinger Éva",
                                    "EMAIL": "eva2@gmail.com",
                                    "SZAML_CIM": "9653 Répcelak Bécsi utca 82.",
                                    "SZUL_DAT": "1971-08-19",
                                    "kor": "53",
                                    "Átlagol": "52"
                                },
                                {
                                    "USERNEV": "nikoletta4",
                                    "NEV": "Kő Nikoletta",
                                    "EMAIL": "nikoletta4@gmail.com",
                                    "SZAML_CIM": "5537 Zsadány Fő út 18.",
                                    "SZUL_DAT": "1972-01-10",
                                    "kor": "52",
                                    "Átlagol": "52"
                                },
                                {
                                    "USERNEV": "BEATRIXK",
                                    "NEV": "Kerényi Beatrix",
                                    "EMAIL": "beatrix.kerényi@mail.hu",
                                    "SZAML_CIM": "7396 Magyarszék Kossuth Lajos utca 47/b.",
                                    "SZUL_DAT": "1972-04-06",
                                    "kor": "52",
                                    "Átlagol": "52"
                                },
                                {
                                    "USERNEV": "ROBERTP",
                                    "NEV": "Pásztor Róbert",
                                    "EMAIL": "ROBERTP@gmail.com",
                                    "SZAML_CIM": "5137 Jászkisér Ady Endre út 27.",
                                    "SZUL_DAT": "1972-05-16",
                                    "kor": "52",
                                    "Átlagol": "51"
                                },
                                {
                                    "USERNEV": "matyas2",
                                    "NEV": "Botka Mátyás",
                                    "EMAIL": "matyas2@gmail.com",
                                    "SZAML_CIM": "2700 Cegléd Kossuth Lajos utca 6.",
                                    "SZUL_DAT": "1972-07-07",
                                    "kor": "52",
                                    "Átlagol": "51"
                                },
                                {
                                    "USERNEV": "sara",
                                    "NEV": "Farkas Sára",
                                    "EMAIL": "sára.farkas@mail.hu",
                                    "SZAML_CIM": "5940 Tótkomlós Felszabadulás utca 32.",
                                    "SZUL_DAT": "1973-04-05",
                                    "kor": "51",
                                    "Átlagol": "51"
                                },
                                {
                                    "USERNEV": "aniko",
                                    "NEV": "Tóth Anikó",
                                    "EMAIL": "aniko@gmail.com",
                                    "SZAML_CIM": "2085 Pilisvörösvár Deák Ferenc út 5.",
                                    "SZUL_DAT": "1973-06-03",
                                    "kor": "51",
                                    "Átlagol": "51"
                                },
                                {
                                    "USERNEV": "BENCEB",
                                    "NEV": "Bajusz Bence",
                                    "EMAIL": "bence.bajusz@mail.hu",
                                    "SZAML_CIM": "8391 Sármellék Fő utca 56.",
                                    "SZUL_DAT": "1973-06-21",
                                    "kor": "51",
                                    "Átlagol": "50"
                                },
                                {
                                    "USERNEV": "gabor1",
                                    "NEV": "Köves Gábor",
                                    "EMAIL": "gabor1@gmail.com",
                                    "SZAML_CIM": "6762 Sándorfalva Árpád utca 23.",
                                    "SZUL_DAT": "1973-07-15",
                                    "kor": "51",
                                    "Átlagol": "50"
                                },
                                {
                                    "USERNEV": "david",
                                    "NEV": "Ambrus Dávid",
                                    "EMAIL": "david@gmail.com",
                                    "SZAML_CIM": "1149 Budapest Fő út 18.",
                                    "SZUL_DAT": "1974-02-11",
                                    "kor": "50",
                                    "Átlagol": "50"
                                },
                                {
                                    "USERNEV": "tunde",
                                    "NEV": "Turcsik Tünde",
                                    "EMAIL": "tunde@gmail.com",
                                    "SZAML_CIM": "7130 Tolna Fő út 122.",
                                    "SZUL_DAT": "1974-02-12",
                                    "kor": "50",
                                    "Átlagol": "50"
                                },
                                {
                                    "USERNEV": "GYONGYIK",
                                    "NEV": "Kornseé Gyöngyi",
                                    "EMAIL": "gyöngyi.kornseé@mail.hu",
                                    "SZAML_CIM": "8800 Nagykanizsa Fő út 60.",
                                    "SZUL_DAT": "1974-06-07",
                                    "kor": "50",
                                    "Átlagol": "49"
                                },
                                {
                                    "USERNEV": "MONIKAM",
                                    "NEV": "Mohos Mónika",
                                    "EMAIL": "mónika.mohos@mail.hu",
                                    "SZAML_CIM": "2241 Sülysáp Baracsi László utca 14.",
                                    "SZUL_DAT": "1974-10-01",
                                    "kor": "50",
                                    "Átlagol": "49"
                                },
                                {
                                    "USERNEV": "JANOSG",
                                    "NEV": "Giliga János",
                                    "EMAIL": "JANOSG@gmail.com",
                                    "SZAML_CIM": "3300 Eger Deák Ferenc út 5.",
                                    "SZUL_DAT": "1975-01-03",
                                    "kor": "49",
                                    "Átlagol": "49"
                                },
                                {
                                    "USERNEV": "laszlo2",
                                    "NEV": "Móra László",
                                    "EMAIL": "lászló.móra@mail.hu",
                                    "SZAML_CIM": "9970 Szentgotthárd Petőfi utca 1/2.",
                                    "SZUL_DAT": "1975-02-19",
                                    "kor": "49",
                                    "Átlagol": "49"
                                },
                                {
                                    "USERNEV": "denes",
                                    "NEV": "Tömböly Dénes",
                                    "EMAIL": "denes@gmail.com",
                                    "SZAML_CIM": "2400 Dunaújváros Kossuth út 39.",
                                    "SZUL_DAT": "1975-03-14",
                                    "kor": "49",
                                    "Átlagol": "49"
                                },
                                {
                                    "USERNEV": "MATYASS",
                                    "NEV": "Szilágyi Mátyás",
                                    "EMAIL": "mátyás.szilágyi@mail.hu",
                                    "SZAML_CIM": "9023 Győr Kossuth Lajos utca 6.",
                                    "SZUL_DAT": "1975-03-22",
                                    "kor": "49",
                                    "Átlagol": "49"
                                },
                                {
                                    "USERNEV": "katka",
                                    "NEV": "Kovács Katalin",
                                    "EMAIL": "katalin.kovács@mail.hu",
                                    "SZAML_CIM": "8254 Kővágóörs Petőfi utca 22.",
                                    "SZUL_DAT": "1975-03-31",
                                    "kor": "49",
                                    "Átlagol": "49"
                                },
                                {
                                    "USERNEV": "JOZSEFG",
                                    "NEV": "Gyuris József",
                                    "EMAIL": "józsef.gyuris@mail.hu",
                                    "SZAML_CIM": "2660 Balassagyarmat Petőfi utca 1/2.",
                                    "SZUL_DAT": "1975-05-26",
                                    "kor": "49",
                                    "Átlagol": "49"
                                },
                                {
                                    "USERNEV": "norbert5",
                                    "NEV": "Béres Norbert",
                                    "EMAIL": "norbert5@gmail.com",
                                    "SZAML_CIM": "8640 Fonyód Bajcsy-Zsilinszky utca 4.",
                                    "SZUL_DAT": "1975-07-27",
                                    "kor": "49",
                                    "Átlagol": "49"
                                },
                                {
                                    "USERNEV": "timea2",
                                    "NEV": "Dusha Tímea",
                                    "EMAIL": "tímea.dusha@mail.hu",
                                    "SZAML_CIM": "5920 Csorvás Kossuth utca 8.",
                                    "SZUL_DAT": "1975-08-22",
                                    "kor": "49",
                                    "Átlagol": "49"
                                },
                                {
                                    "USERNEV": "kornel4",
                                    "NEV": "Lukács Kornél",
                                    "EMAIL": "kornél.lukács@mail.hu",
                                    "SZAML_CIM": "2053 Herceghalom Bécsi utca 82.",
                                    "SZUL_DAT": "1975-09-30",
                                    "kor": "49",
                                    "Átlagol": "48"
                                },
                                {
                                    "USERNEV": "attila4",
                                    "NEV": "Baróti Attila",
                                    "EMAIL": "attila.baróti@mail.hu",
                                    "SZAML_CIM": "7149 Báta Arany János utca 3.",
                                    "SZUL_DAT": "1975-11-06",
                                    "kor": "49",
                                    "Átlagol": "48"
                                },
                                {
                                    "USERNEV": "peter2",
                                    "NEV": "Bozsó Péter",
                                    "EMAIL": "peter2@gmail.com",
                                    "SZAML_CIM": "4800 Vásárosnamény Zombori út 2/A",
                                    "SZUL_DAT": "1976-01-26",
                                    "kor": "48",
                                    "Átlagol": "48"
                                },
                                {
                                    "USERNEV": "peter1",
                                    "NEV": "Kozma Péter",
                                    "EMAIL": "peter1@gmail.com",
                                    "SZAML_CIM": "6913 Csanádpalota Központi telep 3.",
                                    "SZUL_DAT": "1976-03-18",
                                    "kor": "48",
                                    "Átlagol": "48"
                                },
                                {
                                    "USERNEV": "imre1",
                                    "NEV": "Papp Imre",
                                    "EMAIL": "imre.papp@mail.hu",
                                    "SZAML_CIM": "1077 Budapest Szolnoki út 8.",
                                    "SZUL_DAT": "1976-06-25",
                                    "kor": "48",
                                    "Átlagol": "48"
                                },
                                {
                                    "USERNEV": "adam4",
                                    "NEV": "Bieniek Ádám",
                                    "EMAIL": "ádám.bieniek@mail.hu",
                                    "SZAML_CIM": "8630 Balatonboglár Juhászföldi út 1.",
                                    "SZUL_DAT": "1976-08-01",
                                    "kor": "48",
                                    "Átlagol": "48"
                                },
                                {
                                    "USERNEV": "balu",
                                    "NEV": "Endresz Bálint",
                                    "EMAIL": "bálint.endresz@mail.hu",
                                    "SZAML_CIM": "3973 Cigánd Fő út 169.",
                                    "SZUL_DAT": "1976-08-01",
                                    "kor": "48",
                                    "Átlagol": "48"
                                },
                                {
                                    "USERNEV": "debora",
                                    "NEV": "Barna Debóra",
                                    "EMAIL": "debóra.barna@mail.hu",
                                    "SZAML_CIM": "1155 Budapest Fő út 169.",
                                    "SZUL_DAT": "1976-10-14",
                                    "kor": "48",
                                    "Átlagol": "47"
                                },
                                {
                                    "USERNEV": "ZSUZSAV",
                                    "NEV": "Vajda Zsuzsa",
                                    "EMAIL": "zsuzsa.vajda@mail.hu",
                                    "SZAML_CIM": "6786 Ruzsa Kossuth utca 77.",
                                    "SZUL_DAT": "1976-12-11",
                                    "kor": "48",
                                    "Átlagol": "47"
                                },
                                {
                                    "USERNEV": "robert2",
                                    "NEV": "Patay Róbert",
                                    "EMAIL": "robert2@gmail.com",
                                    "SZAML_CIM": "2370 Dabas Rákóczi utca 21.",
                                    "SZUL_DAT": "1977-01-08",
                                    "kor": "47",
                                    "Átlagol": "47"
                                },
                                {
                                    "USERNEV": "ZOLTANP",
                                    "NEV": "Pintér Zoltán",
                                    "EMAIL": "zoltán.pintér@mail.hu",
                                    "SZAML_CIM": "6050 Lajosmizse Fő út 18.",
                                    "SZUL_DAT": "1977-06-07",
                                    "kor": "47",
                                    "Átlagol": "47"
                                },
                                {
                                    "USERNEV": "ANNAMARIAR",
                                    "NEV": "Regős Annamária",
                                    "EMAIL": "ANNAMARIAR@gmail.com",
                                    "SZAML_CIM": "8283 Káptalantóti Petőfi Sándor tér 1.",
                                    "SZUL_DAT": "1977-09-26",
                                    "kor": "47",
                                    "Átlagol": "47"
                                },
                                {
                                    "USERNEV": "bertalan",
                                    "NEV": "Csiger Bertalan",
                                    "EMAIL": "bertalan@gmail.com",
                                    "SZAML_CIM": "1192 Budapest Fő út 169.",
                                    "SZUL_DAT": "1977-10-15",
                                    "kor": "47",
                                    "Átlagol": "46"
                                },
                                {
                                    "USERNEV": "andras21",
                                    "NEV": "Molnár András",
                                    "EMAIL": "andrás.molnár@mail.hu",
                                    "SZAML_CIM": "7900 Szigetvár Rákóczi utca 67.",
                                    "SZUL_DAT": "1977-11-16",
                                    "kor": "47",
                                    "Átlagol": "46"
                                },
                                {
                                    "USERNEV": "aniko4",
                                    "NEV": "Böröcz Anikó",
                                    "EMAIL": "aniko4@gmail.com",
                                    "SZAML_CIM": "2484 Agárd Petőfi Sándor tér 1.",
                                    "SZUL_DAT": "1978-03-26",
                                    "kor": "46",
                                    "Átlagol": "46"
                                },
                                {
                                    "USERNEV": "kriszti",
                                    "NEV": "Horváth Krisztina",
                                    "EMAIL": "kriszti@gmail.com",
                                    "SZAML_CIM": "6060 Tiszakécske Árpád utca 4.",
                                    "SZUL_DAT": "1978-06-12",
                                    "kor": "46",
                                    "Átlagol": "46"
                                },
                                {
                                    "USERNEV": "ESZTERE",
                                    "NEV": "Érsek Eszter",
                                    "EMAIL": "eszter.érsek@mail.hu",
                                    "SZAML_CIM": "6785 Pusztamérges Kossuth Lajos utca 6.",
                                    "SZUL_DAT": "1978-08-28",
                                    "kor": "46",
                                    "Átlagol": "46"
                                },
                                {
                                    "USERNEV": "jozsef2",
                                    "NEV": "Vajda József",
                                    "EMAIL": "józsef.vajda@mail.hu",
                                    "SZAML_CIM": "6700 Szeged Baracsi László utca 14.",
                                    "SZUL_DAT": "1978-09-04",
                                    "kor": "46",
                                    "Átlagol": "46"
                                },
                                {
                                    "USERNEV": "brigitta",
                                    "NEV": "Székely Brigitta",
                                    "EMAIL": "brigitta.székely@mail.hu",
                                    "SZAML_CIM": "2462 Martonvásár Fő utca 47.",
                                    "SZUL_DAT": "1978-09-13",
                                    "kor": "46",
                                    "Átlagol": "46"
                                },
                                {
                                    "USERNEV": "lajos",
                                    "NEV": "Kiss Lajos",
                                    "EMAIL": "lajos.kiss@mail.hu",
                                    "SZAML_CIM": "1077 Budapest Dob utca 1",
                                    "SZUL_DAT": "1978-10-31",
                                    "kor": "46",
                                    "Átlagol": "45"
                                },
                                {
                                    "USERNEV": "daniel",
                                    "NEV": "Rácz Dániel",
                                    "EMAIL": "dániel.rácz@mail.hu",
                                    "SZAML_CIM": "9181 Kimle Szabadság tér 9.",
                                    "SZUL_DAT": "1978-11-28",
                                    "kor": "46",
                                    "Átlagol": "45"
                                },
                                {
                                    "USERNEV": "MIKLOSB",
                                    "NEV": "Balla Miklós",
                                    "EMAIL": "miklós.balla@mail.hu",
                                    "SZAML_CIM": "4060 Balmazújváros Szent István utca 2.",
                                    "SZUL_DAT": "1979-02-16",
                                    "kor": "45",
                                    "Átlagol": "45"
                                },
                                {
                                    "USERNEV": "zsuzsa3",
                                    "NEV": "Varsányi Zsuzsa",
                                    "EMAIL": "zsuzsa.varsányi@mail.hu",
                                    "SZAML_CIM": "8600 Siófok Árpád utca 4.",
                                    "SZUL_DAT": "1979-03-06",
                                    "kor": "45",
                                    "Átlagol": "45"
                                },
                                {
                                    "USERNEV": "krisztina",
                                    "NEV": "Szedlár Krisztina",
                                    "EMAIL": "krisztina@gmail.com",
                                    "SZAML_CIM": "6646 Tömörkény Arany János utca 1.",
                                    "SZUL_DAT": "1979-05-10",
                                    "kor": "45",
                                    "Átlagol": "45"
                                },
                                {
                                    "USERNEV": "MIHALYJ",
                                    "NEV": "Juhász Mihály",
                                    "EMAIL": "mihály.juhász@mail.hu",
                                    "SZAML_CIM": "6786 Ruzsa Rákóczi utca 1.",
                                    "SZUL_DAT": "1979-10-12",
                                    "kor": "45",
                                    "Átlagol": "45"
                                },
                                {
                                    "USERNEV": "zoltan",
                                    "NEV": "Fodor Zoltán",
                                    "EMAIL": "zoltán.fodor@mail.hu",
                                    "SZAML_CIM": "3441 Mezőkeresztes Fő utca 23.",
                                    "SZUL_DAT": "1979-11-25",
                                    "kor": "45",
                                    "Átlagol": "45"
                                },
                                {
                                    "USERNEV": "agnes",
                                    "NEV": "Lengyel Ágnes",
                                    "EMAIL": "agnes@gmail.com",
                                    "SZAML_CIM": "5200 Törökszentmiklós Deák Ferenc út 5.",
                                    "SZUL_DAT": "1979-12-10",
                                    "kor": "45",
                                    "Átlagol": "44"
                                },
                                {
                                    "USERNEV": "attila",
                                    "NEV": "Csóti Attila",
                                    "EMAIL": "attila@gmail.com",
                                    "SZAML_CIM": "3000 Hatvan Bajcsy-Zsilinszky utca 4.",
                                    "SZUL_DAT": "1979-12-25",
                                    "kor": "45",
                                    "Átlagol": "44"
                                },
                                {
                                    "USERNEV": "GYORGYO",
                                    "NEV": "Oroszi György",
                                    "EMAIL": "GYORGYO@gmail.com",
                                    "SZAML_CIM": "7220 Sarkad Dózsa György u. 1.",
                                    "SZUL_DAT": "1980-03-23",
                                    "kor": "44",
                                    "Átlagol": "44"
                                },
                                {
                                    "USERNEV": "SZABOLCSM",
                                    "NEV": "Miklós Szabolcs",
                                    "EMAIL": "szabolcs.miklós@mail.hu",
                                    "SZAML_CIM": "1102 Budapest Fő út 169.",
                                    "SZUL_DAT": "1980-08-11",
                                    "kor": "44",
                                    "Átlagol": "44"
                                },
                                {
                                    "USERNEV": "tamara2",
                                    "NEV": "Miklós Tamara",
                                    "EMAIL": "tamara.miklós@mail.hu",
                                    "SZAML_CIM": "3910 Tokaj Kossuth út 39.",
                                    "SZUL_DAT": "1980-08-11",
                                    "kor": "44",
                                    "Átlagol": "44"
                                },
                                {
                                    "USERNEV": "ANDRASN",
                                    "NEV": "Nagy András",
                                    "EMAIL": "andrás.nagy@mail.hu",
                                    "SZAML_CIM": "6500 Baja Fő út 169.",
                                    "SZUL_DAT": "1980-09-05",
                                    "kor": "44",
                                    "Átlagol": "44"
                                },
                                {
                                    "USERNEV": "zsuzsa",
                                    "NEV": "Pusztai Zsuzsanna",
                                    "EMAIL": "zsuzsanna@gmail.com",
                                    "SZAML_CIM": "6783 Ásotthalom Badacsonyi utca 12.",
                                    "SZUL_DAT": "1980-09-17",
                                    "kor": "44",
                                    "Átlagol": "44"
                                },
                                {
                                    "USERNEV": "aladar",
                                    "NEV": "Dunai Aladár",
                                    "EMAIL": "aladár.dunai@mail.hu",
                                    "SZAML_CIM": "5931 Nagyszénás Árpád utca 23.",
                                    "SZUL_DAT": "1980-11-01",
                                    "kor": "44",
                                    "Átlagol": "43"
                                },
                                {
                                    "USERNEV": "EVAV",
                                    "NEV": "Viktor Éva",
                                    "EMAIL": "EVAV@gmail.com",
                                    "SZAML_CIM": "6913 Csanádpalota Arany János utca 3.",
                                    "SZUL_DAT": "1980-12-26",
                                    "kor": "44",
                                    "Átlagol": "43"
                                },
                                {
                                    "USERNEV": "BEATRIXS",
                                    "NEV": "Szekendi Beatrix",
                                    "EMAIL": "beatrix.szekendi@mail.hu",
                                    "SZAML_CIM": "4060 Balmazújváros Jászai tér 21.",
                                    "SZUL_DAT": "1981-04-06",
                                    "kor": "43",
                                    "Átlagol": "43"
                                },
                                {
                                    "USERNEV": "andrea4",
                                    "NEV": "Neizer Andrea",
                                    "EMAIL": "andrea4@gmail.com",
                                    "SZAML_CIM": "1124 Budapest Kiss u. 8.",
                                    "SZUL_DAT": "1981-05-17",
                                    "kor": "43",
                                    "Átlagol": "43"
                                },
                                {
                                    "USERNEV": "nikolett3",
                                    "NEV": "Horváth Nikolett",
                                    "EMAIL": "nikolett3@gmail.com",
                                    "SZAML_CIM": "1072 Budapest Arany János utca 1.",
                                    "SZUL_DAT": "1981-09-29",
                                    "kor": "43",
                                    "Átlagol": "42"
                                },
                                {
                                    "USERNEV": "AGNESH",
                                    "NEV": "Horváth Ágnes",
                                    "EMAIL": "AGNESH@gmail.com",
                                    "SZAML_CIM": "8200 Veszprém Rákóczi utca 21.",
                                    "SZUL_DAT": "1981-12-24",
                                    "kor": "43",
                                    "Átlagol": "42"
                                },
                                {
                                    "USERNEV": "klaudia2",
                                    "NEV": "Bakó Klaudia",
                                    "EMAIL": "klaudia.bakó@mail.hu",
                                    "SZAML_CIM": "8254 Kővágóörs Kossuth Lajos utca 6.",
                                    "SZUL_DAT": "1982-04-16",
                                    "kor": "42",
                                    "Átlagol": "42"
                                },
                                {
                                    "USERNEV": "akos",
                                    "NEV": "Bíró Ákos",
                                    "EMAIL": "ákos.bíró@mail.hu",
                                    "SZAML_CIM": "9023 Győr Kossuth Lajos utca 47/b.",
                                    "SZUL_DAT": "1982-04-24",
                                    "kor": "42",
                                    "Átlagol": "42"
                                },
                                {
                                    "USERNEV": "attila1",
                                    "NEV": "Gulyás Attila",
                                    "EMAIL": "attila.gulyás@mail.hu",
                                    "SZAML_CIM": "3881 Abaújszántó Szolnoki út 8.",
                                    "SZUL_DAT": "1982-08-16",
                                    "kor": "42",
                                    "Átlagol": "41"
                                },
                                {
                                    "USERNEV": "gabriella1",
                                    "NEV": "Nagy Gabriella",
                                    "EMAIL": "gabriella1@gmail.com",
                                    "SZAML_CIM": "1077 Budapest Dob utca 1",
                                    "SZUL_DAT": "1982-11-01",
                                    "kor": "42",
                                    "Átlagol": "41"
                                },
                                {
                                    "USERNEV": "georgij",
                                    "NEV": "Nyíri Georgij",
                                    "EMAIL": "georgij.nyíri@mail.hu",
                                    "SZAML_CIM": "8391 Sármellék Grassalkovich út 10.",
                                    "SZUL_DAT": "1983-02-23",
                                    "kor": "41",
                                    "Átlagol": "41"
                                },
                                {
                                    "USERNEV": "norbert4",
                                    "NEV": "Mile Norbert",
                                    "EMAIL": "norbert4@gmail.com",
                                    "SZAML_CIM": "3973 Cigánd Bajcsy-Zsilinszky utca 4.",
                                    "SZUL_DAT": "1983-06-15",
                                    "kor": "41",
                                    "Átlagol": "41"
                                },
                                {
                                    "USERNEV": "peter3",
                                    "NEV": "Szalai Péter",
                                    "EMAIL": "peter3@gmail.com",
                                    "SZAML_CIM": "1155 Budapest Arany János utca 3.",
                                    "SZUL_DAT": "1983-07-18",
                                    "kor": "41",
                                    "Átlagol": "41"
                                },
                                {
                                    "USERNEV": "veronika4",
                                    "NEV": "Tankó Veronika",
                                    "EMAIL": "veronika4@gmail.com",
                                    "SZAML_CIM": "6412 Balotaszállás Rendeki utca 21.",
                                    "SZUL_DAT": "1983-08-28",
                                    "kor": "41",
                                    "Átlagol": "41"
                                },
                                {
                                    "USERNEV": "ZSOLTJ",
                                    "NEV": "Józsa Zsolt",
                                    "EMAIL": "ZSOLTJ@gmail.com",
                                    "SZAML_CIM": "8315 Gyenesdiás Bajcsy-Zsilinszky utca 4.",
                                    "SZUL_DAT": "1983-09-29",
                                    "kor": "41",
                                    "Átlagol": "41"
                                },
                                {
                                    "USERNEV": "ferenc1",
                                    "NEV": "Orosz Ferenc",
                                    "EMAIL": "ferenc.orosz@mail.hu",
                                    "SZAML_CIM": "5061 Tiszasüly Arany János utca 3.",
                                    "SZUL_DAT": "1983-10-08",
                                    "kor": "41",
                                    "Átlagol": "41"
                                },
                                {
                                    "USERNEV": "zsofi1",
                                    "NEV": "Molnár Zsófi",
                                    "EMAIL": "zsofi1@gmail.com",
                                    "SZAML_CIM": "2730 Albertirsa Árpád utca 23.",
                                    "SZUL_DAT": "1983-11-17",
                                    "kor": "41",
                                    "Átlagol": "40"
                                },
                                {
                                    "USERNEV": "IBOLYAA",
                                    "NEV": "Andor Ibolya",
                                    "EMAIL": "ibolya.andor@mail.hu",
                                    "SZAML_CIM": "9023 Győr Posta köz 2.",
                                    "SZUL_DAT": "1983-11-27",
                                    "kor": "41",
                                    "Átlagol": "40"
                                },
                                {
                                    "USERNEV": "kristof4",
                                    "NEV": "Poprádi Kristóf",
                                    "EMAIL": "kristof4@gmail.com",
                                    "SZAML_CIM": "8220 Balatonalmádi Mészáros utca 7.",
                                    "SZUL_DAT": "1984-01-15",
                                    "kor": "40",
                                    "Átlagol": "40"
                                },
                                {
                                    "USERNEV": "csongor3",
                                    "NEV": "Nagymihály Csongor",
                                    "EMAIL": "csongor.nagymihály@mail.hu",
                                    "SZAML_CIM": "9181 Kimle Deák Ferenc út 5.",
                                    "SZUL_DAT": "1984-03-05",
                                    "kor": "40",
                                    "Átlagol": "40"
                                },
                                {
                                    "USERNEV": "andras4",
                                    "NEV": "Back András",
                                    "EMAIL": "andras4@gmail.com",
                                    "SZAML_CIM": "3783 Edelény Fő út 169.",
                                    "SZUL_DAT": "1984-04-07",
                                    "kor": "40",
                                    "Átlagol": "40"
                                },
                                {
                                    "USERNEV": "edit",
                                    "NEV": "Bittmann Edit",
                                    "EMAIL": "edit.bittmann@mail.hu",
                                    "SZAML_CIM": "6077 Orgovány Fő utca 60.",
                                    "SZUL_DAT": "1984-04-20",
                                    "kor": "40",
                                    "Átlagol": "40"
                                },
                                {
                                    "USERNEV": "tamas",
                                    "NEV": "Antal Tamás",
                                    "EMAIL": "tamás.antal@mail.hu",
                                    "SZAML_CIM": "4440 Tiszavasvári Posta köz 2.",
                                    "SZUL_DAT": "1984-09-05",
                                    "kor": "40",
                                    "Átlagol": "40"
                                },
                                {
                                    "USERNEV": "JANOSP",
                                    "NEV": "Pálinkás János",
                                    "EMAIL": "JANOSP@gmail.com",
                                    "SZAML_CIM": "5920 Csorvás Padragi út 158.",
                                    "SZUL_DAT": "1984-10-12",
                                    "kor": "40",
                                    "Átlagol": "40"
                                },
                                {
                                    "USERNEV": "bernadett1",
                                    "NEV": "Simon Bernadett",
                                    "EMAIL": "bernadett1@gmail.com",
                                    "SZAML_CIM": "2300 Ráckeve Fő utca 108.",
                                    "SZUL_DAT": "1984-10-13",
                                    "kor": "40",
                                    "Átlagol": "39"
                                },
                                {
                                    "USERNEV": "balazs2",
                                    "NEV": "Szűcs Balázs",
                                    "EMAIL": "balázs.szűcs@mail.hu",
                                    "SZAML_CIM": "3170 Szécsény Szabadság utca 95.",
                                    "SZUL_DAT": "1984-10-31",
                                    "kor": "40",
                                    "Átlagol": "39"
                                },
                                {
                                    "USERNEV": "tibor2",
                                    "NEV": "Dániel Tibor",
                                    "EMAIL": "tibor2@gmail.com",
                                    "SZAML_CIM": "6646 Tömörkény Árpád utca 23.",
                                    "SZUL_DAT": "1985-02-02",
                                    "kor": "39",
                                    "Átlagol": "39"
                                },
                                {
                                    "USERNEV": "julia4",
                                    "NEV": "Nagy Júlia",
                                    "EMAIL": "julia4@gmail.com",
                                    "SZAML_CIM": "7000 Sárbogárd Jászai tér 21.",
                                    "SZUL_DAT": "1985-08-11",
                                    "kor": "39",
                                    "Átlagol": "39"
                                },
                                {
                                    "USERNEV": "peter4",
                                    "NEV": "Bíró Péter",
                                    "EMAIL": "péter.bíró@mail.hu",
                                    "SZAML_CIM": "5137 Jászkisér Rákóczi utca 67.",
                                    "SZUL_DAT": "1985-09-01",
                                    "kor": "39",
                                    "Átlagol": "39"
                                },
                                {
                                    "USERNEV": "jozsef",
                                    "NEV": "Gergely József",
                                    "EMAIL": "jozsef@gmail.com",
                                    "SZAML_CIM": "6050 Lajosmizse Fő út 18.",
                                    "SZUL_DAT": "1985-11-01",
                                    "kor": "39",
                                    "Átlagol": "39"
                                },
                                {
                                    "USERNEV": "ZOLTANT",
                                    "NEV": "Tóth Zoltán",
                                    "EMAIL": "zoltán.tóth@mail.hu",
                                    "SZAML_CIM": "4244 Újfehértó Posta köz 2.",
                                    "SZUL_DAT": "1985-12-14",
                                    "kor": "39",
                                    "Átlagol": "38"
                                },
                                {
                                    "USERNEV": "roland1",
                                    "NEV": "Ferencz Roland",
                                    "EMAIL": "roland.ferencz@mail.hu",
                                    "SZAML_CIM": "2424 Előszállás Fő út 169.",
                                    "SZUL_DAT": "1985-12-31",
                                    "kor": "39",
                                    "Átlagol": "38"
                                },
                                {
                                    "USERNEV": "valentin",
                                    "NEV": "Feró Valentin",
                                    "EMAIL": "valentin.feró@mail.hu",
                                    "SZAML_CIM": "3895 Gönc Búvár utca 4.",
                                    "SZUL_DAT": "1986-01-09",
                                    "kor": "38",
                                    "Átlagol": "38"
                                },
                                {
                                    "USERNEV": "katalin4",
                                    "NEV": "Kertész Katalin",
                                    "EMAIL": "katalin4@gmail.com",
                                    "SZAML_CIM": "2800 Tatabánya Búvár utca 4.",
                                    "SZUL_DAT": "1986-04-13",
                                    "kor": "38",
                                    "Átlagol": "38"
                                },
                                {
                                    "USERNEV": "ARPADM",
                                    "NEV": "Móricz Árpád",
                                    "EMAIL": "árpád.móricz@mail.hu",
                                    "SZAML_CIM": "3910 Tokaj Rákóczi utca 67.",
                                    "SZUL_DAT": "1986-04-20",
                                    "kor": "38",
                                    "Átlagol": "38"
                                },
                                {
                                    "USERNEV": "zoltan4",
                                    "NEV": "Barna Zoltán",
                                    "EMAIL": "zoltan4@gmail.com",
                                    "SZAML_CIM": "8313 Balatongyörök Jászai tér 21.",
                                    "SZUL_DAT": "1986-05-20",
                                    "kor": "38",
                                    "Átlagol": "38"
                                },
                                {
                                    "USERNEV": "istvan",
                                    "NEV": "Soós István",
                                    "EMAIL": "istvan@gmail.com",
                                    "SZAML_CIM": "2370 Dabas Kossuth utca 27.",
                                    "SZUL_DAT": "1986-06-28",
                                    "kor": "38",
                                    "Átlagol": "38"
                                },
                                {
                                    "USERNEV": "balazs3",
                                    "NEV": "Bakódy Balázs",
                                    "EMAIL": "balazs3@gmail.com",
                                    "SZAML_CIM": "2131 Göd Arany János utca 1.",
                                    "SZUL_DAT": "1986-09-09",
                                    "kor": "38",
                                    "Átlagol": "38"
                                },
                                {
                                    "USERNEV": "dani",
                                    "NEV": "Vörös Dániel",
                                    "EMAIL": "daniel@gmail.com",
                                    "SZAML_CIM": "7150 Bonyhád Dózsa György u. 1.",
                                    "SZUL_DAT": "1986-10-14",
                                    "kor": "38",
                                    "Átlagol": "38"
                                },
                                {
                                    "USERNEV": "ANDREAT",
                                    "NEV": "Tornyos Andrea",
                                    "EMAIL": "ANDREAT@gmail.com",
                                    "SZAML_CIM": "6131 Szank Bécsi utca 82.",
                                    "SZUL_DAT": "1986-11-14",
                                    "kor": "38",
                                    "Átlagol": "37"
                                },
                                {
                                    "USERNEV": "henrik3",
                                    "NEV": "Nádudvari Henrik",
                                    "EMAIL": "henrik.nádudvari@mail.hu",
                                    "SZAML_CIM": "1077 Budapest Tanácsköztársaság tér 1.",
                                    "SZUL_DAT": "1986-12-05",
                                    "kor": "38",
                                    "Átlagol": "37"
                                },
                                {
                                    "USERNEV": "gabor4",
                                    "NEV": "Telek Gábor",
                                    "EMAIL": "gábor.telek@mail.hu",
                                    "SZAML_CIM": "9071 Görbeháza Fő út 169.",
                                    "SZUL_DAT": "1987-03-15",
                                    "kor": "37",
                                    "Átlagol": "37"
                                },
                                {
                                    "USERNEV": "eszter",
                                    "NEV": "Molnár Eszter",
                                    "EMAIL": "eszter.molnár@mail.hu",
                                    "SZAML_CIM": "6800 Hódmezővásárhely Fő út 77.",
                                    "SZUL_DAT": "1987-05-10",
                                    "kor": "37",
                                    "Átlagol": "37"
                                },
                                {
                                    "USERNEV": "bence",
                                    "NEV": "Győrffy Bence",
                                    "EMAIL": "bence@gmail.com",
                                    "SZAML_CIM": "6900 Makó Árpád utca 23.",
                                    "SZUL_DAT": "1987-07-09",
                                    "kor": "37",
                                    "Átlagol": "37"
                                },
                                {
                                    "USERNEV": "KRISZTINAG",
                                    "NEV": "Gyárfás Krisztina",
                                    "EMAIL": "KRISZTINAG@gmail.com",
                                    "SZAML_CIM": "6762 Sándorfalva Arany János utca 1.",
                                    "SZUL_DAT": "1987-09-19",
                                    "kor": "37",
                                    "Átlagol": "36"
                                },
                                {
                                    "USERNEV": "BERNADETTO",
                                    "NEV": "Orbán Bernadett",
                                    "EMAIL": "bernadett.orbán@mail.hu",
                                    "SZAML_CIM": "5085 Rákóczifalva Arany János utca 1.",
                                    "SZUL_DAT": "1987-12-07",
                                    "kor": "37",
                                    "Átlagol": "36"
                                },
                                {
                                    "USERNEV": "RENATAK",
                                    "NEV": "Kardos Renáta",
                                    "EMAIL": "renáta.kardos@mail.hu",
                                    "SZAML_CIM": "7086 Ozora Bécsi utca 82.",
                                    "SZUL_DAT": "1988-05-17",
                                    "kor": "36",
                                    "Átlagol": "36"
                                },
                                {
                                    "USERNEV": "zsolt1",
                                    "NEV": "Pulai Zsolt",
                                    "EMAIL": "zsolt.pulai@mail.hu",
                                    "SZAML_CIM": "8391 Sármellék Fő utca 60.",
                                    "SZUL_DAT": "1988-05-27",
                                    "kor": "36",
                                    "Átlagol": "36"
                                },
                                {
                                    "USERNEV": "imre",
                                    "NEV": "Búza Imre",
                                    "EMAIL": "imre.búza@mail.hu",
                                    "SZAML_CIM": "9181 Kimle Petőfi Sándor tér 1.",
                                    "SZUL_DAT": "1988-09-30",
                                    "kor": "36",
                                    "Átlagol": "36"
                                },
                                {
                                    "USERNEV": "AGNESK",
                                    "NEV": "Kovács Ágnes",
                                    "EMAIL": "AGNESK@gmail.com",
                                    "SZAML_CIM": "1084 Budapest Endrődi Sándor utca 47.",
                                    "SZUL_DAT": "1988-10-02",
                                    "kor": "36",
                                    "Átlagol": "36"
                                },
                                {
                                    "USERNEV": "ANIKOS",
                                    "NEV": "Simon Anikó",
                                    "EMAIL": "ANIKOS@gmail.com",
                                    "SZAML_CIM": "5137 Jászkisér Bécsi utca 82.",
                                    "SZUL_DAT": "1988-12-14",
                                    "kor": "36",
                                    "Átlagol": "35"
                                },
                                {
                                    "USERNEV": "roza2",
                                    "NEV": "Bucskó Róza",
                                    "EMAIL": "roza2@gmail.com",
                                    "SZAML_CIM": "5661 Újkígyós Arany János utca 3.",
                                    "SZUL_DAT": "1988-12-26",
                                    "kor": "36",
                                    "Átlagol": "35"
                                },
                                {
                                    "USERNEV": "sandor3",
                                    "NEV": "Farkas Sándor",
                                    "EMAIL": "sándor.farkas@mail.hu",
                                    "SZAML_CIM": "8640 Fonyód Tanácsköztársaság tér 1.",
                                    "SZUL_DAT": "1989-01-27",
                                    "kor": "35",
                                    "Átlagol": "35"
                                },
                                {
                                    "USERNEV": "ISTVANV",
                                    "NEV": "Varga István",
                                    "EMAIL": "ISTVANV@gmail.com",
                                    "SZAML_CIM": "6320 Solt Hősök tere 11.",
                                    "SZUL_DAT": "1989-04-09",
                                    "kor": "35",
                                    "Átlagol": "35"
                                },
                                {
                                    "USERNEV": "VIKTORK",
                                    "NEV": "Keresztúri Viktor",
                                    "EMAIL": "viktor.keresztúri@mail.hu",
                                    "SZAML_CIM": "2532 Tokodaltáró Nagy Lajos tér 4.",
                                    "SZUL_DAT": "1989-05-05",
                                    "kor": "35",
                                    "Átlagol": "35"
                                },
                                {
                                    "USERNEV": "marton",
                                    "NEV": "Kalacsi Márton",
                                    "EMAIL": "marton@gmail.com",
                                    "SZAML_CIM": "5137 Jászkisér Fő út 169.",
                                    "SZUL_DAT": "1989-06-24",
                                    "kor": "35",
                                    "Átlagol": "35"
                                },
                                {
                                    "USERNEV": "ARONK",
                                    "NEV": "Kelemen Áron",
                                    "EMAIL": "áron.kelemen@mail.hu",
                                    "SZAML_CIM": "8200 Veszprém Petőfi utca 8.",
                                    "SZUL_DAT": "1989-08-10",
                                    "kor": "35",
                                    "Átlagol": "35"
                                },
                                {
                                    "USERNEV": "emese",
                                    "NEV": "Kuruc Emese",
                                    "EMAIL": "emese.kuruc@mail.hu",
                                    "SZAML_CIM": "6700 Szeged Rákóczi utca 67.",
                                    "SZUL_DAT": "1989-08-10",
                                    "kor": "35",
                                    "Átlagol": "34"
                                },
                                {
                                    "USERNEV": "balint1",
                                    "NEV": "Molnár Bálint",
                                    "EMAIL": "balint1@gmail.com",
                                    "SZAML_CIM": "9181 Kimle Fő út 169.",
                                    "SZUL_DAT": "1989-08-24",
                                    "kor": "35",
                                    "Átlagol": "34"
                                },
                                {
                                    "USERNEV": "annamaria1",
                                    "NEV": "Szűcs Annamária",
                                    "EMAIL": "annamária.szűcs@mail.hu",
                                    "SZAML_CIM": "1191 Budapest Rendeki utca 21.",
                                    "SZUL_DAT": "1990-04-27",
                                    "kor": "34",
                                    "Átlagol": "34"
                                },
                                {
                                    "USERNEV": "ARPADH",
                                    "NEV": "Horváth Árpád",
                                    "EMAIL": "árpád.horváth@mail.hu",
                                    "SZAML_CIM": "7349 Szászvár Dózsa György u. 1.",
                                    "SZUL_DAT": "1990-05-18",
                                    "kor": "34",
                                    "Átlagol": "34"
                                },
                                {
                                    "USERNEV": "GABORS",
                                    "NEV": "Szöllősi Gábor",
                                    "EMAIL": "GABORS@gmail.com",
                                    "SZAML_CIM": "3630 Putnok Kossuth utca 27.",
                                    "SZUL_DAT": "1990-05-31",
                                    "kor": "34",
                                    "Átlagol": "34"
                                },
                                {
                                    "USERNEV": "arpad2",
                                    "NEV": "Ötvös Árpád",
                                    "EMAIL": "árpád.ötvös@mail.hu",
                                    "SZAML_CIM": "2600 Vác Padragi út 158.",
                                    "SZUL_DAT": "1990-06-08",
                                    "kor": "34",
                                    "Átlagol": "34"
                                },
                                {
                                    "USERNEV": "szabolcs",
                                    "NEV": "Bodor Szabolcs",
                                    "EMAIL": "szabolcs.bodor@mail.hu",
                                    "SZAML_CIM": "6786 Ruzsa Ady Endre út 27.",
                                    "SZUL_DAT": "1990-07-16",
                                    "kor": "34",
                                    "Átlagol": "34"
                                },
                                {
                                    "USERNEV": "ilona3",
                                    "NEV": "Bosnyák Ilona",
                                    "EMAIL": "ilona3@gmail.com",
                                    "SZAML_CIM": "2483 Gárdony Posta köz 2.",
                                    "SZUL_DAT": "1990-08-06",
                                    "kor": "34",
                                    "Átlagol": "34"
                                },
                                {
                                    "USERNEV": "julianna4",
                                    "NEV": "Szabó Julianna",
                                    "EMAIL": "julianna4@gmail.com",
                                    "SZAML_CIM": "6700 Szeged Kossuth Lajos utca 6.",
                                    "SZUL_DAT": "1990-09-29",
                                    "kor": "34",
                                    "Átlagol": "33"
                                },
                                {
                                    "USERNEV": "david4",
                                    "NEV": "Berta Dávid",
                                    "EMAIL": "david4@gmail.com",
                                    "SZAML_CIM": "3500 Miskolc Balatoni út 12.",
                                    "SZUL_DAT": "1990-10-08",
                                    "kor": "34",
                                    "Átlagol": "33"
                                },
                                {
                                    "USERNEV": "RENATAS",
                                    "NEV": "Szirmai Renáta",
                                    "EMAIL": "RENATAS@gmail.com",
                                    "SZAML_CIM": "2053 Herceghalom Kossuth utca 27.",
                                    "SZUL_DAT": "1991-03-26",
                                    "kor": "33",
                                    "Átlagol": "33"
                                },
                                {
                                    "USERNEV": "brigitta3",
                                    "NEV": "Pataki Brigitta",
                                    "EMAIL": "brigitta.pataki@mail.hu",
                                    "SZAML_CIM": "2730 Albertirsa Rendeki utca 21.",
                                    "SZUL_DAT": "1991-05-23",
                                    "kor": "33",
                                    "Átlagol": "33"
                                },
                                {
                                    "USERNEV": "vivien3",
                                    "NEV": "Boros Vivien",
                                    "EMAIL": "vivien3@gmail.com",
                                    "SZAML_CIM": "2117 Isaszeg Fő út 122.",
                                    "SZUL_DAT": "1991-07-01",
                                    "kor": "33",
                                    "Átlagol": "33"
                                },
                                {
                                    "USERNEV": "tihamer",
                                    "NEV": "Kazy Tihamér",
                                    "EMAIL": "tihamér.kazy@mail.hu",
                                    "SZAML_CIM": "2370 Dabas Fő utca 60.",
                                    "SZUL_DAT": "1991-07-05",
                                    "kor": "33",
                                    "Átlagol": "33"
                                },
                                {
                                    "USERNEV": "norbert2",
                                    "NEV": "Hegedűs Norbert",
                                    "EMAIL": "norbert.hegedűs@mail.hu",
                                    "SZAML_CIM": "2081 Piliscsaba Rendeki utca 21.",
                                    "SZUL_DAT": "1991-07-17",
                                    "kor": "33",
                                    "Átlagol": "32"
                                },
                                {
                                    "USERNEV": "adam1",
                                    "NEV": "Kiss Ádám",
                                    "EMAIL": "ádám.kiss@mail.hu",
                                    "SZAML_CIM": "5630 Békés Szolnoki út 8.",
                                    "SZUL_DAT": "1991-12-28",
                                    "kor": "33",
                                    "Átlagol": "32"
                                },
                                {
                                    "USERNEV": "sebestyen",
                                    "NEV": "Rab Sebestyén",
                                    "EMAIL": "sebestyen@gmail.com",
                                    "SZAML_CIM": "7130 Tolna Központi telep 3.",
                                    "SZUL_DAT": "1992-03-03",
                                    "kor": "32",
                                    "Átlagol": "32"
                                },
                                {
                                    "USERNEV": "alexandra",
                                    "NEV": "Bagóczki Alexandra",
                                    "EMAIL": "alexandra.bagóczki@mail.hu",
                                    "SZAML_CIM": "2381 Táborfalva Petőfi utca 1/2.",
                                    "SZUL_DAT": "1992-03-25",
                                    "kor": "32",
                                    "Átlagol": "32"
                                },
                                {
                                    "USERNEV": "SEBASTIANF",
                                    "NEV": "Foltényi Sebastián",
                                    "EMAIL": "SEBASTIANF@gmail.com",
                                    "SZAML_CIM": "7960 Sellye Grassalkovich út 10.",
                                    "SZUL_DAT": "1992-09-09",
                                    "kor": "32",
                                    "Átlagol": "31"
                                },
                                {
                                    "USERNEV": "balazs1",
                                    "NEV": "Bozsik Balázs",
                                    "EMAIL": "balázs.bozsik@mail.hu",
                                    "SZAML_CIM": "2300 Ráckeve Bécsi utca 82.",
                                    "SZUL_DAT": "1992-11-03",
                                    "kor": "32",
                                    "Átlagol": "31"
                                },
                                {
                                    "USERNEV": "julia",
                                    "NEV": "Tóth Júlia",
                                    "EMAIL": "julia@gmail.com",
                                    "SZAML_CIM": "5310 Kisújszállás Árpád utca 4.",
                                    "SZUL_DAT": "1993-03-02",
                                    "kor": "31",
                                    "Átlagol": "31"
                                },
                                {
                                    "USERNEV": "andrea",
                                    "NEV": "Kiss Andrea",
                                    "EMAIL": "andrea.kiss@mail.hu",
                                    "SZAML_CIM": "1113 Budapest Petőfi Sándor utca 87.",
                                    "SZUL_DAT": "1993-03-25",
                                    "kor": "31",
                                    "Átlagol": "31"
                                },
                                {
                                    "USERNEV": "eszter4",
                                    "NEV": "Fülöp Eszter",
                                    "EMAIL": "eszter.fülöp@mail.hu",
                                    "SZAML_CIM": "3643 Dédestapolcsány Kossuth Lajos utca 47/b.",
                                    "SZUL_DAT": "1993-06-28",
                                    "kor": "31",
                                    "Átlagol": "31"
                                },
                                {
                                    "USERNEV": "rajmond4",
                                    "NEV": "Rácz Rajmond",
                                    "EMAIL": "rajmond.rácz@mail.hu",
                                    "SZAML_CIM": "9155 Lébény Petőfi utca 1/2.",
                                    "SZUL_DAT": "1993-09-25",
                                    "kor": "31",
                                    "Átlagol": "30"
                                },
                                {
                                    "USERNEV": "tibor",
                                    "NEV": "Gombos Tibor",
                                    "EMAIL": "tibor.gombos@mail.hu",
                                    "SZAML_CIM": "7100 Szekszárd Kossuth utca 77.",
                                    "SZUL_DAT": "1993-11-28",
                                    "kor": "31",
                                    "Átlagol": "30"
                                },
                                {
                                    "USERNEV": "polla",
                                    "NEV": "Palágyi Polla",
                                    "EMAIL": "polla@gmail.com",
                                    "SZAML_CIM": "2484 Agárd Fő út 18.",
                                    "SZUL_DAT": "1994-02-04",
                                    "kor": "30",
                                    "Átlagol": "30"
                                },
                                {
                                    "USERNEV": "beata4",
                                    "NEV": "Bagi Beáta",
                                    "EMAIL": "beáta.bagi@mail.hu",
                                    "SZAML_CIM": "8477 Tüskevár Felszabadulás utca 32.",
                                    "SZUL_DAT": "1994-03-19",
                                    "kor": "30",
                                    "Átlagol": "30"
                                },
                                {
                                    "USERNEV": "zsuzsanna",
                                    "NEV": "Barta Zsuzsanna",
                                    "EMAIL": "zsuzsanna.barta@mail.hu",
                                    "SZAML_CIM": "4172 Biharnagybajom Dózsa György utca 37.",
                                    "SZUL_DAT": "1994-10-07",
                                    "kor": "30",
                                    "Átlagol": "29"
                                },
                                {
                                    "USERNEV": "BELAF",
                                    "NEV": "Farkas Béla",
                                    "EMAIL": "BELAF@gmail.com",
                                    "SZAML_CIM": "5530 Vésztő Petőfi Sándor utca 3.",
                                    "SZUL_DAT": "1995-02-24",
                                    "kor": "29",
                                    "Átlagol": "29"
                                },
                                {
                                    "USERNEV": "kati",
                                    "NEV": "Zatykó Katalin",
                                    "EMAIL": "katalin.zatykó@mail.hu",
                                    "SZAML_CIM": "7511 Ötvöskónyi Kossuth Lajos utca 6.",
                                    "SZUL_DAT": "1995-05-01",
                                    "kor": "29",
                                    "Átlagol": "29"
                                },
                                {
                                    "USERNEV": "ATTILAO",
                                    "NEV": "Opra Attila",
                                    "EMAIL": "ATTILAO@gmail.com",
                                    "SZAML_CIM": "8283 Káptalantóti Rákóczi út 200.",
                                    "SZUL_DAT": "1995-05-08",
                                    "kor": "29",
                                    "Átlagol": "29"
                                },
                                {
                                    "USERNEV": "dora3",
                                    "NEV": "Sarodi Dóra",
                                    "EMAIL": "dóra.sarodi@mail.hu",
                                    "SZAML_CIM": "2855 Bokod Fő út 18.",
                                    "SZUL_DAT": "1995-05-18",
                                    "kor": "29",
                                    "Átlagol": "29"
                                },
                                {
                                    "USERNEV": "miklos2",
                                    "NEV": "Gondos Miklós",
                                    "EMAIL": "miklos2@gmail.com",
                                    "SZAML_CIM": "2100 Gödöllő Árpád utca 23.",
                                    "SZUL_DAT": "1995-10-07",
                                    "kor": "29",
                                    "Átlagol": "28"
                                },
                                {
                                    "USERNEV": "maria1",
                                    "NEV": "Baráth Mária",
                                    "EMAIL": "mária.baráth@mail.hu",
                                    "SZAML_CIM": "1047 Budapest Posta köz 2.",
                                    "SZUL_DAT": "1995-11-19",
                                    "kor": "29",
                                    "Átlagol": "28"
                                },
                                {
                                    "USERNEV": "timea",
                                    "NEV": "Papós Tímea",
                                    "EMAIL": "timea@gmail.com",
                                    "SZAML_CIM": "1035 Budapest  Kossuth út 77.",
                                    "SZUL_DAT": "1996-01-08",
                                    "kor": "28",
                                    "Átlagol": "28"
                                },
                                {
                                    "USERNEV": "mark",
                                    "NEV": "Kispál Márk",
                                    "EMAIL": "márk.kispál@mail.hu",
                                    "SZAML_CIM": "1086 Budapest Juhászföldi út 1.",
                                    "SZUL_DAT": "1996-01-23",
                                    "kor": "28",
                                    "Átlagol": "28"
                                },
                                {
                                    "USERNEV": "balint",
                                    "NEV": "Horváth Bálint",
                                    "EMAIL": "balint@gmail.com",
                                    "SZAML_CIM": "6646 Tömörkény Endrődi Sándor utca 47.",
                                    "SZUL_DAT": "1996-03-17",
                                    "kor": "28",
                                    "Átlagol": "28"
                                },
                                {
                                    "USERNEV": "VIKTORIAU",
                                    "NEV": "Urbán Viktoria",
                                    "EMAIL": "viktoria.urbán@mail.hu",
                                    "SZAML_CIM": "3860 Encs Népboltsor  2.",
                                    "SZUL_DAT": "1996-05-03",
                                    "kor": "28",
                                    "Átlagol": "28"
                                },
                                {
                                    "USERNEV": "andrea3",
                                    "NEV": "Szomor Andrea",
                                    "EMAIL": "andrea3@gmail.com",
                                    "SZAML_CIM": "7960 Sellye Bécsi utca 82.",
                                    "SZUL_DAT": "1996-05-10",
                                    "kor": "28",
                                    "Átlagol": "28"
                                },
                                {
                                    "USERNEV": "fruzsina4",
                                    "NEV": "Frank Fruzsina",
                                    "EMAIL": "fruzsina4@gmail.com",
                                    "SZAML_CIM": "9700 Szombathely Szabadság utca 95.",
                                    "SZUL_DAT": "1996-08-16",
                                    "kor": "28",
                                    "Átlagol": "27"
                                },
                                {
                                    "USERNEV": "bernadett2",
                                    "NEV": "Kovács Bernadett",
                                    "EMAIL": "bernadett.kovács@mail.hu",
                                    "SZAML_CIM": "4200 Hajdúszoboszló Fő út 122.",
                                    "SZUL_DAT": "1996-08-20",
                                    "kor": "28",
                                    "Átlagol": "27"
                                },
                                {
                                    "USERNEV": "lala",
                                    "NEV": "Nagymihály Lajos",
                                    "EMAIL": "lajos.nagymihály@mail.hu",
                                    "SZAML_CIM": "8638 Balatonlelle Rákóczi út 200.",
                                    "SZUL_DAT": "1997-02-24",
                                    "kor": "27",
                                    "Átlagol": "27"
                                },
                                {
                                    "USERNEV": "MATEK",
                                    "NEV": "Koza Máté",
                                    "EMAIL": "máté.koza@mail.hu",
                                    "SZAML_CIM": "1011 Budapest Központi telep 3.",
                                    "SZUL_DAT": "1997-02-28",
                                    "kor": "27",
                                    "Átlagol": "27"
                                },
                                {
                                    "USERNEV": "ANDRASE",
                                    "NEV": "Erdei András",
                                    "EMAIL": "ANDRASE@gmail.com",
                                    "SZAML_CIM": "5071 Besenyszög Szolnoki út 8.",
                                    "SZUL_DAT": "1997-05-29",
                                    "kor": "27",
                                    "Átlagol": "27"
                                },
                                {
                                    "USERNEV": "sandor4",
                                    "NEV": "Nagy Sándor",
                                    "EMAIL": "sandor4@gmail.com",
                                    "SZAML_CIM": "4600 Kisvárda Fő utca 47.",
                                    "SZUL_DAT": "1997-06-11",
                                    "kor": "27",
                                    "Átlagol": "27"
                                },
                                {
                                    "USERNEV": "JUDITH",
                                    "NEV": "Hídasi Judit",
                                    "EMAIL": "JUDITH@gmail.com",
                                    "SZAML_CIM": "2100 Gödöllő Fő út 169.",
                                    "SZUL_DAT": "1997-07-12",
                                    "kor": "27",
                                    "Átlagol": "27"
                                },
                                {
                                    "USERNEV": "balint2",
                                    "NEV": "Vukasinovity Bálint",
                                    "EMAIL": "balint2@gmail.com",
                                    "SZAML_CIM": "2330 Dunaharaszti Béke utca 7.",
                                    "SZUL_DAT": "1997-09-03",
                                    "kor": "27",
                                    "Átlagol": "27"
                                },
                                {
                                    "USERNEV": "MARKH",
                                    "NEV": "Horváth Márk",
                                    "EMAIL": "márk.horváth@mail.hu",
                                    "SZAML_CIM": "4400 Nyíregyháza Badacsonyi utca 12.",
                                    "SZUL_DAT": "1997-09-23",
                                    "kor": "27",
                                    "Átlagol": "27"
                                },
                                {
                                    "USERNEV": "NIKOLETTAT",
                                    "NEV": "Tatár Nikoletta",
                                    "EMAIL": "nikoletta.tatár@mail.hu",
                                    "SZAML_CIM": "1067 Budapest Győri utca 12.",
                                    "SZUL_DAT": "1997-10-19",
                                    "kor": "27",
                                    "Átlagol": "27"
                                },
                                {
                                    "USERNEV": "andras41",
                                    "NEV": "Komjáti András",
                                    "EMAIL": "andras41@gmail.com",
                                    "SZAML_CIM": "5065 Nagykörű Kossuth út 24.",
                                    "SZUL_DAT": "1997-10-25",
                                    "kor": "27",
                                    "Átlagol": "27"
                                },
                                {
                                    "USERNEV": "andras2",
                                    "NEV": "Tóth András",
                                    "EMAIL": "andrás.tóth@mail.hu",
                                    "SZAML_CIM": "4071 Egyek Petőfi utca 30.",
                                    "SZUL_DAT": "1997-10-31",
                                    "kor": "27",
                                    "Átlagol": "27"
                                },
                                {
                                    "USERNEV": "TAMASF",
                                    "NEV": "Fényes Tamás",
                                    "EMAIL": "TAMASF@gmail.com",
                                    "SZAML_CIM": "9023 Győr Arany János utca 1.",
                                    "SZUL_DAT": "1997-11-06",
                                    "kor": "27",
                                    "Átlagol": "26"
                                },
                                {
                                    "USERNEV": "istvan1",
                                    "NEV": "Vizi István",
                                    "EMAIL": "istván.vizi@mail.hu",
                                    "SZAML_CIM": "7086 Ozora Rákóczi utca 1.",
                                    "SZUL_DAT": "1997-12-01",
                                    "kor": "27",
                                    "Átlagol": "26"
                                },
                                {
                                    "USERNEV": "eszter2",
                                    "NEV": "Balogh Eszter",
                                    "EMAIL": "eszter.balogh@mail.hu",
                                    "SZAML_CIM": "6760 Kistelek Kossuth utca 11.",
                                    "SZUL_DAT": "1998-01-31",
                                    "kor": "26",
                                    "Átlagol": "26"
                                }
                            ]
                        },
                        "text/html": [
                            "<table>",
                            "<tr><th>USERNEV</th><th>NEV</th><th>EMAIL</th><th>SZAML_CIM</th><th>SZUL_DAT</th><th>kor</th><th>Átlagol</th></tr>",
                            "<tr><td>anett3</td><td>Pivarcsi Anett</td><td>anett.pivarcsi@mail.hu</td><td>1149 Budapest Fő út 60.</td><td>1967-01-03</td><td>57</td><td>57</td></tr>",
                            "<tr><td>gusztav</td><td>Bárci Gusztáv</td><td>gusztav@gmail.com</td><td>3643 Dédestapolcsány Endrődi Sándor utca 47.</td><td>1967-02-25</td><td>57</td><td>57</td></tr>",
                            "<tr><td>agnes3</td><td>Hartyánszky Ágnes</td><td>agnes3@gmail.com</td><td>6430 Bácsalmás Posta köz 2.</td><td>1967-04-11</td><td>57</td><td>57</td></tr>",
                            "<tr><td>eva</td><td>Enyedi Éva</td><td>eva@gmail.com</td><td>4231 Bököny Petőfi utca 8.</td><td>1967-06-30</td><td>57</td><td>57</td></tr>",
                            "<tr><td>ROBERTI</td><td>Iván Róbert</td><td>róbert.iván@mail.hu</td><td>2377 Örkény Petőfi Sándor utca 3.</td><td>1967-07-02</td><td>57</td><td>57</td></tr>",
                            "<tr><td>SZILARDS</td><td>Szalai Szilárd</td><td>szilárd.szalai@mail.hu</td><td>1077 Budapest Fő út 18.</td><td>1967-09-28</td><td>57</td><td>57</td></tr>",
                            "<tr><td>laszlo1</td><td>Farkas László</td><td>lászló.farkas@mail.hu</td><td>5200 Törökszentmiklós Rendeki utca 21.</td><td>1967-10-30</td><td>57</td><td>56</td></tr>",
                            "<tr><td>janos3</td><td>Harangozó János</td><td>janos3@gmail.com</td><td>8700 Marcali Petőfi Sándor tér 1.</td><td>1967-11-02</td><td>57</td><td>56</td></tr>",
                            "<tr><td>katalin</td><td>Horváth Katalin</td><td>katalin.horváth@mail.hu</td><td>2424 Előszállás Rákóczi út 200.</td><td>1968-01-01</td><td>56</td><td>56</td></tr>",
                            "<tr><td>pal</td><td>Barabás Pál</td><td>pál.barabás@mail.hu</td><td>1183 Budapest Szolnoki út 8.</td><td>1968-02-06</td><td>56</td><td>56</td></tr>",
                            "<tr><td>roland</td><td>Tóth Roland</td><td>roland@gmail.com</td><td>2000 Szentendre Fő út 169.</td><td>1968-03-21</td><td>56</td><td>56</td></tr>",
                            "<tr><td>andi</td><td>Maródi Andrea</td><td>andrea.maródi@mail.hu</td><td>5465 Cserkeszőlő Árpád utca 4.</td><td>1968-05-07</td><td>56</td><td>56</td></tr>",
                            "<tr><td>KRISZTIANM</td><td>Mogyródi Krisztián</td><td>KRISZTIANM@gmail.com</td><td>9155 Lébény Jászai tér 21.</td><td>1968-05-27</td><td>56</td><td>56</td></tr>",
                            "<tr><td>kata</td><td>Gondos Katalin</td><td>katalin.gondos@mail.hu</td><td>8237 Tihany Kossuth Lajos utca 6.</td><td>1968-06-22</td><td>56</td><td>55</td></tr>",
                            "<tr><td>NANDORF</td><td>Fő Nándor</td><td>nándor.fő@mail.hu</td><td>5920 Csorvás Bécsi utca 82.</td><td>1968-11-12</td><td>56</td><td>55</td></tr>",
                            "<tr><td>PETERB</td><td>Berendi Péter</td><td>péter.berendi@mail.hu</td><td>3980 Sátoraljaújhely Vasút utca 4/10.</td><td>1969-01-01</td><td>55</td><td>55</td></tr>",
                            "<tr><td>LASZLON</td><td>Nagy László</td><td>lászló.nagy@mail.hu</td><td>1173 Budapest Jászai tér 21.</td><td>1969-04-12</td><td>55</td><td>55</td></tr>",
                            "<tr><td>gabriella10</td><td>Vida Gabriella</td><td>gabriella10@gmail.com</td><td>2484 Agárd Arany János utca 3.</td><td>1969-06-18</td><td>55</td><td>55</td></tr>",
                            "<tr><td>LASZLOA</td><td>Antal László</td><td>lászló.antal@mail.hu</td><td>2484 Agárd Bécsi utca 82.</td><td>1969-06-29</td><td>55</td><td>55</td></tr>",
                            "<tr><td>daniel1</td><td>Keszler Dániel</td><td>dániel.keszler@mail.hu</td><td>3580 Tiszaújváros Kossuth Lajos utca 6.</td><td>1969-07-16</td><td>55</td><td>55</td></tr>",
                            "<tr><td>norbert</td><td>Szűcs Norbert</td><td>norbert@gmail.com</td><td>5071 Besenyszög Győri utca 12.</td><td>1969-07-17</td><td>55</td><td>55</td></tr>",
                            "<tr><td>krisztina1</td><td>Bori Krisztina</td><td>krisztina.bori@mail.hu</td><td>2115 Vácszentlászló Fő utca 47.</td><td>1969-10-13</td><td>55</td><td>54</td></tr>",
                            "<tr><td>reka4</td><td>Szikszai Réka</td><td>réka.szikszai@mail.hu</td><td>8254 Kővágóörs Templom utca 73.</td><td>1969-11-27</td><td>55</td><td>54</td></tr>",
                            "<tr><td>sandor</td><td>Karasz Sándor</td><td>sandor@gmail.com</td><td>8283 Káptalantóti Kossuth Lajos utca 1/a.</td><td>1970-01-27</td><td>54</td><td>54</td></tr>",
                            "<tr><td>adam3</td><td>Barkóci Ádám</td><td>adam3@gmail.com</td><td>3910 Tokaj Dózsa György utca 37.</td><td>1970-06-07</td><td>54</td><td>54</td></tr>",
                            "<tr><td>krisztian4</td><td>Czérna Krisztián</td><td>krisztián.czérna@mail.hu</td><td>1107 Budapest Dózsa György utca 37.</td><td>1970-08-01</td><td>54</td><td>53</td></tr>",
                            "<tr><td>david1</td><td>Sobják Dávid</td><td>david1@gmail.com</td><td>5083 Kengyel Arany János utca 3.</td><td>1970-08-16</td><td>54</td><td>53</td></tr>",
                            "<tr><td>szilvia1</td><td>Tari Szilvia</td><td>szilvia.tari@mail.hu</td><td>6080 Szabadszállás Bécsi utca 82.</td><td>1971-03-09</td><td>53</td><td>53</td></tr>",
                            "<tr><td>anita</td><td>Hamvay-Kovács Anita</td><td>anita.hamvay-kovács@mail.hu</td><td>7220 Sarkad Táncsics utca 19.</td><td>1971-03-20</td><td>53</td><td>53</td></tr>",
                            "<tr><td>andras3</td><td>Vígh András</td><td>andrás.vígh@mail.hu</td><td>1118 Budapest Arany János utca 1.</td><td>1971-04-02</td><td>53</td><td>53</td></tr>",
                            "<tr><td>aron2</td><td>Jakab Áron</td><td>aron2@gmail.com</td><td>7133 Fadd Bajcsy-Zsilinszky utca 4.</td><td>1971-04-26</td><td>53</td><td>52</td></tr>",
                            "<tr><td>eva2</td><td>Perlinger Éva</td><td>eva2@gmail.com</td><td>9653 Répcelak Bécsi utca 82.</td><td>1971-08-19</td><td>53</td><td>52</td></tr>",
                            "<tr><td>nikoletta4</td><td>Kő Nikoletta</td><td>nikoletta4@gmail.com</td><td>5537 Zsadány Fő út 18.</td><td>1972-01-10</td><td>52</td><td>52</td></tr>",
                            "<tr><td>BEATRIXK</td><td>Kerényi Beatrix</td><td>beatrix.kerényi@mail.hu</td><td>7396 Magyarszék Kossuth Lajos utca 47/b.</td><td>1972-04-06</td><td>52</td><td>52</td></tr>",
                            "<tr><td>ROBERTP</td><td>Pásztor Róbert</td><td>ROBERTP@gmail.com</td><td>5137 Jászkisér Ady Endre út 27.</td><td>1972-05-16</td><td>52</td><td>51</td></tr>",
                            "<tr><td>matyas2</td><td>Botka Mátyás</td><td>matyas2@gmail.com</td><td>2700 Cegléd Kossuth Lajos utca 6.</td><td>1972-07-07</td><td>52</td><td>51</td></tr>",
                            "<tr><td>sara</td><td>Farkas Sára</td><td>sára.farkas@mail.hu</td><td>5940 Tótkomlós Felszabadulás utca 32.</td><td>1973-04-05</td><td>51</td><td>51</td></tr>",
                            "<tr><td>aniko</td><td>Tóth Anikó</td><td>aniko@gmail.com</td><td>2085 Pilisvörösvár Deák Ferenc út 5.</td><td>1973-06-03</td><td>51</td><td>51</td></tr>",
                            "<tr><td>BENCEB</td><td>Bajusz Bence</td><td>bence.bajusz@mail.hu</td><td>8391 Sármellék Fő utca 56.</td><td>1973-06-21</td><td>51</td><td>50</td></tr>",
                            "<tr><td>gabor1</td><td>Köves Gábor</td><td>gabor1@gmail.com</td><td>6762 Sándorfalva Árpád utca 23.</td><td>1973-07-15</td><td>51</td><td>50</td></tr>",
                            "<tr><td>david</td><td>Ambrus Dávid</td><td>david@gmail.com</td><td>1149 Budapest Fő út 18.</td><td>1974-02-11</td><td>50</td><td>50</td></tr>",
                            "<tr><td>tunde</td><td>Turcsik Tünde</td><td>tunde@gmail.com</td><td>7130 Tolna Fő út 122.</td><td>1974-02-12</td><td>50</td><td>50</td></tr>",
                            "<tr><td>GYONGYIK</td><td>Kornseé Gyöngyi</td><td>gyöngyi.kornseé@mail.hu</td><td>8800 Nagykanizsa Fő út 60.</td><td>1974-06-07</td><td>50</td><td>49</td></tr>",
                            "<tr><td>MONIKAM</td><td>Mohos Mónika</td><td>mónika.mohos@mail.hu</td><td>2241 Sülysáp Baracsi László utca 14.</td><td>1974-10-01</td><td>50</td><td>49</td></tr>",
                            "<tr><td>JANOSG</td><td>Giliga János</td><td>JANOSG@gmail.com</td><td>3300 Eger Deák Ferenc út 5.</td><td>1975-01-03</td><td>49</td><td>49</td></tr>",
                            "<tr><td>laszlo2</td><td>Móra László</td><td>lászló.móra@mail.hu</td><td>9970 Szentgotthárd Petőfi utca 1/2.</td><td>1975-02-19</td><td>49</td><td>49</td></tr>",
                            "<tr><td>denes</td><td>Tömböly Dénes</td><td>denes@gmail.com</td><td>2400 Dunaújváros Kossuth út 39.</td><td>1975-03-14</td><td>49</td><td>49</td></tr>",
                            "<tr><td>MATYASS</td><td>Szilágyi Mátyás</td><td>mátyás.szilágyi@mail.hu</td><td>9023 Győr Kossuth Lajos utca 6.</td><td>1975-03-22</td><td>49</td><td>49</td></tr>",
                            "<tr><td>katka</td><td>Kovács Katalin</td><td>katalin.kovács@mail.hu</td><td>8254 Kővágóörs Petőfi utca 22.</td><td>1975-03-31</td><td>49</td><td>49</td></tr>",
                            "<tr><td>JOZSEFG</td><td>Gyuris József</td><td>józsef.gyuris@mail.hu</td><td>2660 Balassagyarmat Petőfi utca 1/2.</td><td>1975-05-26</td><td>49</td><td>49</td></tr>",
                            "<tr><td>norbert5</td><td>Béres Norbert</td><td>norbert5@gmail.com</td><td>8640 Fonyód Bajcsy-Zsilinszky utca 4.</td><td>1975-07-27</td><td>49</td><td>49</td></tr>",
                            "<tr><td>timea2</td><td>Dusha Tímea</td><td>tímea.dusha@mail.hu</td><td>5920 Csorvás Kossuth utca 8.</td><td>1975-08-22</td><td>49</td><td>49</td></tr>",
                            "<tr><td>kornel4</td><td>Lukács Kornél</td><td>kornél.lukács@mail.hu</td><td>2053 Herceghalom Bécsi utca 82.</td><td>1975-09-30</td><td>49</td><td>48</td></tr>",
                            "<tr><td>attila4</td><td>Baróti Attila</td><td>attila.baróti@mail.hu</td><td>7149 Báta Arany János utca 3.</td><td>1975-11-06</td><td>49</td><td>48</td></tr>",
                            "<tr><td>peter2</td><td>Bozsó Péter</td><td>peter2@gmail.com</td><td>4800 Vásárosnamény Zombori út 2/A</td><td>1976-01-26</td><td>48</td><td>48</td></tr>",
                            "<tr><td>peter1</td><td>Kozma Péter</td><td>peter1@gmail.com</td><td>6913 Csanádpalota Központi telep 3.</td><td>1976-03-18</td><td>48</td><td>48</td></tr>",
                            "<tr><td>imre1</td><td>Papp Imre</td><td>imre.papp@mail.hu</td><td>1077 Budapest Szolnoki út 8.</td><td>1976-06-25</td><td>48</td><td>48</td></tr>",
                            "<tr><td>adam4</td><td>Bieniek Ádám</td><td>ádám.bieniek@mail.hu</td><td>8630 Balatonboglár Juhászföldi út 1.</td><td>1976-08-01</td><td>48</td><td>48</td></tr>",
                            "<tr><td>balu</td><td>Endresz Bálint</td><td>bálint.endresz@mail.hu</td><td>3973 Cigánd Fő út 169.</td><td>1976-08-01</td><td>48</td><td>48</td></tr>",
                            "<tr><td>debora</td><td>Barna Debóra</td><td>debóra.barna@mail.hu</td><td>1155 Budapest Fő út 169.</td><td>1976-10-14</td><td>48</td><td>47</td></tr>",
                            "<tr><td>ZSUZSAV</td><td>Vajda Zsuzsa</td><td>zsuzsa.vajda@mail.hu</td><td>6786 Ruzsa Kossuth utca 77.</td><td>1976-12-11</td><td>48</td><td>47</td></tr>",
                            "<tr><td>robert2</td><td>Patay Róbert</td><td>robert2@gmail.com</td><td>2370 Dabas Rákóczi utca 21.</td><td>1977-01-08</td><td>47</td><td>47</td></tr>",
                            "<tr><td>ZOLTANP</td><td>Pintér Zoltán</td><td>zoltán.pintér@mail.hu</td><td>6050 Lajosmizse Fő út 18.</td><td>1977-06-07</td><td>47</td><td>47</td></tr>",
                            "<tr><td>ANNAMARIAR</td><td>Regős Annamária</td><td>ANNAMARIAR@gmail.com</td><td>8283 Káptalantóti Petőfi Sándor tér 1.</td><td>1977-09-26</td><td>47</td><td>47</td></tr>",
                            "<tr><td>bertalan</td><td>Csiger Bertalan</td><td>bertalan@gmail.com</td><td>1192 Budapest Fő út 169.</td><td>1977-10-15</td><td>47</td><td>46</td></tr>",
                            "<tr><td>andras21</td><td>Molnár András</td><td>andrás.molnár@mail.hu</td><td>7900 Szigetvár Rákóczi utca 67.</td><td>1977-11-16</td><td>47</td><td>46</td></tr>",
                            "<tr><td>aniko4</td><td>Böröcz Anikó</td><td>aniko4@gmail.com</td><td>2484 Agárd Petőfi Sándor tér 1.</td><td>1978-03-26</td><td>46</td><td>46</td></tr>",
                            "<tr><td>kriszti</td><td>Horváth Krisztina</td><td>kriszti@gmail.com</td><td>6060 Tiszakécske Árpád utca 4.</td><td>1978-06-12</td><td>46</td><td>46</td></tr>",
                            "<tr><td>ESZTERE</td><td>Érsek Eszter</td><td>eszter.érsek@mail.hu</td><td>6785 Pusztamérges Kossuth Lajos utca 6.</td><td>1978-08-28</td><td>46</td><td>46</td></tr>",
                            "<tr><td>jozsef2</td><td>Vajda József</td><td>józsef.vajda@mail.hu</td><td>6700 Szeged Baracsi László utca 14.</td><td>1978-09-04</td><td>46</td><td>46</td></tr>",
                            "<tr><td>brigitta</td><td>Székely Brigitta</td><td>brigitta.székely@mail.hu</td><td>2462 Martonvásár Fő utca 47.</td><td>1978-09-13</td><td>46</td><td>46</td></tr>",
                            "<tr><td>lajos</td><td>Kiss Lajos</td><td>lajos.kiss@mail.hu</td><td>1077 Budapest Dob utca 1</td><td>1978-10-31</td><td>46</td><td>45</td></tr>",
                            "<tr><td>daniel</td><td>Rácz Dániel</td><td>dániel.rácz@mail.hu</td><td>9181 Kimle Szabadság tér 9.</td><td>1978-11-28</td><td>46</td><td>45</td></tr>",
                            "<tr><td>MIKLOSB</td><td>Balla Miklós</td><td>miklós.balla@mail.hu</td><td>4060 Balmazújváros Szent István utca 2.</td><td>1979-02-16</td><td>45</td><td>45</td></tr>",
                            "<tr><td>zsuzsa3</td><td>Varsányi Zsuzsa</td><td>zsuzsa.varsányi@mail.hu</td><td>8600 Siófok Árpád utca 4.</td><td>1979-03-06</td><td>45</td><td>45</td></tr>",
                            "<tr><td>krisztina</td><td>Szedlár Krisztina</td><td>krisztina@gmail.com</td><td>6646 Tömörkény Arany János utca 1.</td><td>1979-05-10</td><td>45</td><td>45</td></tr>",
                            "<tr><td>MIHALYJ</td><td>Juhász Mihály</td><td>mihály.juhász@mail.hu</td><td>6786 Ruzsa Rákóczi utca 1.</td><td>1979-10-12</td><td>45</td><td>45</td></tr>",
                            "<tr><td>zoltan</td><td>Fodor Zoltán</td><td>zoltán.fodor@mail.hu</td><td>3441 Mezőkeresztes Fő utca 23.</td><td>1979-11-25</td><td>45</td><td>45</td></tr>",
                            "<tr><td>agnes</td><td>Lengyel Ágnes</td><td>agnes@gmail.com</td><td>5200 Törökszentmiklós Deák Ferenc út 5.</td><td>1979-12-10</td><td>45</td><td>44</td></tr>",
                            "<tr><td>attila</td><td>Csóti Attila</td><td>attila@gmail.com</td><td>3000 Hatvan Bajcsy-Zsilinszky utca 4.</td><td>1979-12-25</td><td>45</td><td>44</td></tr>",
                            "<tr><td>GYORGYO</td><td>Oroszi György</td><td>GYORGYO@gmail.com</td><td>7220 Sarkad Dózsa György u. 1.</td><td>1980-03-23</td><td>44</td><td>44</td></tr>",
                            "<tr><td>SZABOLCSM</td><td>Miklós Szabolcs</td><td>szabolcs.miklós@mail.hu</td><td>1102 Budapest Fő út 169.</td><td>1980-08-11</td><td>44</td><td>44</td></tr>",
                            "<tr><td>tamara2</td><td>Miklós Tamara</td><td>tamara.miklós@mail.hu</td><td>3910 Tokaj Kossuth út 39.</td><td>1980-08-11</td><td>44</td><td>44</td></tr>",
                            "<tr><td>ANDRASN</td><td>Nagy András</td><td>andrás.nagy@mail.hu</td><td>6500 Baja Fő út 169.</td><td>1980-09-05</td><td>44</td><td>44</td></tr>",
                            "<tr><td>zsuzsa</td><td>Pusztai Zsuzsanna</td><td>zsuzsanna@gmail.com</td><td>6783 Ásotthalom Badacsonyi utca 12.</td><td>1980-09-17</td><td>44</td><td>44</td></tr>",
                            "<tr><td>aladar</td><td>Dunai Aladár</td><td>aladár.dunai@mail.hu</td><td>5931 Nagyszénás Árpád utca 23.</td><td>1980-11-01</td><td>44</td><td>43</td></tr>",
                            "<tr><td>EVAV</td><td>Viktor Éva</td><td>EVAV@gmail.com</td><td>6913 Csanádpalota Arany János utca 3.</td><td>1980-12-26</td><td>44</td><td>43</td></tr>",
                            "<tr><td>BEATRIXS</td><td>Szekendi Beatrix</td><td>beatrix.szekendi@mail.hu</td><td>4060 Balmazújváros Jászai tér 21.</td><td>1981-04-06</td><td>43</td><td>43</td></tr>",
                            "<tr><td>andrea4</td><td>Neizer Andrea</td><td>andrea4@gmail.com</td><td>1124 Budapest Kiss u. 8.</td><td>1981-05-17</td><td>43</td><td>43</td></tr>",
                            "<tr><td>nikolett3</td><td>Horváth Nikolett</td><td>nikolett3@gmail.com</td><td>1072 Budapest Arany János utca 1.</td><td>1981-09-29</td><td>43</td><td>42</td></tr>",
                            "<tr><td>AGNESH</td><td>Horváth Ágnes</td><td>AGNESH@gmail.com</td><td>8200 Veszprém Rákóczi utca 21.</td><td>1981-12-24</td><td>43</td><td>42</td></tr>",
                            "<tr><td>klaudia2</td><td>Bakó Klaudia</td><td>klaudia.bakó@mail.hu</td><td>8254 Kővágóörs Kossuth Lajos utca 6.</td><td>1982-04-16</td><td>42</td><td>42</td></tr>",
                            "<tr><td>akos</td><td>Bíró Ákos</td><td>ákos.bíró@mail.hu</td><td>9023 Győr Kossuth Lajos utca 47/b.</td><td>1982-04-24</td><td>42</td><td>42</td></tr>",
                            "<tr><td>attila1</td><td>Gulyás Attila</td><td>attila.gulyás@mail.hu</td><td>3881 Abaújszántó Szolnoki út 8.</td><td>1982-08-16</td><td>42</td><td>41</td></tr>",
                            "<tr><td>gabriella1</td><td>Nagy Gabriella</td><td>gabriella1@gmail.com</td><td>1077 Budapest Dob utca 1</td><td>1982-11-01</td><td>42</td><td>41</td></tr>",
                            "<tr><td>georgij</td><td>Nyíri Georgij</td><td>georgij.nyíri@mail.hu</td><td>8391 Sármellék Grassalkovich út 10.</td><td>1983-02-23</td><td>41</td><td>41</td></tr>",
                            "<tr><td>norbert4</td><td>Mile Norbert</td><td>norbert4@gmail.com</td><td>3973 Cigánd Bajcsy-Zsilinszky utca 4.</td><td>1983-06-15</td><td>41</td><td>41</td></tr>",
                            "<tr><td>peter3</td><td>Szalai Péter</td><td>peter3@gmail.com</td><td>1155 Budapest Arany János utca 3.</td><td>1983-07-18</td><td>41</td><td>41</td></tr>",
                            "<tr><td>veronika4</td><td>Tankó Veronika</td><td>veronika4@gmail.com</td><td>6412 Balotaszállás Rendeki utca 21.</td><td>1983-08-28</td><td>41</td><td>41</td></tr>",
                            "<tr><td>ZSOLTJ</td><td>Józsa Zsolt</td><td>ZSOLTJ@gmail.com</td><td>8315 Gyenesdiás Bajcsy-Zsilinszky utca 4.</td><td>1983-09-29</td><td>41</td><td>41</td></tr>",
                            "<tr><td>ferenc1</td><td>Orosz Ferenc</td><td>ferenc.orosz@mail.hu</td><td>5061 Tiszasüly Arany János utca 3.</td><td>1983-10-08</td><td>41</td><td>41</td></tr>",
                            "<tr><td>zsofi1</td><td>Molnár Zsófi</td><td>zsofi1@gmail.com</td><td>2730 Albertirsa Árpád utca 23.</td><td>1983-11-17</td><td>41</td><td>40</td></tr>",
                            "<tr><td>IBOLYAA</td><td>Andor Ibolya</td><td>ibolya.andor@mail.hu</td><td>9023 Győr Posta köz 2.</td><td>1983-11-27</td><td>41</td><td>40</td></tr>",
                            "<tr><td>kristof4</td><td>Poprádi Kristóf</td><td>kristof4@gmail.com</td><td>8220 Balatonalmádi Mészáros utca 7.</td><td>1984-01-15</td><td>40</td><td>40</td></tr>",
                            "<tr><td>csongor3</td><td>Nagymihály Csongor</td><td>csongor.nagymihály@mail.hu</td><td>9181 Kimle Deák Ferenc út 5.</td><td>1984-03-05</td><td>40</td><td>40</td></tr>",
                            "<tr><td>andras4</td><td>Back András</td><td>andras4@gmail.com</td><td>3783 Edelény Fő út 169.</td><td>1984-04-07</td><td>40</td><td>40</td></tr>",
                            "<tr><td>edit</td><td>Bittmann Edit</td><td>edit.bittmann@mail.hu</td><td>6077 Orgovány Fő utca 60.</td><td>1984-04-20</td><td>40</td><td>40</td></tr>",
                            "<tr><td>tamas</td><td>Antal Tamás</td><td>tamás.antal@mail.hu</td><td>4440 Tiszavasvári Posta köz 2.</td><td>1984-09-05</td><td>40</td><td>40</td></tr>",
                            "<tr><td>JANOSP</td><td>Pálinkás János</td><td>JANOSP@gmail.com</td><td>5920 Csorvás Padragi út 158.</td><td>1984-10-12</td><td>40</td><td>40</td></tr>",
                            "<tr><td>bernadett1</td><td>Simon Bernadett</td><td>bernadett1@gmail.com</td><td>2300 Ráckeve Fő utca 108.</td><td>1984-10-13</td><td>40</td><td>39</td></tr>",
                            "<tr><td>balazs2</td><td>Szűcs Balázs</td><td>balázs.szűcs@mail.hu</td><td>3170 Szécsény Szabadság utca 95.</td><td>1984-10-31</td><td>40</td><td>39</td></tr>",
                            "<tr><td>tibor2</td><td>Dániel Tibor</td><td>tibor2@gmail.com</td><td>6646 Tömörkény Árpád utca 23.</td><td>1985-02-02</td><td>39</td><td>39</td></tr>",
                            "<tr><td>julia4</td><td>Nagy Júlia</td><td>julia4@gmail.com</td><td>7000 Sárbogárd Jászai tér 21.</td><td>1985-08-11</td><td>39</td><td>39</td></tr>",
                            "<tr><td>peter4</td><td>Bíró Péter</td><td>péter.bíró@mail.hu</td><td>5137 Jászkisér Rákóczi utca 67.</td><td>1985-09-01</td><td>39</td><td>39</td></tr>",
                            "<tr><td>jozsef</td><td>Gergely József</td><td>jozsef@gmail.com</td><td>6050 Lajosmizse Fő út 18.</td><td>1985-11-01</td><td>39</td><td>39</td></tr>",
                            "<tr><td>ZOLTANT</td><td>Tóth Zoltán</td><td>zoltán.tóth@mail.hu</td><td>4244 Újfehértó Posta köz 2.</td><td>1985-12-14</td><td>39</td><td>38</td></tr>",
                            "<tr><td>roland1</td><td>Ferencz Roland</td><td>roland.ferencz@mail.hu</td><td>2424 Előszállás Fő út 169.</td><td>1985-12-31</td><td>39</td><td>38</td></tr>",
                            "<tr><td>valentin</td><td>Feró Valentin</td><td>valentin.feró@mail.hu</td><td>3895 Gönc Búvár utca 4.</td><td>1986-01-09</td><td>38</td><td>38</td></tr>",
                            "<tr><td>katalin4</td><td>Kertész Katalin</td><td>katalin4@gmail.com</td><td>2800 Tatabánya Búvár utca 4.</td><td>1986-04-13</td><td>38</td><td>38</td></tr>",
                            "<tr><td>ARPADM</td><td>Móricz Árpád</td><td>árpád.móricz@mail.hu</td><td>3910 Tokaj Rákóczi utca 67.</td><td>1986-04-20</td><td>38</td><td>38</td></tr>",
                            "<tr><td>zoltan4</td><td>Barna Zoltán</td><td>zoltan4@gmail.com</td><td>8313 Balatongyörök Jászai tér 21.</td><td>1986-05-20</td><td>38</td><td>38</td></tr>",
                            "<tr><td>istvan</td><td>Soós István</td><td>istvan@gmail.com</td><td>2370 Dabas Kossuth utca 27.</td><td>1986-06-28</td><td>38</td><td>38</td></tr>",
                            "<tr><td>balazs3</td><td>Bakódy Balázs</td><td>balazs3@gmail.com</td><td>2131 Göd Arany János utca 1.</td><td>1986-09-09</td><td>38</td><td>38</td></tr>",
                            "<tr><td>dani</td><td>Vörös Dániel</td><td>daniel@gmail.com</td><td>7150 Bonyhád Dózsa György u. 1.</td><td>1986-10-14</td><td>38</td><td>38</td></tr>",
                            "<tr><td>ANDREAT</td><td>Tornyos Andrea</td><td>ANDREAT@gmail.com</td><td>6131 Szank Bécsi utca 82.</td><td>1986-11-14</td><td>38</td><td>37</td></tr>",
                            "<tr><td>henrik3</td><td>Nádudvari Henrik</td><td>henrik.nádudvari@mail.hu</td><td>1077 Budapest Tanácsköztársaság tér 1.</td><td>1986-12-05</td><td>38</td><td>37</td></tr>",
                            "<tr><td>gabor4</td><td>Telek Gábor</td><td>gábor.telek@mail.hu</td><td>9071 Görbeháza Fő út 169.</td><td>1987-03-15</td><td>37</td><td>37</td></tr>",
                            "<tr><td>eszter</td><td>Molnár Eszter</td><td>eszter.molnár@mail.hu</td><td>6800 Hódmezővásárhely Fő út 77.</td><td>1987-05-10</td><td>37</td><td>37</td></tr>",
                            "<tr><td>bence</td><td>Győrffy Bence</td><td>bence@gmail.com</td><td>6900 Makó Árpád utca 23.</td><td>1987-07-09</td><td>37</td><td>37</td></tr>",
                            "<tr><td>KRISZTINAG</td><td>Gyárfás Krisztina</td><td>KRISZTINAG@gmail.com</td><td>6762 Sándorfalva Arany János utca 1.</td><td>1987-09-19</td><td>37</td><td>36</td></tr>",
                            "<tr><td>BERNADETTO</td><td>Orbán Bernadett</td><td>bernadett.orbán@mail.hu</td><td>5085 Rákóczifalva Arany János utca 1.</td><td>1987-12-07</td><td>37</td><td>36</td></tr>",
                            "<tr><td>RENATAK</td><td>Kardos Renáta</td><td>renáta.kardos@mail.hu</td><td>7086 Ozora Bécsi utca 82.</td><td>1988-05-17</td><td>36</td><td>36</td></tr>",
                            "<tr><td>zsolt1</td><td>Pulai Zsolt</td><td>zsolt.pulai@mail.hu</td><td>8391 Sármellék Fő utca 60.</td><td>1988-05-27</td><td>36</td><td>36</td></tr>",
                            "<tr><td>imre</td><td>Búza Imre</td><td>imre.búza@mail.hu</td><td>9181 Kimle Petőfi Sándor tér 1.</td><td>1988-09-30</td><td>36</td><td>36</td></tr>",
                            "<tr><td>AGNESK</td><td>Kovács Ágnes</td><td>AGNESK@gmail.com</td><td>1084 Budapest Endrődi Sándor utca 47.</td><td>1988-10-02</td><td>36</td><td>36</td></tr>",
                            "<tr><td>ANIKOS</td><td>Simon Anikó</td><td>ANIKOS@gmail.com</td><td>5137 Jászkisér Bécsi utca 82.</td><td>1988-12-14</td><td>36</td><td>35</td></tr>",
                            "<tr><td>roza2</td><td>Bucskó Róza</td><td>roza2@gmail.com</td><td>5661 Újkígyós Arany János utca 3.</td><td>1988-12-26</td><td>36</td><td>35</td></tr>",
                            "<tr><td>sandor3</td><td>Farkas Sándor</td><td>sándor.farkas@mail.hu</td><td>8640 Fonyód Tanácsköztársaság tér 1.</td><td>1989-01-27</td><td>35</td><td>35</td></tr>",
                            "<tr><td>ISTVANV</td><td>Varga István</td><td>ISTVANV@gmail.com</td><td>6320 Solt Hősök tere 11.</td><td>1989-04-09</td><td>35</td><td>35</td></tr>",
                            "<tr><td>VIKTORK</td><td>Keresztúri Viktor</td><td>viktor.keresztúri@mail.hu</td><td>2532 Tokodaltáró Nagy Lajos tér 4.</td><td>1989-05-05</td><td>35</td><td>35</td></tr>",
                            "<tr><td>marton</td><td>Kalacsi Márton</td><td>marton@gmail.com</td><td>5137 Jászkisér Fő út 169.</td><td>1989-06-24</td><td>35</td><td>35</td></tr>",
                            "<tr><td>ARONK</td><td>Kelemen Áron</td><td>áron.kelemen@mail.hu</td><td>8200 Veszprém Petőfi utca 8.</td><td>1989-08-10</td><td>35</td><td>35</td></tr>",
                            "<tr><td>emese</td><td>Kuruc Emese</td><td>emese.kuruc@mail.hu</td><td>6700 Szeged Rákóczi utca 67.</td><td>1989-08-10</td><td>35</td><td>34</td></tr>",
                            "<tr><td>balint1</td><td>Molnár Bálint</td><td>balint1@gmail.com</td><td>9181 Kimle Fő út 169.</td><td>1989-08-24</td><td>35</td><td>34</td></tr>",
                            "<tr><td>annamaria1</td><td>Szűcs Annamária</td><td>annamária.szűcs@mail.hu</td><td>1191 Budapest Rendeki utca 21.</td><td>1990-04-27</td><td>34</td><td>34</td></tr>",
                            "<tr><td>ARPADH</td><td>Horváth Árpád</td><td>árpád.horváth@mail.hu</td><td>7349 Szászvár Dózsa György u. 1.</td><td>1990-05-18</td><td>34</td><td>34</td></tr>",
                            "<tr><td>GABORS</td><td>Szöllősi Gábor</td><td>GABORS@gmail.com</td><td>3630 Putnok Kossuth utca 27.</td><td>1990-05-31</td><td>34</td><td>34</td></tr>",
                            "<tr><td>arpad2</td><td>Ötvös Árpád</td><td>árpád.ötvös@mail.hu</td><td>2600 Vác Padragi út 158.</td><td>1990-06-08</td><td>34</td><td>34</td></tr>",
                            "<tr><td>szabolcs</td><td>Bodor Szabolcs</td><td>szabolcs.bodor@mail.hu</td><td>6786 Ruzsa Ady Endre út 27.</td><td>1990-07-16</td><td>34</td><td>34</td></tr>",
                            "<tr><td>ilona3</td><td>Bosnyák Ilona</td><td>ilona3@gmail.com</td><td>2483 Gárdony Posta köz 2.</td><td>1990-08-06</td><td>34</td><td>34</td></tr>",
                            "<tr><td>julianna4</td><td>Szabó Julianna</td><td>julianna4@gmail.com</td><td>6700 Szeged Kossuth Lajos utca 6.</td><td>1990-09-29</td><td>34</td><td>33</td></tr>",
                            "<tr><td>david4</td><td>Berta Dávid</td><td>david4@gmail.com</td><td>3500 Miskolc Balatoni út 12.</td><td>1990-10-08</td><td>34</td><td>33</td></tr>",
                            "<tr><td>RENATAS</td><td>Szirmai Renáta</td><td>RENATAS@gmail.com</td><td>2053 Herceghalom Kossuth utca 27.</td><td>1991-03-26</td><td>33</td><td>33</td></tr>",
                            "<tr><td>brigitta3</td><td>Pataki Brigitta</td><td>brigitta.pataki@mail.hu</td><td>2730 Albertirsa Rendeki utca 21.</td><td>1991-05-23</td><td>33</td><td>33</td></tr>",
                            "<tr><td>vivien3</td><td>Boros Vivien</td><td>vivien3@gmail.com</td><td>2117 Isaszeg Fő út 122.</td><td>1991-07-01</td><td>33</td><td>33</td></tr>",
                            "<tr><td>tihamer</td><td>Kazy Tihamér</td><td>tihamér.kazy@mail.hu</td><td>2370 Dabas Fő utca 60.</td><td>1991-07-05</td><td>33</td><td>33</td></tr>",
                            "<tr><td>norbert2</td><td>Hegedűs Norbert</td><td>norbert.hegedűs@mail.hu</td><td>2081 Piliscsaba Rendeki utca 21.</td><td>1991-07-17</td><td>33</td><td>32</td></tr>",
                            "<tr><td>adam1</td><td>Kiss Ádám</td><td>ádám.kiss@mail.hu</td><td>5630 Békés Szolnoki út 8.</td><td>1991-12-28</td><td>33</td><td>32</td></tr>",
                            "<tr><td>sebestyen</td><td>Rab Sebestyén</td><td>sebestyen@gmail.com</td><td>7130 Tolna Központi telep 3.</td><td>1992-03-03</td><td>32</td><td>32</td></tr>",
                            "<tr><td>alexandra</td><td>Bagóczki Alexandra</td><td>alexandra.bagóczki@mail.hu</td><td>2381 Táborfalva Petőfi utca 1/2.</td><td>1992-03-25</td><td>32</td><td>32</td></tr>",
                            "<tr><td>SEBASTIANF</td><td>Foltényi Sebastián</td><td>SEBASTIANF@gmail.com</td><td>7960 Sellye Grassalkovich út 10.</td><td>1992-09-09</td><td>32</td><td>31</td></tr>",
                            "<tr><td>balazs1</td><td>Bozsik Balázs</td><td>balázs.bozsik@mail.hu</td><td>2300 Ráckeve Bécsi utca 82.</td><td>1992-11-03</td><td>32</td><td>31</td></tr>",
                            "<tr><td>julia</td><td>Tóth Júlia</td><td>julia@gmail.com</td><td>5310 Kisújszállás Árpád utca 4.</td><td>1993-03-02</td><td>31</td><td>31</td></tr>",
                            "<tr><td>andrea</td><td>Kiss Andrea</td><td>andrea.kiss@mail.hu</td><td>1113 Budapest Petőfi Sándor utca 87.</td><td>1993-03-25</td><td>31</td><td>31</td></tr>",
                            "<tr><td>eszter4</td><td>Fülöp Eszter</td><td>eszter.fülöp@mail.hu</td><td>3643 Dédestapolcsány Kossuth Lajos utca 47/b.</td><td>1993-06-28</td><td>31</td><td>31</td></tr>",
                            "<tr><td>rajmond4</td><td>Rácz Rajmond</td><td>rajmond.rácz@mail.hu</td><td>9155 Lébény Petőfi utca 1/2.</td><td>1993-09-25</td><td>31</td><td>30</td></tr>",
                            "<tr><td>tibor</td><td>Gombos Tibor</td><td>tibor.gombos@mail.hu</td><td>7100 Szekszárd Kossuth utca 77.</td><td>1993-11-28</td><td>31</td><td>30</td></tr>",
                            "<tr><td>polla</td><td>Palágyi Polla</td><td>polla@gmail.com</td><td>2484 Agárd Fő út 18.</td><td>1994-02-04</td><td>30</td><td>30</td></tr>",
                            "<tr><td>beata4</td><td>Bagi Beáta</td><td>beáta.bagi@mail.hu</td><td>8477 Tüskevár Felszabadulás utca 32.</td><td>1994-03-19</td><td>30</td><td>30</td></tr>",
                            "<tr><td>zsuzsanna</td><td>Barta Zsuzsanna</td><td>zsuzsanna.barta@mail.hu</td><td>4172 Biharnagybajom Dózsa György utca 37.</td><td>1994-10-07</td><td>30</td><td>29</td></tr>",
                            "<tr><td>BELAF</td><td>Farkas Béla</td><td>BELAF@gmail.com</td><td>5530 Vésztő Petőfi Sándor utca 3.</td><td>1995-02-24</td><td>29</td><td>29</td></tr>",
                            "<tr><td>kati</td><td>Zatykó Katalin</td><td>katalin.zatykó@mail.hu</td><td>7511 Ötvöskónyi Kossuth Lajos utca 6.</td><td>1995-05-01</td><td>29</td><td>29</td></tr>",
                            "<tr><td>ATTILAO</td><td>Opra Attila</td><td>ATTILAO@gmail.com</td><td>8283 Káptalantóti Rákóczi út 200.</td><td>1995-05-08</td><td>29</td><td>29</td></tr>",
                            "<tr><td>dora3</td><td>Sarodi Dóra</td><td>dóra.sarodi@mail.hu</td><td>2855 Bokod Fő út 18.</td><td>1995-05-18</td><td>29</td><td>29</td></tr>",
                            "<tr><td>miklos2</td><td>Gondos Miklós</td><td>miklos2@gmail.com</td><td>2100 Gödöllő Árpád utca 23.</td><td>1995-10-07</td><td>29</td><td>28</td></tr>",
                            "<tr><td>maria1</td><td>Baráth Mária</td><td>mária.baráth@mail.hu</td><td>1047 Budapest Posta köz 2.</td><td>1995-11-19</td><td>29</td><td>28</td></tr>",
                            "<tr><td>timea</td><td>Papós Tímea</td><td>timea@gmail.com</td><td>1035 Budapest  Kossuth út 77.</td><td>1996-01-08</td><td>28</td><td>28</td></tr>",
                            "<tr><td>mark</td><td>Kispál Márk</td><td>márk.kispál@mail.hu</td><td>1086 Budapest Juhászföldi út 1.</td><td>1996-01-23</td><td>28</td><td>28</td></tr>",
                            "<tr><td>balint</td><td>Horváth Bálint</td><td>balint@gmail.com</td><td>6646 Tömörkény Endrődi Sándor utca 47.</td><td>1996-03-17</td><td>28</td><td>28</td></tr>",
                            "<tr><td>VIKTORIAU</td><td>Urbán Viktoria</td><td>viktoria.urbán@mail.hu</td><td>3860 Encs Népboltsor  2.</td><td>1996-05-03</td><td>28</td><td>28</td></tr>",
                            "<tr><td>andrea3</td><td>Szomor Andrea</td><td>andrea3@gmail.com</td><td>7960 Sellye Bécsi utca 82.</td><td>1996-05-10</td><td>28</td><td>28</td></tr>",
                            "<tr><td>fruzsina4</td><td>Frank Fruzsina</td><td>fruzsina4@gmail.com</td><td>9700 Szombathely Szabadság utca 95.</td><td>1996-08-16</td><td>28</td><td>27</td></tr>",
                            "<tr><td>bernadett2</td><td>Kovács Bernadett</td><td>bernadett.kovács@mail.hu</td><td>4200 Hajdúszoboszló Fő út 122.</td><td>1996-08-20</td><td>28</td><td>27</td></tr>",
                            "<tr><td>lala</td><td>Nagymihály Lajos</td><td>lajos.nagymihály@mail.hu</td><td>8638 Balatonlelle Rákóczi út 200.</td><td>1997-02-24</td><td>27</td><td>27</td></tr>",
                            "<tr><td>MATEK</td><td>Koza Máté</td><td>máté.koza@mail.hu</td><td>1011 Budapest Központi telep 3.</td><td>1997-02-28</td><td>27</td><td>27</td></tr>",
                            "<tr><td>ANDRASE</td><td>Erdei András</td><td>ANDRASE@gmail.com</td><td>5071 Besenyszög Szolnoki út 8.</td><td>1997-05-29</td><td>27</td><td>27</td></tr>",
                            "<tr><td>sandor4</td><td>Nagy Sándor</td><td>sandor4@gmail.com</td><td>4600 Kisvárda Fő utca 47.</td><td>1997-06-11</td><td>27</td><td>27</td></tr>",
                            "<tr><td>JUDITH</td><td>Hídasi Judit</td><td>JUDITH@gmail.com</td><td>2100 Gödöllő Fő út 169.</td><td>1997-07-12</td><td>27</td><td>27</td></tr>",
                            "<tr><td>balint2</td><td>Vukasinovity Bálint</td><td>balint2@gmail.com</td><td>2330 Dunaharaszti Béke utca 7.</td><td>1997-09-03</td><td>27</td><td>27</td></tr>",
                            "<tr><td>MARKH</td><td>Horváth Márk</td><td>márk.horváth@mail.hu</td><td>4400 Nyíregyháza Badacsonyi utca 12.</td><td>1997-09-23</td><td>27</td><td>27</td></tr>",
                            "<tr><td>NIKOLETTAT</td><td>Tatár Nikoletta</td><td>nikoletta.tatár@mail.hu</td><td>1067 Budapest Győri utca 12.</td><td>1997-10-19</td><td>27</td><td>27</td></tr>",
                            "<tr><td>andras41</td><td>Komjáti András</td><td>andras41@gmail.com</td><td>5065 Nagykörű Kossuth út 24.</td><td>1997-10-25</td><td>27</td><td>27</td></tr>",
                            "<tr><td>andras2</td><td>Tóth András</td><td>andrás.tóth@mail.hu</td><td>4071 Egyek Petőfi utca 30.</td><td>1997-10-31</td><td>27</td><td>27</td></tr>",
                            "<tr><td>TAMASF</td><td>Fényes Tamás</td><td>TAMASF@gmail.com</td><td>9023 Győr Arany János utca 1.</td><td>1997-11-06</td><td>27</td><td>26</td></tr>",
                            "<tr><td>istvan1</td><td>Vizi István</td><td>istván.vizi@mail.hu</td><td>7086 Ozora Rákóczi utca 1.</td><td>1997-12-01</td><td>27</td><td>26</td></tr>",
                            "<tr><td>eszter2</td><td>Balogh Eszter</td><td>eszter.balogh@mail.hu</td><td>6760 Kistelek Kossuth utca 11.</td><td>1998-01-31</td><td>26</td><td>26</td></tr>",
                            "</table>"
                        ]
                    }
                }
            ],
            "execution_count": 29
        },
        {
            "cell_type": "markdown",
            "source": [
                "3.![](data:image/png;base64,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)"
            ],
            "metadata": {
                "azdata_cell_guid": "556c5b75-e66b-4fce-90f3-a455783558f5"
            },
            "attachments": {}
        },
        {
            "cell_type": "code",
            "source": [
                "SELECT*\r\n",
                "FROM Vendeg v JOIN Foglalas f ON v.USERNEV = f.UGYFEL_FK"
            ],
            "metadata": {
                "azdata_cell_guid": "31683715-5b73-41fc-91a8-ddb971934092",
                "language": "sql"
            },
            "outputs": [],
            "execution_count": null
        }
    ]
}