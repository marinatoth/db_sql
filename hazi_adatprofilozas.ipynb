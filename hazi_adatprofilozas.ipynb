{
    "metadata": {
        "kernelspec": {
            "name": "SQL",
            "display_name": "SQL",
            "language": "sql"
        },
        "language_info": {
            "name": "sql",
            "version": ""
        }
    },
    "nbformat_minor": 2,
    "nbformat": 4,
    "cells": [
        {
            "cell_type": "markdown",
            "source": [
                "- Válassz ki egy olyan adatbázist a bit.uni-corvinus.hu-n, amelynek tartalmához hozzáférsz: dvd\\_magyar\n",
                "- Az adatbázison belül válassz ki egy táblát! dvd"
            ],
            "metadata": {
                "azdata_cell_guid": "f84230b4-030f-4596-93b4-3f78bc638ab8"
            },
            "attachments": {}
        },
        {
            "cell_type": "code",
            "source": [
                "SELECT count(*) as 'Rekordok száma'\r\n",
                "FROM dvd    "
            ],
            "metadata": {
                "azdata_cell_guid": "503aa7e7-d2b0-4969-bf6c-13411f5fa2bc",
                "language": "sql"
            },
            "outputs": [
                {
                    "output_type": "display_data",
                    "data": {
                        "text/html": "(1 row affected)"
                    },
                    "metadata": {}
                },
                {
                    "output_type": "display_data",
                    "data": {
                        "text/html": "Total execution time: 00:00:00.010"
                    },
                    "metadata": {}
                },
                {
                    "output_type": "execute_result",
                    "metadata": {},
                    "execution_count": 2,
                    "data": {
                        "application/vnd.dataresource+json": {
                            "schema": {
                                "fields": [
                                    {
                                        "name": "Rekordok száma"
                                    }
                                ]
                            },
                            "data": [
                                {
                                    "Rekordok száma": "318"
                                }
                            ]
                        },
                        "text/html": [
                            "<table>",
                            "<tr><th>Rekordok száma</th></tr>",
                            "<tr><td>318</td></tr>",
                            "</table>"
                        ]
                    }
                }
            ],
            "execution_count": 2
        },
        {
            "cell_type": "code",
            "source": [
                "SELECT MIN(cim) as 'Abc sorrendben első',\r\n",
                "       MAX(cim) as 'Abc sorrendben utolsó'\r\n",
                "FROM dvd\r\n",
                "WHERE cim IS NOT NULL AND LEN(cim) >0"
            ],
            "metadata": {
                "language": "sql",
                "azdata_cell_guid": "bc26b7c4-04ec-4266-8b93-ec81857b984a"
            },
            "outputs": [
                {
                    "output_type": "display_data",
                    "data": {
                        "text/html": "(1 row affected)"
                    },
                    "metadata": {}
                },
                {
                    "output_type": "display_data",
                    "data": {
                        "text/html": "Total execution time: 00:00:00.011"
                    },
                    "metadata": {}
                },
                {
                    "output_type": "execute_result",
                    "metadata": {},
                    "execution_count": 4,
                    "data": {
                        "application/vnd.dataresource+json": {
                            "schema": {
                                "fields": [
                                    {
                                        "name": "Abc sorrendben első"
                                    },
                                    {
                                        "name": "Abc sorrendben utolsó"
                                    }
                                ]
                            },
                            "data": [
                                {
                                    "Abc sorrendben első": "3D Dinosaur - adventure",
                                    "Abc sorrendben utolsó": "Zöld Ödön a földgömbön"
                                }
                            ]
                        },
                        "text/html": [
                            "<table>",
                            "<tr><th>Abc sorrendben első</th><th>Abc sorrendben utolsó</th></tr>",
                            "<tr><td>3D Dinosaur - adventure</td><td>Zöld Ödön a földgömbön</td></tr>",
                            "</table>"
                        ]
                    }
                }
            ],
            "execution_count": 4
        },
        {
            "cell_type": "code",
            "source": [
                "SELECT MIN(LEN(cim)) as 'Legrövidebb cím hosza', \r\n",
                "       MAX(LEN(cim)) as 'Leghosszabb cím hossza', \r\n",
                "       AVG(LEN(cim)) as 'Átlagos címhossz'\r\n",
                "FROM dvd\r\n",
                "WHERE cim IS NOT NULL\r\n",
                "AND LEN(cim) > 0"
            ],
            "metadata": {
                "language": "sql",
                "azdata_cell_guid": "3443c927-7aa9-4dcf-b144-f893be5ffdfd"
            },
            "outputs": [
                {
                    "output_type": "display_data",
                    "data": {
                        "text/html": "(1 row affected)"
                    },
                    "metadata": {}
                },
                {
                    "output_type": "display_data",
                    "data": {
                        "text/html": "Total execution time: 00:00:00.010"
                    },
                    "metadata": {}
                },
                {
                    "output_type": "execute_result",
                    "metadata": {},
                    "execution_count": 7,
                    "data": {
                        "application/vnd.dataresource+json": {
                            "schema": {
                                "fields": [
                                    {
                                        "name": "Legrövidebb cím hosza"
                                    },
                                    {
                                        "name": "Leghosszabb cím hossza"
                                    },
                                    {
                                        "name": "Átlagos címhossz"
                                    }
                                ]
                            },
                            "data": [
                                {
                                    "Legrövidebb cím hosza": "5",
                                    "Leghosszabb cím hossza": "63",
                                    "Átlagos címhossz": "26"
                                }
                            ]
                        },
                        "text/html": [
                            "<table>",
                            "<tr><th>Legrövidebb cím hosza</th><th>Leghosszabb cím hossza</th><th>Átlagos címhossz</th></tr>",
                            "<tr><td>5</td><td>63</td><td>26</td></tr>",
                            "</table>"
                        ]
                    }
                }
            ],
            "execution_count": 7
        },
        {
            "cell_type": "code",
            "source": [
                "SELECT LEN(cim) as 'Cím hossza',\r\n",
                "       count(*) as 'Darab'\r\n",
                "FROM dvd\r\n",
                "WHERE cim IS NOT NULL\r\n",
                "GROUP BY LEN(cim)\r\n",
                "ORDER BY LEN(cim)"
            ],
            "metadata": {
                "azdata_cell_guid": "5bb3ab3e-c2d6-46d8-b879-a4b4b700b60d",
                "language": "sql"
            },
            "outputs": [
                {
                    "output_type": "display_data",
                    "data": {
                        "text/html": "(51 rows affected)"
                    },
                    "metadata": {}
                },
                {
                    "output_type": "display_data",
                    "data": {
                        "text/html": "Total execution time: 00:00:00.014"
                    },
                    "metadata": {}
                },
                {
                    "output_type": "execute_result",
                    "metadata": {},
                    "execution_count": 11,
                    "data": {
                        "application/vnd.dataresource+json": {
                            "schema": {
                                "fields": [
                                    {
                                        "name": "Cím hossza"
                                    },
                                    {
                                        "name": "Darab"
                                    }
                                ]
                            },
                            "data": [
                                {
                                    "Cím hossza": "5",
                                    "Darab": "2"
                                },
                                {
                                    "Cím hossza": "6",
                                    "Darab": "5"
                                },
                                {
                                    "Cím hossza": "7",
                                    "Darab": "2"
                                },
                                {
                                    "Cím hossza": "8",
                                    "Darab": "3"
                                },
                                {
                                    "Cím hossza": "10",
                                    "Darab": "3"
                                },
                                {
                                    "Cím hossza": "11",
                                    "Darab": "4"
                                },
                                {
                                    "Cím hossza": "12",
                                    "Darab": "8"
                                },
                                {
                                    "Cím hossza": "13",
                                    "Darab": "15"
                                },
                                {
                                    "Cím hossza": "14",
                                    "Darab": "6"
                                },
                                {
                                    "Cím hossza": "15",
                                    "Darab": "17"
                                },
                                {
                                    "Cím hossza": "16",
                                    "Darab": "4"
                                },
                                {
                                    "Cím hossza": "17",
                                    "Darab": "10"
                                },
                                {
                                    "Cím hossza": "18",
                                    "Darab": "9"
                                },
                                {
                                    "Cím hossza": "19",
                                    "Darab": "3"
                                },
                                {
                                    "Cím hossza": "20",
                                    "Darab": "14"
                                },
                                {
                                    "Cím hossza": "21",
                                    "Darab": "14"
                                },
                                {
                                    "Cím hossza": "22",
                                    "Darab": "17"
                                },
                                {
                                    "Cím hossza": "23",
                                    "Darab": "12"
                                },
                                {
                                    "Cím hossza": "24",
                                    "Darab": "16"
                                },
                                {
                                    "Cím hossza": "25",
                                    "Darab": "2"
                                },
                                {
                                    "Cím hossza": "26",
                                    "Darab": "14"
                                },
                                {
                                    "Cím hossza": "27",
                                    "Darab": "8"
                                },
                                {
                                    "Cím hossza": "28",
                                    "Darab": "10"
                                },
                                {
                                    "Cím hossza": "29",
                                    "Darab": "13"
                                },
                                {
                                    "Cím hossza": "30",
                                    "Darab": "7"
                                },
                                {
                                    "Cím hossza": "31",
                                    "Darab": "8"
                                },
                                {
                                    "Cím hossza": "32",
                                    "Darab": "11"
                                },
                                {
                                    "Cím hossza": "33",
                                    "Darab": "4"
                                },
                                {
                                    "Cím hossza": "34",
                                    "Darab": "7"
                                },
                                {
                                    "Cím hossza": "35",
                                    "Darab": "5"
                                },
                                {
                                    "Cím hossza": "36",
                                    "Darab": "9"
                                },
                                {
                                    "Cím hossza": "37",
                                    "Darab": "5"
                                },
                                {
                                    "Cím hossza": "38",
                                    "Darab": "2"
                                },
                                {
                                    "Cím hossza": "39",
                                    "Darab": "5"
                                },
                                {
                                    "Cím hossza": "40",
                                    "Darab": "3"
                                },
                                {
                                    "Cím hossza": "41",
                                    "Darab": "3"
                                },
                                {
                                    "Cím hossza": "42",
                                    "Darab": "5"
                                },
                                {
                                    "Cím hossza": "43",
                                    "Darab": "7"
                                },
                                {
                                    "Cím hossza": "44",
                                    "Darab": "4"
                                },
                                {
                                    "Cím hossza": "45",
                                    "Darab": "1"
                                },
                                {
                                    "Cím hossza": "47",
                                    "Darab": "3"
                                },
                                {
                                    "Cím hossza": "49",
                                    "Darab": "3"
                                },
                                {
                                    "Cím hossza": "50",
                                    "Darab": "2"
                                },
                                {
                                    "Cím hossza": "51",
                                    "Darab": "1"
                                },
                                {
                                    "Cím hossza": "52",
                                    "Darab": "2"
                                },
                                {
                                    "Cím hossza": "53",
                                    "Darab": "1"
                                },
                                {
                                    "Cím hossza": "54",
                                    "Darab": "1"
                                },
                                {
                                    "Cím hossza": "55",
                                    "Darab": "2"
                                },
                                {
                                    "Cím hossza": "56",
                                    "Darab": "2"
                                },
                                {
                                    "Cím hossza": "57",
                                    "Darab": "2"
                                },
                                {
                                    "Cím hossza": "63",
                                    "Darab": "1"
                                }
                            ]
                        },
                        "text/html": [
                            "<table>",
                            "<tr><th>Cím hossza</th><th>Darab</th></tr>",
                            "<tr><td>5</td><td>2</td></tr>",
                            "<tr><td>6</td><td>5</td></tr>",
                            "<tr><td>7</td><td>2</td></tr>",
                            "<tr><td>8</td><td>3</td></tr>",
                            "<tr><td>10</td><td>3</td></tr>",
                            "<tr><td>11</td><td>4</td></tr>",
                            "<tr><td>12</td><td>8</td></tr>",
                            "<tr><td>13</td><td>15</td></tr>",
                            "<tr><td>14</td><td>6</td></tr>",
                            "<tr><td>15</td><td>17</td></tr>",
                            "<tr><td>16</td><td>4</td></tr>",
                            "<tr><td>17</td><td>10</td></tr>",
                            "<tr><td>18</td><td>9</td></tr>",
                            "<tr><td>19</td><td>3</td></tr>",
                            "<tr><td>20</td><td>14</td></tr>",
                            "<tr><td>21</td><td>14</td></tr>",
                            "<tr><td>22</td><td>17</td></tr>",
                            "<tr><td>23</td><td>12</td></tr>",
                            "<tr><td>24</td><td>16</td></tr>",
                            "<tr><td>25</td><td>2</td></tr>",
                            "<tr><td>26</td><td>14</td></tr>",
                            "<tr><td>27</td><td>8</td></tr>",
                            "<tr><td>28</td><td>10</td></tr>",
                            "<tr><td>29</td><td>13</td></tr>",
                            "<tr><td>30</td><td>7</td></tr>",
                            "<tr><td>31</td><td>8</td></tr>",
                            "<tr><td>32</td><td>11</td></tr>",
                            "<tr><td>33</td><td>4</td></tr>",
                            "<tr><td>34</td><td>7</td></tr>",
                            "<tr><td>35</td><td>5</td></tr>",
                            "<tr><td>36</td><td>9</td></tr>",
                            "<tr><td>37</td><td>5</td></tr>",
                            "<tr><td>38</td><td>2</td></tr>",
                            "<tr><td>39</td><td>5</td></tr>",
                            "<tr><td>40</td><td>3</td></tr>",
                            "<tr><td>41</td><td>3</td></tr>",
                            "<tr><td>42</td><td>5</td></tr>",
                            "<tr><td>43</td><td>7</td></tr>",
                            "<tr><td>44</td><td>4</td></tr>",
                            "<tr><td>45</td><td>1</td></tr>",
                            "<tr><td>47</td><td>3</td></tr>",
                            "<tr><td>49</td><td>3</td></tr>",
                            "<tr><td>50</td><td>2</td></tr>",
                            "<tr><td>51</td><td>1</td></tr>",
                            "<tr><td>52</td><td>2</td></tr>",
                            "<tr><td>53</td><td>1</td></tr>",
                            "<tr><td>54</td><td>1</td></tr>",
                            "<tr><td>55</td><td>2</td></tr>",
                            "<tr><td>56</td><td>2</td></tr>",
                            "<tr><td>57</td><td>2</td></tr>",
                            "<tr><td>63</td><td>1</td></tr>",
                            "</table>"
                        ]
                    }
                }
            ],
            "execution_count": 11
        }
    ]
}