{
    "metadata": {
        "kernelspec": {
            "name": "SQL",
            "display_name": "SQL",
            "language": "sql"
        },
        "language_info": {
            "name": "sql",
            "version": ""
        }
    },
    "nbformat_minor": 2,
    "nbformat": 4,
    "cells": [
        {
            "cell_type": "markdown",
            "source": [
                "- Válassz ki egy olyan adatbázist a bit.uni-corvinus.hu-n, amelynek tartalmához hozzáférsz: dvd\\_magyar\n",
                "- Az adatbázison belül válassz ki egy táblát! dvd"
            ],
            "metadata": {
                "azdata_cell_guid": "f84230b4-030f-4596-93b4-3f78bc638ab8"
            },
            "attachments": {}
        },
        {
            "cell_type": "code",
            "source": [
                "SELECT count(*) as 'Rekordok száma',\r\n",
                "COUNT(DISTINCT cim) as 'Egyedi címek száma'\r\n",
                "FROM dvd    \r\n",
                "WHERE cim IS NOT NULL"
            ],
            "metadata": {
                "azdata_cell_guid": "503aa7e7-d2b0-4969-bf6c-13411f5fa2bc",
                "language": "sql"
            },
            "outputs": [
                {
                    "output_type": "display_data",
                    "data": {
                        "text/html": "(1 row affected)"
                    },
                    "metadata": {}
                },
                {
                    "output_type": "display_data",
                    "data": {
                        "text/html": "Total execution time: 00:00:00.013"
                    },
                    "metadata": {}
                },
                {
                    "output_type": "execute_result",
                    "metadata": {},
                    "execution_count": 17,
                    "data": {
                        "application/vnd.dataresource+json": {
                            "schema": {
                                "fields": [
                                    {
                                        "name": "Rekordok száma"
                                    },
                                    {
                                        "name": "Egyedi címek száma"
                                    }
                                ]
                            },
                            "data": [
                                {
                                    "Rekordok száma": "317",
                                    "Egyedi címek száma": "311"
                                }
                            ]
                        },
                        "text/html": [
                            "<table>",
                            "<tr><th>Rekordok száma</th><th>Egyedi címek száma</th></tr>",
                            "<tr><td>317</td><td>311</td></tr>",
                            "</table>"
                        ]
                    }
                }
            ],
            "execution_count": 17
        },
        {
            "cell_type": "code",
            "source": [
                "SELECT \r\n",
                "    cim AS 'Dvd címe', \r\n",
                "    COUNT(*) 'Előfordulás'\r\n",
                "from dvd\r\n",
                "WHERE cim IS NOT null\r\n",
                "GROUP BY cim\r\n",
                "ORDER BY COUNT(*) DESC"
            ],
            "metadata": {
                "azdata_cell_guid": "b38af9fe-5171-4ca2-8bc4-d91e7f143e55",
                "language": "sql"
            },
            "outputs": [
                {
                    "output_type": "display_data",
                    "data": {
                        "text/html": "(311 rows affected)"
                    },
                    "metadata": {}
                },
                {
                    "output_type": "display_data",
                    "data": {
                        "text/html": "Total execution time: 00:00:00.014"
                    },
                    "metadata": {}
                },
                {
                    "output_type": "execute_result",
                    "metadata": {},
                    "execution_count": 20,
                    "data": {
                        "application/vnd.dataresource+json": {
                            "schema": {
                                "fields": [
                                    {
                                        "name": "Dvd címe"
                                    },
                                    {
                                        "name": "Előfordulás"
                                    }
                                ]
                            },
                            "data": [
                                {
                                    "Dvd címe": "Angol szótanító CD-ROM",
                                    "Előfordulás": "2"
                                },
                                {
                                    "Dvd címe": "Manó Muzsika",
                                    "Előfordulás": "2"
                                },
                                {
                                    "Dvd címe": "Italiano 1-2. (1998) + Installation",
                                    "Előfordulás": "2"
                                },
                                {
                                    "Dvd címe": "Magyarország, 1944-1956 (2001)",
                                    "Előfordulás": "2"
                                },
                                {
                                    "Dvd címe": "Világatlasz '99 (1998)",
                                    "Előfordulás": "2"
                                },
                                {
                                    "Dvd címe": "Manó Matek 2. (1999)",
                                    "Előfordulás": "2"
                                },
                                {
                                    "Dvd címe": "Manó Matek 3.",
                                    "Előfordulás": "1"
                                },
                                {
                                    "Dvd címe": "Világirodalom : Az ókortól napjainkig (2001)",
                                    "Előfordulás": "1"
                                },
                                {
                                    "Dvd címe": "Volt egyszer egy Magyarország",
                                    "Előfordulás": "1"
                                },
                                {
                                    "Dvd címe": "Warcraft III. (2002)",
                                    "Előfordulás": "1"
                                },
                                {
                                    "Dvd címe": "William Shakespeare összes művei",
                                    "Előfordulás": "1"
                                },
                                {
                                    "Dvd címe": "Zielpunkt Deutsch (1997)",
                                    "Előfordulás": "1"
                                },
                                {
                                    "Dvd címe": "Zöld Ödön a földgömbön",
                                    "Előfordulás": "1"
                                },
                                {
                                    "Dvd címe": "Magyarországi várak (1998)",
                                    "Előfordulás": "1"
                                },
                                {
                                    "Dvd címe": "Mahjongg Master (1998)",
                                    "Előfordulás": "1"
                                },
                                {
                                    "Dvd címe": "Manó Angol 1.",
                                    "Előfordulás": "1"
                                },
                                {
                                    "Dvd címe": "Manó Angol 1. (2002)",
                                    "Előfordulás": "1"
                                },
                                {
                                    "Dvd címe": "Manó Angol 2.",
                                    "Előfordulás": "1"
                                },
                                {
                                    "Dvd címe": "Manó Angol 2. (2000)",
                                    "Előfordulás": "1"
                                },
                                {
                                    "Dvd címe": "Manó Élővilág",
                                    "Előfordulás": "1"
                                },
                                {
                                    "Dvd címe": "Manó Élővilág (2002)",
                                    "Előfordulás": "1"
                                },
                                {
                                    "Dvd címe": "Manó IQ (2001)",
                                    "Előfordulás": "1"
                                },
                                {
                                    "Dvd címe": "Manó Kaland (2002)",
                                    "Előfordulás": "1"
                                },
                                {
                                    "Dvd címe": "Manó Magyarország (2002)",
                                    "Előfordulás": "1"
                                },
                                {
                                    "Dvd címe": "Manó Matek 1.",
                                    "Előfordulás": "1"
                                },
                                {
                                    "Dvd címe": "Manó Matek 1. (2002)",
                                    "Előfordulás": "1"
                                },
                                {
                                    "Dvd címe": "3D Dinosaur - adventure",
                                    "Előfordulás": "1"
                                },
                                {
                                    "Dvd címe": "3D virtuális origami (2000)",
                                    "Előfordulás": "1"
                                },
                                {
                                    "Dvd címe": "A Föld élővilága",
                                    "Előfordulás": "1"
                                },
                                {
                                    "Dvd címe": "A hét világcsoda (2001)",
                                    "Előfordulás": "1"
                                },
                                {
                                    "Dvd címe": "A II. világháború története (1999)",
                                    "Előfordulás": "1"
                                },
                                {
                                    "Dvd címe": "A jövő titkai - Interaktív horoszkóp (1998)",
                                    "Előfordulás": "1"
                                },
                                {
                                    "Dvd címe": "A kémkedés és a hírszerzés története (2002)",
                                    "Előfordulás": "1"
                                },
                                {
                                    "Dvd címe": "A kőszívű ember fiai - Egri csillagok",
                                    "Előfordulás": "1"
                                },
                                {
                                    "Dvd címe": "A kutyák: A család kedvencei",
                                    "Előfordulás": "1"
                                },
                                {
                                    "Dvd címe": "A Magyar Koronázási Jelvények",
                                    "Előfordulás": "1"
                                },
                                {
                                    "Dvd címe": "A Nagybányai Festőiskola (1998)",
                                    "Előfordulás": "1"
                                },
                                {
                                    "Dvd címe": "A szabadságharc népzenei emlékei",
                                    "Előfordulás": "1"
                                },
                                {
                                    "Dvd címe": "A tudás próbája (2001)",
                                    "Előfordulás": "1"
                                },
                                {
                                    "Dvd címe": "A varázslatos emberi test (1998)",
                                    "Előfordulás": "1"
                                },
                                {
                                    "Dvd címe": "A városi élet a Római Birodalomban (1999)",
                                    "Előfordulás": "1"
                                },
                                {
                                    "Dvd címe": "A Vazul-ág (1038-1301) (1997)",
                                    "Előfordulás": "1"
                                },
                                {
                                    "Dvd címe": "Ablak zsiráf (1999)",
                                    "Előfordulás": "1"
                                },
                                {
                                    "Dvd címe": "Ady Endre összes művei (1999)",
                                    "Előfordulás": "1"
                                },
                                {
                                    "Dvd címe": "Afrika",
                                    "Előfordulás": "1"
                                },
                                {
                                    "Dvd címe": "Age of Empires (2000)",
                                    "Előfordulás": "1"
                                },
                                {
                                    "Dvd címe": "Airport Inc.",
                                    "Előfordulás": "1"
                                },
                                {
                                    "Dvd címe": "American Rodeo : BullRider 2000 (2001)",
                                    "Előfordulás": "1"
                                },
                                {
                                    "Dvd címe": "Angol : 8-10 éveseknek (2002)",
                                    "Előfordulás": "1"
                                },
                                {
                                    "Dvd címe": "Angol és német nyelvtani gyakorlatok (2002)",
                                    "Előfordulás": "1"
                                },
                                {
                                    "Dvd címe": "Jancsó",
                                    "Előfordulás": "1"
                                },
                                {
                                    "Dvd címe": "Japán : képes kulturális atlasz (2001)",
                                    "Előfordulás": "1"
                                },
                                {
                                    "Dvd címe": "Játékfilmek 1963-tól napjainkig",
                                    "Előfordulás": "1"
                                },
                                {
                                    "Dvd címe": "Játszóház (1998)",
                                    "Előfordulás": "1"
                                },
                                {
                                    "Dvd címe": "Jókai összes művei (2001)",
                                    "Előfordulás": "1"
                                },
                                {
                                    "Dvd címe": "József Attila (1998)",
                                    "Előfordulás": "1"
                                },
                                {
                                    "Dvd címe": "Kártyaváros",
                                    "Előfordulás": "1"
                                },
                                {
                                    "Dvd címe": "Kémia Kalauz 2.",
                                    "Előfordulás": "1"
                                },
                                {
                                    "Dvd címe": "Képes krónika (1996)",
                                    "Előfordulás": "1"
                                },
                                {
                                    "Dvd címe": "Képtárak (1995)",
                                    "Előfordulás": "1"
                                },
                                {
                                    "Dvd címe": "Kereszt és félhold",
                                    "Előfordulás": "1"
                                },
                                {
                                    "Dvd címe": "Kétfejű sas: A Habsburg-uralom Magyarországon (1699-1790)",
                                    "Előfordulás": "1"
                                },
                                {
                                    "Dvd címe": "Kettős kötődés: Az Osztrák-Magyar Monarchia (1867-1918)",
                                    "Előfordulás": "1"
                                },
                                {
                                    "Dvd címe": "Kínai falatok",
                                    "Előfordulás": "1"
                                },
                                {
                                    "Dvd címe": "Királyi könyvek 18-26. kötet",
                                    "Előfordulás": "1"
                                },
                                {
                                    "Dvd címe": "Királyi könyvek 1-9. kötet",
                                    "Előfordulás": "1"
                                },
                                {
                                    "Dvd címe": "Királyi könyvek 27-38. kötet : 1703-1740 (2002)",
                                    "Előfordulás": "1"
                                },
                                {
                                    "Dvd címe": "Kispál és a borz (1998)",
                                    "Előfordulás": "1"
                                },
                                {
                                    "Dvd címe": "Kossuth Lajos összes munkái (2002)",
                                    "Előfordulás": "1"
                                },
                                {
                                    "Dvd címe": "Környezetvédelmi kalauz (1999)",
                                    "Előfordulás": "1"
                                },
                                {
                                    "Dvd címe": "Kötelező olvasmányok könyvtára 1. (2002)",
                                    "Előfordulás": "1"
                                },
                                {
                                    "Dvd címe": "Kutyatár",
                                    "Előfordulás": "1"
                                },
                                {
                                    "Dvd címe": "KvízIQ : A hét világcsoda (2001)",
                                    "Előfordulás": "1"
                                },
                                {
                                    "Dvd címe": "Lakáskultúra 1996 (1996)",
                                    "Előfordulás": "1"
                                },
                                {
                                    "Dvd címe": "Lakáskultúra 1997 (1997)",
                                    "Előfordulás": "1"
                                },
                                {
                                    "Dvd címe": "Lakáskultúra 1998 (1998)",
                                    "Előfordulás": "1"
                                },
                                {
                                    "Dvd címe": "Lakáskultúra 1999 (1999)",
                                    "Előfordulás": "1"
                                },
                                {
                                    "Dvd címe": "Lakáskultúra 2000 (2000)",
                                    "Előfordulás": "1"
                                },
                                {
                                    "Dvd címe": "Lands of Lore II. 1-4. (1997)",
                                    "Előfordulás": "1"
                                },
                                {
                                    "Dvd címe": "Landscape Design 3D (1998)",
                                    "Előfordulás": "1"
                                },
                                {
                                    "Dvd címe": "Legféltettebb természeti értékeink",
                                    "Előfordulás": "1"
                                },
                                {
                                    "Dvd címe": "Legszebb vadnövényeink",
                                    "Előfordulás": "1"
                                },
                                {
                                    "Dvd címe": "Leonardo da Vinci",
                                    "Előfordulás": "1"
                                },
                                {
                                    "Dvd címe": "Lilenthal Andor sakkjátszmái",
                                    "Előfordulás": "1"
                                },
                                {
                                    "Dvd címe": "Lopva angolul /English by Stealth 1.",
                                    "Előfordulás": "1"
                                },
                                {
                                    "Dvd címe": "Lopva angolul /English by Stealth 2.",
                                    "Előfordulás": "1"
                                },
                                {
                                    "Dvd címe": "Lopva angolul /English by Stealth 3.",
                                    "Előfordulás": "1"
                                },
                                {
                                    "Dvd címe": "Lovagkirályok (1301-1437) (1997)",
                                    "Előfordulás": "1"
                                },
                                {
                                    "Dvd címe": "LoveQ, SexQ : szerelmi intelligencia (2001)",
                                    "Előfordulás": "1"
                                },
                                {
                                    "Dvd címe": "M1 Tank (1998)",
                                    "Előfordulás": "1"
                                },
                                {
                                    "Dvd címe": "Mackó úr (2002)",
                                    "Előfordulás": "1"
                                },
                                {
                                    "Dvd címe": "Madárdalos kirándulások - Madártani oktató CD-ROM (1999)",
                                    "Előfordulás": "1"
                                },
                                {
                                    "Dvd címe": "Magyar bélyegek katalógusa",
                                    "Előfordulás": "1"
                                },
                                {
                                    "Dvd címe": "Magyar fontok '97",
                                    "Előfordulás": "1"
                                },
                                {
                                    "Dvd címe": "Magyar nyelv és irodalom",
                                    "Előfordulás": "1"
                                },
                                {
                                    "Dvd címe": "Magyar színházművészet a világban",
                                    "Előfordulás": "1"
                                },
                                {
                                    "Dvd címe": "Magyarország Nemzeti Parkjai I.",
                                    "Előfordulás": "1"
                                },
                                {
                                    "Dvd címe": "Magyarország Nemzeti Parkjai II.",
                                    "Előfordulás": "1"
                                },
                                {
                                    "Dvd címe": "Manó Német 2.",
                                    "Előfordulás": "1"
                                },
                                {
                                    "Dvd címe": "Manó Olvasás 1.",
                                    "Előfordulás": "1"
                                },
                                {
                                    "Dvd címe": "Manó Puzzle (2002)",
                                    "Előfordulás": "1"
                                },
                                {
                                    "Dvd címe": "Matematika (1998)",
                                    "Előfordulás": "1"
                                },
                                {
                                    "Dvd címe": "Matematika felkészítő az érettségi és felvételi vizsgára",
                                    "Előfordulás": "1"
                                },
                                {
                                    "Dvd címe": "Matematika kalauz (1997)",
                                    "Előfordulás": "1"
                                },
                                {
                                    "Dvd címe": "Mig-29 (1998)",
                                    "Előfordulás": "1"
                                },
                                {
                                    "Dvd címe": "Mikszáth Kálmán összes művei",
                                    "Előfordulás": "1"
                                },
                                {
                                    "Dvd címe": "Mini Manó Tavasz",
                                    "Előfordulás": "1"
                                },
                                {
                                    "Dvd címe": "MoBi Mouse: A fordító egér",
                                    "Előfordulás": "1"
                                },
                                {
                                    "Dvd címe": "Monopoly Junior",
                                    "Előfordulás": "1"
                                },
                                {
                                    "Dvd címe": "Mons Sacer Pannoniae (2001)",
                                    "Előfordulás": "1"
                                },
                                {
                                    "Dvd címe": "Moving Puzzle Action Flight (2000)",
                                    "Előfordulás": "1"
                                },
                                {
                                    "Dvd címe": "Multimédiás Menedzsment Könyvtár 1. - Változásmenedzsment",
                                    "Előfordulás": "1"
                                },
                                {
                                    "Dvd címe": "Multimédiás Menedzsment Könyvtár 2. - Önszervezés",
                                    "Előfordulás": "1"
                                },
                                {
                                    "Dvd címe": "Musique! (1997)",
                                    "Előfordulás": "1"
                                },
                                {
                                    "Dvd címe": "Művészet és mesterség",
                                    "Előfordulás": "1"
                                },
                                {
                                    "Dvd címe": "Művészet és művészek (2002)",
                                    "Előfordulás": "1"
                                },
                                {
                                    "Dvd címe": "Na, So Was? - Minden helyzetben otthonosan",
                                    "Előfordulás": "1"
                                },
                                {
                                    "Dvd címe": "Nagy képes világtörténet (Matczáli Henrik) (1998)",
                                    "Előfordulás": "1"
                                },
                                {
                                    "Dvd címe": "Nagy vicc tár",
                                    "Előfordulás": "1"
                                },
                                {
                                    "Dvd címe": "NASA 1.",
                                    "Előfordulás": "1"
                                },
                                {
                                    "Dvd címe": "NASA 2.",
                                    "Előfordulás": "1"
                                },
                                {
                                    "Dvd címe": "Német : 8-10 éveseknek (2002)",
                                    "Előfordulás": "1"
                                },
                                {
                                    "Dvd címe": "Német szótanító CD-ROM",
                                    "Előfordulás": "1"
                                },
                                {
                                    "Dvd címe": "Németh László összes műve",
                                    "Előfordulás": "1"
                                },
                                {
                                    "Dvd címe": "New York : a tragédiák városa (2001)",
                                    "Előfordulás": "1"
                                },
                                {
                                    "Dvd címe": "NHL 2001",
                                    "Előfordulás": "1"
                                },
                                {
                                    "Dvd címe": "Nincs királyi út - A matematika kultúrtörténete",
                                    "Előfordulás": "1"
                                },
                                {
                                    "Dvd címe": "Nyelvész : Angol és német haladóknak (1997)",
                                    "Előfordulás": "1"
                                },
                                {
                                    "Dvd címe": "Nyelvtan összefoglaló : érettségi előkészítő (2002)",
                                    "Előfordulás": "1"
                                },
                                {
                                    "Dvd címe": "Ókori lexikon",
                                    "Előfordulás": "1"
                                },
                                {
                                    "Dvd címe": "Olasz szótanító CD-ROM",
                                    "Előfordulás": "1"
                                },
                                {
                                    "Dvd címe": "Olasz-magyar, magyar-olasz digitális szótár",
                                    "Előfordulás": "1"
                                },
                                {
                                    "Dvd címe": "Orosz (1998)",
                                    "Előfordulás": "1"
                                },
                                {
                                    "Dvd címe": "Orosz-magyar nagyszótár",
                                    "Előfordulás": "1"
                                },
                                {
                                    "Dvd címe": "Paddle Bash (2001)",
                                    "Előfordulás": "1"
                                },
                                {
                                    "Dvd címe": "Pannon Enciklopédia (1998)",
                                    "Előfordulás": "1"
                                },
                                {
                                    "Dvd címe": "Pannonhalmi Főapátság (2001)",
                                    "Előfordulás": "1"
                                },
                                {
                                    "Dvd címe": "Panzer General III: Scorched Earth (2000)",
                                    "Előfordulás": "1"
                                },
                                {
                                    "Dvd címe": "People's General (1998)",
                                    "Előfordulás": "1"
                                },
                                {
                                    "Dvd címe": "Petőfi Sándor összes költeményei",
                                    "Előfordulás": "1"
                                },
                                {
                                    "Dvd címe": "Petőfi Sándor: Arany Lacinak (2002)",
                                    "Előfordulás": "1"
                                },
                                {
                                    "Dvd címe": "Plane Crazy",
                                    "Előfordulás": "1"
                                },
                                {
                                    "Dvd címe": "Quake III. (2001)",
                                    "Előfordulás": "1"
                                },
                                {
                                    "Dvd címe": "Rákóczi-szabadságharc",
                                    "Előfordulás": "1"
                                },
                                {
                                    "Dvd címe": "Rally Championship",
                                    "Előfordulás": "1"
                                },
                                {
                                    "Dvd címe": "Rayman: Matek és olvasás",
                                    "Előfordulás": "1"
                                },
                                {
                                    "Dvd címe": "Re-Volt (1999)",
                                    "Előfordulás": "1"
                                },
                                {
                                    "Dvd címe": "Shanghai (1997)",
                                    "Előfordulás": "1"
                                },
                                {
                                    "Dvd címe": "Sonic Racer",
                                    "Előfordulás": "1"
                                },
                                {
                                    "Dvd címe": "Spanyol (1997)",
                                    "Előfordulás": "1"
                                },
                                {
                                    "Dvd címe": "Spanyol-magyar szótár",
                                    "Előfordulás": "1"
                                },
                                {
                                    "Dvd címe": "Star Wars : Rogue Squadron 3D",
                                    "Előfordulás": "1"
                                },
                                {
                                    "Dvd címe": "Star Wars: Battle for Naboo",
                                    "Előfordulás": "1"
                                },
                                {
                                    "Dvd címe": "Star Wars: Force Commander (2001)",
                                    "Előfordulás": "1"
                                },
                                {
                                    "Dvd címe": "Supreme Snowboarding",
                                    "Előfordulás": "1"
                                },
                                {
                                    "Dvd címe": "Szabadítsd ki a kisoroszlánt!",
                                    "Előfordulás": "1"
                                },
                                {
                                    "Dvd címe": "Szabadságharc 1848-49 (1988)",
                                    "Előfordulás": "1"
                                },
                                {
                                    "Dvd címe": "Szolfézs: Kezdőknek és haladóknak",
                                    "Előfordulás": "1"
                                },
                                {
                                    "Dvd címe": "Talk To Me Deutsch 2-4.",
                                    "Előfordulás": "1"
                                },
                                {
                                    "Dvd címe": "Talk To Me English 1.",
                                    "Előfordulás": "1"
                                },
                                {
                                    "Dvd címe": "Talk To Me Francais 1-2.",
                                    "Előfordulás": "1"
                                },
                                {
                                    "Dvd címe": "Tankok, tüzérség (2002)",
                                    "Előfordulás": "1"
                                },
                                {
                                    "Dvd címe": "Tanulj tovább! 2000 (2000)",
                                    "Előfordulás": "1"
                                },
                                {
                                    "Dvd címe": "Táplálkozás, életmód mesterfokon (2002)",
                                    "Előfordulás": "1"
                                },
                                {
                                    "Dvd címe": "Target English (1998)",
                                    "Előfordulás": "1"
                                },
                                {
                                    "Dvd címe": "Tarzan",
                                    "Előfordulás": "1"
                                },
                                {
                                    "Dvd címe": "Terrorizmus (2002)",
                                    "Előfordulás": "1"
                                },
                                {
                                    "Dvd címe": "Testbeszéd (1998)",
                                    "Előfordulás": "1"
                                },
                                {
                                    "Dvd címe": "Tesztre készen: angol (1998)",
                                    "Előfordulás": "1"
                                },
                                {
                                    "Dvd címe": "Tesztre készen: német (1998)",
                                    "Előfordulás": "1"
                                },
                                {
                                    "Dvd címe": "Thaiföldi ízek (1999)",
                                    "Előfordulás": "1"
                                },
                                {
                                    "Dvd címe": "The F.A. Premier League Stars 2001",
                                    "Előfordulás": "1"
                                },
                                {
                                    "Dvd címe": "The Settlers III. 1-2. (1998)",
                                    "Előfordulás": "1"
                                },
                                {
                                    "Dvd címe": "The Settlers IV. (2001)",
                                    "Előfordulás": "1"
                                },
                                {
                                    "Dvd címe": "The Sims",
                                    "Előfordulás": "1"
                                },
                                {
                                    "Dvd címe": "Timeshock!",
                                    "Előfordulás": "1"
                                },
                                {
                                    "Dvd címe": "Tomi megmenti a tengert (2000)",
                                    "Előfordulás": "1"
                                },
                                {
                                    "Dvd címe": "Touché - The Adventures of the Fifth",
                                    "Előfordulás": "1"
                                },
                                {
                                    "Dvd címe": "Toy Story 2.",
                                    "Előfordulás": "1"
                                },
                                {
                                    "Dvd címe": "Történelem (1998)",
                                    "Előfordulás": "1"
                                },
                                {
                                    "Dvd címe": "Történelem : 10-14 éveseknek (2002)",
                                    "Előfordulás": "1"
                                },
                                {
                                    "Dvd címe": "Történelem : középiskola 1. osztály (2002)",
                                    "Előfordulás": "1"
                                },
                                {
                                    "Dvd címe": "Történelem : középiskola 4. osztály (2002)",
                                    "Előfordulás": "1"
                                },
                                {
                                    "Dvd címe": "Traffic Giant",
                                    "Előfordulás": "1"
                                },
                                {
                                    "Dvd címe": "Train Simulator (2002)",
                                    "Előfordulás": "1"
                                },
                                {
                                    "Dvd címe": "Trickstyle",
                                    "Előfordulás": "1"
                                },
                                {
                                    "Dvd címe": "Turul : 1883-1900 (2002)",
                                    "Előfordulás": "1"
                                },
                                {
                                    "Dvd címe": "UEFA Champions Leage Season",
                                    "Előfordulás": "1"
                                },
                                {
                                    "Dvd címe": "Új Könyvek 1994-2000 (2002)",
                                    "Előfordulás": "1"
                                },
                                {
                                    "Dvd címe": "Utazás a csillagok között (1998)",
                                    "Előfordulás": "1"
                                },
                                {
                                    "Dvd címe": "Utazás a Naprendszerben",
                                    "Előfordulás": "1"
                                },
                                {
                                    "Dvd címe": "Utazás a Naprendszerben 2.",
                                    "Előfordulás": "1"
                                },
                                {
                                    "Dvd címe": "Úton 2. (1998)",
                                    "Előfordulás": "1"
                                },
                                {
                                    "Dvd címe": "Üzleti protokoll CD (2002)",
                                    "Előfordulás": "1"
                                },
                                {
                                    "Dvd címe": "Várak, kastélyok, legendák 1.",
                                    "Előfordulás": "1"
                                },
                                {
                                    "Dvd címe": "Várak, kastélyok, legendák 2. (2002)",
                                    "Előfordulás": "1"
                                },
                                {
                                    "Dvd címe": "Varázslatos szülinap",
                                    "Előfordulás": "1"
                                },
                                {
                                    "Dvd címe": "Varázslatos történelmi nyomozás",
                                    "Előfordulás": "1"
                                },
                                {
                                    "Dvd címe": "Világatlasz (2001)",
                                    "Előfordulás": "1"
                                },
                                {
                                    "Dvd címe": "Angol szótár (1996)",
                                    "Előfordulás": "1"
                                },
                                {
                                    "Dvd címe": "Angol-magyar nagyszótár (Halász Előd)",
                                    "Előfordulás": "1"
                                },
                                {
                                    "Dvd címe": "Angol-magyar, Magyar-angol hangosszótár",
                                    "Előfordulás": "1"
                                },
                                {
                                    "Dvd címe": "Arany János: A bajusz (2002)",
                                    "Előfordulás": "1"
                                },
                                {
                                    "Dvd címe": "Art Attack (1998)",
                                    "Előfordulás": "1"
                                },
                                {
                                    "Dvd címe": "Art puzzle (1998)",
                                    "Előfordulás": "1"
                                },
                                {
                                    "Dvd címe": "Ausztrália",
                                    "Előfordulás": "1"
                                },
                                {
                                    "Dvd címe": "Auto 2000 - Kerékvilág",
                                    "Előfordulás": "1"
                                },
                                {
                                    "Dvd címe": "Az 1848-1849-iki szabadságharc története (2002)",
                                    "Előfordulás": "1"
                                },
                                {
                                    "Dvd címe": "Az áramvonalas fakanál",
                                    "Előfordulás": "1"
                                },
                                {
                                    "Dvd címe": "Az Árpád-ház története",
                                    "Előfordulás": "1"
                                },
                                {
                                    "Dvd címe": "Az ásványok világa",
                                    "Előfordulás": "1"
                                },
                                {
                                    "Dvd címe": "Az ember tragédiája",
                                    "Előfordulás": "1"
                                },
                                {
                                    "Dvd címe": "Az ipari forradalom kora (2000)",
                                    "Előfordulás": "1"
                                },
                                {
                                    "Dvd címe": "Az óceán világa - Maldiv szigetek (2000)",
                                    "Előfordulás": "1"
                                },
                                {
                                    "Dvd címe": "Az Országos Széchényi Könyvtár corvinái, 2002 (2002)",
                                    "Előfordulás": "1"
                                },
                                {
                                    "Dvd címe": "Az Osztrák-Magyar Monarchia írásban és képekben (2001)",
                                    "Előfordulás": "1"
                                },
                                {
                                    "Dvd címe": "Az Univerzum története",
                                    "Előfordulás": "1"
                                },
                                {
                                    "Dvd címe": "Ázsia (2000)",
                                    "Előfordulás": "1"
                                },
                                {
                                    "Dvd címe": "Biblia (1995)",
                                    "Előfordulás": "1"
                                },
                                {
                                    "Dvd címe": "Biológia (2000)",
                                    "Előfordulás": "1"
                                },
                                {
                                    "Dvd címe": "Biológia (2001)",
                                    "Előfordulás": "1"
                                },
                                {
                                    "Dvd címe": "Biológia : 12-14 éveseknek (2003)",
                                    "Előfordulás": "1"
                                },
                                {
                                    "Dvd címe": "Biológia '97",
                                    "Előfordulás": "1"
                                },
                                {
                                    "Dvd címe": "Blinky Bill : A fantasztikus léggömbkaland",
                                    "Előfordulás": "1"
                                },
                                {
                                    "Dvd címe": "Broken Sword II. (cop. 1997)",
                                    "Előfordulás": "1"
                                },
                                {
                                    "Dvd címe": "Budapest kalauz",
                                    "Előfordulás": "1"
                                },
                                {
                                    "Dvd címe": "Budapest Museum",
                                    "Előfordulás": "1"
                                },
                                {
                                    "Dvd címe": "Buggy",
                                    "Előfordulás": "1"
                                },
                                {
                                    "Dvd címe": "Byte Magyarország (2002)",
                                    "Előfordulás": "1"
                                },
                                {
                                    "Dvd címe": "Caesar III.",
                                    "Előfordulás": "1"
                                },
                                {
                                    "Dvd címe": "Capitalism II. (2001)",
                                    "Előfordulás": "1"
                                },
                                {
                                    "Dvd címe": "Capitalism Plus",
                                    "Előfordulás": "1"
                                },
                                {
                                    "Dvd címe": "Castle Explorer",
                                    "Előfordulás": "1"
                                },
                                {
                                    "Dvd címe": "CD Panoráma 1-4. (1998)",
                                    "Előfordulás": "1"
                                },
                                {
                                    "Dvd címe": "Computer iskola (1998)",
                                    "Előfordulás": "1"
                                },
                                {
                                    "Dvd címe": "Csizmás kandúr (1998)",
                                    "Előfordulás": "1"
                                },
                                {
                                    "Dvd címe": "Csodálatos univerzum (1997)",
                                    "Előfordulás": "1"
                                },
                                {
                                    "Dvd címe": "Dél-Amerika (1999)",
                                    "Előfordulás": "1"
                                },
                                {
                                    "Dvd címe": "Dementia 1-5. (1997)",
                                    "Előfordulás": "1"
                                },
                                {
                                    "Dvd címe": "Deutsch: Anfanger (kezdő) + Telepítő ",
                                    "Előfordulás": "1"
                                },
                                {
                                    "Dvd címe": "Deutsch: Fortgeschrittene (haladó) + Installation",
                                    "Előfordulás": "1"
                                },
                                {
                                    "Dvd címe": "Deutsch: Mittelstufe (középhaladó)+ Telepítő",
                                    "Előfordulás": "1"
                                },
                                {
                                    "Dvd címe": "Diablo",
                                    "Előfordulás": "1"
                                },
                                {
                                    "Dvd címe": "Diablo II. (2000)",
                                    "Előfordulás": "1"
                                },
                                {
                                    "Dvd címe": "Dicső napok és hétköznapok 1848 - Digitális forrásgyűjtemény 1.",
                                    "Előfordulás": "1"
                                },
                                {
                                    "Dvd címe": "Dreams to Reality 1-2. (1997)",
                                    "Előfordulás": "1"
                                },
                                {
                                    "Dvd címe": "Duke Nukem 3D",
                                    "Előfordulás": "1"
                                },
                                {
                                    "Dvd címe": "Dungeon Keeper 2. (1999)",
                                    "Előfordulás": "1"
                                },
                                {
                                    "Dvd címe": "E-Games : Collector's Edition (2001)",
                                    "Előfordulás": "1"
                                },
                                {
                                    "Dvd címe": "Éléstár (1998)",
                                    "Előfordulás": "1"
                                },
                                {
                                    "Dvd címe": "Élet a polgárosodó Magyarországon (2001)",
                                    "Előfordulás": "1"
                                },
                                {
                                    "Dvd címe": "Életképek 1848 (1998)",
                                    "Előfordulás": "1"
                                },
                                {
                                    "Dvd címe": "Encarta World Atlas '99 1-2. (1998)",
                                    "Előfordulás": "1"
                                },
                                {
                                    "Dvd címe": "Enemy Engaged RAH-66",
                                    "Előfordulás": "1"
                                },
                                {
                                    "Dvd címe": "English 1-2. + Telepítő",
                                    "Előfordulás": "1"
                                },
                                {
                                    "Dvd címe": "English by Stealth  lásd: Lopva angolul",
                                    "Előfordulás": "1"
                                },
                                {
                                    "Dvd címe": "English: Intermediate (haladó)",
                                    "Előfordulás": "1"
                                },
                                {
                                    "Dvd címe": "Erdély (1996)",
                                    "Előfordulás": "1"
                                },
                                {
                                    "Dvd címe": "Espanol: Intermedio + Telepítő",
                                    "Előfordulás": "1"
                                },
                                {
                                    "Dvd címe": "Espanol: Principiante + Telepítő",
                                    "Előfordulás": "1"
                                },
                                {
                                    "Dvd címe": "Észak-Amerika",
                                    "Előfordulás": "1"
                                },
                                {
                                    "Dvd címe": "Európa",
                                    "Előfordulás": "1"
                                },
                                {
                                    "Dvd címe": "Felvételi példatár : Angol",
                                    "Előfordulás": "1"
                                },
                                {
                                    "Dvd címe": "Felvételi példatár : Biológia, földrajz",
                                    "Előfordulás": "1"
                                },
                                {
                                    "Dvd címe": "Felvételi példatár : Kémia, fizika",
                                    "Előfordulás": "1"
                                },
                                {
                                    "Dvd címe": "Felvételi példatár : Magyar nyelv és irodalom",
                                    "Előfordulás": "1"
                                },
                                {
                                    "Dvd címe": "Felvételi példatár : Matematika",
                                    "Előfordulás": "1"
                                },
                                {
                                    "Dvd címe": "Felvételi példatár : Német",
                                    "Előfordulás": "1"
                                },
                                {
                                    "Dvd címe": "FIFA, 2000 (1999)",
                                    "Előfordulás": "1"
                                },
                                {
                                    "Dvd címe": "Fighting Force (1998)",
                                    "Előfordulás": "1"
                                },
                                {
                                    "Dvd címe": "Final Liberation (1997)",
                                    "Előfordulás": "1"
                                },
                                {
                                    "Dvd címe": "Fitness mesterfokon / Béres Alexandra (2001)",
                                    "Előfordulás": "1"
                                },
                                {
                                    "Dvd címe": "Fizika : 12-14 éveseknek (2002)",
                                    "Előfordulás": "1"
                                },
                                {
                                    "Dvd címe": "Fizika felkészítő az érettségi és felvételi vizsgára",
                                    "Előfordulás": "1"
                                },
                                {
                                    "Dvd címe": "Fizika világa (2001)",
                                    "Előfordulás": "1"
                                },
                                {
                                    "Dvd címe": "Földrajz: 10-14 éveseknek (2002)",
                                    "Előfordulás": "1"
                                },
                                {
                                    "Dvd címe": "Földrajz: érettségi előkészítő (2002)",
                                    "Előfordulás": "1"
                                },
                                {
                                    "Dvd címe": "Francais 1-2. + Telepítő",
                                    "Előfordulás": "1"
                                },
                                {
                                    "Dvd címe": "Francais: Débutan (kezdő) + Telepítő",
                                    "Előfordulás": "1"
                                },
                                {
                                    "Dvd címe": "Francais: Moyen + Telepítő",
                                    "Előfordulás": "1"
                                },
                                {
                                    "Dvd címe": "Francia-magyar szótár",
                                    "Előfordulás": "1"
                                },
                                {
                                    "Dvd címe": "Funschool in Dreamland (1995)",
                                    "Előfordulás": "1"
                                },
                                {
                                    "Dvd címe": "Geolexikon 4.2 : földtani adatbázis (2002)",
                                    "Előfordulás": "1"
                                },
                                {
                                    "Dvd címe": "Gépírás 2000",
                                    "Előfordulás": "1"
                                },
                                {
                                    "Dvd címe": "Gondolattár: aforizmák, szállóigék",
                                    "Előfordulás": "1"
                                },
                                {
                                    "Dvd címe": "GTA 2",
                                    "Előfordulás": "1"
                                },
                                {
                                    "Dvd címe": "Hadiflották I. (2002)",
                                    "Előfordulás": "1"
                                },
                                {
                                    "Dvd címe": "Hadtudományi lexikon (1998)",
                                    "Előfordulás": "1"
                                },
                                {
                                    "Dvd címe": "Hajdúböszörmény",
                                    "Előfordulás": "1"
                                },
                                {
                                    "Dvd címe": "Halak, kétéltűek, hüllők",
                                    "Előfordulás": "1"
                                },
                                {
                                    "Dvd címe": "Half-Life (1996)",
                                    "Előfordulás": "1"
                                },
                                {
                                    "Dvd címe": "Half-Life Generation: Blue Shift (2002)",
                                    "Előfordulás": "1"
                                },
                                {
                                    "Dvd címe": "Half-Life Generation: Counter Strike (2002)",
                                    "Előfordulás": "1"
                                },
                                {
                                    "Dvd címe": "Half-Life Generation: Game of the Year Edition (2002)",
                                    "Előfordulás": "1"
                                },
                                {
                                    "Dvd címe": "Harry Potter és a bölcsek köve (2001)",
                                    "Előfordulás": "1"
                                },
                                {
                                    "Dvd címe": "Haza és haladás",
                                    "Előfordulás": "1"
                                },
                                {
                                    "Dvd címe": "Home Desing 3D (1998)",
                                    "Előfordulás": "1"
                                },
                                {
                                    "Dvd címe": "Hupikék törpikék: teletransportörp (1999)",
                                    "Előfordulás": "1"
                                },
                                {
                                    "Dvd címe": "Informatika - Internet - Iskola",
                                    "Előfordulás": "1"
                                },
                                {
                                    "Dvd címe": "Interaktív angol nyelvész kurzus haladó szint 1-5.",
                                    "Előfordulás": "1"
                                },
                                {
                                    "Dvd címe": "Interaktív angol nyelvész kurzus kezdő szint",
                                    "Előfordulás": "1"
                                },
                                {
                                    "Dvd címe": "Interaktív angol nyelvész kurzus középhaladó szint",
                                    "Előfordulás": "1"
                                },
                                {
                                    "Dvd címe": "Interaktív magyar nyelvtan",
                                    "Előfordulás": "1"
                                },
                                {
                                    "Dvd címe": "International Rally Championship",
                                    "Előfordulás": "1"
                                },
                                {
                                    "Dvd címe": "Internet (1996)",
                                    "Előfordulás": "1"
                                },
                                {
                                    "Dvd címe": "Introduction to Archeology",
                                    "Előfordulás": "1"
                                },
                                {
                                    "Dvd címe": "Investigating 20th Century Art (1994)",
                                    "Előfordulás": "1"
                                },
                                {
                                    "Dvd címe": "Irodalmi arcképcsarnok",
                                    "Előfordulás": "1"
                                },
                                {
                                    "Dvd címe": "Irodalom  felkészítő az érettségi és felvételi vizsgára",
                                    "Előfordulás": "1"
                                },
                                {
                                    "Dvd címe": "Irodalom (1998)",
                                    "Előfordulás": "1"
                                },
                                {
                                    "Dvd címe": "Italiano (1998) + Installation",
                                    "Előfordulás": "1"
                                }
                            ]
                        },
                        "text/html": [
                            "<table>",
                            "<tr><th>Dvd címe</th><th>Előfordulás</th></tr>",
                            "<tr><td>Angol szótanító CD-ROM</td><td>2</td></tr>",
                            "<tr><td>Manó Muzsika</td><td>2</td></tr>",
                            "<tr><td>Italiano 1-2. (1998) + Installation</td><td>2</td></tr>",
                            "<tr><td>Magyarország, 1944-1956 (2001)</td><td>2</td></tr>",
                            "<tr><td>Világatlasz '99 (1998)</td><td>2</td></tr>",
                            "<tr><td>Manó Matek 2. (1999)</td><td>2</td></tr>",
                            "<tr><td>Manó Matek 3.</td><td>1</td></tr>",
                            "<tr><td>Világirodalom : Az ókortól napjainkig (2001)</td><td>1</td></tr>",
                            "<tr><td>Volt egyszer egy Magyarország</td><td>1</td></tr>",
                            "<tr><td>Warcraft III. (2002)</td><td>1</td></tr>",
                            "<tr><td>William Shakespeare összes művei</td><td>1</td></tr>",
                            "<tr><td>Zielpunkt Deutsch (1997)</td><td>1</td></tr>",
                            "<tr><td>Zöld Ödön a földgömbön</td><td>1</td></tr>",
                            "<tr><td>Magyarországi várak (1998)</td><td>1</td></tr>",
                            "<tr><td>Mahjongg Master (1998)</td><td>1</td></tr>",
                            "<tr><td>Manó Angol 1.</td><td>1</td></tr>",
                            "<tr><td>Manó Angol 1. (2002)</td><td>1</td></tr>",
                            "<tr><td>Manó Angol 2.</td><td>1</td></tr>",
                            "<tr><td>Manó Angol 2. (2000)</td><td>1</td></tr>",
                            "<tr><td>Manó Élővilág</td><td>1</td></tr>",
                            "<tr><td>Manó Élővilág (2002)</td><td>1</td></tr>",
                            "<tr><td>Manó IQ (2001)</td><td>1</td></tr>",
                            "<tr><td>Manó Kaland (2002)</td><td>1</td></tr>",
                            "<tr><td>Manó Magyarország (2002)</td><td>1</td></tr>",
                            "<tr><td>Manó Matek 1.</td><td>1</td></tr>",
                            "<tr><td>Manó Matek 1. (2002)</td><td>1</td></tr>",
                            "<tr><td>3D Dinosaur - adventure</td><td>1</td></tr>",
                            "<tr><td>3D virtuális origami (2000)</td><td>1</td></tr>",
                            "<tr><td>A Föld élővilága</td><td>1</td></tr>",
                            "<tr><td>A hét világcsoda (2001)</td><td>1</td></tr>",
                            "<tr><td>A II. világháború története (1999)</td><td>1</td></tr>",
                            "<tr><td>A jövő titkai - Interaktív horoszkóp (1998)</td><td>1</td></tr>",
                            "<tr><td>A kémkedés és a hírszerzés története (2002)</td><td>1</td></tr>",
                            "<tr><td>A kőszívű ember fiai - Egri csillagok</td><td>1</td></tr>",
                            "<tr><td>A kutyák: A család kedvencei</td><td>1</td></tr>",
                            "<tr><td>A Magyar Koronázási Jelvények</td><td>1</td></tr>",
                            "<tr><td>A Nagybányai Festőiskola (1998)</td><td>1</td></tr>",
                            "<tr><td>A szabadságharc népzenei emlékei</td><td>1</td></tr>",
                            "<tr><td>A tudás próbája (2001)</td><td>1</td></tr>",
                            "<tr><td>A varázslatos emberi test (1998)</td><td>1</td></tr>",
                            "<tr><td>A városi élet a Római Birodalomban (1999)</td><td>1</td></tr>",
                            "<tr><td>A Vazul-ág (1038-1301) (1997)</td><td>1</td></tr>",
                            "<tr><td>Ablak zsiráf (1999)</td><td>1</td></tr>",
                            "<tr><td>Ady Endre összes művei (1999)</td><td>1</td></tr>",
                            "<tr><td>Afrika</td><td>1</td></tr>",
                            "<tr><td>Age of Empires (2000)</td><td>1</td></tr>",
                            "<tr><td>Airport Inc.</td><td>1</td></tr>",
                            "<tr><td>American Rodeo : BullRider 2000 (2001)</td><td>1</td></tr>",
                            "<tr><td>Angol : 8-10 éveseknek (2002)</td><td>1</td></tr>",
                            "<tr><td>Angol és német nyelvtani gyakorlatok (2002)</td><td>1</td></tr>",
                            "<tr><td>Jancsó</td><td>1</td></tr>",
                            "<tr><td>Japán : képes kulturális atlasz (2001)</td><td>1</td></tr>",
                            "<tr><td>Játékfilmek 1963-tól napjainkig</td><td>1</td></tr>",
                            "<tr><td>Játszóház (1998)</td><td>1</td></tr>",
                            "<tr><td>Jókai összes művei (2001)</td><td>1</td></tr>",
                            "<tr><td>József Attila (1998)</td><td>1</td></tr>",
                            "<tr><td>Kártyaváros</td><td>1</td></tr>",
                            "<tr><td>Kémia Kalauz 2.</td><td>1</td></tr>",
                            "<tr><td>Képes krónika (1996)</td><td>1</td></tr>",
                            "<tr><td>Képtárak (1995)</td><td>1</td></tr>",
                            "<tr><td>Kereszt és félhold</td><td>1</td></tr>",
                            "<tr><td>Kétfejű sas: A Habsburg-uralom Magyarországon (1699-1790)</td><td>1</td></tr>",
                            "<tr><td>Kettős kötődés: Az Osztrák-Magyar Monarchia (1867-1918)</td><td>1</td></tr>",
                            "<tr><td>Kínai falatok</td><td>1</td></tr>",
                            "<tr><td>Királyi könyvek 18-26. kötet</td><td>1</td></tr>",
                            "<tr><td>Királyi könyvek 1-9. kötet</td><td>1</td></tr>",
                            "<tr><td>Királyi könyvek 27-38. kötet : 1703-1740 (2002)</td><td>1</td></tr>",
                            "<tr><td>Kispál és a borz (1998)</td><td>1</td></tr>",
                            "<tr><td>Kossuth Lajos összes munkái (2002)</td><td>1</td></tr>",
                            "<tr><td>Környezetvédelmi kalauz (1999)</td><td>1</td></tr>",
                            "<tr><td>Kötelező olvasmányok könyvtára 1. (2002)</td><td>1</td></tr>",
                            "<tr><td>Kutyatár</td><td>1</td></tr>",
                            "<tr><td>KvízIQ : A hét világcsoda (2001)</td><td>1</td></tr>",
                            "<tr><td>Lakáskultúra 1996 (1996)</td><td>1</td></tr>",
                            "<tr><td>Lakáskultúra 1997 (1997)</td><td>1</td></tr>",
                            "<tr><td>Lakáskultúra 1998 (1998)</td><td>1</td></tr>",
                            "<tr><td>Lakáskultúra 1999 (1999)</td><td>1</td></tr>",
                            "<tr><td>Lakáskultúra 2000 (2000)</td><td>1</td></tr>",
                            "<tr><td>Lands of Lore II. 1-4. (1997)</td><td>1</td></tr>",
                            "<tr><td>Landscape Design 3D (1998)</td><td>1</td></tr>",
                            "<tr><td>Legféltettebb természeti értékeink</td><td>1</td></tr>",
                            "<tr><td>Legszebb vadnövényeink</td><td>1</td></tr>",
                            "<tr><td>Leonardo da Vinci</td><td>1</td></tr>",
                            "<tr><td>Lilenthal Andor sakkjátszmái</td><td>1</td></tr>",
                            "<tr><td>Lopva angolul /English by Stealth 1.</td><td>1</td></tr>",
                            "<tr><td>Lopva angolul /English by Stealth 2.</td><td>1</td></tr>",
                            "<tr><td>Lopva angolul /English by Stealth 3.</td><td>1</td></tr>",
                            "<tr><td>Lovagkirályok (1301-1437) (1997)</td><td>1</td></tr>",
                            "<tr><td>LoveQ, SexQ : szerelmi intelligencia (2001)</td><td>1</td></tr>",
                            "<tr><td>M1 Tank (1998)</td><td>1</td></tr>",
                            "<tr><td>Mackó úr (2002)</td><td>1</td></tr>",
                            "<tr><td>Madárdalos kirándulások - Madártani oktató CD-ROM (1999)</td><td>1</td></tr>",
                            "<tr><td>Magyar bélyegek katalógusa</td><td>1</td></tr>",
                            "<tr><td>Magyar fontok '97</td><td>1</td></tr>",
                            "<tr><td>Magyar nyelv és irodalom</td><td>1</td></tr>",
                            "<tr><td>Magyar színházművészet a világban</td><td>1</td></tr>",
                            "<tr><td>Magyarország Nemzeti Parkjai I.</td><td>1</td></tr>",
                            "<tr><td>Magyarország Nemzeti Parkjai II.</td><td>1</td></tr>",
                            "<tr><td>Manó Német 2.</td><td>1</td></tr>",
                            "<tr><td>Manó Olvasás 1.</td><td>1</td></tr>",
                            "<tr><td>Manó Puzzle (2002)</td><td>1</td></tr>",
                            "<tr><td>Matematika (1998)</td><td>1</td></tr>",
                            "<tr><td>Matematika felkészítő az érettségi és felvételi vizsgára</td><td>1</td></tr>",
                            "<tr><td>Matematika kalauz (1997)</td><td>1</td></tr>",
                            "<tr><td>Mig-29 (1998)</td><td>1</td></tr>",
                            "<tr><td>Mikszáth Kálmán összes művei</td><td>1</td></tr>",
                            "<tr><td>Mini Manó Tavasz</td><td>1</td></tr>",
                            "<tr><td>MoBi Mouse: A fordító egér</td><td>1</td></tr>",
                            "<tr><td>Monopoly Junior</td><td>1</td></tr>",
                            "<tr><td>Mons Sacer Pannoniae (2001)</td><td>1</td></tr>",
                            "<tr><td>Moving Puzzle Action Flight (2000)</td><td>1</td></tr>",
                            "<tr><td>Multimédiás Menedzsment Könyvtár 1. - Változásmenedzsment</td><td>1</td></tr>",
                            "<tr><td>Multimédiás Menedzsment Könyvtár 2. - Önszervezés</td><td>1</td></tr>",
                            "<tr><td>Musique! (1997)</td><td>1</td></tr>",
                            "<tr><td>Művészet és mesterség</td><td>1</td></tr>",
                            "<tr><td>Művészet és művészek (2002)</td><td>1</td></tr>",
                            "<tr><td>Na, So Was? - Minden helyzetben otthonosan</td><td>1</td></tr>",
                            "<tr><td>Nagy képes világtörténet (Matczáli Henrik) (1998)</td><td>1</td></tr>",
                            "<tr><td>Nagy vicc tár</td><td>1</td></tr>",
                            "<tr><td>NASA 1.</td><td>1</td></tr>",
                            "<tr><td>NASA 2.</td><td>1</td></tr>",
                            "<tr><td>Német : 8-10 éveseknek (2002)</td><td>1</td></tr>",
                            "<tr><td>Német szótanító CD-ROM</td><td>1</td></tr>",
                            "<tr><td>Németh László összes műve</td><td>1</td></tr>",
                            "<tr><td>New York : a tragédiák városa (2001)</td><td>1</td></tr>",
                            "<tr><td>NHL 2001</td><td>1</td></tr>",
                            "<tr><td>Nincs királyi út - A matematika kultúrtörténete</td><td>1</td></tr>",
                            "<tr><td>Nyelvész : Angol és német haladóknak (1997)</td><td>1</td></tr>",
                            "<tr><td>Nyelvtan összefoglaló : érettségi előkészítő (2002)</td><td>1</td></tr>",
                            "<tr><td>Ókori lexikon</td><td>1</td></tr>",
                            "<tr><td>Olasz szótanító CD-ROM</td><td>1</td></tr>",
                            "<tr><td>Olasz-magyar, magyar-olasz digitális szótár</td><td>1</td></tr>",
                            "<tr><td>Orosz (1998)</td><td>1</td></tr>",
                            "<tr><td>Orosz-magyar nagyszótár</td><td>1</td></tr>",
                            "<tr><td>Paddle Bash (2001)</td><td>1</td></tr>",
                            "<tr><td>Pannon Enciklopédia (1998)</td><td>1</td></tr>",
                            "<tr><td>Pannonhalmi Főapátság (2001)</td><td>1</td></tr>",
                            "<tr><td>Panzer General III: Scorched Earth (2000)</td><td>1</td></tr>",
                            "<tr><td>People's General (1998)</td><td>1</td></tr>",
                            "<tr><td>Petőfi Sándor összes költeményei</td><td>1</td></tr>",
                            "<tr><td>Petőfi Sándor: Arany Lacinak (2002)</td><td>1</td></tr>",
                            "<tr><td>Plane Crazy</td><td>1</td></tr>",
                            "<tr><td>Quake III. (2001)</td><td>1</td></tr>",
                            "<tr><td>Rákóczi-szabadságharc</td><td>1</td></tr>",
                            "<tr><td>Rally Championship</td><td>1</td></tr>",
                            "<tr><td>Rayman: Matek és olvasás</td><td>1</td></tr>",
                            "<tr><td>Re-Volt (1999)</td><td>1</td></tr>",
                            "<tr><td>Shanghai (1997)</td><td>1</td></tr>",
                            "<tr><td>Sonic Racer</td><td>1</td></tr>",
                            "<tr><td>Spanyol (1997)</td><td>1</td></tr>",
                            "<tr><td>Spanyol-magyar szótár</td><td>1</td></tr>",
                            "<tr><td>Star Wars : Rogue Squadron 3D</td><td>1</td></tr>",
                            "<tr><td>Star Wars: Battle for Naboo</td><td>1</td></tr>",
                            "<tr><td>Star Wars: Force Commander (2001)</td><td>1</td></tr>",
                            "<tr><td>Supreme Snowboarding</td><td>1</td></tr>",
                            "<tr><td>Szabadítsd ki a kisoroszlánt!</td><td>1</td></tr>",
                            "<tr><td>Szabadságharc 1848-49 (1988)</td><td>1</td></tr>",
                            "<tr><td>Szolfézs: Kezdőknek és haladóknak</td><td>1</td></tr>",
                            "<tr><td>Talk To Me Deutsch 2-4.</td><td>1</td></tr>",
                            "<tr><td>Talk To Me English 1.</td><td>1</td></tr>",
                            "<tr><td>Talk To Me Francais 1-2.</td><td>1</td></tr>",
                            "<tr><td>Tankok, tüzérség (2002)</td><td>1</td></tr>",
                            "<tr><td>Tanulj tovább! 2000 (2000)</td><td>1</td></tr>",
                            "<tr><td>Táplálkozás, életmód mesterfokon (2002)</td><td>1</td></tr>",
                            "<tr><td>Target English (1998)</td><td>1</td></tr>",
                            "<tr><td>Tarzan</td><td>1</td></tr>",
                            "<tr><td>Terrorizmus (2002)</td><td>1</td></tr>",
                            "<tr><td>Testbeszéd (1998)</td><td>1</td></tr>",
                            "<tr><td>Tesztre készen: angol (1998)</td><td>1</td></tr>",
                            "<tr><td>Tesztre készen: német (1998)</td><td>1</td></tr>",
                            "<tr><td>Thaiföldi ízek (1999)</td><td>1</td></tr>",
                            "<tr><td>The F.A. Premier League Stars 2001</td><td>1</td></tr>",
                            "<tr><td>The Settlers III. 1-2. (1998)</td><td>1</td></tr>",
                            "<tr><td>The Settlers IV. (2001)</td><td>1</td></tr>",
                            "<tr><td>The Sims</td><td>1</td></tr>",
                            "<tr><td>Timeshock!</td><td>1</td></tr>",
                            "<tr><td>Tomi megmenti a tengert (2000)</td><td>1</td></tr>",
                            "<tr><td>Touché - The Adventures of the Fifth</td><td>1</td></tr>",
                            "<tr><td>Toy Story 2.</td><td>1</td></tr>",
                            "<tr><td>Történelem (1998)</td><td>1</td></tr>",
                            "<tr><td>Történelem : 10-14 éveseknek (2002)</td><td>1</td></tr>",
                            "<tr><td>Történelem : középiskola 1. osztály (2002)</td><td>1</td></tr>",
                            "<tr><td>Történelem : középiskola 4. osztály (2002)</td><td>1</td></tr>",
                            "<tr><td>Traffic Giant</td><td>1</td></tr>",
                            "<tr><td>Train Simulator (2002)</td><td>1</td></tr>",
                            "<tr><td>Trickstyle</td><td>1</td></tr>",
                            "<tr><td>Turul : 1883-1900 (2002)</td><td>1</td></tr>",
                            "<tr><td>UEFA Champions Leage Season</td><td>1</td></tr>",
                            "<tr><td>Új Könyvek 1994-2000 (2002)</td><td>1</td></tr>",
                            "<tr><td>Utazás a csillagok között (1998)</td><td>1</td></tr>",
                            "<tr><td>Utazás a Naprendszerben</td><td>1</td></tr>",
                            "<tr><td>Utazás a Naprendszerben 2.</td><td>1</td></tr>",
                            "<tr><td>Úton 2. (1998)</td><td>1</td></tr>",
                            "<tr><td>Üzleti protokoll CD (2002)</td><td>1</td></tr>",
                            "<tr><td>Várak, kastélyok, legendák 1.</td><td>1</td></tr>",
                            "<tr><td>Várak, kastélyok, legendák 2. (2002)</td><td>1</td></tr>",
                            "<tr><td>Varázslatos szülinap</td><td>1</td></tr>",
                            "<tr><td>Varázslatos történelmi nyomozás</td><td>1</td></tr>",
                            "<tr><td>Világatlasz (2001)</td><td>1</td></tr>",
                            "<tr><td>Angol szótár (1996)</td><td>1</td></tr>",
                            "<tr><td>Angol-magyar nagyszótár (Halász Előd)</td><td>1</td></tr>",
                            "<tr><td>Angol-magyar, Magyar-angol hangosszótár</td><td>1</td></tr>",
                            "<tr><td>Arany János: A bajusz (2002)</td><td>1</td></tr>",
                            "<tr><td>Art Attack (1998)</td><td>1</td></tr>",
                            "<tr><td>Art puzzle (1998)</td><td>1</td></tr>",
                            "<tr><td>Ausztrália</td><td>1</td></tr>",
                            "<tr><td>Auto 2000 - Kerékvilág</td><td>1</td></tr>",
                            "<tr><td>Az 1848-1849-iki szabadságharc története (2002)</td><td>1</td></tr>",
                            "<tr><td>Az áramvonalas fakanál</td><td>1</td></tr>",
                            "<tr><td>Az Árpád-ház története</td><td>1</td></tr>",
                            "<tr><td>Az ásványok világa</td><td>1</td></tr>",
                            "<tr><td>Az ember tragédiája</td><td>1</td></tr>",
                            "<tr><td>Az ipari forradalom kora (2000)</td><td>1</td></tr>",
                            "<tr><td>Az óceán világa - Maldiv szigetek (2000)</td><td>1</td></tr>",
                            "<tr><td>Az Országos Széchényi Könyvtár corvinái, 2002 (2002)</td><td>1</td></tr>",
                            "<tr><td>Az Osztrák-Magyar Monarchia írásban és képekben (2001)</td><td>1</td></tr>",
                            "<tr><td>Az Univerzum története</td><td>1</td></tr>",
                            "<tr><td>Ázsia (2000)</td><td>1</td></tr>",
                            "<tr><td>Biblia (1995)</td><td>1</td></tr>",
                            "<tr><td>Biológia (2000)</td><td>1</td></tr>",
                            "<tr><td>Biológia (2001)</td><td>1</td></tr>",
                            "<tr><td>Biológia : 12-14 éveseknek (2003)</td><td>1</td></tr>",
                            "<tr><td>Biológia '97</td><td>1</td></tr>",
                            "<tr><td>Blinky Bill : A fantasztikus léggömbkaland</td><td>1</td></tr>",
                            "<tr><td>Broken Sword II. (cop. 1997)</td><td>1</td></tr>",
                            "<tr><td>Budapest kalauz</td><td>1</td></tr>",
                            "<tr><td>Budapest Museum</td><td>1</td></tr>",
                            "<tr><td>Buggy</td><td>1</td></tr>",
                            "<tr><td>Byte Magyarország (2002)</td><td>1</td></tr>",
                            "<tr><td>Caesar III.</td><td>1</td></tr>",
                            "<tr><td>Capitalism II. (2001)</td><td>1</td></tr>",
                            "<tr><td>Capitalism Plus</td><td>1</td></tr>",
                            "<tr><td>Castle Explorer</td><td>1</td></tr>",
                            "<tr><td>CD Panoráma 1-4. (1998)</td><td>1</td></tr>",
                            "<tr><td>Computer iskola (1998)</td><td>1</td></tr>",
                            "<tr><td>Csizmás kandúr (1998)</td><td>1</td></tr>",
                            "<tr><td>Csodálatos univerzum (1997)</td><td>1</td></tr>",
                            "<tr><td>Dél-Amerika (1999)</td><td>1</td></tr>",
                            "<tr><td>Dementia 1-5. (1997)</td><td>1</td></tr>",
                            "<tr><td>Deutsch: Anfanger (kezdő) + Telepítő </td><td>1</td></tr>",
                            "<tr><td>Deutsch: Fortgeschrittene (haladó) + Installation</td><td>1</td></tr>",
                            "<tr><td>Deutsch: Mittelstufe (középhaladó)+ Telepítő</td><td>1</td></tr>",
                            "<tr><td>Diablo</td><td>1</td></tr>",
                            "<tr><td>Diablo II. (2000)</td><td>1</td></tr>",
                            "<tr><td>Dicső napok és hétköznapok 1848 - Digitális forrásgyűjtemény 1.</td><td>1</td></tr>",
                            "<tr><td>Dreams to Reality 1-2. (1997)</td><td>1</td></tr>",
                            "<tr><td>Duke Nukem 3D</td><td>1</td></tr>",
                            "<tr><td>Dungeon Keeper 2. (1999)</td><td>1</td></tr>",
                            "<tr><td>E-Games : Collector's Edition (2001)</td><td>1</td></tr>",
                            "<tr><td>Éléstár (1998)</td><td>1</td></tr>",
                            "<tr><td>Élet a polgárosodó Magyarországon (2001)</td><td>1</td></tr>",
                            "<tr><td>Életképek 1848 (1998)</td><td>1</td></tr>",
                            "<tr><td>Encarta World Atlas '99 1-2. (1998)</td><td>1</td></tr>",
                            "<tr><td>Enemy Engaged RAH-66</td><td>1</td></tr>",
                            "<tr><td>English 1-2. + Telepítő</td><td>1</td></tr>",
                            "<tr><td>English by Stealth  lásd: Lopva angolul</td><td>1</td></tr>",
                            "<tr><td>English: Intermediate (haladó)</td><td>1</td></tr>",
                            "<tr><td>Erdély (1996)</td><td>1</td></tr>",
                            "<tr><td>Espanol: Intermedio + Telepítő</td><td>1</td></tr>",
                            "<tr><td>Espanol: Principiante + Telepítő</td><td>1</td></tr>",
                            "<tr><td>Észak-Amerika</td><td>1</td></tr>",
                            "<tr><td>Európa</td><td>1</td></tr>",
                            "<tr><td>Felvételi példatár : Angol</td><td>1</td></tr>",
                            "<tr><td>Felvételi példatár : Biológia, földrajz</td><td>1</td></tr>",
                            "<tr><td>Felvételi példatár : Kémia, fizika</td><td>1</td></tr>",
                            "<tr><td>Felvételi példatár : Magyar nyelv és irodalom</td><td>1</td></tr>",
                            "<tr><td>Felvételi példatár : Matematika</td><td>1</td></tr>",
                            "<tr><td>Felvételi példatár : Német</td><td>1</td></tr>",
                            "<tr><td>FIFA, 2000 (1999)</td><td>1</td></tr>",
                            "<tr><td>Fighting Force (1998)</td><td>1</td></tr>",
                            "<tr><td>Final Liberation (1997)</td><td>1</td></tr>",
                            "<tr><td>Fitness mesterfokon / Béres Alexandra (2001)</td><td>1</td></tr>",
                            "<tr><td>Fizika : 12-14 éveseknek (2002)</td><td>1</td></tr>",
                            "<tr><td>Fizika felkészítő az érettségi és felvételi vizsgára</td><td>1</td></tr>",
                            "<tr><td>Fizika világa (2001)</td><td>1</td></tr>",
                            "<tr><td>Földrajz: 10-14 éveseknek (2002)</td><td>1</td></tr>",
                            "<tr><td>Földrajz: érettségi előkészítő (2002)</td><td>1</td></tr>",
                            "<tr><td>Francais 1-2. + Telepítő</td><td>1</td></tr>",
                            "<tr><td>Francais: Débutan (kezdő) + Telepítő</td><td>1</td></tr>",
                            "<tr><td>Francais: Moyen + Telepítő</td><td>1</td></tr>",
                            "<tr><td>Francia-magyar szótár</td><td>1</td></tr>",
                            "<tr><td>Funschool in Dreamland (1995)</td><td>1</td></tr>",
                            "<tr><td>Geolexikon 4.2 : földtani adatbázis (2002)</td><td>1</td></tr>",
                            "<tr><td>Gépírás 2000</td><td>1</td></tr>",
                            "<tr><td>Gondolattár: aforizmák, szállóigék</td><td>1</td></tr>",
                            "<tr><td>GTA 2</td><td>1</td></tr>",
                            "<tr><td>Hadiflották I. (2002)</td><td>1</td></tr>",
                            "<tr><td>Hadtudományi lexikon (1998)</td><td>1</td></tr>",
                            "<tr><td>Hajdúböszörmény</td><td>1</td></tr>",
                            "<tr><td>Halak, kétéltűek, hüllők</td><td>1</td></tr>",
                            "<tr><td>Half-Life (1996)</td><td>1</td></tr>",
                            "<tr><td>Half-Life Generation: Blue Shift (2002)</td><td>1</td></tr>",
                            "<tr><td>Half-Life Generation: Counter Strike (2002)</td><td>1</td></tr>",
                            "<tr><td>Half-Life Generation: Game of the Year Edition (2002)</td><td>1</td></tr>",
                            "<tr><td>Harry Potter és a bölcsek köve (2001)</td><td>1</td></tr>",
                            "<tr><td>Haza és haladás</td><td>1</td></tr>",
                            "<tr><td>Home Desing 3D (1998)</td><td>1</td></tr>",
                            "<tr><td>Hupikék törpikék: teletransportörp (1999)</td><td>1</td></tr>",
                            "<tr><td>Informatika - Internet - Iskola</td><td>1</td></tr>",
                            "<tr><td>Interaktív angol nyelvész kurzus haladó szint 1-5.</td><td>1</td></tr>",
                            "<tr><td>Interaktív angol nyelvész kurzus kezdő szint</td><td>1</td></tr>",
                            "<tr><td>Interaktív angol nyelvész kurzus középhaladó szint</td><td>1</td></tr>",
                            "<tr><td>Interaktív magyar nyelvtan</td><td>1</td></tr>",
                            "<tr><td>International Rally Championship</td><td>1</td></tr>",
                            "<tr><td>Internet (1996)</td><td>1</td></tr>",
                            "<tr><td>Introduction to Archeology</td><td>1</td></tr>",
                            "<tr><td>Investigating 20th Century Art (1994)</td><td>1</td></tr>",
                            "<tr><td>Irodalmi arcképcsarnok</td><td>1</td></tr>",
                            "<tr><td>Irodalom  felkészítő az érettségi és felvételi vizsgára</td><td>1</td></tr>",
                            "<tr><td>Irodalom (1998)</td><td>1</td></tr>",
                            "<tr><td>Italiano (1998) + Installation</td><td>1</td></tr>",
                            "</table>"
                        ]
                    }
                }
            ],
            "execution_count": 20
        },
        {
            "cell_type": "code",
            "source": [
                "SELECT MIN(cim) as 'Abc sorrendben első',\r\n",
                "       MAX(cim) as 'Abc sorrendben utolsó'\r\n",
                "FROM dvd\r\n",
                "WHERE cim IS NOT NULL AND LEN(cim) >0"
            ],
            "metadata": {
                "language": "sql",
                "azdata_cell_guid": "bc26b7c4-04ec-4266-8b93-ec81857b984a"
            },
            "outputs": [
                {
                    "output_type": "display_data",
                    "data": {
                        "text/html": "(1 row affected)"
                    },
                    "metadata": {}
                },
                {
                    "output_type": "display_data",
                    "data": {
                        "text/html": "Total execution time: 00:00:00.011"
                    },
                    "metadata": {}
                },
                {
                    "output_type": "execute_result",
                    "metadata": {},
                    "execution_count": 4,
                    "data": {
                        "application/vnd.dataresource+json": {
                            "schema": {
                                "fields": [
                                    {
                                        "name": "Abc sorrendben első"
                                    },
                                    {
                                        "name": "Abc sorrendben utolsó"
                                    }
                                ]
                            },
                            "data": [
                                {
                                    "Abc sorrendben első": "3D Dinosaur - adventure",
                                    "Abc sorrendben utolsó": "Zöld Ödön a földgömbön"
                                }
                            ]
                        },
                        "text/html": [
                            "<table>",
                            "<tr><th>Abc sorrendben első</th><th>Abc sorrendben utolsó</th></tr>",
                            "<tr><td>3D Dinosaur - adventure</td><td>Zöld Ödön a földgömbön</td></tr>",
                            "</table>"
                        ]
                    }
                }
            ],
            "execution_count": 4
        },
        {
            "cell_type": "code",
            "source": [
                "SELECT MIN(LEN(cim)) as 'Legrövidebb cím hosza', \r\n",
                "       MAX(LEN(cim)) as 'Leghosszabb cím hossza', \r\n",
                "       AVG(LEN(cim)) as 'Átlagos címhossz'\r\n",
                "FROM dvd\r\n",
                "WHERE cim IS NOT NULL\r\n",
                "AND LEN(cim) > 0"
            ],
            "metadata": {
                "language": "sql",
                "azdata_cell_guid": "3443c927-7aa9-4dcf-b144-f893be5ffdfd"
            },
            "outputs": [
                {
                    "output_type": "display_data",
                    "data": {
                        "text/html": "(1 row affected)"
                    },
                    "metadata": {}
                },
                {
                    "output_type": "display_data",
                    "data": {
                        "text/html": "Total execution time: 00:00:00.010"
                    },
                    "metadata": {}
                },
                {
                    "output_type": "execute_result",
                    "metadata": {},
                    "execution_count": 7,
                    "data": {
                        "application/vnd.dataresource+json": {
                            "schema": {
                                "fields": [
                                    {
                                        "name": "Legrövidebb cím hosza"
                                    },
                                    {
                                        "name": "Leghosszabb cím hossza"
                                    },
                                    {
                                        "name": "Átlagos címhossz"
                                    }
                                ]
                            },
                            "data": [
                                {
                                    "Legrövidebb cím hosza": "5",
                                    "Leghosszabb cím hossza": "63",
                                    "Átlagos címhossz": "26"
                                }
                            ]
                        },
                        "text/html": [
                            "<table>",
                            "<tr><th>Legrövidebb cím hosza</th><th>Leghosszabb cím hossza</th><th>Átlagos címhossz</th></tr>",
                            "<tr><td>5</td><td>63</td><td>26</td></tr>",
                            "</table>"
                        ]
                    }
                }
            ],
            "execution_count": 7
        },
        {
            "cell_type": "code",
            "source": [
                "SELECT LEN(cim) as 'Cím hossza',\r\n",
                "       count(*) as 'Darab'\r\n",
                "FROM dvd\r\n",
                "WHERE cim IS NOT NULL\r\n",
                "GROUP BY LEN(cim)\r\n",
                "ORDER BY LEN(cim)"
            ],
            "metadata": {
                "azdata_cell_guid": "5bb3ab3e-c2d6-46d8-b879-a4b4b700b60d",
                "language": "sql"
            },
            "outputs": [
                {
                    "output_type": "display_data",
                    "data": {
                        "text/html": "(51 rows affected)"
                    },
                    "metadata": {}
                },
                {
                    "output_type": "display_data",
                    "data": {
                        "text/html": "Total execution time: 00:00:00.014"
                    },
                    "metadata": {}
                },
                {
                    "output_type": "execute_result",
                    "metadata": {},
                    "execution_count": 11,
                    "data": {
                        "application/vnd.dataresource+json": {
                            "schema": {
                                "fields": [
                                    {
                                        "name": "Cím hossza"
                                    },
                                    {
                                        "name": "Darab"
                                    }
                                ]
                            },
                            "data": [
                                {
                                    "Cím hossza": "5",
                                    "Darab": "2"
                                },
                                {
                                    "Cím hossza": "6",
                                    "Darab": "5"
                                },
                                {
                                    "Cím hossza": "7",
                                    "Darab": "2"
                                },
                                {
                                    "Cím hossza": "8",
                                    "Darab": "3"
                                },
                                {
                                    "Cím hossza": "10",
                                    "Darab": "3"
                                },
                                {
                                    "Cím hossza": "11",
                                    "Darab": "4"
                                },
                                {
                                    "Cím hossza": "12",
                                    "Darab": "8"
                                },
                                {
                                    "Cím hossza": "13",
                                    "Darab": "15"
                                },
                                {
                                    "Cím hossza": "14",
                                    "Darab": "6"
                                },
                                {
                                    "Cím hossza": "15",
                                    "Darab": "17"
                                },
                                {
                                    "Cím hossza": "16",
                                    "Darab": "4"
                                },
                                {
                                    "Cím hossza": "17",
                                    "Darab": "10"
                                },
                                {
                                    "Cím hossza": "18",
                                    "Darab": "9"
                                },
                                {
                                    "Cím hossza": "19",
                                    "Darab": "3"
                                },
                                {
                                    "Cím hossza": "20",
                                    "Darab": "14"
                                },
                                {
                                    "Cím hossza": "21",
                                    "Darab": "14"
                                },
                                {
                                    "Cím hossza": "22",
                                    "Darab": "17"
                                },
                                {
                                    "Cím hossza": "23",
                                    "Darab": "12"
                                },
                                {
                                    "Cím hossza": "24",
                                    "Darab": "16"
                                },
                                {
                                    "Cím hossza": "25",
                                    "Darab": "2"
                                },
                                {
                                    "Cím hossza": "26",
                                    "Darab": "14"
                                },
                                {
                                    "Cím hossza": "27",
                                    "Darab": "8"
                                },
                                {
                                    "Cím hossza": "28",
                                    "Darab": "10"
                                },
                                {
                                    "Cím hossza": "29",
                                    "Darab": "13"
                                },
                                {
                                    "Cím hossza": "30",
                                    "Darab": "7"
                                },
                                {
                                    "Cím hossza": "31",
                                    "Darab": "8"
                                },
                                {
                                    "Cím hossza": "32",
                                    "Darab": "11"
                                },
                                {
                                    "Cím hossza": "33",
                                    "Darab": "4"
                                },
                                {
                                    "Cím hossza": "34",
                                    "Darab": "7"
                                },
                                {
                                    "Cím hossza": "35",
                                    "Darab": "5"
                                },
                                {
                                    "Cím hossza": "36",
                                    "Darab": "9"
                                },
                                {
                                    "Cím hossza": "37",
                                    "Darab": "5"
                                },
                                {
                                    "Cím hossza": "38",
                                    "Darab": "2"
                                },
                                {
                                    "Cím hossza": "39",
                                    "Darab": "5"
                                },
                                {
                                    "Cím hossza": "40",
                                    "Darab": "3"
                                },
                                {
                                    "Cím hossza": "41",
                                    "Darab": "3"
                                },
                                {
                                    "Cím hossza": "42",
                                    "Darab": "5"
                                },
                                {
                                    "Cím hossza": "43",
                                    "Darab": "7"
                                },
                                {
                                    "Cím hossza": "44",
                                    "Darab": "4"
                                },
                                {
                                    "Cím hossza": "45",
                                    "Darab": "1"
                                },
                                {
                                    "Cím hossza": "47",
                                    "Darab": "3"
                                },
                                {
                                    "Cím hossza": "49",
                                    "Darab": "3"
                                },
                                {
                                    "Cím hossza": "50",
                                    "Darab": "2"
                                },
                                {
                                    "Cím hossza": "51",
                                    "Darab": "1"
                                },
                                {
                                    "Cím hossza": "52",
                                    "Darab": "2"
                                },
                                {
                                    "Cím hossza": "53",
                                    "Darab": "1"
                                },
                                {
                                    "Cím hossza": "54",
                                    "Darab": "1"
                                },
                                {
                                    "Cím hossza": "55",
                                    "Darab": "2"
                                },
                                {
                                    "Cím hossza": "56",
                                    "Darab": "2"
                                },
                                {
                                    "Cím hossza": "57",
                                    "Darab": "2"
                                },
                                {
                                    "Cím hossza": "63",
                                    "Darab": "1"
                                }
                            ]
                        },
                        "text/html": [
                            "<table>",
                            "<tr><th>Cím hossza</th><th>Darab</th></tr>",
                            "<tr><td>5</td><td>2</td></tr>",
                            "<tr><td>6</td><td>5</td></tr>",
                            "<tr><td>7</td><td>2</td></tr>",
                            "<tr><td>8</td><td>3</td></tr>",
                            "<tr><td>10</td><td>3</td></tr>",
                            "<tr><td>11</td><td>4</td></tr>",
                            "<tr><td>12</td><td>8</td></tr>",
                            "<tr><td>13</td><td>15</td></tr>",
                            "<tr><td>14</td><td>6</td></tr>",
                            "<tr><td>15</td><td>17</td></tr>",
                            "<tr><td>16</td><td>4</td></tr>",
                            "<tr><td>17</td><td>10</td></tr>",
                            "<tr><td>18</td><td>9</td></tr>",
                            "<tr><td>19</td><td>3</td></tr>",
                            "<tr><td>20</td><td>14</td></tr>",
                            "<tr><td>21</td><td>14</td></tr>",
                            "<tr><td>22</td><td>17</td></tr>",
                            "<tr><td>23</td><td>12</td></tr>",
                            "<tr><td>24</td><td>16</td></tr>",
                            "<tr><td>25</td><td>2</td></tr>",
                            "<tr><td>26</td><td>14</td></tr>",
                            "<tr><td>27</td><td>8</td></tr>",
                            "<tr><td>28</td><td>10</td></tr>",
                            "<tr><td>29</td><td>13</td></tr>",
                            "<tr><td>30</td><td>7</td></tr>",
                            "<tr><td>31</td><td>8</td></tr>",
                            "<tr><td>32</td><td>11</td></tr>",
                            "<tr><td>33</td><td>4</td></tr>",
                            "<tr><td>34</td><td>7</td></tr>",
                            "<tr><td>35</td><td>5</td></tr>",
                            "<tr><td>36</td><td>9</td></tr>",
                            "<tr><td>37</td><td>5</td></tr>",
                            "<tr><td>38</td><td>2</td></tr>",
                            "<tr><td>39</td><td>5</td></tr>",
                            "<tr><td>40</td><td>3</td></tr>",
                            "<tr><td>41</td><td>3</td></tr>",
                            "<tr><td>42</td><td>5</td></tr>",
                            "<tr><td>43</td><td>7</td></tr>",
                            "<tr><td>44</td><td>4</td></tr>",
                            "<tr><td>45</td><td>1</td></tr>",
                            "<tr><td>47</td><td>3</td></tr>",
                            "<tr><td>49</td><td>3</td></tr>",
                            "<tr><td>50</td><td>2</td></tr>",
                            "<tr><td>51</td><td>1</td></tr>",
                            "<tr><td>52</td><td>2</td></tr>",
                            "<tr><td>53</td><td>1</td></tr>",
                            "<tr><td>54</td><td>1</td></tr>",
                            "<tr><td>55</td><td>2</td></tr>",
                            "<tr><td>56</td><td>2</td></tr>",
                            "<tr><td>57</td><td>2</td></tr>",
                            "<tr><td>63</td><td>1</td></tr>",
                            "</table>"
                        ]
                    }
                }
            ],
            "execution_count": 11
        },
        {
            "cell_type": "code",
            "source": [
                "SELECT TOP 10 \r\n",
                "    stilus as 'Műfajok',\r\n",
                "    COUNT(*) as 'Előfordulás'\r\n",
                "FROM dvd\r\n",
                "WHERE stilus IS NOT NULL\r\n",
                "GROUP BY stilus\r\n",
                "ORDER BY COUNT(*) DESC"
            ],
            "metadata": {
                "azdata_cell_guid": "e89b14d4-b1a5-4bfa-be0b-091e1be62e67",
                "language": "sql"
            },
            "outputs": [
                {
                    "output_type": "display_data",
                    "data": {
                        "text/html": "(10 rows affected)"
                    },
                    "metadata": {}
                },
                {
                    "output_type": "display_data",
                    "data": {
                        "text/html": "Total execution time: 00:00:00.007"
                    },
                    "metadata": {}
                },
                {
                    "output_type": "execute_result",
                    "metadata": {},
                    "execution_count": 14,
                    "data": {
                        "application/vnd.dataresource+json": {
                            "schema": {
                                "fields": [
                                    {
                                        "name": "Műfajok"
                                    },
                                    {
                                        "name": "Előfordulás"
                                    }
                                ]
                            },
                            "data": [
                                {
                                    "Műfajok": "játék",
                                    "Előfordulás": "60"
                                },
                                {
                                    "Műfajok": "ismeretterjesztő",
                                    "Előfordulás": "46"
                                },
                                {
                                    "Műfajok": "nyelvtanító",
                                    "Előfordulás": "42"
                                },
                                {
                                    "Műfajok": "történelem",
                                    "Előfordulás": "41"
                                },
                                {
                                    "Műfajok": "földrajz",
                                    "Előfordulás": "16"
                                },
                                {
                                    "Műfajok": "irodalom",
                                    "Előfordulás": "16"
                                },
                                {
                                    "Műfajok": "matematika",
                                    "Előfordulás": "9"
                                },
                                {
                                    "Műfajok": "csillagászat",
                                    "Előfordulás": "7"
                                },
                                {
                                    "Műfajok": "szótár",
                                    "Előfordulás": "7"
                                },
                                {
                                    "Műfajok": "felvételi",
                                    "Előfordulás": "6"
                                }
                            ]
                        },
                        "text/html": [
                            "<table>",
                            "<tr><th>Műfajok</th><th>Előfordulás</th></tr>",
                            "<tr><td>játék</td><td>60</td></tr>",
                            "<tr><td>ismeretterjesztő</td><td>46</td></tr>",
                            "<tr><td>nyelvtanító</td><td>42</td></tr>",
                            "<tr><td>történelem</td><td>41</td></tr>",
                            "<tr><td>földrajz</td><td>16</td></tr>",
                            "<tr><td>irodalom</td><td>16</td></tr>",
                            "<tr><td>matematika</td><td>9</td></tr>",
                            "<tr><td>csillagászat</td><td>7</td></tr>",
                            "<tr><td>szótár</td><td>7</td></tr>",
                            "<tr><td>felvételi</td><td>6</td></tr>",
                            "</table>"
                        ]
                    }
                }
            ],
            "execution_count": 14
        },
        {
            "cell_type": "code",
            "source": [
                "SELECT MIN(stilus) as 'Abc sorrendben első',\r\n",
                "       MAX(stilus) as 'Abc sorrendben utolsó'\r\n",
                "FROM dvd\r\n",
                "WHERE cim IS NOT NULL AND LEN(stilus) >0"
            ],
            "metadata": {
                "language": "sql",
                "azdata_cell_guid": "db932844-dc41-4bdf-9b61-d9ffee439606"
            },
            "outputs": [
                {
                    "output_type": "display_data",
                    "data": {
                        "text/html": "(1 row affected)"
                    },
                    "metadata": {}
                },
                {
                    "output_type": "display_data",
                    "data": {
                        "text/html": "Total execution time: 00:00:00.012"
                    },
                    "metadata": {}
                },
                {
                    "output_type": "execute_result",
                    "metadata": {},
                    "execution_count": 21,
                    "data": {
                        "application/vnd.dataresource+json": {
                            "schema": {
                                "fields": [
                                    {
                                        "name": "Abc sorrendben első"
                                    },
                                    {
                                        "name": "Abc sorrendben utolsó"
                                    }
                                ]
                            },
                            "data": [
                                {
                                    "Abc sorrendben első": "állattan",
                                    "Abc sorrendben utolsó": "zene"
                                }
                            ]
                        },
                        "text/html": [
                            "<table>",
                            "<tr><th>Abc sorrendben első</th><th>Abc sorrendben utolsó</th></tr>",
                            "<tr><td>állattan</td><td>zene</td></tr>",
                            "</table>"
                        ]
                    }
                }
            ],
            "execution_count": 21
        },
        {
            "cell_type": "code",
            "source": [
                "SELECT MIN(LEN(stilus)) as 'Legrövidebb műfajnév hosza', \r\n",
                "       MAX(LEN(stilus)) as 'Leghosszabb műfajnév hossza', \r\n",
                "       AVG(LEN(stilus)) as 'Átlagos műfajnév hossz'\r\n",
                "FROM dvd\r\n",
                "WHERE stilus IS NOT NULL\r\n",
                "AND LEN(stilus) > 0"
            ],
            "metadata": {
                "language": "sql",
                "azdata_cell_guid": "a5dfe9db-076a-4a77-8707-f5c3ddcc6aeb"
            },
            "outputs": [
{
    "output_type": "display_data",
    "data": {
        "text/html": "(1 row affected)"
    },
    "metadata": {}
}, {
    "output_type": "display_data",
    "data": {
        "text/html": "Total execution time: 00:00:00.010"
    },
    "metadata": {}
}, {
    "output_type": "execute_result",
    "metadata": {},
    "execution_count": 22,
    "data": {
        "application/vnd.dataresource+json": {
            "schema": {
                "fields": [
                    {
                        "name": "Legrövidebb műfajnév hosza"
                    },
                    {
                        "name": "Leghosszabb műfajnév hossza"
                    },
                    {
                        "name": "Átlagos műfajnév hossz"
                    }
                ]
            },
            "data": [
                {
                    "Legrövidebb műfajnév hosza": "4",
                    "Leghosszabb műfajnév hossza": "24",
                    "Átlagos műfajnév hossz": "9"
                }
            ]
        },
        "text/html": [
            "<table>",
            "<tr><th>Legrövidebb műfajnév hosza</th><th>Leghosszabb műfajnév hossza</th><th>Átlagos műfajnév hossz</th></tr>",
            "<tr><td>4</td><td>24</td><td>9</td></tr>",
            "</table>"
        ]
    }
}
],
            "execution_count": 22
        }
    ]
}